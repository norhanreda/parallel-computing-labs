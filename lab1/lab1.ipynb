{
  "nbformat": 4,
  "nbformat_minor": 0,
  "metadata": {
    "colab": {
      "provenance": [],
      "gpuType": "T4"
    },
    "kernelspec": {
      "name": "python3",
      "display_name": "Python 3"
    },
    "language_info": {
      "name": "python"
    },
    "accelerator": "GPU"
  },
  "cells": [
    {
      "cell_type": "code",
      "source": [
        "!nvcc --version"
      ],
      "metadata": {
        "colab": {
          "base_uri": "https://localhost:8080/"
        },
        "id": "_DYIrFNm_AQO",
        "outputId": "a2051725-8360-41f5-8b48-890ac1ba724a"
      },
      "execution_count": 9,
      "outputs": [
        {
          "output_type": "stream",
          "name": "stdout",
          "text": [
            "nvcc: NVIDIA (R) Cuda compiler driver\n",
            "Copyright (c) 2005-2023 NVIDIA Corporation\n",
            "Built on Tue_Aug_15_22:02:13_PDT_2023\n",
            "Cuda compilation tools, release 12.2, V12.2.140\n",
            "Build cuda_12.2.r12.2/compiler.33191640_0\n"
          ]
        }
      ]
    },
    {
      "cell_type": "code",
      "source": [
        "!pip install git+https://github.com/andreinechaev/nvcc4jupyter.git"
      ],
      "metadata": {
        "colab": {
          "base_uri": "https://localhost:8080/"
        },
        "id": "9f_6SE7UANOb",
        "outputId": "f9b3240e-6b4e-4edd-db58-ec79dcbb3063"
      },
      "execution_count": 10,
      "outputs": [
        {
          "output_type": "stream",
          "name": "stdout",
          "text": [
            "Collecting git+https://github.com/andreinechaev/nvcc4jupyter.git\n",
            "  Cloning https://github.com/andreinechaev/nvcc4jupyter.git to /tmp/pip-req-build-v5fgpedk\n",
            "  Running command git clone --filter=blob:none --quiet https://github.com/andreinechaev/nvcc4jupyter.git /tmp/pip-req-build-v5fgpedk\n",
            "  Resolved https://github.com/andreinechaev/nvcc4jupyter.git to commit 781ff5b76ba6c4c2d80dcbbec9983e147613cc71\n",
            "  Installing build dependencies ... \u001b[?25l\u001b[?25hdone\n",
            "  Getting requirements to build wheel ... \u001b[?25l\u001b[?25hdone\n",
            "  Preparing metadata (pyproject.toml) ... \u001b[?25l\u001b[?25hdone\n"
          ]
        }
      ]
    },
    {
      "cell_type": "code",
      "source": [
        "%load_ext nvcc4jupyter"
      ],
      "metadata": {
        "colab": {
          "base_uri": "https://localhost:8080/"
        },
        "id": "5xk5CqJrAQb5",
        "outputId": "c6d421c1-31f9-434f-e7cd-342f543cae9c"
      },
      "execution_count": 11,
      "outputs": [
        {
          "output_type": "stream",
          "name": "stdout",
          "text": [
            "The nvcc4jupyter extension is already loaded. To reload it, use:\n",
            "  %reload_ext nvcc4jupyter\n"
          ]
        }
      ]
    },
    {
      "cell_type": "code",
      "source": [
        "\n",
        "%%writefile Norhan_Reda_Abdelwahed_2_31.cu\n",
        "\n",
        "//Norhan_Reda_Abdelwahed_2_31\n",
        "#include <iostream>\n",
        "#include <stdio.h>\n",
        "#include <stdlib.h>\n",
        "using namespace std;\n",
        "int concat(int a, int b) {\n",
        "    int temp = b;\n",
        "    while (temp > 0) {\n",
        "        a *= 10;\n",
        "        temp /= 10;\n",
        "    }\n",
        "    return a + b;\n",
        "}\n",
        "\tint main(int argc, char *argv[])\n",
        "{\n",
        "    int r,c,index;\n",
        "    int sum = 0;\n",
        "    r = atoi(argv[1]);\n",
        "    c = atoi(argv[2]);\n",
        "\n",
        "    int* arr[r];\n",
        "    int colsum [c];\n",
        "\n",
        "    for (int i = 0 ; i<r;i++)\n",
        "    {\n",
        "        arr[i] = (int*)malloc(c*sizeof(int));\n",
        "    }\n",
        "  index=3;\n",
        "  for(int i =0 ; i<r;i++){\n",
        "       for(int j=0;j<c;j++)\n",
        "        {\n",
        "            arr[i][j]=atoi(argv[index]);\n",
        "            index++;\n",
        "        }\n",
        "  }\n",
        "  for(int i = 0; i<c;i++)\n",
        "  {\n",
        "    colsum[i]=0;\n",
        "  }\n",
        "      for(int i =0 ; i<r;i++){\n",
        "       for(int j=0;j<c;j++)\n",
        "        {\n",
        "             colsum[j] = concat(colsum[j],arr[i][j]);\n",
        "        }\n",
        "\n",
        "  }\n",
        " /*cout <<\"the original array\"<<endl;\n",
        "   for(int i =0 ; i<r;i++){\n",
        "       for(int j=0;j<c;j++)\n",
        "        {\n",
        "\n",
        "            cout<<arr[i][j]<<\" \";\n",
        "        }\n",
        "       cout<<endl;\n",
        "  }\n",
        "\n",
        "cout<<\"the column sum array\"<<endl;*/\n",
        "  for(int i= 0 ; i<c;i++)\n",
        "  {\n",
        "    //cout<<colsum[i]<<\" \";\n",
        "    sum+=colsum[i];\n",
        "  }\n",
        "\n",
        "  //cout<<endl;\n",
        "\n",
        "\tcout <<sum;\n",
        "\treturn 0;\n",
        "}\n"
      ],
      "metadata": {
        "colab": {
          "base_uri": "https://localhost:8080/"
        },
        "id": "HlB8vm71AV-F",
        "outputId": "c95fa4eb-1c92-4b4f-d4ba-9324e02f9e09"
      },
      "execution_count": 42,
      "outputs": [
        {
          "output_type": "stream",
          "name": "stdout",
          "text": [
            "Overwriting Norhan_Reda_Abdelwahed_2_31.cu\n"
          ]
        }
      ]
    },
    {
      "cell_type": "code",
      "source": [
        "!chmod +x Norhan_Reda_Abdelwahed_2_31.cu"
      ],
      "metadata": {
        "id": "Gr7V9ddPswj5"
      },
      "execution_count": 43,
      "outputs": []
    },
    {
      "cell_type": "code",
      "source": [
        "!nvcc Norhan_Reda_Abdelwahed_2_31.cu -o my_cuda_program"
      ],
      "metadata": {
        "id": "3WKJykY1sXnu"
      },
      "execution_count": 44,
      "outputs": []
    },
    {
      "cell_type": "code",
      "source": [
        "!./my_cuda_program 3 3 10 20 30 5 10 20 2 4 6"
      ],
      "metadata": {
        "colab": {
          "base_uri": "https://localhost:8080/"
        },
        "id": "GZTdLIMNpd7C",
        "outputId": "091233e1-9fa6-4303-8cab-cf9c8bcd08dc"
      },
      "execution_count": 45,
      "outputs": [
        {
          "output_type": "stream",
          "name": "stdout",
          "text": [
            "51362"
          ]
        }
      ]
    },
    {
      "cell_type": "code",
      "source": [],
      "metadata": {
        "id": "yY--zXEx98DR"
      },
      "execution_count": 16,
      "outputs": []
    }
  ]
}