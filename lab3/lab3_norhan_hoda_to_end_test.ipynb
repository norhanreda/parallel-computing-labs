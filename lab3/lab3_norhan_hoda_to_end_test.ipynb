{
  "cells": [
    {
      "cell_type": "code",
      "execution_count": null,
      "metadata": {
        "id": "Er81N23oNVqK",
        "colab": {
          "base_uri": "https://localhost:8080/"
        },
        "outputId": "e2105a04-aad1-4f15-8b06-952e56064be6"
      },
      "outputs": [
        {
          "output_type": "stream",
          "name": "stdout",
          "text": [
            "nvcc: NVIDIA (R) Cuda compiler driver\n",
            "Copyright (c) 2005-2023 NVIDIA Corporation\n",
            "Built on Tue_Aug_15_22:02:13_PDT_2023\n",
            "Cuda compilation tools, release 12.2, V12.2.140\n",
            "Build cuda_12.2.r12.2/compiler.33191640_0\n"
          ]
        }
      ],
      "source": [
        "!nvcc --version"
      ]
    },
    {
      "cell_type": "code",
      "execution_count": null,
      "metadata": {
        "id": "QqX54YzBNd5f",
        "colab": {
          "base_uri": "https://localhost:8080/"
        },
        "outputId": "689d1789-ea42-42ae-d8f2-77e21054c38e"
      },
      "outputs": [
        {
          "output_type": "stream",
          "name": "stdout",
          "text": [
            "Collecting git+https://github.com/andreinechaev/nvcc4jupyter.git\n",
            "  Cloning https://github.com/andreinechaev/nvcc4jupyter.git to /tmp/pip-req-build-_gjg60qr\n",
            "  Running command git clone --filter=blob:none --quiet https://github.com/andreinechaev/nvcc4jupyter.git /tmp/pip-req-build-_gjg60qr\n",
            "  Resolved https://github.com/andreinechaev/nvcc4jupyter.git to commit 781ff5b76ba6c4c2d80dcbbec9983e147613cc71\n",
            "  Installing build dependencies ... \u001b[?25l\u001b[?25hdone\n",
            "  Getting requirements to build wheel ... \u001b[?25l\u001b[?25hdone\n",
            "  Preparing metadata (pyproject.toml) ... \u001b[?25l\u001b[?25hdone\n",
            "Building wheels for collected packages: nvcc4jupyter\n",
            "  Building wheel for nvcc4jupyter (pyproject.toml) ... \u001b[?25l\u001b[?25hdone\n",
            "  Created wheel for nvcc4jupyter: filename=nvcc4jupyter-1.1.0-py3-none-any.whl size=8011 sha256=e2b2acbb79d726227ace2ffdeb18b901e4debb9cf9419b13a35a389a655ee4ac\n",
            "  Stored in directory: /tmp/pip-ephem-wheel-cache-f5c6ndwy/wheels/a8/b9/18/23f8ef71ceb0f63297dd1903aedd067e6243a68ea756d6feea\n",
            "Successfully built nvcc4jupyter\n",
            "Installing collected packages: nvcc4jupyter\n",
            "Successfully installed nvcc4jupyter-1.1.0\n"
          ]
        }
      ],
      "source": [
        "!pip install git+https://github.com/andreinechaev/nvcc4jupyter.git"
      ]
    },
    {
      "cell_type": "code",
      "execution_count": null,
      "metadata": {
        "id": "m0a_SttTNd9Z",
        "colab": {
          "base_uri": "https://localhost:8080/"
        },
        "outputId": "fbb5ab5f-a6b2-4286-cc01-e672e1a90a7f"
      },
      "outputs": [
        {
          "output_type": "stream",
          "name": "stdout",
          "text": [
            "Source files will be saved in \"/tmp/tmpad8bt_ry\".\n"
          ]
        }
      ],
      "source": [
        "%load_ext nvcc4jupyter"
      ]
    },
    {
      "cell_type": "markdown",
      "metadata": {
        "id": "PyuCMKED0dgg"
      },
      "source": [
        "**Question1 (Q1)**"
      ]
    },
    {
      "cell_type": "code",
      "execution_count": null,
      "metadata": {
        "colab": {
          "base_uri": "https://localhost:8080/"
        },
        "id": "PXPYfwzvNd_l",
        "outputId": "f175ed49-eda0-4de3-f713-4365f65d09ca"
      },
      "outputs": [
        {
          "output_type": "stream",
          "name": "stdout",
          "text": [
            "Overwriting Q1_2_31_2_33.cu\n"
          ]
        }
      ],
      "source": [
        "\n",
        "%%writefile Q1_2_31_2_33.cu\n",
        "//Norhan_Reda_Abdelwahed_2_31\n",
        "//Hoda_Gamal_Hamouda_2_33\n",
        "#include <stdio.h>\n",
        "#include <stdlib.h>\n",
        "#include <math.h>\n",
        "#include <assert.h>\n",
        "#include <iostream>\n",
        "#include <iomanip>\n",
        "#include <fstream>\n",
        "#include <vector>\n",
        "using namespace std;\n",
        "\n",
        "// Kernel definition\n",
        "__global__ void ArrAdd(double *arr, int size,double *result)\n",
        "{\n",
        "    // declares a shared memory segment that is accessible by all threads in the same block. More on this later.\n",
        "extern __shared__ double partialSum[];\n",
        "\n",
        "\n",
        "unsigned int t = threadIdx.x;\n",
        "\n",
        "unsigned int new_size = (size-1) / blockDim.x +1 ;\n",
        "partialSum[t] = 0;\n",
        "for(int i=0;i<new_size ;i++)\n",
        "{\n",
        "\n",
        "partialSum[t]+= arr[t*new_size+i];\n",
        "\n",
        "}\n",
        "//partialSum[t] = arr[t];\n",
        "\n",
        "if(t >=size)\n",
        "   return ;\n",
        "for(unsigned int stride = 1; stride < blockDim.x; stride *= 2){\n",
        "\n",
        "     if(t % (2*stride) == 0)\n",
        "          partialSum[t] += partialSum[t+stride];\n",
        "     __syncthreads();\n",
        "}\n",
        "\n",
        " if(t==0)\n",
        "     *result = partialSum[0];\n",
        "\n",
        "}\n",
        "\n",
        "int main(int argc, char *argv[])\n",
        "{\n",
        "\n",
        "\n",
        "    // Specify the file path\n",
        "    std::string filePath = argv[1];\n",
        "\n",
        "    // Open the file for reading\n",
        "    std::ifstream file(filePath);\n",
        "\n",
        "   if (!file.is_open()) {\n",
        "        std::cerr << \"Error opening file\" << std::endl;\n",
        "        return 1;\n",
        "    }\n",
        "\n",
        " double* array = nullptr;  // Pointer to the array\n",
        " double * result = nullptr;\n",
        "    double value;\n",
        "    int count = 0;  // Variable to keep track of the number of elements\n",
        "\n",
        "    // Read elements from the file\n",
        "    while (file >> value) {\n",
        "        // Dynamically resize the array\n",
        "        double* temp = static_cast<double*>(realloc(array, (count + 1) * sizeof(double)));\n",
        "\n",
        "        if (temp == nullptr) {\n",
        "            std::cerr << \"Error allocating memory\" << std::endl;\n",
        "            free(array);  // Free the previously allocated memory\n",
        "            return 1;\n",
        "        }\n",
        "\n",
        "        array = temp;\n",
        "\n",
        "        // Add the read value to the array\n",
        "        array[count] = value;\n",
        "\n",
        "        count++;\n",
        "    }\n",
        "\n",
        "    // Close the file\n",
        "    file.close();\n",
        "\n",
        "    // Print the elements in the array\n",
        "    for (int i = 0; i < count; i++) {\n",
        "        std::cout << array[i] << std::endl;\n",
        "    }\n",
        "\n",
        "\n",
        "\n",
        "    // host to device allocation\n",
        "     double *array_device;\n",
        "     double *result_device;\n",
        "\n",
        "     result = (double*)malloc(sizeof(double));\n",
        "     cudaMalloc((void**)&array_device, count * sizeof(double));\n",
        "     cudaMalloc((void**)&result_device,sizeof(double));\n",
        "\n",
        "    cudaMemcpy(array_device, array, count * sizeof(double), cudaMemcpyHostToDevice);\n",
        "    dim3 threadsPerBlock(1024, 1);\n",
        "    dim3 numBlocks(1, 1);\n",
        "    ArrAdd<<< numBlocks, threadsPerBlock , threadsPerBlock.x * sizeof(double) >>>(array_device,count,result_device);\n",
        "\n",
        "    cudaMemcpy( result, result_device, sizeof(double), cudaMemcpyDeviceToHost);\n",
        "\n",
        "    //cout<<\"final sum is: \"<<*result<<endl;\n",
        "    cout << fixed <<setprecision(2) << *result <<endl;\n",
        "\n",
        "    // Free the dynamically allocated memory in host\n",
        "    free(array);\n",
        "    free(result);\n",
        "\n",
        "    // Free device memory\n",
        "    cudaFree(array_device);\n",
        "    cudaFree(array);\n",
        "\n",
        "   return 0;\n",
        "}\n"
      ]
    },
    {
      "cell_type": "code",
      "source": [
        "\n",
        "%%writefile Q1_2_31_2_33.cu\n",
        "//Norhan_Reda_Abdelwahed_2_31\n",
        "//Hoda_Gamal_Hamouda_2_33\n",
        "#include <stdio.h>\n",
        "#include <stdlib.h>\n",
        "#include <math.h>\n",
        "#include <assert.h>\n",
        "#include <iostream>\n",
        "#include <iomanip>\n",
        "#include <fstream>\n",
        "#include <vector>\n",
        "using namespace std;\n",
        "\n",
        "// Kernel definition\n",
        "__global__ void ArrAdd(double *arr, int size,double *result)\n",
        "{\n",
        "    // declares a shared memory segment that is accessible by all threads in the same block. More on this later.\n",
        "extern __shared__ double partialSum[];\n",
        "\n",
        "\n",
        "unsigned int t = threadIdx.x;\n",
        "\n",
        "unsigned int new_size = (size-1) / blockDim.x +1 ;\n",
        "partialSum[t] = 0;\n",
        "for(int i=0;i<new_size ;i++)\n",
        "{\n",
        "\n",
        "partialSum[t]+= arr[t*new_size+i];\n",
        "\n",
        "}\n",
        "//partialSum[t] = arr[t];\n",
        "\n",
        "if(t >=size)\n",
        "   return ;\n",
        "for(unsigned int stride = 1; stride < blockDim.x; stride *= 2){\n",
        "\n",
        "     if(t % (2*stride) == 0)\n",
        "          partialSum[t] += partialSum[t+stride];\n",
        "     __syncthreads();\n",
        "}\n",
        "\n",
        " if(t==0)\n",
        "     *result = partialSum[0];\n",
        "\n",
        "}\n",
        "\n",
        "int main(int argc, char *argv[])\n",
        "{\n",
        "\n",
        "\n",
        "    // Specify the file path\n",
        "    std::string filePath = argv[1];\n",
        "\n",
        "    // Open the file for reading\n",
        "    std::ifstream file(filePath);\n",
        "\n",
        "   if (!file.is_open()) {\n",
        "        std::cerr << \"Error opening file\" << std::endl;\n",
        "        return 1;\n",
        "    }\n",
        "\n",
        " double* array = nullptr;  // Pointer to the array\n",
        " double * result = nullptr;\n",
        "    double value;\n",
        "    int count = 0;  // Variable to keep track of the number of elements\n",
        "\n",
        "    // Read elements from the file\n",
        "    while (file >> value) {\n",
        "        // Dynamically resize the array\n",
        "        double* temp = static_cast<double*>(realloc(array, (count + 1) * sizeof(double)));\n",
        "\n",
        "        if (temp == nullptr) {\n",
        "            std::cerr << \"Error allocating memory\" << std::endl;\n",
        "            free(array);  // Free the previously allocated memory\n",
        "            return 1;\n",
        "        }\n",
        "\n",
        "        array = temp;\n",
        "\n",
        "        // Add the read value to the array\n",
        "        array[count] = value;\n",
        "\n",
        "        count++;\n",
        "    }\n",
        "\n",
        "    // Close the file\n",
        "    file.close();\n",
        "\n",
        "    // Print the elements in the array\n",
        "    for (int i = 0; i < count; i++) {\n",
        "        std::cout << array[i] << std::endl;\n",
        "    }\n",
        "\n",
        "\n",
        "\n",
        "    // host to device allocation\n",
        "     double *array_device;\n",
        "     double *result_device;\n",
        "\n",
        "     result = (double*)malloc(sizeof(double));\n",
        "     cudaMalloc((void**)&array_device, count * sizeof(double));\n",
        "     cudaMalloc((void**)&result_device,sizeof(double));\n",
        "\n",
        "    cudaMemcpy(array_device, array, count * sizeof(double), cudaMemcpyHostToDevice);\n",
        "    dim3 threadsPerBlock(1024, 1);\n",
        "    dim3 numBlocks(1, 1);\n",
        "    ArrAdd<<< numBlocks, threadsPerBlock , threadsPerBlock.x * sizeof(double) >>>(array_device,count,result_device);\n",
        "\n",
        "    cudaMemcpy( result, result_device, sizeof(double), cudaMemcpyDeviceToHost);\n",
        "\n",
        "    //cout<<\"final sum is: \"<<*result<<endl;\n",
        "    cout << fixed <<setprecision(2) << *result <<endl;\n",
        "\n",
        "    // Free the dynamically allocated memory in host\n",
        "    free(array);\n",
        "    free(result);\n",
        "\n",
        "    // Free device memory\n",
        "    cudaFree(array_device);\n",
        "    cudaFree(array);\n",
        "\n",
        "   return 0;\n",
        "}\n"
      ],
      "metadata": {
        "id": "uO7_RCX8Qvx0"
      },
      "execution_count": null,
      "outputs": []
    },
    {
      "cell_type": "markdown",
      "source": [
        "# updated without prints\n"
      ],
      "metadata": {
        "id": "USUSxpitQ4MM"
      }
    },
    {
      "cell_type": "code",
      "source": [
        "\n",
        "%%writefile Q1_2_31_2_33.cu\n",
        "//Norhan_Reda_Abdelwahed_2_31\n",
        "//Hoda_Gamal_Hamouda_2_33\n",
        "#include <stdio.h>\n",
        "#include <stdlib.h>\n",
        "#include <math.h>\n",
        "#include <assert.h>\n",
        "#include <iostream>\n",
        "#include <iomanip>\n",
        "#include <fstream>\n",
        "#include <vector>\n",
        "using namespace std;\n",
        "\n",
        "// Kernel definition\n",
        "__global__ void ArrAdd(double *arr, int size,double *result)\n",
        "{\n",
        "    // declares a shared memory segment that is accessible by all threads in the same block. More on this later.\n",
        "extern __shared__ double partialSum[];\n",
        "\n",
        "\n",
        "unsigned int t = threadIdx.x;\n",
        "\n",
        "unsigned int new_size = (size-1) / blockDim.x +1 ;\n",
        "partialSum[t] = 0;\n",
        "for(int i=0;i<new_size ;i++)\n",
        "{\n",
        "\n",
        "partialSum[t]+= arr[t*new_size+i];\n",
        "\n",
        "}\n",
        "//partialSum[t] = arr[t];\n",
        "\n",
        "if(t >=size)\n",
        "   return ;\n",
        "for(unsigned int stride = 1; stride < blockDim.x; stride *= 2){\n",
        "\n",
        "     if(t % (2*stride) == 0)\n",
        "          partialSum[t] += partialSum[t+stride];\n",
        "     __syncthreads();\n",
        "}\n",
        "\n",
        " if(t==0)\n",
        "     *result = partialSum[0];\n",
        "\n",
        "}\n",
        "\n",
        "int main(int argc, char *argv[])\n",
        "{\n",
        "\n",
        "\n",
        "    // Specify the file path\n",
        "    std::string filePath = argv[1];\n",
        "\n",
        "    // Open the file for reading\n",
        "    std::ifstream file(filePath);\n",
        "\n",
        "   if (!file.is_open()) {\n",
        "        std::cerr << \"Error opening file\" << std::endl;\n",
        "        return 1;\n",
        "    }\n",
        "\n",
        "    double* array = nullptr;  // Pointer to the array\n",
        "    double * result = nullptr;\n",
        "    double value;\n",
        "    int count = 0;  // Variable to keep track of the number of elements\n",
        "\n",
        "    // Read elements from the file\n",
        "    while (file >> value) {\n",
        "        // Dynamically resize the array\n",
        "        double* temp = static_cast<double*>(realloc(array, (count + 1) * sizeof(double)));\n",
        "\n",
        "        if (temp == nullptr) {\n",
        "            std::cerr << \"Error allocating memory\" << std::endl;\n",
        "            free(array);  // Free the previously allocated memory\n",
        "            return 1;\n",
        "        }\n",
        "\n",
        "        array = temp;\n",
        "\n",
        "        // Add the read value to the array\n",
        "        array[count] = value;\n",
        "\n",
        "        count++;\n",
        "    }\n",
        "\n",
        "    // Close the file\n",
        "    file.close();\n",
        "\n",
        "    // host to device allocation\n",
        "     double *array_device;\n",
        "     double *result_device;\n",
        "\n",
        "     result = (double*)malloc(sizeof(double));\n",
        "     cudaMalloc((void**)&array_device, count * sizeof(double));\n",
        "     cudaMalloc((void**)&result_device,sizeof(double));\n",
        "\n",
        "    cudaMemcpy(array_device, array, count * sizeof(double), cudaMemcpyHostToDevice);\n",
        "    dim3 threadsPerBlock(1024, 1);\n",
        "    dim3 numBlocks(1, 1);\n",
        "    ArrAdd<<< numBlocks, threadsPerBlock , threadsPerBlock.x * sizeof(double) >>>(array_device,count,result_device);\n",
        "\n",
        "    cudaMemcpy( result, result_device, sizeof(double), cudaMemcpyDeviceToHost);\n",
        "\n",
        "    //cout<<*result<<endl;\n",
        "    cout << fixed <<setprecision(2) << *result <<endl;\n",
        "\n",
        "    // Free the dynamically allocated memory in host\n",
        "    free(array);\n",
        "    free(result);\n",
        "\n",
        "    // Free device memory\n",
        "    cudaFree(array_device);\n",
        "    cudaFree(result_device);\n",
        "\n",
        "   return 0;\n",
        "}\n"
      ],
      "metadata": {
        "id": "NWsZBpXSQ5Ps",
        "outputId": "907f15a9-0693-4503-85ae-ed006ffa59e6",
        "colab": {
          "base_uri": "https://localhost:8080/"
        }
      },
      "execution_count": 71,
      "outputs": [
        {
          "output_type": "stream",
          "name": "stdout",
          "text": [
            "Writing Q1_2_31_2_33.cu\n"
          ]
        }
      ]
    },
    {
      "cell_type": "code",
      "execution_count": 73,
      "metadata": {
        "colab": {
          "base_uri": "https://localhost:8080/"
        },
        "id": "o1MPjpioNeBk",
        "outputId": "3d3c0ecd-44d6-460c-a4ee-f1e864e9f661"
      },
      "outputs": [
        {
          "output_type": "stream",
          "name": "stdout",
          "text": [
            "45.00\n"
          ]
        }
      ],
      "source": [
        "!chmod +x Q1_2_31_2_33.cu\n",
        "!nvcc Q1_2_31_2_33.cu -o Q1"
      ]
    },
    {
      "cell_type": "code",
      "source": [
        "!./Q1 \"input_10.txt\""
      ],
      "metadata": {
        "id": "wvvbeR9HRTCl",
        "outputId": "6dc02e07-0d1a-49ac-de88-acbabb5bf579",
        "colab": {
          "base_uri": "https://localhost:8080/"
        }
      },
      "execution_count": 74,
      "outputs": [
        {
          "output_type": "stream",
          "name": "stdout",
          "text": [
            "45.00\n"
          ]
        }
      ]
    },
    {
      "cell_type": "code",
      "source": [
        "!./Q1 \"input_100.txt\""
      ],
      "metadata": {
        "id": "kIRfKU-lRTFR",
        "outputId": "952b98e5-5cb9-46a2-f524-d356284c5103",
        "colab": {
          "base_uri": "https://localhost:8080/"
        }
      },
      "execution_count": 75,
      "outputs": [
        {
          "output_type": "stream",
          "name": "stdout",
          "text": [
            "4950.00\n"
          ]
        }
      ]
    },
    {
      "cell_type": "code",
      "source": [
        "!./Q1 \"input_1000.txt\""
      ],
      "metadata": {
        "id": "SsZVm-9nRTIz",
        "outputId": "44d2464e-7121-4e72-f534-9d3b292ec67d",
        "colab": {
          "base_uri": "https://localhost:8080/"
        }
      },
      "execution_count": 76,
      "outputs": [
        {
          "output_type": "stream",
          "name": "stdout",
          "text": [
            "499500.00\n"
          ]
        }
      ]
    },
    {
      "cell_type": "code",
      "source": [
        "!./Q1 \"input_10th.txt\""
      ],
      "metadata": {
        "id": "xvW4elWARqWI",
        "outputId": "e0424c15-7b39-4681-c860-aa2bbc95b9fd",
        "colab": {
          "base_uri": "https://localhost:8080/"
        }
      },
      "execution_count": 77,
      "outputs": [
        {
          "output_type": "stream",
          "name": "stdout",
          "text": [
            "49995000.00\n"
          ]
        }
      ]
    },
    {
      "cell_type": "code",
      "source": [
        "!./Q1 \"input_100th.txt\""
      ],
      "metadata": {
        "id": "4-FfNPNSRqYh",
        "outputId": "fd5ac993-5ee7-4bc7-df7c-cea1106edab0",
        "colab": {
          "base_uri": "https://localhost:8080/"
        }
      },
      "execution_count": 78,
      "outputs": [
        {
          "output_type": "stream",
          "name": "stdout",
          "text": [
            "4999950000.00\n"
          ]
        }
      ]
    },
    {
      "cell_type": "code",
      "source": [
        "!./Q1 \"input_1m.txt\""
      ],
      "metadata": {
        "id": "Rrr_C-KERqcJ",
        "outputId": "1ced0902-c13d-4d76-dc9a-83eb12fca8f6",
        "colab": {
          "base_uri": "https://localhost:8080/"
        }
      },
      "execution_count": 79,
      "outputs": [
        {
          "output_type": "stream",
          "name": "stdout",
          "text": [
            "499999500000.00\n"
          ]
        }
      ]
    },
    {
      "cell_type": "code",
      "source": [
        "!nvprof ./Q1 \"input_1m.txt\""
      ],
      "metadata": {
        "id": "o1jZlKYmSAeE",
        "outputId": "9ec65975-fefc-43a1-e5e0-2573e3b1cb05",
        "colab": {
          "base_uri": "https://localhost:8080/"
        }
      },
      "execution_count": 82,
      "outputs": [
        {
          "output_type": "stream",
          "name": "stdout",
          "text": [
            "==6897== NVPROF is profiling process 6897, command: ./Q1 input_1m.txt\n",
            "499999500000.00\n",
            "==6897== Profiling application: ./Q1 input_1m.txt\n",
            "==6897== Profiling result:\n",
            "            Type  Time(%)      Time     Calls       Avg       Min       Max  Name\n",
            " GPU activities:   50.36%  1.6634ms         1  1.6634ms  1.6634ms  1.6634ms  [CUDA memcpy HtoD]\n",
            "                   49.58%  1.6375ms         1  1.6375ms  1.6375ms  1.6375ms  ArrAdd(double*, int, double*)\n",
            "                    0.06%  2.0800us         1  2.0800us  2.0800us  2.0800us  [CUDA memcpy DtoH]\n",
            "      API calls:   96.39%  122.61ms         2  61.306ms  149.16us  122.46ms  cudaMalloc\n",
            "                    2.78%  3.5398ms         2  1.7699ms  1.6603ms  1.8796ms  cudaMemcpy\n",
            "                    0.43%  550.88us         2  275.44us  150.47us  400.42us  cudaFree\n",
            "                    0.21%  269.49us         1  269.49us  269.49us  269.49us  cudaLaunchKernel\n",
            "                    0.16%  198.74us       114  1.7430us     204ns  75.401us  cuDeviceGetAttribute\n",
            "                    0.01%  12.512us         1  12.512us  12.512us  12.512us  cuDeviceGetName\n",
            "                    0.01%  7.4090us         1  7.4090us  7.4090us  7.4090us  cuDeviceGetPCIBusId\n",
            "                    0.01%  6.4000us         1  6.4000us  6.4000us  6.4000us  cuDeviceTotalMem\n",
            "                    0.00%  2.2180us         3     739ns     306ns  1.4680us  cuDeviceGetCount\n",
            "                    0.00%  1.4480us         2     724ns     346ns  1.1020us  cuDeviceGet\n",
            "                    0.00%     816ns         1     816ns     816ns     816ns  cuModuleGetLoadingMode\n",
            "                    0.00%     377ns         1     377ns     377ns     377ns  cuDeviceGetUuid\n"
          ]
        }
      ]
    },
    {
      "cell_type": "markdown",
      "metadata": {
        "id": "Ulsm9FHU0Rfp"
      },
      "source": []
    },
    {
      "cell_type": "markdown",
      "metadata": {
        "id": "pPvtdQBB0Ul2"
      },
      "source": [
        "**Question2 (Q2)**"
      ]
    },
    {
      "cell_type": "code",
      "execution_count": 2,
      "metadata": {
        "colab": {
          "base_uri": "https://localhost:8080/"
        },
        "id": "hJyRwghBNeDp",
        "outputId": "56418674-6552-4c92-a420-f17e2299266c"
      },
      "outputs": [
        {
          "output_type": "stream",
          "name": "stdout",
          "text": [
            "Writing Q2_2_31_2_33.cu\n"
          ]
        }
      ],
      "source": [
        "\n",
        "%%writefile Q2_2_31_2_33.cu\n",
        "//Norhan_Reda_Abdelwahed_2_31\n",
        "//Hoda_Gamal_Hamouda_2_33\n",
        "\n",
        "#include <stdio.h>\n",
        "#include <stdlib.h>\n",
        "#include <math.h>\n",
        "#include <assert.h>\n",
        "#include <iostream>\n",
        "#include <fstream>\n",
        "#include <vector>\n",
        "\n",
        "using namespace std;\n",
        "\n",
        "\n",
        "// Kernel definition\n",
        "__global__ void BinarySearch(float *array, int size, float target, float *index, bool* found)\n",
        "{\n",
        "\n",
        "    *index = -1;\n",
        "    int target_thread_id = -1;\n",
        "    int search_part = (size-1) / blockDim.x + 1;\n",
        "\n",
        "    if(*found == false) {\n",
        "\n",
        "        int thread_id = threadIdx.x;\n",
        "        extern __shared__ float shared_array[];\n",
        "\n",
        "\n",
        "        float min_value = array[thread_id*search_part];\n",
        "        float max_value = array[min( (thread_id+1) * search_part - 1, size)];\n",
        "\n",
        "        if(target >= min_value && target <= max_value){\n",
        "\n",
        "          *found = true;\n",
        "          target_thread_id= thread_id;\n",
        "\n",
        "          # if __CUDA_ARCH__>=200\n",
        "             printf(\"%f %f %d \\n\", min_value, max_value, thread_id);\n",
        "          #endif\n",
        "\n",
        "          for(int i = 0; i < search_part; i++) {\n",
        "            int shared_location = thread_id * search_part + i;\n",
        "            if(shared_location < size) {\n",
        "              shared_array[i] = array[shared_location];\n",
        "            }\n",
        "            else {\n",
        "              shared_array[i] = INT_MAX;\n",
        "            }\n",
        "        }\n",
        "      }\n",
        "\n",
        "    __syncthreads();\n",
        "\n",
        "\n",
        "     if (target_thread_id == thread_id){\n",
        "\n",
        "      # if __CUDA_ARCH__>=200\n",
        "             printf(\"%d \\n\", target_thread_id);\n",
        "      #endif\n",
        "\n",
        "\n",
        "        bool found_target = false;\n",
        "        int start = 0;\n",
        "        int end = search_part - 1;\n",
        "        int mid = (start + end) / 2;\n",
        "\n",
        "        while(start <= end && found_target == false)\n",
        "        {\n",
        "            if(shared_array[mid] < target) {\n",
        "                start = mid + 1;\n",
        "            }\n",
        "            else if(shared_array[mid] > target) {\n",
        "                end = mid - 1;\n",
        "            }\n",
        "            else {\n",
        "               found_target = true;\n",
        "               *index = mid + target_thread_id * search_part;\n",
        "\n",
        "\n",
        "            }\n",
        "            mid = (start + end) / 2;\n",
        "        }\n",
        "      }\n",
        "\n",
        "    }\n",
        "}\n",
        "\n",
        "\n",
        "int main(int argc, char *argv[])\n",
        "{\n",
        "\n",
        "\n",
        "    // Specify the file path\n",
        "    std::string filePath = argv[1];\n",
        "    float target = atof(argv[2]);\n",
        "\n",
        "    // Open the file for reading\n",
        "    std::ifstream file(filePath);\n",
        "\n",
        "   if (!file.is_open()) {\n",
        "        std::cerr << \"Error opening file\" << std::endl;\n",
        "        return 1;\n",
        "    }\n",
        "\n",
        "    float* array = nullptr;  // Pointer to the array\n",
        "    float * result = nullptr;\n",
        "    float value;\n",
        "    int count = 0;  // Variable to keep track of the number of elements\n",
        "\n",
        "    // Read elements from the file\n",
        "    while (file >> value) {\n",
        "        // Dynamically resize the array\n",
        "        float* temp = static_cast<float*>(realloc(array, (count + 1) * sizeof(float)));\n",
        "\n",
        "        if (temp == nullptr) {\n",
        "            std::cerr << \"Error allocating memory\" << std::endl;\n",
        "            free(array);  // Free the previously allocated memory\n",
        "            return 1;\n",
        "        }\n",
        "\n",
        "        array = temp;\n",
        "\n",
        "        // Add the read value to the array\n",
        "        array[count] = value;\n",
        "\n",
        "        count++;\n",
        "    }\n",
        "\n",
        "    // Close the file\n",
        "    file.close();\n",
        "\n",
        "\n",
        "      bool * flag;\n",
        "     // host to device allocation\n",
        "     float *array_device;\n",
        "     float *result_device;\n",
        "     bool * flag_device;\n",
        "\n",
        "     result = (float*)malloc(sizeof(float));\n",
        "     flag = (bool*)malloc(sizeof(bool));\n",
        "     *flag = false;\n",
        "\n",
        "     cudaMalloc((void**)&array_device, count * sizeof(float));\n",
        "     cudaMalloc((void**)&result_device,sizeof(float));\n",
        "     cudaMalloc((void**)&flag_device,sizeof(bool));\n",
        "\n",
        "    cudaMemcpy(array_device, array, count * sizeof(float), cudaMemcpyHostToDevice);\n",
        "    cudaMemcpy(flag_device, flag, sizeof(bool), cudaMemcpyHostToDevice);\n",
        "\n",
        "\n",
        "\n",
        "    dim3 threadsPerBlock(1024, 1);\n",
        "    dim3 numBlocks(1,1);\n",
        "\n",
        "    cout<<(threadsPerBlock.x)<<endl;\n",
        "    cout<<(count)<<endl;\n",
        "    cout<<(count-1) / threadsPerBlock.x + 1 <<endl;\n",
        "\n",
        "    BinarySearch<<< numBlocks, threadsPerBlock , ((count-1) / threadsPerBlock.x +1 ) * sizeof(float) >>>(array_device,count, target,result_device, flag_device);\n",
        "\n",
        "    cudaMemcpy( result, result_device, sizeof(float), cudaMemcpyDeviceToHost);\n",
        "\n",
        "    cout<<\"target index : \"<<*result<<endl;\n",
        "\n",
        "\n",
        "    // Free the dynamically allocated memory in host\n",
        "    free(array);\n",
        "    free(result);\n",
        "\n",
        "    // Free device memory\n",
        "    cudaFree(array_device);\n",
        "    cudaFree(array);\n",
        "\n",
        "   return 0;\n",
        "}\n"
      ]
    },
    {
      "cell_type": "markdown",
      "source": [
        "# updated without prints"
      ],
      "metadata": {
        "id": "0_n6sEyKQlD5"
      }
    },
    {
      "cell_type": "code",
      "source": [
        "\n",
        "%%writefile Q2_2_31_2_33.cu\n",
        "//Norhan_Reda_Abdelwahed_2_31\n",
        "//Hoda_Gamal_Hamouda_2_33\n",
        "\n",
        "#include <stdio.h>\n",
        "#include <stdlib.h>\n",
        "#include <math.h>\n",
        "#include <assert.h>\n",
        "#include <iostream>\n",
        "#include <fstream>\n",
        "#include <vector>\n",
        "\n",
        "using namespace std;\n",
        "\n",
        "\n",
        "// Kernel definition\n",
        "__global__ void BinarySearch(float *array, int size, float target, float *index, bool* found)\n",
        "{\n",
        "\n",
        "    *index = -1;\n",
        "    int target_thread_id = -1;\n",
        "    int search_part = (size-1) / blockDim.x + 1;\n",
        "\n",
        "    if(*found == false) {\n",
        "\n",
        "        int thread_id = threadIdx.x;\n",
        "        extern __shared__ float shared_array[];\n",
        "\n",
        "\n",
        "        float min_value = array[thread_id*search_part];\n",
        "        float max_value = array[min( (thread_id+1) * search_part - 1, size)];\n",
        "\n",
        "        if(target >= min_value && target <= max_value){\n",
        "\n",
        "          *found = true;\n",
        "          target_thread_id= thread_id;\n",
        "\n",
        "\n",
        "          for(int i = 0; i < search_part; i++) {\n",
        "            int shared_location = thread_id * search_part + i;\n",
        "            if(shared_location < size) {\n",
        "              shared_array[i] = array[shared_location];\n",
        "            }\n",
        "            else {\n",
        "              shared_array[i] = INT_MAX;\n",
        "            }\n",
        "        }\n",
        "      }\n",
        "\n",
        "    __syncthreads();\n",
        "\n",
        "\n",
        "     if (target_thread_id == thread_id){\n",
        "\n",
        "        bool found_target = false;\n",
        "        int start = 0;\n",
        "        int end = search_part - 1;\n",
        "        int mid = (start + end) / 2;\n",
        "\n",
        "        while(start <= end && found_target == false)\n",
        "        {\n",
        "            if(shared_array[mid] < target) {\n",
        "                start = mid + 1;\n",
        "            }\n",
        "            else if(shared_array[mid] > target) {\n",
        "                end = mid - 1;\n",
        "            }\n",
        "            else {\n",
        "               found_target = true;\n",
        "               *index = mid + target_thread_id * search_part;\n",
        "\n",
        "\n",
        "            }\n",
        "            mid = (start + end) / 2;\n",
        "        }\n",
        "      }\n",
        "\n",
        "    }\n",
        "}\n",
        "\n",
        "\n",
        "int main(int argc, char *argv[])\n",
        "{\n",
        "\n",
        "\n",
        "    // Specify the file path\n",
        "    std::string filePath = argv[1];\n",
        "    float target = atof(argv[2]);\n",
        "\n",
        "    // Open the file for reading\n",
        "    std::ifstream file(filePath);\n",
        "\n",
        "   if (!file.is_open()) {\n",
        "        std::cerr << \"Error opening file\" << std::endl;\n",
        "        return 1;\n",
        "    }\n",
        "\n",
        "    float* array = nullptr;  // Pointer to the array\n",
        "    float * result = nullptr;\n",
        "    float value;\n",
        "    int count = 0;  // Variable to keep track of the number of elements\n",
        "\n",
        "    // Read elements from the file\n",
        "    while (file >> value) {\n",
        "        // Dynamically resize the array\n",
        "        float* temp = static_cast<float*>(realloc(array, (count + 1) * sizeof(float)));\n",
        "\n",
        "        if (temp == nullptr) {\n",
        "            std::cerr << \"Error allocating memory\" << std::endl;\n",
        "            free(array);  // Free the previously allocated memory\n",
        "            return 1;\n",
        "        }\n",
        "\n",
        "        array = temp;\n",
        "\n",
        "        // Add the read value to the array\n",
        "        array[count] = value;\n",
        "\n",
        "        count++;\n",
        "    }\n",
        "\n",
        "    // Close the file\n",
        "    file.close();\n",
        "\n",
        "\n",
        "      bool * flag;\n",
        "     // host to device allocation\n",
        "     float *array_device;\n",
        "     float *result_device;\n",
        "     bool * flag_device;\n",
        "\n",
        "     result = (float*)malloc(sizeof(float));\n",
        "     flag = (bool*)malloc(sizeof(bool));\n",
        "     *flag = false;\n",
        "\n",
        "     cudaMalloc((void**)&array_device, count * sizeof(float));\n",
        "     cudaMalloc((void**)&result_device,sizeof(float));\n",
        "     cudaMalloc((void**)&flag_device,sizeof(bool));\n",
        "\n",
        "    cudaMemcpy(array_device, array, count * sizeof(float), cudaMemcpyHostToDevice);\n",
        "    cudaMemcpy(flag_device, flag, sizeof(bool), cudaMemcpyHostToDevice);\n",
        "\n",
        "\n",
        "\n",
        "    dim3 threadsPerBlock(1024, 1);\n",
        "    dim3 numBlocks(1,1);\n",
        "\n",
        "    BinarySearch<<< numBlocks, threadsPerBlock , ((count-1) / threadsPerBlock.x +1 ) * sizeof(float) >>>(array_device,count, target,result_device, flag_device);\n",
        "\n",
        "    cudaMemcpy( result, result_device, sizeof(float), cudaMemcpyDeviceToHost);\n",
        "\n",
        "    cout<<*result<<endl;\n",
        "\n",
        "\n",
        "    // Free the dynamically allocated memory in host\n",
        "    free(array);\n",
        "    free(result);\n",
        "    free(flag);\n",
        "\n",
        "    // Free device memory\n",
        "    cudaFree(array_device);\n",
        "    cudaFree(flag_device);\n",
        "    cudaFree(result_device);\n",
        "\n",
        "   return 0;\n",
        "}\n"
      ],
      "metadata": {
        "id": "4ZTht0lGPep1",
        "outputId": "1b053c12-3d7b-48c7-ff1f-4c1d7df40d41",
        "colab": {
          "base_uri": "https://localhost:8080/"
        }
      },
      "execution_count": 50,
      "outputs": [
        {
          "output_type": "stream",
          "name": "stdout",
          "text": [
            "Overwriting Q2_2_31_2_33.cu\n"
          ]
        }
      ]
    },
    {
      "cell_type": "code",
      "execution_count": 51,
      "metadata": {
        "id": "NIKLz3oCNeFn"
      },
      "outputs": [],
      "source": [
        "!chmod +x Q2_2_31_2_33.cu\n",
        "!nvcc Q2_2_31_2_33.cu -o Q2"
      ]
    },
    {
      "cell_type": "code",
      "source": [
        "!./Q2 \"input_10.txt\" 9.0"
      ],
      "metadata": {
        "id": "HJRNBMydOHXp",
        "outputId": "5d65db87-8e3e-4599-b321-13c93e6fd535",
        "colab": {
          "base_uri": "https://localhost:8080/"
        }
      },
      "execution_count": 52,
      "outputs": [
        {
          "output_type": "stream",
          "name": "stdout",
          "text": [
            "9\n"
          ]
        }
      ]
    },
    {
      "cell_type": "code",
      "source": [
        "!./Q2 \"input_10.txt\" 10.0"
      ],
      "metadata": {
        "id": "ATL5bcQ2OIKP",
        "outputId": "c96ca7d4-85ca-4c23-e4fb-b9a4fc81569f",
        "colab": {
          "base_uri": "https://localhost:8080/"
        }
      },
      "execution_count": 53,
      "outputs": [
        {
          "output_type": "stream",
          "name": "stdout",
          "text": [
            "-1\n"
          ]
        }
      ]
    },
    {
      "cell_type": "code",
      "source": [
        "!./Q2 \"input_10.txt\" 9.6"
      ],
      "metadata": {
        "id": "Xfq77-llOIVt",
        "outputId": "21654470-c6eb-43d3-c82f-b54dd1543afb",
        "colab": {
          "base_uri": "https://localhost:8080/"
        }
      },
      "execution_count": 54,
      "outputs": [
        {
          "output_type": "stream",
          "name": "stdout",
          "text": [
            "-1\n"
          ]
        }
      ]
    },
    {
      "cell_type": "code",
      "source": [
        "!./Q2 \"input_100.txt\" 99.0"
      ],
      "metadata": {
        "id": "dVQ7ZdPOOIYN",
        "outputId": "b3a55ea7-b0f4-46e7-875b-fa23ff951874",
        "colab": {
          "base_uri": "https://localhost:8080/"
        }
      },
      "execution_count": 55,
      "outputs": [
        {
          "output_type": "stream",
          "name": "stdout",
          "text": [
            "99\n"
          ]
        }
      ]
    },
    {
      "cell_type": "code",
      "source": [
        "!./Q2 \"input_100.txt\" 56.0"
      ],
      "metadata": {
        "id": "dglYFNB2OIab",
        "outputId": "cda2d9ef-255c-4c9a-a651-e3e6c846465c",
        "colab": {
          "base_uri": "https://localhost:8080/"
        }
      },
      "execution_count": 56,
      "outputs": [
        {
          "output_type": "stream",
          "name": "stdout",
          "text": [
            "56\n"
          ]
        }
      ]
    },
    {
      "cell_type": "code",
      "source": [
        "!./Q2 \"input_100.txt\" 100.0"
      ],
      "metadata": {
        "id": "QviH4wnfOIdy",
        "outputId": "23d19445-4c88-4320-cbeb-02f087273031",
        "colab": {
          "base_uri": "https://localhost:8080/"
        }
      },
      "execution_count": 57,
      "outputs": [
        {
          "output_type": "stream",
          "name": "stdout",
          "text": [
            "-1\n"
          ]
        }
      ]
    },
    {
      "cell_type": "code",
      "source": [
        "!./Q2 \"input_1000.txt\" 300.0"
      ],
      "metadata": {
        "id": "D_LWnjYhOTuN",
        "outputId": "d863ef3e-624e-4cff-ecb3-89c9296609f4",
        "colab": {
          "base_uri": "https://localhost:8080/"
        }
      },
      "execution_count": 58,
      "outputs": [
        {
          "output_type": "stream",
          "name": "stdout",
          "text": [
            "300\n"
          ]
        }
      ]
    },
    {
      "cell_type": "code",
      "source": [
        "!./Q2 \"input_1000.txt\" 999.0"
      ],
      "metadata": {
        "id": "A9XeaaBROdbc",
        "outputId": "3e1afa90-645a-4706-e658-7f1780202e0b",
        "colab": {
          "base_uri": "https://localhost:8080/"
        }
      },
      "execution_count": 59,
      "outputs": [
        {
          "output_type": "stream",
          "name": "stdout",
          "text": [
            "999\n"
          ]
        }
      ]
    },
    {
      "cell_type": "code",
      "source": [
        "!./Q2 \"input_10th.txt\" 5600.0"
      ],
      "metadata": {
        "id": "pmSQetlyOfSe",
        "outputId": "4fd81b4e-14a3-4804-c363-fdddb3ff4f23",
        "colab": {
          "base_uri": "https://localhost:8080/"
        }
      },
      "execution_count": 60,
      "outputs": [
        {
          "output_type": "stream",
          "name": "stdout",
          "text": [
            "5600\n"
          ]
        }
      ]
    },
    {
      "cell_type": "code",
      "source": [
        "!./Q2 \"input_10th.txt\" 9999.0"
      ],
      "metadata": {
        "id": "pdgiFtFAOljE",
        "outputId": "56565227-bbf0-4e31-b027-c6fe7457c2d1",
        "colab": {
          "base_uri": "https://localhost:8080/"
        }
      },
      "execution_count": 61,
      "outputs": [
        {
          "output_type": "stream",
          "name": "stdout",
          "text": [
            "9999\n"
          ]
        }
      ]
    },
    {
      "cell_type": "code",
      "source": [
        "!./Q2 \"input_10th.txt\" 10000.0"
      ],
      "metadata": {
        "id": "tvNRC-6XOllY",
        "outputId": "e4e6a2b7-7654-4821-92aa-364666059e37",
        "colab": {
          "base_uri": "https://localhost:8080/"
        }
      },
      "execution_count": 62,
      "outputs": [
        {
          "output_type": "stream",
          "name": "stdout",
          "text": [
            "-1\n"
          ]
        }
      ]
    },
    {
      "cell_type": "code",
      "source": [
        "!./Q2 \"input_100th.txt\" 98765.0"
      ],
      "metadata": {
        "id": "TFANWvOzOlnp",
        "outputId": "7f7a6e1d-2e9c-4595-afcb-33dd68463d5d",
        "colab": {
          "base_uri": "https://localhost:8080/"
        }
      },
      "execution_count": 63,
      "outputs": [
        {
          "output_type": "stream",
          "name": "stdout",
          "text": [
            "98765\n"
          ]
        }
      ]
    },
    {
      "cell_type": "code",
      "source": [
        "!./Q2 \"input_100th.txt\" 100001.0"
      ],
      "metadata": {
        "id": "GpOEAFRsOlp2",
        "outputId": "4c6a5b8f-a532-480e-e1da-2ef549226eff",
        "colab": {
          "base_uri": "https://localhost:8080/"
        }
      },
      "execution_count": 64,
      "outputs": [
        {
          "output_type": "stream",
          "name": "stdout",
          "text": [
            "-1\n"
          ]
        }
      ]
    },
    {
      "cell_type": "code",
      "source": [
        "!./Q2 \"input_100th.txt\" 588.0"
      ],
      "metadata": {
        "id": "PGuj_gHLOltT",
        "outputId": "144edde7-fcb3-4eb2-be14-bdf0b5e1b679",
        "colab": {
          "base_uri": "https://localhost:8080/"
        }
      },
      "execution_count": 65,
      "outputs": [
        {
          "output_type": "stream",
          "name": "stdout",
          "text": [
            "588\n"
          ]
        }
      ]
    },
    {
      "cell_type": "code",
      "source": [
        "!./Q2 \"input_1m.txt\" 900000.0"
      ],
      "metadata": {
        "id": "JfgAVogoO99c",
        "outputId": "b7ad599f-5743-48f4-f04d-917f739338f8",
        "colab": {
          "base_uri": "https://localhost:8080/"
        }
      },
      "execution_count": 66,
      "outputs": [
        {
          "output_type": "stream",
          "name": "stdout",
          "text": [
            "900000\n"
          ]
        }
      ]
    },
    {
      "cell_type": "code",
      "source": [
        "!./Q2 \"input_1m.txt\" 900793.0"
      ],
      "metadata": {
        "id": "fWPmpBPtPDGm",
        "outputId": "3fc3e94a-9e4f-4a6d-c39c-48ac415699a4",
        "colab": {
          "base_uri": "https://localhost:8080/"
        }
      },
      "execution_count": 67,
      "outputs": [
        {
          "output_type": "stream",
          "name": "stdout",
          "text": [
            "900793\n"
          ]
        }
      ]
    },
    {
      "cell_type": "code",
      "source": [
        "!./Q2 \"input_1m.txt\" 1000002.0"
      ],
      "metadata": {
        "id": "c4gl0wlkPDIo",
        "outputId": "a42c3f61-a300-4fa3-a294-53072de9f5aa",
        "colab": {
          "base_uri": "https://localhost:8080/"
        }
      },
      "execution_count": 68,
      "outputs": [
        {
          "output_type": "stream",
          "name": "stdout",
          "text": [
            "-1\n"
          ]
        }
      ]
    },
    {
      "cell_type": "code",
      "execution_count": 69,
      "metadata": {
        "colab": {
          "base_uri": "https://localhost:8080/"
        },
        "id": "b0OP5yVwH_OX",
        "outputId": "65aa2112-1e89-4a2b-ddc4-58b8ad26fe43"
      },
      "outputs": [
        {
          "output_type": "stream",
          "name": "stdout",
          "text": [
            "-1\n"
          ]
        }
      ],
      "source": [
        "!./Q2 \"input_1m.txt\" 1000002.0"
      ]
    },
    {
      "cell_type": "code",
      "execution_count": 70,
      "metadata": {
        "id": "8-TOWf1LtD3A",
        "colab": {
          "base_uri": "https://localhost:8080/"
        },
        "outputId": "f7d2136b-ab05-4901-e3d8-4d59be6b0db8"
      },
      "outputs": [
        {
          "output_type": "stream",
          "name": "stdout",
          "text": [
            "==4748== NVPROF is profiling process 4748, command: ./Q2 input_1m.txt 1000002.0\n",
            "-1\n",
            "==4748== Profiling application: ./Q2 input_1m.txt 1000002.0\n",
            "==4748== Profiling result:\n",
            "            Type  Time(%)      Time     Calls       Avg       Min       Max  Name\n",
            " GPU activities:   98.72%  679.92us         2  339.96us     672ns  679.25us  [CUDA memcpy HtoD]\n",
            "                    0.98%  6.7190us         1  6.7190us  6.7190us  6.7190us  BinarySearch(float*, int, float, float*, bool*)\n",
            "                    0.31%  2.1120us         1  2.1120us  2.1120us  2.1120us  [CUDA memcpy DtoH]\n",
            "      API calls:   98.32%  95.772ms         3  31.924ms  3.7470us  95.679ms  cudaMalloc\n",
            "                    0.97%  940.91us         3  313.64us  22.070us  844.56us  cudaMemcpy\n",
            "                    0.31%  305.94us         3  101.98us  6.0810us  199.75us  cudaFree\n",
            "                    0.23%  228.75us         1  228.75us  228.75us  228.75us  cudaLaunchKernel\n",
            "                    0.14%  135.62us       114  1.1890us     144ns  52.839us  cuDeviceGetAttribute\n",
            "                    0.01%  10.936us         1  10.936us  10.936us  10.936us  cuDeviceGetName\n",
            "                    0.01%  5.2540us         1  5.2540us  5.2540us  5.2540us  cuDeviceGetPCIBusId\n",
            "                    0.00%  4.3210us         1  4.3210us  4.3210us  4.3210us  cuDeviceTotalMem\n",
            "                    0.00%  2.1740us         3     724ns     248ns  1.3410us  cuDeviceGetCount\n",
            "                    0.00%  1.0440us         2     522ns     165ns     879ns  cuDeviceGet\n",
            "                    0.00%     456ns         1     456ns     456ns     456ns  cuModuleGetLoadingMode\n",
            "                    0.00%     222ns         1     222ns     222ns     222ns  cuDeviceGetUuid\n"
          ]
        }
      ],
      "source": [
        "!nvprof ./Q2 \"input_1m.txt\" 1000002.0"
      ]
    }
  ],
  "metadata": {
    "accelerator": "GPU",
    "colab": {
      "gpuType": "T4",
      "provenance": []
    },
    "kernelspec": {
      "display_name": "Python 3",
      "name": "python3"
    },
    "language_info": {
      "name": "python"
    }
  },
  "nbformat": 4,
  "nbformat_minor": 0
}