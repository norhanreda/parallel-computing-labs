{
  "cells": [
    {
      "cell_type": "code",
      "execution_count": 1,
      "metadata": {
        "colab": {
          "base_uri": "https://localhost:8080/"
        },
        "id": "Er81N23oNVqK",
        "outputId": "59a935a1-0c9d-4a84-885b-110260f7f8d4"
      },
      "outputs": [
        {
          "name": "stdout",
          "output_type": "stream",
          "text": [
            "nvcc: NVIDIA (R) Cuda compiler driver\n",
            "Copyright (c) 2005-2023 NVIDIA Corporation\n",
            "Built on Tue_Aug_15_22:02:13_PDT_2023\n",
            "Cuda compilation tools, release 12.2, V12.2.140\n",
            "Build cuda_12.2.r12.2/compiler.33191640_0\n"
          ]
        }
      ],
      "source": [
        "!nvcc --version"
      ]
    },
    {
      "cell_type": "code",
      "execution_count": 2,
      "metadata": {
        "colab": {
          "base_uri": "https://localhost:8080/"
        },
        "id": "QqX54YzBNd5f",
        "outputId": "d65d610b-5577-4d4d-a582-e5a1f946a7b4"
      },
      "outputs": [
        {
          "name": "stdout",
          "output_type": "stream",
          "text": [
            "Collecting git+https://github.com/andreinechaev/nvcc4jupyter.git\n",
            "  Cloning https://github.com/andreinechaev/nvcc4jupyter.git to /tmp/pip-req-build-t9hnolcl\n",
            "  Running command git clone --filter=blob:none --quiet https://github.com/andreinechaev/nvcc4jupyter.git /tmp/pip-req-build-t9hnolcl\n",
            "  Resolved https://github.com/andreinechaev/nvcc4jupyter.git to commit 781ff5b76ba6c4c2d80dcbbec9983e147613cc71\n",
            "  Installing build dependencies ... \u001b[?25l\u001b[?25hdone\n",
            "  Getting requirements to build wheel ... \u001b[?25l\u001b[?25hdone\n",
            "  Preparing metadata (pyproject.toml) ... \u001b[?25l\u001b[?25hdone\n",
            "Building wheels for collected packages: nvcc4jupyter\n",
            "  Building wheel for nvcc4jupyter (pyproject.toml) ... \u001b[?25l\u001b[?25hdone\n",
            "  Created wheel for nvcc4jupyter: filename=nvcc4jupyter-1.1.0-py3-none-any.whl size=8011 sha256=e2b2acbb79d726227ace2ffdeb18b901e4debb9cf9419b13a35a389a655ee4ac\n",
            "  Stored in directory: /tmp/pip-ephem-wheel-cache-0sgs275b/wheels/a8/b9/18/23f8ef71ceb0f63297dd1903aedd067e6243a68ea756d6feea\n",
            "Successfully built nvcc4jupyter\n",
            "Installing collected packages: nvcc4jupyter\n",
            "Successfully installed nvcc4jupyter-1.1.0\n"
          ]
        }
      ],
      "source": [
        "!pip install git+https://github.com/andreinechaev/nvcc4jupyter.git"
      ]
    },
    {
      "cell_type": "code",
      "execution_count": 3,
      "metadata": {
        "colab": {
          "base_uri": "https://localhost:8080/"
        },
        "id": "m0a_SttTNd9Z",
        "outputId": "bb524af2-d081-4a50-e188-5a7e157a4960"
      },
      "outputs": [
        {
          "name": "stdout",
          "output_type": "stream",
          "text": [
            "Source files will be saved in \"/tmp/tmpgyazkicd\".\n"
          ]
        }
      ],
      "source": [
        "%load_ext nvcc4jupyter"
      ]
    },
    {
      "cell_type": "markdown",
      "metadata": {
        "id": "PyuCMKED0dgg"
      },
      "source": [
        "**Question1 (Q1)**"
      ]
    },
    {
      "cell_type": "code",
      "execution_count": null,
      "metadata": {
        "colab": {
          "base_uri": "https://localhost:8080/"
        },
        "id": "PXPYfwzvNd_l",
        "outputId": "6113601a-2107-419e-e2ca-9d5fab5c8912"
      },
      "outputs": [
        {
          "name": "stdout",
          "output_type": "stream",
          "text": [
            "Writing Q1_2_31_2_33.cu\n"
          ]
        }
      ],
      "source": [
        "\n",
        "%%writefile Q1_2_31_2_33.cu\n",
        "//Norhan_Reda_Abdelwahed_2_31\n",
        "//Hoda_Gamal_Hamouda_2_33\n",
        "#include <stdio.h>\n",
        "#include <stdlib.h>\n",
        "#include <math.h>\n",
        "#include <assert.h>\n",
        "#include <iostream>\n",
        "#include <fstream>\n",
        "#include <vector>\n",
        "using namespace std;\n",
        "\n",
        "// Kernel definition\n",
        "__global__ void ArrAdd(float *arr, int size,float *result)\n",
        "{\n",
        "    // declares a shared memory segment that is accessible by all threads in the same block. More on this later.\n",
        "extern __shared__ float partialSum[];\n",
        "\n",
        "unsigned int thread_id = blockIdx.x * blockDim.x + threadIdx.x ;\n",
        "\n",
        "unsigned int t = threadIdx.x;\n",
        "\n",
        "partialSum[t] = arr[thread_id];\n",
        "\n",
        "if(thread_id >=size)\n",
        "   return ;\n",
        "for(unsigned int stride = 1; stride < blockDim.x; stride *= 2){\n",
        "\n",
        "     if(t % (2*stride) == 0)\n",
        "          partialSum[t] += partialSum[t+stride];\n",
        "     __syncthreads();\n",
        "}\n",
        "\n",
        " if(t==0)\n",
        "     *result = partialSum[0];\n",
        "\n",
        "}\n",
        "\n",
        "int main(int argc, char *argv[])\n",
        "{\n",
        "\n",
        "\n",
        "    // Specify the file path\n",
        "    std::string filePath = argv[1];\n",
        "\n",
        "    // Open the file for reading\n",
        "    std::ifstream file(filePath);\n",
        "\n",
        "   if (!file.is_open()) {\n",
        "        std::cerr << \"Error opening file\" << std::endl;\n",
        "        return 1;\n",
        "    }\n",
        "\n",
        " float* array = nullptr;  // Pointer to the array\n",
        " float * result = nullptr;\n",
        "    float value;\n",
        "    int count = 0;  // Variable to keep track of the number of elements\n",
        "\n",
        "    // Read elements from the file\n",
        "    while (file >> value) {\n",
        "        // Dynamically resize the array\n",
        "        float* temp = static_cast<float*>(realloc(array, (count + 1) * sizeof(float)));\n",
        "\n",
        "        if (temp == nullptr) {\n",
        "            std::cerr << \"Error allocating memory\" << std::endl;\n",
        "            free(array);  // Free the previously allocated memory\n",
        "            return 1;\n",
        "        }\n",
        "\n",
        "        array = temp;\n",
        "\n",
        "        // Add the read value to the array\n",
        "        array[count] = value;\n",
        "\n",
        "        count++;\n",
        "    }\n",
        "\n",
        "    // Close the file\n",
        "    file.close();\n",
        "\n",
        "    // Print the elements in the array\n",
        "    for (int i = 0; i < count; i++) {\n",
        "        std::cout << array[i] << std::endl;\n",
        "    }\n",
        "\n",
        "\n",
        "\n",
        "    // host to device allocation\n",
        "     float *array_device;\n",
        "     float *result_device;\n",
        "\n",
        "     result = (float*)malloc(sizeof(float));\n",
        "     cudaMalloc((void**)&array_device, count * sizeof(float));\n",
        "     cudaMalloc((void**)&result_device,sizeof(float));\n",
        "\n",
        "    cudaMemcpy(array_device, array, count * sizeof(float), cudaMemcpyHostToDevice);\n",
        "    dim3 threadsPerBlock(256, 1);\n",
        "    dim3 numBlocks(1,1);\n",
        "    ArrAdd<<< numBlocks, threadsPerBlock , threadsPerBlock.x * sizeof(float) >>>(array_device,count,result_device);\n",
        "\n",
        "    cudaMemcpy( result, result_device, sizeof(float), cudaMemcpyDeviceToHost);\n",
        "\n",
        "    cout<<\"final sum is: \"<<*result<<endl;\n",
        "\n",
        "\n",
        "    // Free the dynamically allocated memory in host\n",
        "    free(array);\n",
        "    free(result);\n",
        "\n",
        "    // Free device memory\n",
        "    cudaFree(array_device);\n",
        "    cudaFree(array);\n",
        "\n",
        "   return 0;\n",
        "}\n"
      ]
    },
    {
      "cell_type": "code",
      "execution_count": null,
      "metadata": {
        "colab": {
          "base_uri": "https://localhost:8080/"
        },
        "id": "o1MPjpioNeBk",
        "outputId": "eb577bc3-10b8-4103-9cf6-9414eb40f6a9"
      },
      "outputs": [
        {
          "name": "stdout",
          "output_type": "stream",
          "text": [
            "1.2\n",
            "3.8\n",
            "6.4\n",
            "7.9\n",
            "final sum is: 19.3\n"
          ]
        }
      ],
      "source": [
        "!chmod +x Q1_2_31_2_33.cu\n",
        "!nvcc Q1_2_31_2_33.cu -o Q1\n",
        "!./Q1 \"input.txt\""
      ]
    },
    {
      "cell_type": "markdown",
      "metadata": {
        "id": "Ulsm9FHU0Rfp"
      },
      "source": []
    },
    {
      "cell_type": "markdown",
      "metadata": {
        "id": "pPvtdQBB0Ul2"
      },
      "source": [
        "**Question2 (Q2)**"
      ]
    },
    {
      "cell_type": "code",
      "execution_count": 40,
      "metadata": {
        "colab": {
          "base_uri": "https://localhost:8080/"
        },
        "id": "hJyRwghBNeDp",
        "outputId": "19805fc8-24a8-45ba-9697-46b0e753af76"
      },
      "outputs": [
        {
          "name": "stdout",
          "output_type": "stream",
          "text": [
            "Overwriting Q2_2_31_2_33.cu\n"
          ]
        }
      ],
      "source": [
        "\n",
        "%%writefile Q2_2_31_2_33.cu\n",
        "//Norhan_Reda_Abdelwahed_2_31\n",
        "//Hoda_Gamal_Hamouda_2_33\n",
        "\n",
        "#include <stdio.h>\n",
        "#include <stdlib.h>\n",
        "#include <math.h>\n",
        "#include <assert.h>\n",
        "#include <iostream>\n",
        "#include <fstream>\n",
        "#include <vector>\n",
        "\n",
        "\n",
        "\n",
        "using namespace std;\n",
        "\n",
        "// Kernel definition\n",
        "__global__ void BinarySearch(float *array, int size, float target, float *index, bool* found)\n",
        "{\n",
        "    int block_dim = 512;\n",
        "    int search_interval = 16;\n",
        "\n",
        "    if(*found == false) { // not found yet\n",
        "\n",
        "        int thread_id = threadIdx.x;\n",
        "        __shared__ float shared_array[block_dim * search_interval];\n",
        "\n",
        "\n",
        "        for(int i = 0; i < search_interval; i++) {\n",
        "            int shared_location = thread_id * search_interval + i;\n",
        "            int location = shared_location + block_dim * search_interval * blockIdx.x;\n",
        "\n",
        "            if(location < size) {\n",
        "              shared_array[shared_location] = arr[location];\n",
        "            }\n",
        "            else {\n",
        "              shared_array[shared_location] = INT_MAX;\n",
        "            }\n",
        "        }\n",
        "        __syncthreads();\n",
        "\n",
        "        int start = 0;\n",
        "        int end = search_interval - 1;\n",
        "        int mid = (start + end) / 2;\n",
        "\n",
        "        float *thread_part = &shared_array[thread_id * search_interval];\n",
        "\n",
        "        while(start <= end && *found == false)\n",
        "        {\n",
        "            if(thread_part[mid] < target) {\n",
        "                start = mid + 1;\n",
        "            }\n",
        "            else if(thread_part[mid] > target) {\n",
        "                end = mid - 1;\n",
        "            }\n",
        "            else {\n",
        "                *found = true;\n",
        "                *index = mid + thread_id*search_interval + block_dim * search_interval * blockIdx.x;\n",
        "            }\n",
        "\n",
        "            mid = (start + end) / 2;\n",
        "        }\n",
        "        if (*found == false){\n",
        "          *index = -1;\n",
        "        }\n",
        "    }\n",
        "}\n",
        "\n",
        "\n",
        "\n",
        "int main(int argc, char *argv[])\n",
        "{\n",
        "\n",
        "\n",
        "    // Specify the file path\n",
        "    std::string filePath = argv[1];\n",
        "    float target = atof(argv[2]);\n",
        "    // Open the file for reading\n",
        "    std::ifstream file(filePath);\n",
        "\n",
        "   if (!file.is_open()) {\n",
        "        std::cerr << \"Error opening file\" << std::endl;\n",
        "        return 1;\n",
        "    }\n",
        "\n",
        " float* array = nullptr;  // Pointer to the array\n",
        " float * result = nullptr;\n",
        "    float value;\n",
        "    int count = 0;  // Variable to keep track of the number of elements\n",
        "\n",
        "    // Read elements from the file\n",
        "    while (file >> value) {\n",
        "        // Dynamically resize the array\n",
        "        float* temp = static_cast<float*>(realloc(array, (count + 1) * sizeof(float)));\n",
        "\n",
        "        if (temp == nullptr) {\n",
        "            std::cerr << \"Error allocating memory\" << std::endl;\n",
        "            free(array);  // Free the previously allocated memory\n",
        "            return 1;\n",
        "        }\n",
        "\n",
        "        array = temp;\n",
        "\n",
        "        // Add the read value to the array\n",
        "        array[count] = value;\n",
        "\n",
        "        count++;\n",
        "    }\n",
        "\n",
        "    // Close the file\n",
        "    file.close();\n",
        "\n",
        "    // Print the elements in the array\n",
        "    for (int i = 0; i < count; i++) {\n",
        "        std::cout << array[i] << std::endl;\n",
        "    }\n",
        "\n",
        "\n",
        "      bool * flag;\n",
        "    // host to device allocation\n",
        "     float *array_device;\n",
        "     float *result_device;\n",
        "      bool * flag_device;\n",
        "\n",
        "     result = (float*)malloc(sizeof(float));\n",
        "     flag = (bool*)malloc(sizeof(bool));\n",
        "     *flag = false;\n",
        "\n",
        "     cudaMalloc((void**)&array_device, count * sizeof(float));\n",
        "     cudaMalloc((void**)&result_device,sizeof(float));\n",
        "     cudaMalloc((void**)&flag_device,sizeof(bool));\n",
        "\n",
        "    cudaMemcpy(array_device, array, count * sizeof(float), cudaMemcpyHostToDevice);\n",
        "        cudaMemcpy(flag_device, flag, sizeof(bool), cudaMemcpyHostToDevice);\n",
        "\n",
        "    dim3 threadsPerBlock(512, 1);\n",
        "    dim3 numBlocks(1,1);\n",
        "    BinarySearch<<< numBlocks, threadsPerBlock , threadsPerBlock.x * sizeof(float) >>>(array_device,count, target,result_device,flag_device);\n",
        "\n",
        "    cudaMemcpy( result, result_device, sizeof(float), cudaMemcpyDeviceToHost);\n",
        "\n",
        "    cout<<\"target index : \"<<*result<<endl;\n",
        "\n",
        "\n",
        "    // Free the dynamically allocated memory in host\n",
        "    free(array);\n",
        "    free(result);\n",
        "\n",
        "    // Free device memory\n",
        "    cudaFree(array_device);\n",
        "    cudaFree(array);\n",
        "\n",
        "   return 0;\n",
        "}\n"
      ]
    },
    {
      "cell_type": "code",
      "execution_count": 43,
      "metadata": {
        "colab": {
          "base_uri": "https://localhost:8080/"
        },
        "id": "NIKLz3oCNeFn",
        "outputId": "f25b59fd-4f8c-403a-da4a-827a6a81f1f6"
      },
      "outputs": [
        {
          "name": "stdout",
          "output_type": "stream",
          "text": [
            "1.2\n",
            "3.8\n",
            "6.4\n",
            "7.9\n",
            "target index : -1\n"
          ]
        }
      ],
      "source": [
        "!chmod +x Q2_2_31_2_33.cu\n",
        "!nvcc Q2_2_31_2_33.cu -o Q2\n",
        "!./Q2 \"input.txt\" 1.2"
      ]
    },
    {
      "cell_type": "code",
      "execution_count": null,
      "metadata": {
        "colab": {
          "base_uri": "https://localhost:8080/"
        },
        "id": "b0OP5yVwH_OX",
        "outputId": "76ce1477-b64b-45ab-bbee-6c44c21e6d5b"
      },
      "outputs": [
        {
          "name": "stdout",
          "output_type": "stream",
          "text": [
            "1.2\n",
            "3.8\n",
            "6.4\n",
            "7.9\n",
            "==10318== NVPROF is profiling process 10318, command: ./Q2 input.txt 3.8\n",
            "target index : 1\n",
            "==10318== Profiling application: ./Q2 input.txt 3.8\n",
            "==10318== Profiling result:\n",
            "            Type  Time(%)      Time     Calls       Avg       Min       Max  Name\n",
            " GPU activities:   78.04%  13.984us         1  13.984us  13.984us  13.984us  BinarySearch(float*, int, float, float*, bool*)\n",
            "                   11.61%  2.0800us         1  2.0800us  2.0800us  2.0800us  [CUDA memcpy DtoH]\n",
            "                   10.36%  1.8560us         2     928ns     704ns  1.1520us  [CUDA memcpy HtoD]\n",
            "      API calls:   99.64%  187.07ms         3  62.358ms  3.3460us  187.06ms  cudaMalloc\n",
            "                    0.24%  443.11us         1  443.11us  443.11us  443.11us  cudaLaunchKernel\n",
            "                    0.07%  132.36us       114  1.1610us     139ns  49.385us  cuDeviceGetAttribute\n",
            "                    0.03%  55.657us         3  18.552us  6.7800us  27.157us  cudaMemcpy\n",
            "                    0.01%  23.295us         2  11.647us  3.6650us  19.630us  cudaFree\n",
            "                    0.01%  11.740us         1  11.740us  11.740us  11.740us  cuDeviceGetName\n",
            "                    0.00%  5.3900us         1  5.3900us  5.3900us  5.3900us  cuDeviceGetPCIBusId\n",
            "                    0.00%  4.3330us         1  4.3330us  4.3330us  4.3330us  cuDeviceTotalMem\n",
            "                    0.00%  1.9070us         3     635ns     250ns  1.3920us  cuDeviceGetCount\n",
            "                    0.00%  1.2180us         2     609ns     172ns  1.0460us  cuDeviceGet\n",
            "                    0.00%     761ns         1     761ns     761ns     761ns  cuModuleGetLoadingMode\n",
            "                    0.00%     205ns         1     205ns     205ns     205ns  cuDeviceGetUuid\n"
          ]
        }
      ],
      "source": [
        "!nvprof ./Q2 \"input.txt\" 3.8"
      ]
    },
    {
      "cell_type": "code",
      "execution_count": null,
      "metadata": {
        "id": "8-TOWf1LtD3A"
      },
      "outputs": [],
      "source": []
    }
  ],
  "metadata": {
    "accelerator": "GPU",
    "colab": {
      "gpuType": "T4",
      "provenance": []
    },
    "kernelspec": {
      "display_name": "Python 3",
      "name": "python3"
    },
    "language_info": {
      "name": "python"
    }
  },
  "nbformat": 4,
  "nbformat_minor": 0
}
