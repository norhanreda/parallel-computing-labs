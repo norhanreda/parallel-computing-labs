{
  "nbformat": 4,
  "nbformat_minor": 0,
  "metadata": {
    "colab": {
      "provenance": [],
      "gpuType": "T4"
    },
    "kernelspec": {
      "name": "python3",
      "display_name": "Python 3"
    },
    "language_info": {
      "name": "python"
    },
    "accelerator": "GPU"
  },
  "cells": [
    {
      "cell_type": "code",
      "execution_count": 2,
      "metadata": {
        "colab": {
          "base_uri": "https://localhost:8080/"
        },
        "id": "Er81N23oNVqK",
        "outputId": "1339c880-d88b-4502-c025-2fe4dcc987f6"
      },
      "outputs": [
        {
          "output_type": "stream",
          "name": "stdout",
          "text": [
            "nvcc: NVIDIA (R) Cuda compiler driver\n",
            "Copyright (c) 2005-2023 NVIDIA Corporation\n",
            "Built on Tue_Aug_15_22:02:13_PDT_2023\n",
            "Cuda compilation tools, release 12.2, V12.2.140\n",
            "Build cuda_12.2.r12.2/compiler.33191640_0\n"
          ]
        }
      ],
      "source": [
        "!nvcc --version"
      ]
    },
    {
      "cell_type": "code",
      "source": [
        "!pip install git+https://github.com/andreinechaev/nvcc4jupyter.git"
      ],
      "metadata": {
        "colab": {
          "base_uri": "https://localhost:8080/"
        },
        "id": "QqX54YzBNd5f",
        "outputId": "3aceba8a-9d9d-4012-ace7-a18d2024a99a"
      },
      "execution_count": 3,
      "outputs": [
        {
          "output_type": "stream",
          "name": "stdout",
          "text": [
            "Collecting git+https://github.com/andreinechaev/nvcc4jupyter.git\n",
            "  Cloning https://github.com/andreinechaev/nvcc4jupyter.git to /tmp/pip-req-build-i7wzt6y0\n",
            "  Running command git clone --filter=blob:none --quiet https://github.com/andreinechaev/nvcc4jupyter.git /tmp/pip-req-build-i7wzt6y0\n",
            "  Resolved https://github.com/andreinechaev/nvcc4jupyter.git to commit 781ff5b76ba6c4c2d80dcbbec9983e147613cc71\n",
            "  Installing build dependencies ... \u001b[?25l\u001b[?25hdone\n",
            "  Getting requirements to build wheel ... \u001b[?25l\u001b[?25hdone\n",
            "  Preparing metadata (pyproject.toml) ... \u001b[?25l\u001b[?25hdone\n",
            "Building wheels for collected packages: nvcc4jupyter\n",
            "  Building wheel for nvcc4jupyter (pyproject.toml) ... \u001b[?25l\u001b[?25hdone\n",
            "  Created wheel for nvcc4jupyter: filename=nvcc4jupyter-1.1.0-py3-none-any.whl size=8011 sha256=e2b2acbb79d726227ace2ffdeb18b901e4debb9cf9419b13a35a389a655ee4ac\n",
            "  Stored in directory: /tmp/pip-ephem-wheel-cache-nvqztvri/wheels/a8/b9/18/23f8ef71ceb0f63297dd1903aedd067e6243a68ea756d6feea\n",
            "Successfully built nvcc4jupyter\n",
            "Installing collected packages: nvcc4jupyter\n",
            "Successfully installed nvcc4jupyter-1.1.0\n"
          ]
        }
      ]
    },
    {
      "cell_type": "code",
      "source": [
        "%load_ext nvcc4jupyter"
      ],
      "metadata": {
        "colab": {
          "base_uri": "https://localhost:8080/"
        },
        "id": "m0a_SttTNd9Z",
        "outputId": "ec442052-6e6f-46de-83f5-fbfbc9a60c72"
      },
      "execution_count": 4,
      "outputs": [
        {
          "output_type": "stream",
          "name": "stdout",
          "text": [
            "Source files will be saved in \"/tmp/tmp7kwtsano\".\n"
          ]
        }
      ]
    },
    {
      "cell_type": "markdown",
      "source": [
        "**Question1 (Q1)**"
      ],
      "metadata": {
        "id": "PyuCMKED0dgg"
      }
    },
    {
      "cell_type": "code",
      "source": [
        "\n",
        "%%writefile Q1_2_31_2_33.cu\n",
        "//Norhan_Reda_Abdelwahed_2_31\n",
        "//Hoda_Gamal_Hamouda_2_33\n",
        "#include <stdio.h>\n",
        "#include <stdlib.h>\n",
        "#include <math.h>\n",
        "#include <assert.h>\n",
        "#include <iostream>\n",
        "#include <fstream>\n",
        "#include <vector>\n",
        "using namespace std;\n",
        "\n",
        "// Kernel definition\n",
        "__global__ void ArrAdd(float *arr, int size,float *result)\n",
        "{\n",
        "    // declares a shared memory segment that is accessible by all threads in the same block. More on this later.\n",
        "extern __shared__ float partialSum[];\n",
        "\n",
        "unsigned int thread_id = blockIdx.x * blockDim.x + threadIdx.x ;\n",
        "\n",
        "unsigned int t = threadIdx.x;\n",
        "\n",
        "partialSum[t] = arr[thread_id];\n",
        "\n",
        "if(thread_id >=size)\n",
        "   return ;\n",
        "for(unsigned int stride = 1; stride < blockDim.x; stride *= 2){\n",
        "\n",
        "     if(t % (2*stride) == 0)\n",
        "          partialSum[t] += partialSum[t+stride];\n",
        "     __syncthreads();\n",
        "}\n",
        "\n",
        " if(t==0)\n",
        "     *result = partialSum[0];\n",
        "\n",
        "}\n",
        "\n",
        "int main(int argc, char *argv[])\n",
        "{\n",
        "\n",
        "\n",
        "    // Specify the file path\n",
        "    std::string filePath = argv[1];\n",
        "\n",
        "    // Open the file for reading\n",
        "    std::ifstream file(filePath);\n",
        "\n",
        "   if (!file.is_open()) {\n",
        "        std::cerr << \"Error opening file\" << std::endl;\n",
        "        return 1;\n",
        "    }\n",
        "\n",
        " float* array = nullptr;  // Pointer to the array\n",
        " float * result = nullptr;\n",
        "    float value;\n",
        "    int count = 0;  // Variable to keep track of the number of elements\n",
        "\n",
        "    // Read elements from the file\n",
        "    while (file >> value) {\n",
        "        // Dynamically resize the array\n",
        "        float* temp = static_cast<float*>(realloc(array, (count + 1) * sizeof(float)));\n",
        "\n",
        "        if (temp == nullptr) {\n",
        "            std::cerr << \"Error allocating memory\" << std::endl;\n",
        "            free(array);  // Free the previously allocated memory\n",
        "            return 1;\n",
        "        }\n",
        "\n",
        "        array = temp;\n",
        "\n",
        "        // Add the read value to the array\n",
        "        array[count] = value;\n",
        "\n",
        "        count++;\n",
        "    }\n",
        "\n",
        "    // Close the file\n",
        "    file.close();\n",
        "\n",
        "    // Print the elements in the array\n",
        "    for (int i = 0; i < count; i++) {\n",
        "        std::cout << array[i] << std::endl;\n",
        "    }\n",
        "\n",
        "\n",
        "\n",
        "    // host to device allocation\n",
        "     float *array_device;\n",
        "     float *result_device;\n",
        "\n",
        "     result = (float*)malloc(sizeof(float));\n",
        "     cudaMalloc((void**)&array_device, count * sizeof(float));\n",
        "     cudaMalloc((void**)&result_device,sizeof(float));\n",
        "\n",
        "    cudaMemcpy(array_device, array, count * sizeof(float), cudaMemcpyHostToDevice);\n",
        "    dim3 threadsPerBlock(256, 1);\n",
        "    dim3 numBlocks(1,1);\n",
        "    ArrAdd<<< numBlocks, threadsPerBlock , threadsPerBlock.x * sizeof(float) >>>(array_device,count,result_device);\n",
        "\n",
        "    cudaMemcpy( result, result_device, sizeof(float), cudaMemcpyDeviceToHost);\n",
        "\n",
        "    cout<<\"final sum is: \"<<*result<<endl;\n",
        "\n",
        "\n",
        "    // Free the dynamically allocated memory in host\n",
        "    free(array);\n",
        "    free(result);\n",
        "\n",
        "    // Free device memory\n",
        "    cudaFree(array_device);\n",
        "    cudaFree(array);\n",
        "\n",
        "   return 0;\n",
        "}\n"
      ],
      "metadata": {
        "colab": {
          "base_uri": "https://localhost:8080/"
        },
        "id": "PXPYfwzvNd_l",
        "outputId": "117724a3-da0b-4d2f-b67d-1c3903ce96eb"
      },
      "execution_count": 7,
      "outputs": [
        {
          "output_type": "stream",
          "name": "stdout",
          "text": [
            "Writing Q1_2_31_2_33.cu\n"
          ]
        }
      ]
    },
    {
      "cell_type": "code",
      "source": [
        "!chmod +x Q1_2_31_2_33.cu\n",
        "!nvcc Q1_2_31_2_33.cu -o Q1\n",
        "!./Q1 \"input.txt\""
      ],
      "metadata": {
        "colab": {
          "base_uri": "https://localhost:8080/"
        },
        "id": "o1MPjpioNeBk",
        "outputId": "336478cf-dab8-41da-f003-3a1155997809"
      },
      "execution_count": 49,
      "outputs": [
        {
          "output_type": "stream",
          "name": "stdout",
          "text": [
            "1.2\n",
            "3.8\n",
            "6.4\n",
            "7.9\n",
            "final sum is: 19.3\n"
          ]
        }
      ]
    },
    {
      "cell_type": "markdown",
      "source": [],
      "metadata": {
        "id": "Ulsm9FHU0Rfp"
      }
    },
    {
      "cell_type": "markdown",
      "source": [
        "**Question2 (Q2)**"
      ],
      "metadata": {
        "id": "pPvtdQBB0Ul2"
      }
    },
    {
      "cell_type": "code",
      "source": [
        "\n",
        "%%writefile Q2_2_31_2_33.cu\n",
        "//Norhan_Reda_Abdelwahed_2_31\n",
        "//Hoda_Gamal_Hamouda_2_33\n",
        "#include <stdio.h>\n",
        "#include <stdlib.h>\n",
        "#include <math.h>\n",
        "#include <assert.h>\n",
        "#include <iostream>\n",
        "#include <fstream>\n",
        "#include <vector>\n",
        "using namespace std;\n",
        "\n",
        "// Kernel definition\n",
        "__global__ void BinarySearch(float *array, int size,float target,float *result)\n",
        "{\n",
        "\n",
        "    int tid = blockIdx.x * blockDim.x + threadIdx.x;\n",
        "\n",
        "    // Calculate the segment size for each thread\n",
        "    int segment_size = (size + blockDim.x - 1) / blockDim.x;\n",
        "    int start = tid * segment_size;\n",
        "    int end = min(start + segment_size, size) - 1;\n",
        "\n",
        "    // Binary search within the assigned segment\n",
        "    int res = -1;\n",
        "\n",
        "    while (start <= end) {\n",
        "        int mid = (start + end) / 2;\n",
        "\n",
        "        if (array[mid] == target) {\n",
        "            atomicMax((int*)result, mid);\n",
        "            break;\n",
        "        } else if (array[mid] < target) {\n",
        "            start = mid + 1;\n",
        "        } else {\n",
        "            end = mid - 1;\n",
        "        }\n",
        "    }\n",
        "\n",
        "    // Synchronize threads before returning\n",
        "    __syncthreads();\n",
        "    if (threadIdx.x == 0) {\n",
        "        *result = res;\n",
        "    }\n",
        "\n",
        "\n",
        "}\n",
        "\n",
        "int main(int argc, char *argv[])\n",
        "{\n",
        "\n",
        "\n",
        "    // Specify the file path\n",
        "    std::string filePath = argv[1];\n",
        "    float target = atof(argv[2]);\n",
        "    // Open the file for reading\n",
        "    std::ifstream file(filePath);\n",
        "\n",
        "   if (!file.is_open()) {\n",
        "        std::cerr << \"Error opening file\" << std::endl;\n",
        "        return 1;\n",
        "    }\n",
        "\n",
        " float* array = nullptr;  // Pointer to the array\n",
        " float * result = nullptr;\n",
        "    float value;\n",
        "    int count = 0;  // Variable to keep track of the number of elements\n",
        "\n",
        "    // Read elements from the file\n",
        "    while (file >> value) {\n",
        "        // Dynamically resize the array\n",
        "        float* temp = static_cast<float*>(realloc(array, (count + 1) * sizeof(float)));\n",
        "\n",
        "        if (temp == nullptr) {\n",
        "            std::cerr << \"Error allocating memory\" << std::endl;\n",
        "            free(array);  // Free the previously allocated memory\n",
        "            return 1;\n",
        "        }\n",
        "\n",
        "        array = temp;\n",
        "\n",
        "        // Add the read value to the array\n",
        "        array[count] = value;\n",
        "\n",
        "        count++;\n",
        "    }\n",
        "\n",
        "    // Close the file\n",
        "    file.close();\n",
        "\n",
        "    // Print the elements in the array\n",
        "    for (int i = 0; i < count; i++) {\n",
        "        std::cout << array[i] << std::endl;\n",
        "    }\n",
        "\n",
        "\n",
        "\n",
        "    // host to device allocation\n",
        "     float *array_device;\n",
        "     float *result_device;\n",
        "\n",
        "     result = (float*)malloc(sizeof(float));\n",
        "     cudaMalloc((void**)&array_device, count * sizeof(float));\n",
        "     cudaMalloc((void**)&result_device,sizeof(float));\n",
        "\n",
        "    cudaMemcpy(array_device, array, count * sizeof(float), cudaMemcpyHostToDevice);\n",
        "    dim3 threadsPerBlock(256, 1);\n",
        "    dim3 numBlocks(1,1);\n",
        "    BinarySearch<<< numBlocks, threadsPerBlock , threadsPerBlock.x * sizeof(float) >>>(array_device,count, target,result_device);\n",
        "\n",
        "    cudaMemcpy( result, result_device, sizeof(float), cudaMemcpyDeviceToHost);\n",
        "\n",
        "    cout<<\"final sum is: \"<<*result<<endl;\n",
        "\n",
        "\n",
        "    // Free the dynamically allocated memory in host\n",
        "    free(array);\n",
        "    free(result);\n",
        "\n",
        "    // Free device memory\n",
        "    cudaFree(array_device);\n",
        "    cudaFree(array);\n",
        "\n",
        "   return 0;\n",
        "}\n"
      ],
      "metadata": {
        "colab": {
          "base_uri": "https://localhost:8080/"
        },
        "id": "hJyRwghBNeDp",
        "outputId": "52ced0f6-fee2-4c77-8eaf-098c33811743"
      },
      "execution_count": 24,
      "outputs": [
        {
          "output_type": "stream",
          "name": "stdout",
          "text": [
            "Overwriting Q2_2_31_2_33.cu\n"
          ]
        }
      ]
    },
    {
      "cell_type": "code",
      "source": [
        "!chmod +x Q2_2_31_2_33.cu\n",
        "!nvcc Q2_2_31_2_33.cu -o Q2\n",
        "!./Q2 \"input.txt\" 6.4"
      ],
      "metadata": {
        "colab": {
          "base_uri": "https://localhost:8080/"
        },
        "id": "NIKLz3oCNeFn",
        "outputId": "805fc7aa-6af9-4ece-9837-b5054fefee3b"
      },
      "execution_count": 25,
      "outputs": [
        {
          "output_type": "stream",
          "name": "stdout",
          "text": [
            "1.2\n",
            "3.8\n",
            "6.4\n",
            "7.9\n",
            "final sum is: -1\n"
          ]
        }
      ]
    }
  ]
}