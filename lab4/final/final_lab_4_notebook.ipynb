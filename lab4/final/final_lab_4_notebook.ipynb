{
  "cells": [
    {
      "cell_type": "code",
      "execution_count": 357,
      "metadata": {
        "colab": {
          "base_uri": "https://localhost:8080/"
        },
        "id": "mP5c-8VY9JUr",
        "outputId": "0c79b103-b410-4e55-83a6-1d5350f5f89f"
      },
      "outputs": [
        {
          "output_type": "stream",
          "name": "stdout",
          "text": [
            "nvcc: NVIDIA (R) Cuda compiler driver\n",
            "Copyright (c) 2005-2023 NVIDIA Corporation\n",
            "Built on Tue_Aug_15_22:02:13_PDT_2023\n",
            "Cuda compilation tools, release 12.2, V12.2.140\n",
            "Build cuda_12.2.r12.2/compiler.33191640_0\n"
          ]
        }
      ],
      "source": [
        "!nvcc --version"
      ]
    },
    {
      "cell_type": "code",
      "execution_count": 358,
      "metadata": {
        "colab": {
          "base_uri": "https://localhost:8080/"
        },
        "id": "GXV5nYXQ9Y6-",
        "outputId": "a9e089b5-adc1-41d6-e43a-776dde2f82a9"
      },
      "outputs": [
        {
          "output_type": "stream",
          "name": "stdout",
          "text": [
            "Collecting git+https://github.com/andreinechaev/nvcc4jupyter.git\n",
            "  Cloning https://github.com/andreinechaev/nvcc4jupyter.git to /tmp/pip-req-build-qfsh1v_c\n",
            "  Running command git clone --filter=blob:none --quiet https://github.com/andreinechaev/nvcc4jupyter.git /tmp/pip-req-build-qfsh1v_c\n",
            "  Resolved https://github.com/andreinechaev/nvcc4jupyter.git to commit 5741c522547756ac4bb7a16df32106a15efb8a57\n",
            "  Installing build dependencies ... \u001b[?25l\u001b[?25hdone\n",
            "  Getting requirements to build wheel ... \u001b[?25l\u001b[?25hdone\n",
            "  Preparing metadata (pyproject.toml) ... \u001b[?25l\u001b[?25hdone\n"
          ]
        }
      ],
      "source": [
        "!pip install git+https://github.com/andreinechaev/nvcc4jupyter.git"
      ]
    },
    {
      "cell_type": "code",
      "execution_count": 359,
      "metadata": {
        "colab": {
          "base_uri": "https://localhost:8080/"
        },
        "id": "R6cpPyam9Y3m",
        "outputId": "3bab2bf9-2fc6-4d6f-9bd6-a7c167d020ed"
      },
      "outputs": [
        {
          "output_type": "stream",
          "name": "stdout",
          "text": [
            "The nvcc4jupyter extension is already loaded. To reload it, use:\n",
            "  %reload_ext nvcc4jupyter\n"
          ]
        }
      ],
      "source": [
        "%load_ext nvcc4jupyter"
      ]
    },
    {
      "cell_type": "code",
      "execution_count": 360,
      "metadata": {
        "colab": {
          "base_uri": "https://localhost:8080/"
        },
        "id": "uWcubSkzHwlM",
        "outputId": "f96a6e0d-4024-4d55-9616-84c883ccec21"
      },
      "outputs": [
        {
          "output_type": "stream",
          "name": "stdout",
          "text": [
            "fatal: destination path 'stb' already exists and is not an empty directory.\n"
          ]
        }
      ],
      "source": [
        "!git clone https://github.com/nothings/stb.git\n",
        "!cp stb/stb_image.h /usr/local/include/"
      ]
    },
    {
      "cell_type": "code",
      "execution_count": 361,
      "metadata": {
        "colab": {
          "base_uri": "https://localhost:8080/"
        },
        "id": "b9rqYPEurkE-",
        "outputId": "a8193c49-bcca-45a9-950d-c140437c2e30"
      },
      "outputs": [
        {
          "output_type": "stream",
          "name": "stdout",
          "text": [
            "Requirement already satisfied: wget in /usr/local/lib/python3.10/dist-packages (3.2)\n",
            "--2024-04-20 17:14:34--  https://raw.githubusercontent.com/nothings/stb/master/stb_image_write.h\n",
            "Resolving raw.githubusercontent.com (raw.githubusercontent.com)... 185.199.110.133, 185.199.109.133, 185.199.111.133, ...\n",
            "Connecting to raw.githubusercontent.com (raw.githubusercontent.com)|185.199.110.133|:443... connected.\n",
            "HTTP request sent, awaiting response... 200 OK\n",
            "Length: 71221 (70K) [text/plain]\n",
            "Saving to: ‘stb_image_write.h.10’\n",
            "\n",
            "stb_image_write.h.1 100%[===================>]  69.55K  --.-KB/s    in 0.05s   \n",
            "\n",
            "2024-04-20 17:14:35 (1.47 MB/s) - ‘stb_image_write.h.10’ saved [71221/71221]\n",
            "\n"
          ]
        }
      ],
      "source": [
        "!pip install wget\n",
        "!wget https://raw.githubusercontent.com/nothings/stb/master/stb_image_write.h"
      ]
    },
    {
      "cell_type": "markdown",
      "metadata": {
        "id": "tkLPMLRYpd6V"
      },
      "source": []
    },
    {
      "cell_type": "markdown",
      "metadata": {
        "id": "ZtDTNaiMuQH4"
      },
      "source": [
        "# Final =========================>\n"
      ]
    },
    {
      "cell_type": "code",
      "source": [
        "import shutil\n",
        "import os\n",
        "\n",
        "# Path to the uploaded image file\n",
        "image_path = './in_3_4/cat.jpg'  # Update with the path of your uploaded image\n",
        "\n",
        "# Directory to save the copies\n",
        "output_dir = './in_all/'\n",
        "\n",
        "# Create the output directory if it doesn't exist\n",
        "os.makedirs(output_dir, exist_ok=True)\n",
        "\n",
        "# Number of copies to generate\n",
        "num_copies = 50\n",
        "\n",
        "# Generate copies\n",
        "for i in range(num_copies):\n",
        "    shutil.copy(image_path, output_dir + f'copy_{i}.jpg')\n",
        "\n",
        "print(f'{num_copies} copies generated successfully.')"
      ],
      "metadata": {
        "colab": {
          "base_uri": "https://localhost:8080/"
        },
        "id": "LoO9j3ihUSwY",
        "outputId": "3ce2ae2e-0cf2-4946-f6c0-37b41a2959de"
      },
      "execution_count": 362,
      "outputs": [
        {
          "output_type": "stream",
          "name": "stdout",
          "text": [
            "50 copies generated successfully.\n"
          ]
        }
      ]
    },
    {
      "cell_type": "code",
      "execution_count": 363,
      "metadata": {
        "colab": {
          "base_uri": "https://localhost:8080/"
        },
        "id": "cV7jPjXtxCD9",
        "outputId": "777647b6-3bd5-4071-e9d1-120f0ea1318a"
      },
      "outputs": [
        {
          "output_type": "stream",
          "name": "stdout",
          "text": [
            "Overwriting K1_2_31_2_33.cu\n"
          ]
        }
      ],
      "source": [
        "%%writefile K1_2_31_2_33.cu\n",
        "//Norhan_Reda_Abdelwahed_2_31\n",
        "//Hoda_Gamal_Hamouda_2_33\n",
        "\n",
        "#include <stdio.h>\n",
        "#include <stdlib.h>\n",
        "#include <math.h>\n",
        "#include <assert.h>\n",
        "#include <iostream>\n",
        "#include <iomanip>\n",
        "#include <fstream>\n",
        "#include <vector>\n",
        "#define STB_IMAGE_IMPLEMENTATION\n",
        "#include <stdio.h>\n",
        "#include \"stb_image.h\"\n",
        "#define STB_IMAGE_WRITE_IMPLEMENTATION\n",
        "#include \"stb_image_write.h\"\n",
        "#include <string>\n",
        "#include <filesystem>\n",
        "#include <cuda_runtime.h>\n",
        "using namespace std;\n",
        "\n",
        "__constant__ float mask[15*15];\n",
        "\n",
        "\n",
        "// Kernel definition\n",
        "__global__ void Imgcov3d(int batchSize, float *input, float* output ,unsigned int width, unsigned int height , int maskdim){\n",
        "\n",
        "    int outRow = blockIdx.y * blockDim.y + threadIdx.y;\n",
        "    int outCol = blockIdx.x * blockDim.x + threadIdx.x;\n",
        "    int imageIndex = blockIdx.z * blockDim.z + threadIdx.z;\n",
        "\n",
        "    if(outRow < height && outCol < width && imageIndex < batchSize) {\n",
        "\n",
        "      float sum = 0;\n",
        "\n",
        "      for(int maskdep = 0; maskdep < 3; ++maskdep){\n",
        "        for(int maskRow = 0; maskRow < maskdim; ++maskRow){\n",
        "           for(int maskCol = 0; maskCol < maskdim; ++maskCol){\n",
        "\n",
        "                  int inRow = outRow -(maskdim/2) + maskRow;\n",
        "                  int inCol = outCol -(maskdim/2) + maskCol;\n",
        "\n",
        "                  if(inRow < height && inRow >= 0 && inCol < width && inCol >= 0){\n",
        "                      sum += mask[maskRow * maskdim + maskCol]\n",
        "                      *input[imageIndex * 3 * width * height + maskdep * width * height + inRow * width + inCol];\n",
        "                  }\n",
        "             }\n",
        "          }\n",
        "        }\n",
        "\n",
        "        if(sum < 0){\n",
        "          sum = 0;\n",
        "        } else if (sum > 255){\n",
        "          sum = 255;\n",
        "        }\n",
        "\n",
        "        output[imageIndex * width * height + outRow * width + outCol] = sum;\n",
        "    }\n",
        "\n",
        "}\n",
        "\n",
        "int main(int argc, char *argv[]) {\n",
        "\n",
        "    string folderPath = argv[1];\n",
        "    string out_path = argv[2];\n",
        "    int batch_size = stoi(argv[3]);\n",
        "    string mask_path = argv[4];\n",
        "\n",
        "    int maskdim;\n",
        "\n",
        "    // Open the file for reading\n",
        "    std::ifstream inputFile(mask_path);\n",
        "\n",
        "    // Check if the file is opened successfully\n",
        "    if (!inputFile.is_open()) {\n",
        "        std::cerr << \"Error opening file: \" <<mask_path  << std::endl;\n",
        "        return 1; // Exit with an error code\n",
        "    }\n",
        "\n",
        "     inputFile >> maskdim ;\n",
        "     // cout<<\"maskdim \"<<maskdim<<endl;\n",
        "\n",
        "    float *h_A, *h_B,*R,*G,*B;\n",
        "    int rows1,cols1, comp;\n",
        "\n",
        "    float *h_images;\n",
        "    int img_index = 0;\n",
        "\n",
        "    for (const auto& entry : std::filesystem::directory_iterator(folderPath)) {\n",
        "\n",
        "        if (entry.is_regular_file()) {\n",
        "            std::string filePath = entry.path().string();\n",
        "\n",
        "            unsigned char *data = stbi_load(filePath.c_str(), &cols1, &rows1, &comp, 0);\n",
        "\n",
        "            if(img_index == 0){\n",
        "              h_images = (float*)malloc(sizeof(float) * batch_size * cols1 * rows1 * comp);\n",
        "            }\n",
        "\n",
        "            if (data) {\n",
        "\n",
        "                /*printf(\"cols %d\\n\", cols1);\n",
        "                printf(\"rows %d\\n\", rows1);\n",
        "                printf(\"image %s\\n\", filePath.c_str());\n",
        "                */\n",
        "\n",
        "                h_A = (float*)malloc(sizeof(float) *  rows1 * cols1* comp);\n",
        "                R = (float*)malloc(sizeof(float) *  rows1 * cols1);\n",
        "                G = (float*)malloc(sizeof(float) *  rows1 * cols1);\n",
        "                B = (float*)malloc(sizeof(float) *  rows1 * cols1);\n",
        "\n",
        "                int k = 0;\n",
        "                for(int i=0;i<rows1 * cols1* comp;i=i+3)\n",
        "                {\n",
        "                  R[k] =  static_cast<float>(data[i]);\n",
        "                  k=k+1;\n",
        "                }\n",
        "                k=0;\n",
        "                for(int i=1;i<rows1 * cols1* comp;i=i+3)\n",
        "                {\n",
        "                  G[k] =  static_cast<float>(data[i]);\n",
        "                  k=k+1;\n",
        "                }\n",
        "                k=0;\n",
        "                for(int i=2;i<rows1 * cols1* comp;i=i+3)\n",
        "                {\n",
        "                  B[k] =  static_cast<float>(data[i]);\n",
        "                  k=k+1;\n",
        "                }\n",
        "\n",
        "\n",
        "                memcpy(h_A, R, rows1*cols1 * sizeof(float));\n",
        "                memcpy(h_A +rows1*cols1 , G, rows1*cols1 * sizeof(float));\n",
        "                memcpy(h_A+rows1*cols1+rows1*cols1, B, rows1*cols1 * sizeof(float));\n",
        "\n",
        "                memcpy(h_images + img_index * rows1 * cols1 * 3,                     R, rows1 * cols1 * sizeof(float));\n",
        "                memcpy(h_images + img_index * rows1 * cols1 * 3 + rows1 * cols1,     G, rows1 * cols1 * sizeof(float));\n",
        "                memcpy(h_images + img_index * rows1 * cols1 * 3 + rows1 * cols1 * 2, B, rows1 * cols1 * sizeof(float));\n",
        "\n",
        "                img_index++;\n",
        "\n",
        "            }\n",
        "            else {\n",
        "                // Failed to load the image\n",
        "                std::cerr << \"Failed to load image: \" << filePath << std::endl;\n",
        "            }\n",
        "\n",
        "           }\n",
        "      }\n",
        "\n",
        "\n",
        "      float *d_images_temp = (float*)malloc(sizeof(float) * batch_size * rows1 * cols1 * comp);\n",
        "      for(int i=0; i<batch_size; i++){\n",
        "        memcpy(d_images_temp + i * rows1 * cols1 *comp , h_images + i * rows1 * cols1 *comp, rows1 * cols1 *comp * sizeof(float));\n",
        "      }\n",
        "\n",
        "\n",
        "    float *d_images;\n",
        "    cudaMalloc((void**)&d_images, batch_size * rows1 * cols1 * comp * sizeof(float));\n",
        "    cudaMemcpy(d_images, d_images_temp, batch_size * rows1 * cols1 * comp * sizeof(float), cudaMemcpyHostToDevice);\n",
        "\n",
        "    float *d_outs;\n",
        "    cudaMalloc((void**)&d_outs, batch_size * rows1 * cols1 * sizeof(float));\n",
        "\n",
        "    float *h_outs = (float*)malloc(sizeof(float) * batch_size * rows1 * cols1);\n",
        "\n",
        "    h_B =(float*)malloc(sizeof(float) * maskdim* maskdim);\n",
        "\n",
        "    // Read mask elements\n",
        "    for (int i = 0; i < maskdim; ++i) {\n",
        "        for (int j = 0; j < maskdim; ++j) {\n",
        "\n",
        "            int index =  i * maskdim + j;\n",
        "            inputFile >>  h_B[index];\n",
        "\n",
        "        }\n",
        "    }\n",
        "\n",
        "    // Copy data from host to device\n",
        "    cudaMemcpyToSymbol(mask, h_B, maskdim * maskdim * sizeof(float), 0, cudaMemcpyHostToDevice);\n",
        "\n",
        "\n",
        "    // Kernel invocation\n",
        "    dim3 threadsPerBlock(16,16,1);\n",
        "    dim3 numBlocks((cols1-1) / threadsPerBlock.x + 1, (rows1-1) / threadsPerBlock.y + 1, batch_size);\n",
        "    Imgcov3d<<<numBlocks, threadsPerBlock>>>(batch_size,d_images, d_outs,cols1,rows1, maskdim);\n",
        "\n",
        "    cudaMemcpy(h_outs, d_outs, batch_size * rows1 * cols1 * sizeof(float), cudaMemcpyDeviceToHost);\n",
        "\n",
        "    unsigned char* h_char = (unsigned char*)malloc(sizeof(unsigned char) * rows1 * cols1);\n",
        "\n",
        "    for(int k=0;k<batch_size;k++){\n",
        "\n",
        "      for(int i=0;i<rows1*cols1;i++){\n",
        "         h_char[i]=static_cast<unsigned char>(h_outs[k*rows1*cols1+i]);\n",
        "      }\n",
        "      string filename = \"./\"+out_path+\"/\"+\"image\" + std::to_string(k) + \".jpg\";\n",
        "      stbi_write_jpg(filename.c_str(), cols1, rows1, 1, h_char, 100);\n",
        "    }\n",
        "\n",
        "    // Free device memory\n",
        "    cudaFree(d_images);\n",
        "    cudaFree(d_outs);\n",
        "\n",
        "    // Free host memory\n",
        "    free(h_A);\n",
        "    free(h_B);\n",
        "    free(R);\n",
        "    free(G);\n",
        "    free(B);\n",
        "    free(h_images);\n",
        "    free(d_images_temp);\n",
        "    free(h_outs);\n",
        "    free(h_char);\n",
        "\n",
        "  return 0;\n",
        "}"
      ]
    },
    {
      "cell_type": "code",
      "execution_count": 364,
      "metadata": {
        "id": "wachg5FIL_3x"
      },
      "outputs": [],
      "source": [
        "!chmod +x K1_2_31_2_33.cu\n",
        "!nvcc  K1_2_31_2_33.cu -o K1_2_31_2_33"
      ]
    },
    {
      "cell_type": "code",
      "execution_count": 365,
      "metadata": {
        "colab": {
          "base_uri": "https://localhost:8080/"
        },
        "id": "sc1iaXCHy2lh",
        "outputId": "901e9eab-c81a-4148-9ca3-cf0c470a6dd1"
      },
      "outputs": [
        {
          "output_type": "stream",
          "name": "stdout",
          "text": [
            "==45230== NVPROF is profiling process 45230, command: ./K1_2_31_2_33 in_3_4 out1_255 4 mask_3.txt\n",
            "==45230== Profiling application: ./K1_2_31_2_33 in_3_4 out1_255 4 mask_3.txt\n",
            "==45230== Profiling result:\n",
            "            Type  Time(%)      Time     Calls       Avg       Min       Max  Name\n",
            " GPU activities:   51.36%  152.23ms         1  152.23ms  152.23ms  152.23ms  [CUDA memcpy DtoH]\n",
            "                   42.75%  126.73ms         2  63.364ms     704ns  126.73ms  [CUDA memcpy HtoD]\n",
            "                    5.89%  17.457ms         1  17.457ms  17.457ms  17.457ms  Imgcov3d(int, float*, float*, unsigned int, unsigned int, int)\n",
            "      API calls:   60.13%  297.65ms         2  148.83ms  126.94ms  170.71ms  cudaMemcpy\n",
            "                   39.08%  193.49ms         2  96.743ms  429.97us  193.06ms  cudaMalloc\n",
            "                    0.65%  3.2319ms         2  1.6159ms  981.31us  2.2506ms  cudaFree\n",
            "                    0.08%  408.46us         1  408.46us  408.46us  408.46us  cudaMemcpyToSymbol\n",
            "                    0.04%  197.18us       114  1.7290us     189ns  75.561us  cuDeviceGetAttribute\n",
            "                    0.01%  37.002us         1  37.002us  37.002us  37.002us  cudaLaunchKernel\n",
            "                    0.00%  12.434us         1  12.434us  12.434us  12.434us  cuDeviceGetName\n",
            "                    0.00%  6.2010us         1  6.2010us  6.2010us  6.2010us  cuDeviceTotalMem\n",
            "                    0.00%  4.8850us         1  4.8850us  4.8850us  4.8850us  cuDeviceGetPCIBusId\n",
            "                    0.00%  2.1910us         3     730ns     340ns  1.4240us  cuDeviceGetCount\n",
            "                    0.00%  1.0250us         2     512ns     300ns     725ns  cuDeviceGet\n",
            "                    0.00%     690ns         1     690ns     690ns     690ns  cuModuleGetLoadingMode\n",
            "                    0.00%     404ns         1     404ns     404ns     404ns  cuDeviceGetUuid\n"
          ]
        }
      ],
      "source": [
        "!nvprof ./K1_2_31_2_33 \"in_3_4\" \"out1_255\" 4 \"mask_3.txt\""
      ]
    },
    {
      "cell_type": "code",
      "execution_count": 366,
      "metadata": {
        "colab": {
          "base_uri": "https://localhost:8080/"
        },
        "id": "2YbA6xyBQK3y",
        "outputId": "7f2d5275-ea93-4052-9623-7673016ae6fb"
      },
      "outputs": [
        {
          "output_type": "stream",
          "name": "stdout",
          "text": [
            "==45282== NVPROF is profiling process 45282, command: ./K1_2_31_2_33 in_3_4 out1_255 4 mask_5.txt\n",
            "==45282== Profiling application: ./K1_2_31_2_33 in_3_4 out1_255 4 mask_5.txt\n",
            "==45282== Profiling result:\n",
            "            Type  Time(%)      Time     Calls       Avg       Min       Max  Name\n",
            " GPU activities:   45.81%  137.54ms         2  68.769ms     704ns  137.54ms  [CUDA memcpy HtoD]\n",
            "                   44.76%  134.39ms         1  134.39ms  134.39ms  134.39ms  [CUDA memcpy DtoH]\n",
            "                    9.43%  28.299ms         1  28.299ms  28.299ms  28.299ms  Imgcov3d(int, float*, float*, unsigned int, unsigned int, int)\n",
            "      API calls:   60.43%  301.25ms         2  150.62ms  137.75ms  163.50ms  cudaMemcpy\n",
            "                   38.98%  194.31ms         2  97.157ms  372.45us  193.94ms  cudaMalloc\n",
            "                    0.47%  2.3593ms         2  1.1797ms  1.0200ms  1.3393ms  cudaFree\n",
            "                    0.08%  384.16us         1  384.16us  384.16us  384.16us  cudaMemcpyToSymbol\n",
            "                    0.03%  142.59us       114  1.2500us     147ns  56.317us  cuDeviceGetAttribute\n",
            "                    0.01%  32.851us         1  32.851us  32.851us  32.851us  cudaLaunchKernel\n",
            "                    0.00%  13.098us         1  13.098us  13.098us  13.098us  cuDeviceGetName\n",
            "                    0.00%  5.4380us         1  5.4380us  5.4380us  5.4380us  cuDeviceGetPCIBusId\n",
            "                    0.00%  5.1310us         1  5.1310us  5.1310us  5.1310us  cuDeviceTotalMem\n",
            "                    0.00%  1.4570us         3     485ns     197ns     968ns  cuDeviceGetCount\n",
            "                    0.00%  1.0720us         2     536ns     200ns     872ns  cuDeviceGet\n",
            "                    0.00%     512ns         1     512ns     512ns     512ns  cuModuleGetLoadingMode\n",
            "                    0.00%     226ns         1     226ns     226ns     226ns  cuDeviceGetUuid\n"
          ]
        }
      ],
      "source": [
        "!nvprof ./K1_2_31_2_33 \"in_3_4\" \"out1_255\" 4 \"mask_5.txt\""
      ]
    },
    {
      "cell_type": "code",
      "execution_count": 367,
      "metadata": {
        "colab": {
          "base_uri": "https://localhost:8080/"
        },
        "id": "zNJly01GxJV_",
        "outputId": "cca3f62d-9df8-48ff-9af9-70a2119cb2ab"
      },
      "outputs": [
        {
          "output_type": "stream",
          "name": "stdout",
          "text": [
            "==45333== NVPROF is profiling process 45333, command: ./K1_2_31_2_33 in_3_4 out1_255 4 mask_7.txt\n",
            "==45333== Profiling application: ./K1_2_31_2_33 in_3_4 out1_255 4 mask_7.txt\n",
            "==45333== Profiling result:\n",
            "            Type  Time(%)      Time     Calls       Avg       Min       Max  Name\n",
            " GPU activities:   43.70%  135.13ms         1  135.13ms  135.13ms  135.13ms  [CUDA memcpy DtoH]\n",
            "                   39.78%  123.01ms         2  61.505ms     703ns  123.01ms  [CUDA memcpy HtoD]\n",
            "                   16.52%  51.099ms         1  51.099ms  51.099ms  51.099ms  Imgcov3d(int, float*, float*, unsigned int, unsigned int, int)\n",
            "      API calls:   61.90%  310.29ms         2  155.15ms  123.26ms  187.03ms  cudaMemcpy\n",
            "                   37.51%  188.01ms         2  94.007ms  579.55us  187.43ms  cudaMalloc\n",
            "                    0.44%  2.2249ms         2  1.1125ms  1.0154ms  1.2095ms  cudaFree\n",
            "                    0.10%  500.29us         1  500.29us  500.29us  500.29us  cudaMemcpyToSymbol\n",
            "                    0.03%  136.83us       114  1.2000us     137ns  54.151us  cuDeviceGetAttribute\n",
            "                    0.01%  55.395us         1  55.395us  55.395us  55.395us  cudaLaunchKernel\n",
            "                    0.00%  11.040us         1  11.040us  11.040us  11.040us  cuDeviceGetName\n",
            "                    0.00%  4.6380us         1  4.6380us  4.6380us  4.6380us  cuDeviceGetPCIBusId\n",
            "                    0.00%  4.6000us         1  4.6000us  4.6000us  4.6000us  cuDeviceTotalMem\n",
            "                    0.00%  1.3300us         3     443ns     191ns     865ns  cuDeviceGetCount\n",
            "                    0.00%     789ns         2     394ns     175ns     614ns  cuDeviceGet\n",
            "                    0.00%     565ns         1     565ns     565ns     565ns  cuModuleGetLoadingMode\n",
            "                    0.00%     212ns         1     212ns     212ns     212ns  cuDeviceGetUuid\n"
          ]
        }
      ],
      "source": [
        "!nvprof ./K1_2_31_2_33 \"in_3_4\" \"out1_255\" 4 \"mask_7.txt\""
      ]
    },
    {
      "cell_type": "code",
      "execution_count": 368,
      "metadata": {
        "colab": {
          "base_uri": "https://localhost:8080/"
        },
        "id": "LRERXo_rogzv",
        "outputId": "0bb7c333-f1f2-4a55-82c1-4177855490cf"
      },
      "outputs": [
        {
          "output_type": "stream",
          "name": "stdout",
          "text": [
            "==45378== NVPROF is profiling process 45378, command: ./K1_2_31_2_33 in_3_4 out1_255 4 mask_9.txt\n",
            "==45378== Profiling application: ./K1_2_31_2_33 in_3_4 out1_255 4 mask_9.txt\n",
            "==45378== Profiling result:\n",
            "            Type  Time(%)      Time     Calls       Avg       Min       Max  Name\n",
            " GPU activities:   41.11%  138.92ms         1  138.92ms  138.92ms  138.92ms  [CUDA memcpy DtoH]\n",
            "                   38.10%  128.73ms         2  64.363ms     672ns  128.73ms  [CUDA memcpy HtoD]\n",
            "                   20.79%  70.236ms         1  70.236ms  70.236ms  70.236ms  Imgcov3d(int, float*, float*, unsigned int, unsigned int, int)\n",
            "      API calls:   63.10%  338.99ms         2  169.49ms  128.96ms  210.03ms  cudaMemcpy\n",
            "                   36.36%  195.35ms         2  97.676ms  392.05us  194.96ms  cudaMalloc\n",
            "                    0.42%  2.2527ms         2  1.1264ms  911.94us  1.3408ms  cudaFree\n",
            "                    0.08%  410.72us         1  410.72us  410.72us  410.72us  cudaMemcpyToSymbol\n",
            "                    0.03%  141.85us       114  1.2440us     139ns  55.831us  cuDeviceGetAttribute\n",
            "                    0.01%  39.732us         1  39.732us  39.732us  39.732us  cudaLaunchKernel\n",
            "                    0.00%  12.285us         1  12.285us  12.285us  12.285us  cuDeviceGetName\n",
            "                    0.00%  6.1460us         1  6.1460us  6.1460us  6.1460us  cuDeviceGetPCIBusId\n",
            "                    0.00%  4.4220us         1  4.4220us  4.4220us  4.4220us  cuDeviceTotalMem\n",
            "                    0.00%  1.9560us         3     652ns     216ns  1.4940us  cuDeviceGetCount\n",
            "                    0.00%     953ns         2     476ns     185ns     768ns  cuDeviceGet\n",
            "                    0.00%     574ns         1     574ns     574ns     574ns  cuModuleGetLoadingMode\n",
            "                    0.00%     222ns         1     222ns     222ns     222ns  cuDeviceGetUuid\n"
          ]
        }
      ],
      "source": [
        "!nvprof ./K1_2_31_2_33 \"in_3_4\" \"out1_255\" 4 \"mask_9.txt\""
      ]
    },
    {
      "cell_type": "code",
      "execution_count": 369,
      "metadata": {
        "colab": {
          "base_uri": "https://localhost:8080/"
        },
        "id": "HfdqsEkmy8xQ",
        "outputId": "2d6460d7-aaa3-4537-d31a-5809fb1c481a"
      },
      "outputs": [
        {
          "output_type": "stream",
          "name": "stdout",
          "text": [
            "==45427== NVPROF is profiling process 45427, command: ./K1_2_31_2_33 in_3_4 out1_255 4 mask_11.txt\n",
            "==45427== Profiling application: ./K1_2_31_2_33 in_3_4 out1_255 4 mask_11.txt\n",
            "==45427== Profiling result:\n",
            "            Type  Time(%)      Time     Calls       Avg       Min       Max  Name\n",
            " GPU activities:   36.54%  133.31ms         1  133.31ms  133.31ms  133.31ms  [CUDA memcpy DtoH]\n",
            "                   33.90%  123.69ms         2  61.845ms     704ns  123.69ms  [CUDA memcpy HtoD]\n",
            "                   29.57%  107.89ms         1  107.89ms  107.89ms  107.89ms  Imgcov3d(int, float*, float*, unsigned int, unsigned int, int)\n",
            "      API calls:   66.49%  365.89ms         2  182.95ms  123.90ms  242.00ms  cudaMemcpy\n",
            "                   32.83%  180.64ms         2  90.322ms  385.22us  180.26ms  cudaMalloc\n",
            "                    0.59%  3.2381ms         2  1.6191ms  1.0198ms  2.2183ms  cudaFree\n",
            "                    0.06%  329.95us         1  329.95us  329.95us  329.95us  cudaMemcpyToSymbol\n",
            "                    0.02%  136.37us       114  1.1960us     142ns  54.505us  cuDeviceGetAttribute\n",
            "                    0.01%  35.070us         1  35.070us  35.070us  35.070us  cudaLaunchKernel\n",
            "                    0.00%  11.894us         1  11.894us  11.894us  11.894us  cuDeviceTotalMem\n",
            "                    0.00%  11.654us         1  11.654us  11.654us  11.654us  cuDeviceGetName\n",
            "                    0.00%  6.8790us         1  6.8790us  6.8790us  6.8790us  cuDeviceGetPCIBusId\n",
            "                    0.00%  1.5700us         3     523ns     204ns  1.1250us  cuDeviceGetCount\n",
            "                    0.00%     994ns         2     497ns     181ns     813ns  cuDeviceGet\n",
            "                    0.00%     635ns         1     635ns     635ns     635ns  cuModuleGetLoadingMode\n",
            "                    0.00%     201ns         1     201ns     201ns     201ns  cuDeviceGetUuid\n"
          ]
        }
      ],
      "source": [
        "!nvprof ./K1_2_31_2_33 \"in_3_4\" \"out1_255\" 4 \"mask_11.txt\""
      ]
    },
    {
      "cell_type": "code",
      "execution_count": 370,
      "metadata": {
        "colab": {
          "base_uri": "https://localhost:8080/"
        },
        "id": "TRGbxQD8y8t0",
        "outputId": "2921bbc4-7241-48c8-f89d-558c0e5d2e49"
      },
      "outputs": [
        {
          "output_type": "stream",
          "name": "stdout",
          "text": [
            "==45476== NVPROF is profiling process 45476, command: ./K1_2_31_2_33 in_3_4 out1_255 4 mask_13.txt\n",
            "==45476== Profiling application: ./K1_2_31_2_33 in_3_4 out1_255 4 mask_13.txt\n",
            "==45476== Profiling result:\n",
            "            Type  Time(%)      Time     Calls       Avg       Min       Max  Name\n",
            " GPU activities:   35.27%  136.64ms         1  136.64ms  136.64ms  136.64ms  [CUDA memcpy DtoH]\n",
            "                   32.78%  127.02ms         1  127.02ms  127.02ms  127.02ms  Imgcov3d(int, float*, float*, unsigned int, unsigned int, int)\n",
            "                   31.95%  123.77ms         2  61.887ms     736ns  123.77ms  [CUDA memcpy HtoD]\n",
            "      API calls:   67.11%  388.67ms         2  194.33ms  124.00ms  264.67ms  cudaMemcpy\n",
            "                   32.23%  186.63ms         2  93.317ms  403.85us  186.23ms  cudaMalloc\n",
            "                    0.55%  3.1982ms         2  1.5991ms  947.99us  2.2502ms  cudaFree\n",
            "                    0.06%  371.06us         1  371.06us  371.06us  371.06us  cudaMemcpyToSymbol\n",
            "                    0.03%  183.80us       114  1.6120us     168ns  70.550us  cuDeviceGetAttribute\n",
            "                    0.01%  34.685us         1  34.685us  34.685us  34.685us  cudaLaunchKernel\n",
            "                    0.01%  31.663us         1  31.663us  31.663us  31.663us  cuDeviceGetName\n",
            "                    0.00%  6.1420us         1  6.1420us  6.1420us  6.1420us  cuDeviceTotalMem\n",
            "                    0.00%  5.7530us         1  5.7530us  5.7530us  5.7530us  cuDeviceGetPCIBusId\n",
            "                    0.00%  1.5420us         2     771ns     366ns  1.1760us  cuDeviceGet\n",
            "                    0.00%  1.4210us         3     473ns     176ns     888ns  cuDeviceGetCount\n",
            "                    0.00%     491ns         1     491ns     491ns     491ns  cuDeviceGetUuid\n",
            "                    0.00%     453ns         1     453ns     453ns     453ns  cuModuleGetLoadingMode\n"
          ]
        }
      ],
      "source": [
        "!nvprof ./K1_2_31_2_33 \"in_3_4\" \"out1_255\" 4 \"mask_13.txt\""
      ]
    },
    {
      "cell_type": "code",
      "execution_count": 371,
      "metadata": {
        "colab": {
          "base_uri": "https://localhost:8080/"
        },
        "id": "fTIpURqyy8rO",
        "outputId": "22751a19-14bc-4e04-d12d-c14dcfea283c"
      },
      "outputs": [
        {
          "output_type": "stream",
          "name": "stdout",
          "text": [
            "==45521== NVPROF is profiling process 45521, command: ./K1_2_31_2_33 in_3_4 out1_255 4 mask_15.txt\n",
            "==45521== Profiling application: ./K1_2_31_2_33 in_3_4 out1_255 4 mask_15.txt\n",
            "==45521== Profiling result:\n",
            "            Type  Time(%)      Time     Calls       Avg       Min       Max  Name\n",
            " GPU activities:   41.99%  186.83ms         1  186.83ms  186.83ms  186.83ms  Imgcov3d(int, float*, float*, unsigned int, unsigned int, int)\n",
            "                   30.52%  135.77ms         1  135.77ms  135.77ms  135.77ms  [CUDA memcpy DtoH]\n",
            "                   27.49%  122.30ms         2  61.151ms     736ns  122.30ms  [CUDA memcpy HtoD]\n",
            "      API calls:   70.58%  445.93ms         2  222.97ms  122.53ms  323.40ms  cudaMemcpy\n",
            "                   28.98%  183.11ms         2  91.556ms  363.49us  182.75ms  cudaMalloc\n",
            "                    0.33%  2.1120ms         2  1.0560ms  923.87us  1.1881ms  cudaFree\n",
            "                    0.06%  387.40us         1  387.40us  387.40us  387.40us  cudaMemcpyToSymbol\n",
            "                    0.03%  179.13us       114  1.5710us     135ns  97.916us  cuDeviceGetAttribute\n",
            "                    0.00%  28.771us         1  28.771us  28.771us  28.771us  cudaLaunchKernel\n",
            "                    0.00%  11.201us         1  11.201us  11.201us  11.201us  cuDeviceGetName\n",
            "                    0.00%  5.2060us         1  5.2060us  5.2060us  5.2060us  cuDeviceGetPCIBusId\n",
            "                    0.00%  4.0260us         1  4.0260us  4.0260us  4.0260us  cuDeviceTotalMem\n",
            "                    0.00%  1.7510us         3     583ns     167ns  1.3580us  cuDeviceGetCount\n",
            "                    0.00%     832ns         2     416ns     187ns     645ns  cuDeviceGet\n",
            "                    0.00%     628ns         1     628ns     628ns     628ns  cuModuleGetLoadingMode\n",
            "                    0.00%     325ns         1     325ns     325ns     325ns  cuDeviceGetUuid\n"
          ]
        }
      ],
      "source": [
        "!nvprof ./K1_2_31_2_33 \"in_3_4\" \"out1_255\" 4 \"mask_15.txt\""
      ]
    },
    {
      "cell_type": "code",
      "execution_count": 372,
      "metadata": {
        "colab": {
          "base_uri": "https://localhost:8080/"
        },
        "id": "Gjz0FoMyy8jc",
        "outputId": "a34173de-fe9f-4931-a6b7-03cd25bb0ef1"
      },
      "outputs": [
        {
          "output_type": "stream",
          "name": "stdout",
          "text": [
            "==45571== NVPROF is profiling process 45571, command: ./K1_2_31_2_33 in_3_4 out1_255 4 mask_edge_5.txt\n",
            "==45571== Profiling application: ./K1_2_31_2_33 in_3_4 out1_255 4 mask_edge_5.txt\n",
            "==45571== Profiling result:\n",
            "            Type  Time(%)      Time     Calls       Avg       Min       Max  Name\n",
            " GPU activities:   48.94%  144.89ms         1  144.89ms  144.89ms  144.89ms  [CUDA memcpy DtoH]\n",
            "                   41.50%  122.85ms         2  61.423ms     704ns  122.85ms  [CUDA memcpy HtoD]\n",
            "                    9.56%  28.299ms         1  28.299ms  28.299ms  28.299ms  Imgcov3d(int, float*, float*, unsigned int, unsigned int, int)\n",
            "      API calls:   61.46%  297.32ms         2  148.66ms  123.06ms  174.26ms  cudaMemcpy\n",
            "                   37.93%  183.50ms         2  91.750ms  380.41us  183.12ms  cudaMalloc\n",
            "                    0.48%  2.3030ms         2  1.1515ms  984.51us  1.3185ms  cudaFree\n",
            "                    0.09%  417.68us         1  417.68us  417.68us  417.68us  cudaMemcpyToSymbol\n",
            "                    0.03%  142.69us       114  1.2510us     138ns  56.701us  cuDeviceGetAttribute\n",
            "                    0.01%  36.662us         1  36.662us  36.662us  36.662us  cudaLaunchKernel\n",
            "                    0.00%  15.715us         1  15.715us  15.715us  15.715us  cuDeviceGetUuid\n",
            "                    0.00%  11.956us         1  11.956us  11.956us  11.956us  cuDeviceGetName\n",
            "                    0.00%  9.4400us         1  9.4400us  9.4400us  9.4400us  cuDeviceGetPCIBusId\n",
            "                    0.00%  4.2230us         1  4.2230us  4.2230us  4.2230us  cuDeviceTotalMem\n",
            "                    0.00%  1.8170us         3     605ns     219ns  1.3390us  cuDeviceGetCount\n",
            "                    0.00%     868ns         2     434ns     188ns     680ns  cuDeviceGet\n",
            "                    0.00%     684ns         1     684ns     684ns     684ns  cuModuleGetLoadingMode\n"
          ]
        }
      ],
      "source": [
        "!nvprof ./K1_2_31_2_33 \"in_3_4\" \"out1_255\" 4 \"mask_edge_5.txt\""
      ]
    },
    {
      "cell_type": "code",
      "source": [
        "!nvprof ./K1_2_31_2_33 \"in_3_4\" \"out1_255\" 4 \"mask_3.txt\""
      ],
      "metadata": {
        "colab": {
          "base_uri": "https://localhost:8080/"
        },
        "id": "4EwuZp8ZUZ5u",
        "outputId": "1c24d487-9d57-4911-bc3c-9787df9ce755"
      },
      "execution_count": 373,
      "outputs": [
        {
          "output_type": "stream",
          "name": "stdout",
          "text": [
            "==45626== NVPROF is profiling process 45626, command: ./K1_2_31_2_33 in_3_4 out1_255 4 mask_3.txt\n",
            "==45626== Profiling application: ./K1_2_31_2_33 in_3_4 out1_255 4 mask_3.txt\n",
            "==45626== Profiling result:\n",
            "            Type  Time(%)      Time     Calls       Avg       Min       Max  Name\n",
            " GPU activities:   48.81%  134.99ms         1  134.99ms  134.99ms  134.99ms  [CUDA memcpy DtoH]\n",
            "                   44.88%  124.13ms         2  62.063ms     672ns  124.13ms  [CUDA memcpy HtoD]\n",
            "                    6.31%  17.450ms         1  17.450ms  17.450ms  17.450ms  Imgcov3d(int, float*, float*, unsigned int, unsigned int, int)\n",
            "      API calls:   59.49%  277.63ms         2  138.81ms  124.36ms  153.26ms  cudaMemcpy\n",
            "                   40.00%  186.70ms         2  93.349ms  398.91us  186.30ms  cudaMalloc\n",
            "                    0.38%  1.7909ms         2  895.45us  593.52us  1.1974ms  cudaFree\n",
            "                    0.08%  395.27us         1  395.27us  395.27us  395.27us  cudaMemcpyToSymbol\n",
            "                    0.03%  137.79us       114  1.2080us     143ns  55.346us  cuDeviceGetAttribute\n",
            "                    0.01%  41.735us         1  41.735us  41.735us  41.735us  cudaLaunchKernel\n",
            "                    0.00%  11.323us         1  11.323us  11.323us  11.323us  cuDeviceGetName\n",
            "                    0.00%  5.4990us         1  5.4990us  5.4990us  5.4990us  cuDeviceGetPCIBusId\n",
            "                    0.00%  4.8210us         1  4.8210us  4.8210us  4.8210us  cuDeviceTotalMem\n",
            "                    0.00%  1.6370us         3     545ns     221ns  1.1470us  cuDeviceGetCount\n",
            "                    0.00%     996ns         2     498ns     184ns     812ns  cuDeviceGet\n",
            "                    0.00%     648ns         1     648ns     648ns     648ns  cuModuleGetLoadingMode\n",
            "                    0.00%     249ns         1     249ns     249ns     249ns  cuDeviceGetUuid\n"
          ]
        }
      ]
    },
    {
      "cell_type": "code",
      "source": [
        "!nvprof ./K1_2_31_2_33 \"in_3_4\" \"out1_255\" 4 \"mask_15.txt\""
      ],
      "metadata": {
        "colab": {
          "base_uri": "https://localhost:8080/"
        },
        "id": "YAwZL37oUZuj",
        "outputId": "20f1eb45-8175-4e4d-b6df-ad6f9c9f5e31"
      },
      "execution_count": 374,
      "outputs": [
        {
          "output_type": "stream",
          "name": "stdout",
          "text": [
            "==45675== NVPROF is profiling process 45675, command: ./K1_2_31_2_33 in_3_4 out1_255 4 mask_15.txt\n",
            "==45675== Profiling application: ./K1_2_31_2_33 in_3_4 out1_255 4 mask_15.txt\n",
            "==45675== Profiling result:\n",
            "            Type  Time(%)      Time     Calls       Avg       Min       Max  Name\n",
            " GPU activities:   40.24%  174.20ms         1  174.20ms  174.20ms  174.20ms  Imgcov3d(int, float*, float*, unsigned int, unsigned int, int)\n",
            "                   31.31%  135.54ms         1  135.54ms  135.54ms  135.54ms  [CUDA memcpy DtoH]\n",
            "                   28.44%  123.12ms         2  61.562ms     736ns  123.12ms  [CUDA memcpy HtoD]\n",
            "      API calls:   68.34%  433.90ms         2  216.95ms  123.36ms  310.54ms  cudaMemcpy\n",
            "                   31.23%  198.29ms         2  99.144ms  366.07us  197.92ms  cudaMalloc\n",
            "                    0.34%  2.1480ms         2  1.0740ms  940.08us  1.2080ms  cudaFree\n",
            "                    0.06%  380.10us         1  380.10us  380.10us  380.10us  cudaMemcpyToSymbol\n",
            "                    0.02%  136.98us       114  1.2010us     136ns  55.431us  cuDeviceGetAttribute\n",
            "                    0.01%  39.424us         1  39.424us  39.424us  39.424us  cudaLaunchKernel\n",
            "                    0.00%  12.486us         1  12.486us  12.486us  12.486us  cuDeviceGetName\n",
            "                    0.00%  5.1920us         1  5.1920us  5.1920us  5.1920us  cuDeviceGetPCIBusId\n",
            "                    0.00%  4.7800us         1  4.7800us  4.7800us  4.7800us  cuDeviceTotalMem\n",
            "                    0.00%  2.7230us         2  1.3610us     197ns  2.5260us  cuDeviceGet\n",
            "                    0.00%  2.0360us         3     678ns     262ns  1.4030us  cuDeviceGetCount\n",
            "                    0.00%     544ns         1     544ns     544ns     544ns  cuModuleGetLoadingMode\n",
            "                    0.00%     202ns         1     202ns     202ns     202ns  cuDeviceGetUuid\n"
          ]
        }
      ]
    },
    {
      "cell_type": "code",
      "source": [
        "# !nvprof ./K1_2_31_2_33 \"in_all\" \"out1_255\" 50 \"mask_15.txt\""
      ],
      "metadata": {
        "id": "4luyWR5EUffc"
      },
      "execution_count": 375,
      "outputs": []
    },
    {
      "cell_type": "code",
      "source": [
        "!nvprof ./K1_2_31_2_33 \"in_3_4\" \"out1_255\" 4 \"mask_15.txt\""
      ],
      "metadata": {
        "colab": {
          "base_uri": "https://localhost:8080/"
        },
        "id": "JIGp7NLQZk3b",
        "outputId": "5df68cc3-6f88-4ee7-eec9-abce6bbb0c0b"
      },
      "execution_count": 376,
      "outputs": [
        {
          "output_type": "stream",
          "name": "stdout",
          "text": [
            "==45724== NVPROF is profiling process 45724, command: ./K1_2_31_2_33 in_3_4 out1_255 4 mask_15.txt\n",
            "==45724== Profiling application: ./K1_2_31_2_33 in_3_4 out1_255 4 mask_15.txt\n",
            "==45724== Profiling result:\n",
            "            Type  Time(%)      Time     Calls       Avg       Min       Max  Name\n",
            " GPU activities:   39.90%  175.76ms         1  175.76ms  175.76ms  175.76ms  Imgcov3d(int, float*, float*, unsigned int, unsigned int, int)\n",
            "                   31.56%  139.03ms         1  139.03ms  139.03ms  139.03ms  [CUDA memcpy DtoH]\n",
            "                   28.54%  125.74ms         2  62.869ms     736ns  125.74ms  [CUDA memcpy HtoD]\n",
            "      API calls:   68.44%  441.61ms         2  220.80ms  125.99ms  315.62ms  cudaMemcpy\n",
            "                   31.15%  201.00ms         2  100.50ms  368.84us  200.63ms  cudaMalloc\n",
            "                    0.33%  2.1281ms         2  1.0640ms  938.59us  1.1895ms  cudaFree\n",
            "                    0.05%  352.03us         1  352.03us  352.03us  352.03us  cudaMemcpyToSymbol\n",
            "                    0.02%  141.85us       114  1.2440us     136ns  60.515us  cuDeviceGetAttribute\n",
            "                    0.00%  30.613us         1  30.613us  30.613us  30.613us  cudaLaunchKernel\n",
            "                    0.00%  12.060us         1  12.060us  12.060us  12.060us  cuDeviceGetName\n",
            "                    0.00%  5.0260us         1  5.0260us  5.0260us  5.0260us  cuDeviceGetPCIBusId\n",
            "                    0.00%  5.0250us         1  5.0250us  5.0250us  5.0250us  cuDeviceTotalMem\n",
            "                    0.00%  1.5640us         3     521ns     205ns  1.0750us  cuDeviceGetCount\n",
            "                    0.00%     867ns         2     433ns     179ns     688ns  cuDeviceGet\n",
            "                    0.00%     578ns         1     578ns     578ns     578ns  cuModuleGetLoadingMode\n",
            "                    0.00%     205ns         1     205ns     205ns     205ns  cuDeviceGetUuid\n"
          ]
        }
      ]
    },
    {
      "cell_type": "code",
      "execution_count": 377,
      "metadata": {
        "colab": {
          "base_uri": "https://localhost:8080/"
        },
        "id": "AmyNiiKDv1oi",
        "outputId": "48f6f7c5-d9d3-4119-b98d-deb44fe15a7e"
      },
      "outputs": [
        {
          "output_type": "stream",
          "name": "stdout",
          "text": [
            "Overwriting K2_2_31_2_33.cu\n"
          ]
        }
      ],
      "source": [
        "%%writefile K2_2_31_2_33.cu\n",
        "//Norhan_Reda_Abdelwahed_2_31\n",
        "//Hoda_Gamal_Hamouda_2_33\n",
        "\n",
        "#include <stdio.h>\n",
        "#include <stdlib.h>\n",
        "#include <math.h>\n",
        "#include <assert.h>\n",
        "#include <iostream>\n",
        "#include <iomanip>\n",
        "#include <fstream>\n",
        "#include <vector>\n",
        "#define STB_IMAGE_IMPLEMENTATION\n",
        "#include <stdio.h>\n",
        "#include \"stb_image.h\"\n",
        "#define STB_IMAGE_WRITE_IMPLEMENTATION\n",
        "#include \"stb_image_write.h\"\n",
        "#include <string>\n",
        "#include <filesystem>\n",
        "#include <cuda_runtime.h>\n",
        "\n",
        "using namespace std;\n",
        "__constant__ float mask[15*15];\n",
        "\n",
        "// Kernel definition\n",
        "__global__ void Imgcov3d(int batchSize, float *input, float* output, unsigned int width,unsigned int height,int maskdim, int shared_width, int shared_height, int shared_depth){\n",
        "\n",
        "  extern __shared__ float sharedTile [];\n",
        "\n",
        "    int tx = threadIdx.x;\n",
        "    int ty = threadIdx.y;\n",
        "\n",
        "    int tile_x = shared_width - (maskdim - 1);\n",
        "    int tile_y = shared_height - (maskdim - 1);\n",
        "\n",
        "    int x_o = blockIdx.x * tile_x + threadIdx.x;\n",
        "    int y_o = blockIdx.y * tile_y + threadIdx.y;\n",
        "    int idx = blockIdx.z * blockDim.z + threadIdx.z;\n",
        "\n",
        "    int x_i = x_o - maskdim/2;\n",
        "    int y_i = y_o - maskdim/2;\n",
        "\n",
        "    if (idx >= batchSize){\n",
        "      return;\n",
        "    }\n",
        "\n",
        "  // each thread gets 1 pixel (its 3 channels) from input image\n",
        "  for (int d = 0; d < 3; d++) {\n",
        "    if (x_i >= 0 && y_i >= 0 && x_i < width && y_i < height){\n",
        "       sharedTile[d * shared_height * shared_width + ty * shared_width + tx] =\n",
        "        input[idx * width * height * 3 + d * height * width + y_i * width + x_i];\n",
        "    }\n",
        "    else{\n",
        "       sharedTile[ d * shared_height * shared_width + ty * shared_width + tx] = 0;\n",
        "    }\n",
        "  }\n",
        "    __syncthreads();\n",
        "\n",
        "    // not all threads contribute in calculating the output\n",
        "    if(ty < tile_y && tx < tile_x) {\n",
        "\n",
        "      float sum = 0.0;\n",
        "\n",
        "      for(int y_mask = 0; y_mask < maskdim; y_mask++) {\n",
        "            for(int x_mask = 0; x_mask < maskdim; x_mask++) {\n",
        "                  for(int z_mask = 0; z_mask < 3; z_mask++) {\n",
        "                    sum += mask[ y_mask * maskdim + x_mask] *\n",
        "                    sharedTile[ z_mask * shared_height * shared_width + (ty + y_mask) * shared_width + (tx + x_mask)];\n",
        "\n",
        "                }\n",
        "            }\n",
        "        }\n",
        "\n",
        "    if(sum < 0){\n",
        "      sum = 0;\n",
        "    } else if (sum > 255){\n",
        "      sum = 255;\n",
        "    }\n",
        "\n",
        "    if(y_o < height && x_o < width)\n",
        "        output[idx * width * height + y_o * width + x_o] = sum;\n",
        "    }\n",
        "}\n",
        "\n",
        "int main(int argc, char *argv[]) {\n",
        "\n",
        "    string folderPath = argv[1];\n",
        "    string out_path = argv[2];\n",
        "    int batch_size = stoi(argv[3]);\n",
        "    string mask_path = argv[4];\n",
        "\n",
        "    int maskdim;\n",
        "\n",
        "    // Open the file for reading\n",
        "    std::ifstream inputFile(mask_path);\n",
        "\n",
        "    // Check if the file is opened successfully\n",
        "    if (!inputFile.is_open()) {\n",
        "        std::cerr << \"Error opening file: \" <<mask_path  << std::endl;\n",
        "        return 1; // Exit with an error code\n",
        "    }\n",
        "\n",
        "     inputFile >> maskdim ;\n",
        "     //cout<<\"maskdim \"<<maskdim<<endl;\n",
        "\n",
        "    float *h_A, *h_B,*R,*G,*B;\n",
        "    int rows1,cols1, comp;\n",
        "\n",
        "    float *h_images;\n",
        "    int img_index = 0;\n",
        "\n",
        "    for (const auto& entry : std::filesystem::directory_iterator(folderPath)) {\n",
        "\n",
        "        if (entry.is_regular_file()) {\n",
        "            std::string filePath = entry.path().string();\n",
        "\n",
        "            unsigned char *data = stbi_load(filePath.c_str(), &cols1, &rows1, &comp, 0);\n",
        "\n",
        "            if(img_index == 0){\n",
        "              h_images = (float*)malloc(sizeof(float) * batch_size * cols1 * rows1 * comp);\n",
        "            }\n",
        "\n",
        "            if (data) {\n",
        "\n",
        "                /*printf(\"cols %d\\n\", cols1);\n",
        "                printf(\"rows %d\\n\", rows1);\n",
        "                printf(\"image %s\\n\", filePath.c_str());\n",
        "                */\n",
        "\n",
        "                h_A = (float*)malloc(sizeof(float) *  rows1 * cols1* comp);\n",
        "                R = (float*)malloc(sizeof(float) *  rows1 * cols1);\n",
        "                G = (float*)malloc(sizeof(float) *  rows1 * cols1);\n",
        "                B = (float*)malloc(sizeof(float) *  rows1 * cols1);\n",
        "\n",
        "                int k = 0;\n",
        "                for(int i=0;i<rows1 * cols1* comp;i=i+3)\n",
        "                {\n",
        "                  R[k] =  static_cast<float>(data[i]);\n",
        "                  k=k+1;\n",
        "                }\n",
        "                k=0;\n",
        "                for(int i=1;i<rows1 * cols1* comp;i=i+3)\n",
        "                {\n",
        "                  G[k] =  static_cast<float>(data[i]);\n",
        "                  k=k+1;\n",
        "                }\n",
        "                k=0;\n",
        "                for(int i=2;i<rows1 * cols1* comp;i=i+3)\n",
        "                {\n",
        "                  B[k] =  static_cast<float>(data[i]);\n",
        "                  k=k+1;\n",
        "                }\n",
        "\n",
        "\n",
        "                memcpy(h_A, R, rows1*cols1 * sizeof(float));\n",
        "                memcpy(h_A +rows1*cols1 , G, rows1*cols1 * sizeof(float));\n",
        "                memcpy(h_A+rows1*cols1+rows1*cols1, B, rows1*cols1 * sizeof(float));\n",
        "\n",
        "                memcpy(h_images + img_index * rows1 * cols1 * 3,                     R, rows1 * cols1 * sizeof(float));\n",
        "                memcpy(h_images + img_index * rows1 * cols1 * 3 + rows1 * cols1,     G, rows1 * cols1 * sizeof(float));\n",
        "                memcpy(h_images + img_index * rows1 * cols1 * 3 + rows1 * cols1 * 2, B, rows1 * cols1 * sizeof(float));\n",
        "\n",
        "                img_index++;\n",
        "\n",
        "             }\n",
        "             else {\n",
        "                // Failed to load the image\n",
        "                std::cerr << \"Failed to load image: \" << filePath << std::endl;\n",
        "            }\n",
        "\n",
        "           }\n",
        "      }\n",
        "\n",
        "\n",
        "      float *d_images_temp = (float*)malloc(sizeof(float) * batch_size * rows1 * cols1 * comp);\n",
        "      for(int i=0; i<batch_size; i++){\n",
        "        memcpy(d_images_temp + i * rows1 * cols1 *comp , h_images + i * rows1 * cols1 *comp, rows1 * cols1 *comp * sizeof(float));\n",
        "      }\n",
        "\n",
        "\n",
        "    float *d_images;\n",
        "    cudaMalloc((void**)&d_images, batch_size * rows1 * cols1 * comp * sizeof(float));\n",
        "    cudaMemcpy(d_images, d_images_temp, batch_size * rows1 * cols1 * comp * sizeof(float), cudaMemcpyHostToDevice);\n",
        "\n",
        "    float *d_outs;\n",
        "    cudaMalloc((void**)&d_outs, batch_size * rows1 * cols1 * sizeof(float));\n",
        "\n",
        "    float *h_outs = (float*)malloc(sizeof(float) * batch_size * rows1 * cols1);\n",
        "\n",
        "    h_B =(float*)malloc(sizeof(float) * maskdim* maskdim);\n",
        "\n",
        "    // Read mask elements\n",
        "    for (int i = 0; i < maskdim; ++i) {\n",
        "        for (int j = 0; j < maskdim; ++j) {\n",
        "\n",
        "            int index =  i * maskdim + j;\n",
        "            inputFile >>  h_B[index];\n",
        "\n",
        "        }\n",
        "    }\n",
        "\n",
        "    // Copy data from host to device\n",
        "    cudaMemcpyToSymbol(mask, h_B, maskdim * maskdim * sizeof(float), 0, cudaMemcpyHostToDevice);\n",
        "\n",
        "    // Kernel invocation\n",
        "\n",
        "    dim3 threadsPerBlock(16 + (maskdim - 1),16 + (maskdim - 1),1);\n",
        "\n",
        "    int tile_x = threadsPerBlock.x - (maskdim - 1);\n",
        "    int tile_y = threadsPerBlock.y - (maskdim - 1);\n",
        "\n",
        "    int x_blocks = (cols1 + tile_x - 1) / tile_x;\n",
        "    int y_blocks = (rows1 + tile_y - 1) / tile_y;\n",
        "    int z_blocks = batch_size;\n",
        "\n",
        "    int shared_width = tile_x + maskdim - 1;\n",
        "    int shared_height = tile_y + maskdim - 1;\n",
        "    int shared_depth = threadsPerBlock.z;\n",
        "\n",
        "    dim3 numBlocks(x_blocks, y_blocks, z_blocks);\n",
        "\n",
        "    Imgcov3d<<<numBlocks, threadsPerBlock,(sizeof(float)*shared_width*shared_height*3*shared_depth)>>>(batch_size,d_images,d_outs,cols1,rows1, maskdim,shared_width,shared_height,shared_depth);\n",
        "\n",
        "    cudaMemcpy(h_outs, d_outs, batch_size * rows1 * cols1 * sizeof(float), cudaMemcpyDeviceToHost);\n",
        "\n",
        "    unsigned char* h_char = (unsigned char*)malloc(sizeof(unsigned char) * rows1 * cols1);\n",
        "\n",
        "    for(int k=0;k<batch_size;k++){\n",
        "\n",
        "      for(int i=0;i<rows1*cols1;i++){\n",
        "        h_char[i]=static_cast<unsigned char>(h_outs[k*rows1*cols1+i]);\n",
        "      }\n",
        "      string filename = \"./\"+out_path+\"/\"+\"image\" + std::to_string(k) + \".jpg\";\n",
        "      stbi_write_jpg(filename.c_str(), cols1, rows1, 1, h_char, 100);\n",
        "    }\n",
        "\n",
        "    // Free device memory\n",
        "    cudaFree(d_images);\n",
        "    cudaFree(d_outs);\n",
        "\n",
        "    // Free host memory\n",
        "    free(h_A);\n",
        "    free(h_B);\n",
        "    free(R);\n",
        "    free(G);\n",
        "    free(B);\n",
        "    free(h_images);\n",
        "    free(d_images_temp);\n",
        "    free(h_outs);\n",
        "    free(h_char);\n",
        "\n",
        "  return 0;\n",
        "}"
      ]
    },
    {
      "cell_type": "code",
      "execution_count": 378,
      "metadata": {
        "id": "YwqgGMOTv1k9"
      },
      "outputs": [],
      "source": [
        "!chmod +x K2_2_31_2_33.cu\n",
        "!nvcc  K2_2_31_2_33.cu -o K2_2_31_2_33"
      ]
    },
    {
      "cell_type": "code",
      "execution_count": 379,
      "metadata": {
        "colab": {
          "base_uri": "https://localhost:8080/"
        },
        "id": "2WmKFr28o-RP",
        "outputId": "c3230cd3-f3f1-417b-fe8b-4dfc0fb6136d"
      },
      "outputs": [
        {
          "output_type": "stream",
          "name": "stdout",
          "text": [
            "==45821== NVPROF is profiling process 45821, command: ./K2_2_31_2_33 in_3_4 out2_255 4 mask_3.txt\n",
            "==45821== Profiling application: ./K2_2_31_2_33 in_3_4 out2_255 4 mask_3.txt\n",
            "==45821== Profiling result:\n",
            "            Type  Time(%)      Time     Calls       Avg       Min       Max  Name\n",
            " GPU activities:   51.51%  140.38ms         1  140.38ms  140.38ms  140.38ms  [CUDA memcpy DtoH]\n",
            "                   45.08%  122.86ms         2  61.429ms     672ns  122.86ms  [CUDA memcpy HtoD]\n",
            "                    3.41%  9.2855ms         1  9.2855ms  9.2855ms  9.2855ms  Imgcov3d(int, float*, float*, unsigned int, unsigned int, int, int, int, int)\n",
            "      API calls:   59.15%  273.56ms         2  136.78ms  123.06ms  150.50ms  cudaMemcpy\n",
            "                   40.25%  186.12ms         2  93.061ms  387.12us  185.73ms  cudaMalloc\n",
            "                    0.46%  2.1447ms         2  1.0724ms  960.39us  1.1843ms  cudaFree\n",
            "                    0.09%  424.04us         1  424.04us  424.04us  424.04us  cudaMemcpyToSymbol\n",
            "                    0.03%  139.86us       114  1.2260us     142ns  56.234us  cuDeviceGetAttribute\n",
            "                    0.01%  41.091us         1  41.091us  41.091us  41.091us  cudaLaunchKernel\n",
            "                    0.00%  12.475us         1  12.475us  12.475us  12.475us  cuDeviceGetName\n",
            "                    0.00%  5.3440us         1  5.3440us  5.3440us  5.3440us  cuDeviceGetPCIBusId\n",
            "                    0.00%  4.9430us         1  4.9430us  4.9430us  4.9430us  cuDeviceTotalMem\n",
            "                    0.00%  1.4840us         3     494ns     224ns     965ns  cuDeviceGetCount\n",
            "                    0.00%  1.0510us         2     525ns     190ns     861ns  cuDeviceGet\n",
            "                    0.00%     438ns         1     438ns     438ns     438ns  cuModuleGetLoadingMode\n",
            "                    0.00%     216ns         1     216ns     216ns     216ns  cuDeviceGetUuid\n"
          ]
        }
      ],
      "source": [
        "!nvprof ./K2_2_31_2_33 \"in_3_4\" \"out2_255\" 4 \"mask_3.txt\""
      ]
    },
    {
      "cell_type": "code",
      "execution_count": 380,
      "metadata": {
        "colab": {
          "base_uri": "https://localhost:8080/"
        },
        "id": "Afm80bJWzgq5",
        "outputId": "59d871ca-2278-41c1-f725-b04820e34779"
      },
      "outputs": [
        {
          "output_type": "stream",
          "name": "stdout",
          "text": [
            "==45870== NVPROF is profiling process 45870, command: ./K2_2_31_2_33 in_3_4 out2_255 4 mask_5.txt\n",
            "==45870== Profiling application: ./K2_2_31_2_33 in_3_4 out2_255 4 mask_5.txt\n",
            "==45870== Profiling result:\n",
            "            Type  Time(%)      Time     Calls       Avg       Min       Max  Name\n",
            " GPU activities:   52.85%  170.29ms         1  170.29ms  170.29ms  170.29ms  [CUDA memcpy DtoH]\n",
            "                   41.62%  134.09ms         2  67.044ms     672ns  134.09ms  [CUDA memcpy HtoD]\n",
            "                    5.53%  17.815ms         1  17.815ms  17.815ms  17.815ms  Imgcov3d(int, float*, float*, unsigned int, unsigned int, int, int, int, int)\n",
            "      API calls:   60.24%  323.45ms         2  161.73ms  134.34ms  189.11ms  cudaMemcpy\n",
            "                   39.22%  210.61ms         2  105.30ms  571.19us  210.04ms  cudaMalloc\n",
            "                    0.40%  2.1452ms         2  1.0726ms  950.02us  1.1951ms  cudaFree\n",
            "                    0.09%  490.72us         1  490.72us  490.72us  490.72us  cudaMemcpyToSymbol\n",
            "                    0.03%  154.77us       114  1.3570us     145ns  55.427us  cuDeviceGetAttribute\n",
            "                    0.01%  44.588us         1  44.588us  44.588us  44.588us  cudaLaunchKernel\n",
            "                    0.00%  12.725us         1  12.725us  12.725us  12.725us  cuDeviceGetName\n",
            "                    0.00%  5.3880us         1  5.3880us  5.3880us  5.3880us  cuDeviceGetPCIBusId\n",
            "                    0.00%  4.6290us         1  4.6290us  4.6290us  4.6290us  cuDeviceTotalMem\n",
            "                    0.00%  1.5810us         3     527ns     202ns  1.1110us  cuDeviceGetCount\n",
            "                    0.00%     853ns         2     426ns     187ns     666ns  cuDeviceGet\n",
            "                    0.00%     523ns         1     523ns     523ns     523ns  cuModuleGetLoadingMode\n",
            "                    0.00%     209ns         1     209ns     209ns     209ns  cuDeviceGetUuid\n"
          ]
        }
      ],
      "source": [
        "!nvprof ./K2_2_31_2_33 \"in_3_4\" \"out2_255\" 4 \"mask_5.txt\""
      ]
    },
    {
      "cell_type": "code",
      "execution_count": 381,
      "metadata": {
        "colab": {
          "base_uri": "https://localhost:8080/"
        },
        "id": "m6XMXdffzgaZ",
        "outputId": "707c6c51-d200-459e-847f-da08f1b91592"
      },
      "outputs": [
        {
          "output_type": "stream",
          "name": "stdout",
          "text": [
            "==45919== NVPROF is profiling process 45919, command: ./K2_2_31_2_33 in_3_4 out2_255 4 mask_7.txt\n",
            "==45919== Profiling application: ./K2_2_31_2_33 in_3_4 out2_255 4 mask_7.txt\n",
            "==45919== Profiling result:\n",
            "            Type  Time(%)      Time     Calls       Avg       Min       Max  Name\n",
            " GPU activities:   47.47%  139.58ms         1  139.58ms  139.58ms  139.58ms  [CUDA memcpy DtoH]\n",
            "                   41.99%  123.48ms         2  61.742ms     703ns  123.48ms  [CUDA memcpy HtoD]\n",
            "                   10.54%  30.994ms         1  30.994ms  30.994ms  30.994ms  Imgcov3d(int, float*, float*, unsigned int, unsigned int, int, int, int, int)\n",
            "      API calls:   60.78%  295.12ms         2  147.56ms  123.73ms  171.39ms  cudaMemcpy\n",
            "                   38.61%  187.50ms         2  93.750ms  402.51us  187.10ms  cudaMalloc\n",
            "                    0.48%  2.3382ms         2  1.1691ms  1.0147ms  1.3235ms  cudaFree\n",
            "                    0.08%  410.14us         1  410.14us  410.14us  410.14us  cudaMemcpyToSymbol\n",
            "                    0.03%  144.73us       114  1.2690us     142ns  55.640us  cuDeviceGetAttribute\n",
            "                    0.01%  32.082us         1  32.082us  32.082us  32.082us  cudaLaunchKernel\n",
            "                    0.00%  12.230us         1  12.230us  12.230us  12.230us  cuDeviceGetName\n",
            "                    0.00%  5.1710us         1  5.1710us  5.1710us  5.1710us  cuDeviceGetPCIBusId\n",
            "                    0.00%  4.1180us         1  4.1180us  4.1180us  4.1180us  cuDeviceTotalMem\n",
            "                    0.00%  1.5410us         3     513ns     201ns  1.1180us  cuDeviceGetCount\n",
            "                    0.00%     862ns         2     431ns     177ns     685ns  cuDeviceGet\n",
            "                    0.00%     675ns         1     675ns     675ns     675ns  cuModuleGetLoadingMode\n",
            "                    0.00%     237ns         1     237ns     237ns     237ns  cuDeviceGetUuid\n"
          ]
        }
      ],
      "source": [
        "!nvprof ./K2_2_31_2_33 \"in_3_4\" \"out2_255\" 4 \"mask_7.txt\""
      ]
    },
    {
      "cell_type": "code",
      "execution_count": 382,
      "metadata": {
        "colab": {
          "base_uri": "https://localhost:8080/"
        },
        "id": "VWtxAEqSzgW9",
        "outputId": "e48e0670-96c1-4f65-ba27-5b83ebcde0c6"
      },
      "outputs": [
        {
          "output_type": "stream",
          "name": "stdout",
          "text": [
            "==45962== NVPROF is profiling process 45962, command: ./K2_2_31_2_33 in_3_4 out2_255 4 mask_9.txt\n",
            "==45962== Profiling application: ./K2_2_31_2_33 in_3_4 out2_255 4 mask_9.txt\n",
            "==45962== Profiling result:\n",
            "            Type  Time(%)      Time     Calls       Avg       Min       Max  Name\n",
            " GPU activities:   43.17%  152.74ms         2  76.370ms     704ns  152.74ms  [CUDA memcpy HtoD]\n",
            "                   38.92%  137.69ms         1  137.69ms  137.69ms  137.69ms  [CUDA memcpy DtoH]\n",
            "                   17.91%  63.359ms         1  63.359ms  63.359ms  63.359ms  Imgcov3d(int, float*, float*, unsigned int, unsigned int, int, int, int, int)\n",
            "      API calls:   64.42%  354.84ms         2  177.42ms  152.97ms  201.87ms  cudaMemcpy\n",
            "                   35.06%  193.12ms         2  96.561ms  447.88us  192.67ms  cudaMalloc\n",
            "                    0.40%  2.2277ms         2  1.1139ms  1.0322ms  1.1956ms  cudaFree\n",
            "                    0.08%  419.46us         1  419.46us  419.46us  419.46us  cudaMemcpyToSymbol\n",
            "                    0.03%  144.49us       114  1.2670us     142ns  62.022us  cuDeviceGetAttribute\n",
            "                    0.01%  31.879us         1  31.879us  31.879us  31.879us  cudaLaunchKernel\n",
            "                    0.00%  11.964us         1  11.964us  11.964us  11.964us  cuDeviceGetName\n",
            "                    0.00%  5.2400us         1  5.2400us  5.2400us  5.2400us  cuDeviceGetPCIBusId\n",
            "                    0.00%  4.6280us         1  4.6280us  4.6280us  4.6280us  cuDeviceTotalMem\n",
            "                    0.00%  1.8610us         3     620ns     179ns  1.4040us  cuDeviceGetCount\n",
            "                    0.00%     987ns         2     493ns     169ns     818ns  cuDeviceGet\n",
            "                    0.00%     454ns         1     454ns     454ns     454ns  cuModuleGetLoadingMode\n",
            "                    0.00%     216ns         1     216ns     216ns     216ns  cuDeviceGetUuid\n"
          ]
        }
      ],
      "source": [
        "!nvprof ./K2_2_31_2_33 \"in_3_4\" \"out2_255\" 4 \"mask_9.txt\""
      ]
    },
    {
      "cell_type": "code",
      "execution_count": 383,
      "metadata": {
        "colab": {
          "base_uri": "https://localhost:8080/"
        },
        "id": "MDhHlVzZzgUJ",
        "outputId": "04e1b81f-ecf6-4611-f772-12e6f8ca7561"
      },
      "outputs": [
        {
          "output_type": "stream",
          "name": "stdout",
          "text": [
            "==46013== NVPROF is profiling process 46013, command: ./K2_2_31_2_33 in_3_4 out2_255 4 mask_11.txt\n",
            "==46013== Profiling application: ./K2_2_31_2_33 in_3_4 out2_255 4 mask_11.txt\n",
            "==46013== Profiling result:\n",
            "            Type  Time(%)      Time     Calls       Avg       Min       Max  Name\n",
            " GPU activities:   41.62%  170.36ms         1  170.36ms  170.36ms  170.36ms  [CUDA memcpy DtoH]\n",
            "                   35.02%  143.33ms         2  71.666ms     704ns  143.33ms  [CUDA memcpy HtoD]\n",
            "                   23.36%  95.604ms         1  95.604ms  95.604ms  95.604ms  Imgcov3d(int, float*, float*, unsigned int, unsigned int, int, int, int, int)\n",
            "      API calls:   65.48%  410.57ms         2  205.28ms  143.58ms  266.98ms  cudaMemcpy\n",
            "                   34.05%  213.48ms         2  106.74ms  597.80us  212.88ms  cudaMalloc\n",
            "                    0.34%  2.1388ms         2  1.0694ms  934.08us  1.2047ms  cudaFree\n",
            "                    0.08%  481.56us         1  481.56us  481.56us  481.56us  cudaMemcpyToSymbol\n",
            "                    0.04%  223.44us       114  1.9590us     228ns  82.405us  cuDeviceGetAttribute\n",
            "                    0.01%  40.517us         1  40.517us  40.517us  40.517us  cudaLaunchKernel\n",
            "                    0.00%  16.331us         1  16.331us  16.331us  16.331us  cuDeviceGetName\n",
            "                    0.00%  7.2020us         1  7.2020us  7.2020us  7.2020us  cuDeviceGetPCIBusId\n",
            "                    0.00%  6.1550us         1  6.1550us  6.1550us  6.1550us  cuDeviceTotalMem\n",
            "                    0.00%  2.2630us         3     754ns     265ns  1.5720us  cuDeviceGetCount\n",
            "                    0.00%  1.5240us         2     762ns     307ns  1.2170us  cuDeviceGet\n",
            "                    0.00%     693ns         1     693ns     693ns     693ns  cuModuleGetLoadingMode\n",
            "                    0.00%     397ns         1     397ns     397ns     397ns  cuDeviceGetUuid\n"
          ]
        }
      ],
      "source": [
        "!nvprof ./K2_2_31_2_33 \"in_3_4\" \"out2_255\" 4 \"mask_11.txt\""
      ]
    },
    {
      "cell_type": "code",
      "execution_count": 384,
      "metadata": {
        "colab": {
          "base_uri": "https://localhost:8080/"
        },
        "id": "QFuHZncUzgSB",
        "outputId": "93b9c4ef-39d8-45e5-85aa-04bfcaf88ccb"
      },
      "outputs": [
        {
          "output_type": "stream",
          "name": "stdout",
          "text": [
            "==46058== NVPROF is profiling process 46058, command: ./K2_2_31_2_33 in_3_4 out2_255 4 mask_13.txt\n",
            "==46058== Profiling application: ./K2_2_31_2_33 in_3_4 out2_255 4 mask_13.txt\n",
            "==46058== Profiling result:\n",
            "            Type  Time(%)      Time     Calls       Avg       Min       Max  Name\n",
            " GPU activities:   35.56%  141.46ms         1  141.46ms  141.46ms  141.46ms  [CUDA memcpy DtoH]\n",
            "                   33.11%  131.74ms         1  131.74ms  131.74ms  131.74ms  Imgcov3d(int, float*, float*, unsigned int, unsigned int, int, int, int, int)\n",
            "                   31.33%  124.63ms         2  62.315ms     736ns  124.63ms  [CUDA memcpy HtoD]\n",
            "      API calls:   67.01%  399.22ms         2  199.61ms  124.84ms  274.38ms  cudaMemcpy\n",
            "                   32.59%  194.14ms         2  97.071ms  412.34us  193.73ms  cudaMalloc\n",
            "                    0.31%  1.8316ms         2  915.79us  648.73us  1.1829ms  cudaFree\n",
            "                    0.06%  383.22us         1  383.22us  383.22us  383.22us  cudaMemcpyToSymbol\n",
            "                    0.02%  136.93us       114  1.2010us     135ns  55.764us  cuDeviceGetAttribute\n",
            "                    0.01%  30.230us         1  30.230us  30.230us  30.230us  cudaLaunchKernel\n",
            "                    0.00%  11.844us         1  11.844us  11.844us  11.844us  cuDeviceGetName\n",
            "                    0.00%  6.4100us         1  6.4100us  6.4100us  6.4100us  cuDeviceGetPCIBusId\n",
            "                    0.00%  4.4640us         1  4.4640us  4.4640us  4.4640us  cuDeviceTotalMem\n",
            "                    0.00%  2.7970us         2  1.3980us     176ns  2.6210us  cuDeviceGet\n",
            "                    0.00%  1.8000us         3     600ns     212ns  1.3270us  cuDeviceGetCount\n",
            "                    0.00%     683ns         1     683ns     683ns     683ns  cuModuleGetLoadingMode\n",
            "                    0.00%     231ns         1     231ns     231ns     231ns  cuDeviceGetUuid\n"
          ]
        }
      ],
      "source": [
        "!nvprof ./K2_2_31_2_33 \"in_3_4\" \"out2_255\" 4 \"mask_13.txt\""
      ]
    },
    {
      "cell_type": "code",
      "execution_count": 385,
      "metadata": {
        "colab": {
          "base_uri": "https://localhost:8080/"
        },
        "id": "ZIFQL7IFzgPm",
        "outputId": "61ce1f02-1fcb-4987-9c2f-235c2af52ec9"
      },
      "outputs": [
        {
          "output_type": "stream",
          "name": "stdout",
          "text": [
            "==46107== NVPROF is profiling process 46107, command: ./K2_2_31_2_33 in_3_4 out2_255 4 mask_15.txt\n",
            "==46107== Profiling application: ./K2_2_31_2_33 in_3_4 out2_255 4 mask_15.txt\n",
            "==46107== Profiling result:\n",
            "            Type  Time(%)      Time     Calls       Avg       Min       Max  Name\n",
            " GPU activities:   38.77%  168.51ms         1  168.51ms  168.51ms  168.51ms  Imgcov3d(int, float*, float*, unsigned int, unsigned int, int, int, int, int)\n",
            "                   32.87%  142.86ms         1  142.86ms  142.86ms  142.86ms  [CUDA memcpy DtoH]\n",
            "                   28.37%  123.30ms         2  61.652ms     736ns  123.30ms  [CUDA memcpy HtoD]\n",
            "      API calls:   68.71%  435.96ms         2  217.98ms  123.53ms  312.44ms  cudaMemcpy\n",
            "                   30.84%  195.71ms         2  97.854ms  409.23us  195.30ms  cudaMalloc\n",
            "                    0.35%  2.2149ms         2  1.1074ms  1.0126ms  1.2023ms  cudaFree\n",
            "                    0.07%  415.69us         1  415.69us  415.69us  415.69us  cudaMemcpyToSymbol\n",
            "                    0.02%  136.06us       114  1.1930us     141ns  54.646us  cuDeviceGetAttribute\n",
            "                    0.01%  32.938us         1  32.938us  32.938us  32.938us  cudaLaunchKernel\n",
            "                    0.00%  11.563us         1  11.563us  11.563us  11.563us  cuDeviceGetName\n",
            "                    0.00%  5.7100us         1  5.7100us  5.7100us  5.7100us  cuDeviceGetPCIBusId\n",
            "                    0.00%  4.1280us         1  4.1280us  4.1280us  4.1280us  cuDeviceTotalMem\n",
            "                    0.00%  1.6320us         3     544ns     184ns  1.1010us  cuDeviceGetCount\n",
            "                    0.00%     873ns         2     436ns     170ns     703ns  cuDeviceGet\n",
            "                    0.00%     605ns         1     605ns     605ns     605ns  cuModuleGetLoadingMode\n",
            "                    0.00%     239ns         1     239ns     239ns     239ns  cuDeviceGetUuid\n"
          ]
        }
      ],
      "source": [
        "!nvprof ./K2_2_31_2_33 \"in_3_4\" \"out2_255\" 4 \"mask_15.txt\""
      ]
    },
    {
      "cell_type": "code",
      "execution_count": 386,
      "metadata": {
        "colab": {
          "base_uri": "https://localhost:8080/"
        },
        "id": "XZfyxd5hzgIT",
        "outputId": "b2e3bc8b-b5a6-48c5-8290-fcddeeda3c2d"
      },
      "outputs": [
        {
          "output_type": "stream",
          "name": "stdout",
          "text": [
            "==46158== NVPROF is profiling process 46158, command: ./K2_2_31_2_33 in_3_4 out2_255 4 mask_edge_5.txt\n",
            "==46158== Profiling application: ./K2_2_31_2_33 in_3_4 out2_255 4 mask_edge_5.txt\n",
            "==46158== Profiling result:\n",
            "            Type  Time(%)      Time     Calls       Avg       Min       Max  Name\n",
            " GPU activities:   49.07%  134.91ms         1  134.91ms  134.91ms  134.91ms  [CUDA memcpy DtoH]\n",
            "                   44.45%  122.21ms         2  61.104ms     672ns  122.21ms  [CUDA memcpy HtoD]\n",
            "                    6.48%  17.815ms         1  17.815ms  17.815ms  17.815ms  Imgcov3d(int, float*, float*, unsigned int, unsigned int, int, int, int, int)\n",
            "      API calls:   58.54%  275.99ms         2  137.99ms  122.44ms  153.55ms  cudaMemcpy\n",
            "                   40.86%  192.62ms         2  96.311ms  401.12us  192.22ms  cudaMalloc\n",
            "                    0.49%  2.2949ms         2  1.1474ms  970.23us  1.3246ms  cudaFree\n",
            "                    0.08%  377.23us         1  377.23us  377.23us  377.23us  cudaMemcpyToSymbol\n",
            "                    0.03%  139.26us       114  1.2210us     141ns  55.980us  cuDeviceGetAttribute\n",
            "                    0.01%  31.618us         1  31.618us  31.618us  31.618us  cudaLaunchKernel\n",
            "                    0.00%  11.031us         1  11.031us  11.031us  11.031us  cuDeviceGetName\n",
            "                    0.00%  5.0900us         1  5.0900us  5.0900us  5.0900us  cuDeviceGetPCIBusId\n",
            "                    0.00%  4.5560us         1  4.5560us  4.5560us  4.5560us  cuDeviceTotalMem\n",
            "                    0.00%  1.5060us         3     502ns     166ns  1.0740us  cuDeviceGetCount\n",
            "                    0.00%     780ns         2     390ns     201ns     579ns  cuDeviceGet\n",
            "                    0.00%     455ns         1     455ns     455ns     455ns  cuModuleGetLoadingMode\n",
            "                    0.00%     248ns         1     248ns     248ns     248ns  cuDeviceGetUuid\n"
          ]
        }
      ],
      "source": [
        "!nvprof ./K2_2_31_2_33 \"in_3_4\" \"out2_255\" 4 \"mask_edge_5.txt\""
      ]
    },
    {
      "cell_type": "code",
      "source": [
        "!nvprof ./K2_2_31_2_33 \"in_3_4\" \"out2_255\" 4 \"mask_3.txt\""
      ],
      "metadata": {
        "colab": {
          "base_uri": "https://localhost:8080/"
        },
        "id": "ZjDQFcT0UmNG",
        "outputId": "494a0130-1960-470d-cf2e-2ab03795297d"
      },
      "execution_count": 387,
      "outputs": [
        {
          "output_type": "stream",
          "name": "stdout",
          "text": [
            "==46211== NVPROF is profiling process 46211, command: ./K2_2_31_2_33 in_3_4 out2_255 4 mask_3.txt\n",
            "==46211== Profiling application: ./K2_2_31_2_33 in_3_4 out2_255 4 mask_3.txt\n",
            "==46211== Profiling result:\n",
            "            Type  Time(%)      Time     Calls       Avg       Min       Max  Name\n",
            " GPU activities:   53.44%  171.58ms         1  171.58ms  171.58ms  171.58ms  [CUDA memcpy DtoH]\n",
            "                   43.67%  140.20ms         2  70.102ms     672ns  140.20ms  [CUDA memcpy HtoD]\n",
            "                    2.89%  9.2828ms         1  9.2828ms  9.2828ms  9.2828ms  Imgcov3d(int, float*, float*, unsigned int, unsigned int, int, int, int, int)\n",
            "      API calls:   58.63%  322.45ms         2  161.23ms  140.43ms  182.03ms  cudaMemcpy\n",
            "                   40.83%  224.55ms         2  112.28ms  602.95us  223.95ms  cudaMalloc\n",
            "                    0.40%  2.1940ms         2  1.0970ms  1.0156ms  1.1784ms  cudaFree\n",
            "                    0.08%  464.88us         1  464.88us  464.88us  464.88us  cudaMemcpyToSymbol\n",
            "                    0.04%  226.71us       114  1.9880us     215ns  98.209us  cuDeviceGetAttribute\n",
            "                    0.01%  40.851us         1  40.851us  40.851us  40.851us  cudaLaunchKernel\n",
            "                    0.00%  14.382us         1  14.382us  14.382us  14.382us  cuDeviceGetName\n",
            "                    0.00%  8.2190us         1  8.2190us  8.2190us  8.2190us  cuDeviceGetPCIBusId\n",
            "                    0.00%  6.7060us         1  6.7060us  6.7060us  6.7060us  cuDeviceTotalMem\n",
            "                    0.00%  2.5280us         3     842ns     363ns  1.7610us  cuDeviceGetCount\n",
            "                    0.00%  1.1550us         2     577ns     351ns     804ns  cuDeviceGet\n",
            "                    0.00%     586ns         1     586ns     586ns     586ns  cuModuleGetLoadingMode\n",
            "                    0.00%     405ns         1     405ns     405ns     405ns  cuDeviceGetUuid\n"
          ]
        }
      ]
    },
    {
      "cell_type": "code",
      "source": [
        "!nvprof ./K2_2_31_2_33 \"in_3_4\" \"out2_255\" 4 \"mask_15.txt\""
      ],
      "metadata": {
        "colab": {
          "base_uri": "https://localhost:8080/"
        },
        "id": "7xLKuxO_UnUS",
        "outputId": "e5de1b56-099e-4d1e-c451-cf64ac65ef81"
      },
      "execution_count": 388,
      "outputs": [
        {
          "output_type": "stream",
          "name": "stdout",
          "text": [
            "==46260== NVPROF is profiling process 46260, command: ./K2_2_31_2_33 in_3_4 out2_255 4 mask_15.txt\n",
            "==46260== Profiling application: ./K2_2_31_2_33 in_3_4 out2_255 4 mask_15.txt\n",
            "==46260== Profiling result:\n",
            "            Type  Time(%)      Time     Calls       Avg       Min       Max  Name\n",
            " GPU activities:   36.89%  150.01ms         1  150.01ms  150.01ms  150.01ms  Imgcov3d(int, float*, float*, unsigned int, unsigned int, int, int, int, int)\n",
            "                   32.84%  133.55ms         1  133.55ms  133.55ms  133.55ms  [CUDA memcpy DtoH]\n",
            "                   30.26%  123.06ms         2  61.531ms     736ns  123.06ms  [CUDA memcpy HtoD]\n",
            "      API calls:   67.59%  407.66ms         2  203.83ms  123.29ms  284.37ms  cudaMemcpy\n",
            "                   31.91%  192.44ms         2  96.218ms  570.46us  191.87ms  cudaMalloc\n",
            "                    0.37%  2.2476ms         2  1.1238ms  912.91us  1.3347ms  cudaFree\n",
            "                    0.09%  527.41us         1  527.41us  527.41us  527.41us  cudaMemcpyToSymbol\n",
            "                    0.03%  189.18us       114  1.6590us     148ns  91.898us  cuDeviceGetAttribute\n",
            "                    0.01%  46.657us         1  46.657us  46.657us  46.657us  cudaLaunchKernel\n",
            "                    0.00%  11.870us         1  11.870us  11.870us  11.870us  cuDeviceGetName\n",
            "                    0.00%  5.0400us         1  5.0400us  5.0400us  5.0400us  cuDeviceGetPCIBusId\n",
            "                    0.00%  4.1680us         1  4.1680us  4.1680us  4.1680us  cuDeviceTotalMem\n",
            "                    0.00%  1.4770us         3     492ns     202ns  1.0030us  cuDeviceGetCount\n",
            "                    0.00%     814ns         2     407ns     191ns     623ns  cuDeviceGet\n",
            "                    0.00%     460ns         1     460ns     460ns     460ns  cuModuleGetLoadingMode\n",
            "                    0.00%     235ns         1     235ns     235ns     235ns  cuDeviceGetUuid\n"
          ]
        }
      ]
    },
    {
      "cell_type": "code",
      "source": [
        "!nvprof ./K2_2_31_2_33 \"in_3_4\" \"out2_255\" 4 \"mask_15.txt\""
      ],
      "metadata": {
        "colab": {
          "base_uri": "https://localhost:8080/"
        },
        "id": "CS6GlFsaalgb",
        "outputId": "69a93042-ae31-4cd4-f537-80a31f4e3962"
      },
      "execution_count": 389,
      "outputs": [
        {
          "output_type": "stream",
          "name": "stdout",
          "text": [
            "==46309== NVPROF is profiling process 46309, command: ./K2_2_31_2_33 in_3_4 out2_255 4 mask_15.txt\n",
            "==46309== Profiling application: ./K2_2_31_2_33 in_3_4 out2_255 4 mask_15.txt\n",
            "==46309== Profiling result:\n",
            "            Type  Time(%)      Time     Calls       Avg       Min       Max  Name\n",
            " GPU activities:   40.41%  178.45ms         1  178.45ms  178.45ms  178.45ms  Imgcov3d(int, float*, float*, unsigned int, unsigned int, int, int, int, int)\n",
            "                   31.21%  137.83ms         1  137.83ms  137.83ms  137.83ms  [CUDA memcpy DtoH]\n",
            "                   28.38%  125.31ms         2  62.655ms     769ns  125.31ms  [CUDA memcpy HtoD]\n",
            "      API calls:   69.34%  442.63ms         2  221.32ms  125.55ms  317.09ms  cudaMemcpy\n",
            "                   30.23%  192.96ms         2  96.482ms  419.77us  192.55ms  cudaMalloc\n",
            "                    0.33%  2.1301ms         2  1.0651ms  936.97us  1.1932ms  cudaFree\n",
            "                    0.06%  374.24us         1  374.24us  374.24us  374.24us  cudaMemcpyToSymbol\n",
            "                    0.03%  179.38us       114  1.5730us     146ns  82.979us  cuDeviceGetAttribute\n",
            "                    0.00%  31.556us         1  31.556us  31.556us  31.556us  cudaLaunchKernel\n",
            "                    0.00%  13.380us         1  13.380us  13.380us  13.380us  cuDeviceGetName\n",
            "                    0.00%  5.7610us         1  5.7610us  5.7610us  5.7610us  cuDeviceTotalMem\n",
            "                    0.00%  4.8250us         1  4.8250us  4.8250us  4.8250us  cuDeviceGetPCIBusId\n",
            "                    0.00%  1.6650us         3     555ns     224ns  1.2130us  cuDeviceGetCount\n",
            "                    0.00%     895ns         2     447ns     185ns     710ns  cuDeviceGet\n",
            "                    0.00%     581ns         1     581ns     581ns     581ns  cuModuleGetLoadingMode\n",
            "                    0.00%     238ns         1     238ns     238ns     238ns  cuDeviceGetUuid\n"
          ]
        }
      ]
    },
    {
      "cell_type": "code",
      "source": [
        "# !nvprof ./K2_2_31_2_33 \"in_all\" \"out2_255\" 50 \"mask_15.txt\""
      ],
      "metadata": {
        "id": "k0yKy_XKUn5S"
      },
      "execution_count": 390,
      "outputs": []
    },
    {
      "cell_type": "code",
      "execution_count": 391,
      "metadata": {
        "colab": {
          "base_uri": "https://localhost:8080/"
        },
        "id": "-bsmhvsQv1em",
        "outputId": "cef87416-14b6-415a-a910-e63c559792b5"
      },
      "outputs": [
        {
          "output_type": "stream",
          "name": "stdout",
          "text": [
            "Overwriting K3_2_31_2_33.cu\n"
          ]
        }
      ],
      "source": [
        "%%writefile K3_2_31_2_33.cu\n",
        "//Norhan_Reda_Abdelwahed_2_31\n",
        "//Hoda_Gamal_Hamouda_2_33\n",
        "\n",
        "#include <stdio.h>\n",
        "#include <stdlib.h>\n",
        "#include <math.h>\n",
        "#include <assert.h>\n",
        "#include <iostream>\n",
        "#include <iomanip>\n",
        "#include <fstream>\n",
        "#include <vector>\n",
        "#define STB_IMAGE_IMPLEMENTATION\n",
        "#include <stdio.h>\n",
        "#include \"stb_image.h\"\n",
        "#define STB_IMAGE_WRITE_IMPLEMENTATION\n",
        "#include \"stb_image_write.h\"\n",
        "#include <string>\n",
        "#include <filesystem>\n",
        "#include <cuda_runtime.h>\n",
        "\n",
        "using namespace std;\n",
        "__constant__ float mask[15*15];\n",
        "\n",
        "\n",
        "__global__ void Imgcov3d(int batchSize, float *input, float* output, unsigned int width,unsigned int height,int maskdim, int shared_width,int shared_height, int shared_depth){\n",
        "\n",
        "  extern __shared__ float sharedTile [];\n",
        "\n",
        "    int tx = threadIdx.x;\n",
        "    int ty = threadIdx.y;\n",
        "\n",
        "    int tile_x = shared_width - (maskdim - 1);\n",
        "    int tile_y = shared_height - (maskdim - 1);\n",
        "\n",
        "    int x_o = blockIdx.x * tile_x + threadIdx.x;\n",
        "    int y_o = blockIdx.y * tile_y + threadIdx.y;\n",
        "    int idx = blockIdx.z * blockDim.z + threadIdx.z;\n",
        "\n",
        "    if (idx >= batchSize){\n",
        "      return;\n",
        "    }\n",
        "\n",
        "    // number of pixels each thread should get from input image\n",
        "    int num = ((shared_width*shared_height) - 1) /(tile_x*tile_y) + 1;\n",
        "\n",
        "    // each thread gets 'num' pixel (its 3 channels) from input image\n",
        "    for (int d=0; d< 3; d++){\n",
        "      for(int f=0; f < num ; f++){\n",
        "\n",
        "          int element_index = tile_x * tile_y * f + ty * tile_x + tx;\n",
        "\n",
        "          // get col, row in shared memory\n",
        "          int dx = element_index % shared_width;\n",
        "          element_index = element_index / shared_width;\n",
        "          int dy = element_index % shared_height;\n",
        "\n",
        "          // get col, row in input image\n",
        "          int x_i = dx + blockIdx.x * tile_x - maskdim/2;\n",
        "          int y_i = dy + blockIdx.y * tile_y - maskdim/2;\n",
        "\n",
        "          if(x_i >= 0 && y_i >= 0 && x_i < width && y_i < height){\n",
        "                sharedTile[d * shared_height * shared_width + dy * shared_width + dx]\n",
        "                = input[idx * width * height * 3 + d * height * width + y_i * width + x_i];\n",
        "          }\n",
        "          else{\n",
        "              sharedTile[d * shared_height * shared_width + dy * shared_width + dx] = 0.0;\n",
        "          }\n",
        "      }\n",
        "    }\n",
        "\n",
        "    __syncthreads();\n",
        "\n",
        "\n",
        "  // all threads contribute in calculating the output\n",
        "  if(y_o < height && x_o < width){\n",
        "\n",
        "  float sum = 0;\n",
        "\n",
        "    for(int y_mask = 0; y_mask < maskdim; y_mask++) {\n",
        "            for(int x_mask = 0; x_mask < maskdim; x_mask++) {\n",
        "                  for(int z_mask = 0; z_mask < 3; z_mask++) {\n",
        "                    sum += mask[y_mask * maskdim + x_mask] *\n",
        "                    sharedTile[z_mask * shared_height * shared_width + (ty + y_mask) * shared_width +(tx + x_mask)];\n",
        "\n",
        "                }\n",
        "            }\n",
        "        }\n",
        "\n",
        "    if(sum < 0){\n",
        "      sum = 0;\n",
        "    } else if (sum > 255){\n",
        "      sum = 255;\n",
        "    }\n",
        "\n",
        "        output[idx * width * height + y_o * width + x_o] = sum;\n",
        "    }\n",
        "}\n",
        "\n",
        "int main(int argc, char *argv[]) {\n",
        "\n",
        "    string folderPath = argv[1];\n",
        "    string out_path = argv[2];\n",
        "    int batch_size = stoi(argv[3]);\n",
        "    string mask_path = argv[4];\n",
        "\n",
        "    int maskdim;\n",
        "\n",
        "    // Open the file for reading\n",
        "    std::ifstream inputFile(mask_path);\n",
        "\n",
        "    // Check if the file is opened successfully\n",
        "    if (!inputFile.is_open()) {\n",
        "        std::cerr << \"Error opening file: \" <<mask_path  << std::endl;\n",
        "        return 1; // Exit with an error code\n",
        "    }\n",
        "\n",
        "    inputFile >> maskdim ;\n",
        "     //cout<<\"maskdim \"<<maskdim<<endl;\n",
        "\n",
        "    float *h_A, *h_B,*R,*G,*B;\n",
        "    int rows1,cols1, comp;\n",
        "\n",
        "    float *h_images;\n",
        "    int img_index = 0;\n",
        "\n",
        "    for (const auto& entry : std::filesystem::directory_iterator(folderPath)) {\n",
        "\n",
        "        if (entry.is_regular_file()) {\n",
        "            std::string filePath = entry.path().string();\n",
        "\n",
        "            unsigned char *data = stbi_load(filePath.c_str(), &cols1, &rows1, &comp, 0);\n",
        "\n",
        "            if(img_index == 0){\n",
        "              h_images = (float*)malloc(sizeof(float) * batch_size * cols1 * rows1 * comp);\n",
        "            }\n",
        "\n",
        "            if (data) {\n",
        "\n",
        "                /*printf(\"cols %d\\n\", cols1);\n",
        "                printf(\"rows %d\\n\", rows1);\n",
        "                printf(\"image %s\\n\", filePath.c_str());\n",
        "                */\n",
        "\n",
        "                h_A = (float*)malloc(sizeof(float) *  rows1 * cols1* comp);\n",
        "                R = (float*)malloc(sizeof(float) *  rows1 * cols1);\n",
        "                G = (float*)malloc(sizeof(float) *  rows1 * cols1);\n",
        "                B = (float*)malloc(sizeof(float) *  rows1 * cols1);\n",
        "\n",
        "                int k = 0;\n",
        "                for(int i=0;i<rows1 * cols1* comp;i=i+3)\n",
        "                {\n",
        "                  R[k] =  static_cast<float>(data[i]);\n",
        "                  k=k+1;\n",
        "                }\n",
        "                k=0;\n",
        "                for(int i=1;i<rows1 * cols1* comp;i=i+3)\n",
        "                {\n",
        "                  G[k] =  static_cast<float>(data[i]);\n",
        "                  k=k+1;\n",
        "                }\n",
        "                k=0;\n",
        "                for(int i=2;i<rows1 * cols1* comp;i=i+3)\n",
        "                {\n",
        "                  B[k] =  static_cast<float>(data[i]);\n",
        "                  k=k+1;\n",
        "                }\n",
        "\n",
        "\n",
        "                memcpy(h_A, R, rows1*cols1 * sizeof(float));\n",
        "                memcpy(h_A +rows1*cols1 , G, rows1*cols1 * sizeof(float));\n",
        "                memcpy(h_A+rows1*cols1+rows1*cols1, B, rows1*cols1 * sizeof(float));\n",
        "\n",
        "                memcpy(h_images + img_index * rows1 * cols1 * 3,                     R, rows1 * cols1 * sizeof(float));\n",
        "                memcpy(h_images + img_index * rows1 * cols1 * 3 + rows1 * cols1,     G, rows1 * cols1 * sizeof(float));\n",
        "                memcpy(h_images + img_index * rows1 * cols1 * 3 + rows1 * cols1 * 2, B, rows1 * cols1 * sizeof(float));\n",
        "\n",
        "                img_index++;\n",
        "\n",
        "             }\n",
        "             else {\n",
        "                // Failed to load the image\n",
        "                std::cerr << \"Failed to load image: \" << filePath << std::endl;\n",
        "            }\n",
        "\n",
        "           }\n",
        "      }\n",
        "\n",
        "\n",
        "      float *d_images_temp = (float*)malloc(sizeof(float) * batch_size * rows1 * cols1 * comp);\n",
        "      for(int i=0; i<batch_size; i++){\n",
        "        memcpy(d_images_temp + i * rows1 * cols1 *comp , h_images + i * rows1 * cols1 *comp, rows1 * cols1 *comp * sizeof(float));\n",
        "      }\n",
        "\n",
        "\n",
        "    float *d_images;\n",
        "    cudaMalloc((void**)&d_images, batch_size * rows1 * cols1 * comp * sizeof(float));\n",
        "    cudaMemcpy(d_images, d_images_temp, batch_size * rows1 * cols1 * comp * sizeof(float), cudaMemcpyHostToDevice);\n",
        "\n",
        "    float *d_outs;\n",
        "    cudaMalloc((void**)&d_outs, batch_size * rows1 * cols1 * sizeof(float));\n",
        "\n",
        "    float *h_outs = (float*)malloc(sizeof(float) * batch_size * rows1 * cols1);\n",
        "\n",
        "    h_B =(float*)malloc(sizeof(float) * maskdim* maskdim);\n",
        "\n",
        "    // Read mask elements\n",
        "    for (int i = 0; i < maskdim; ++i) {\n",
        "        for (int j = 0; j < maskdim; ++j) {\n",
        "\n",
        "            int index =  i * maskdim + j;\n",
        "            inputFile >>  h_B[index];\n",
        "\n",
        "        }\n",
        "    }\n",
        "\n",
        "    // Copy data from host to device\n",
        "    cudaMemcpyToSymbol(mask, h_B, maskdim * maskdim * sizeof(float), 0, cudaMemcpyHostToDevice);\n",
        "\n",
        "\n",
        "    // Kernel invocation\n",
        "\n",
        "    dim3 threadsPerBlock(16,16,1);\n",
        "\n",
        "    int tile_x = threadsPerBlock.x;\n",
        "    int tile_y = threadsPerBlock.y;\n",
        "\n",
        "    int x_blocks = (cols1 + tile_x - 1) / tile_x;\n",
        "    int y_blocks = (rows1 + tile_y - 1) / tile_y;\n",
        "    int z_blocks = batch_size;\n",
        "\n",
        "    int shared_width = tile_x + maskdim - 1;\n",
        "    int shared_height = tile_y + maskdim - 1;\n",
        "    int shared_depth = threadsPerBlock.z;\n",
        "\n",
        "    dim3 numBlocks(x_blocks, y_blocks, z_blocks);\n",
        "\n",
        "    Imgcov3d<<<numBlocks, threadsPerBlock,(sizeof(float)*shared_width*shared_height*3*shared_depth)>>>(batch_size,d_images,d_outs,cols1,rows1, maskdim,shared_width,shared_height,shared_depth);\n",
        "\n",
        "    cudaMemcpy(h_outs, d_outs, batch_size * rows1 * cols1 * sizeof(float), cudaMemcpyDeviceToHost);\n",
        "\n",
        "    unsigned char* h_char = (unsigned char*)malloc(sizeof(unsigned char) * rows1 * cols1);\n",
        "\n",
        "    for(int k=0;k<batch_size;k++){\n",
        "\n",
        "      for(int i=0;i<rows1*cols1;i++){\n",
        "          h_char[i]=static_cast<unsigned char>(h_outs[k*rows1*cols1+i]);\n",
        "      }\n",
        "      string filename = \"./\"+out_path+\"/\"+\"image\" + std::to_string(k) + \".jpg\";\n",
        "      stbi_write_jpg(filename.c_str(), cols1, rows1, 1, h_char, 100);\n",
        "    }\n",
        "\n",
        "    // Free device memory\n",
        "    cudaFree(d_images);\n",
        "    cudaFree(d_outs);\n",
        "\n",
        "    // Free host memory\n",
        "    free(h_A);\n",
        "    free(h_B);\n",
        "    free(R);\n",
        "    free(G);\n",
        "    free(B);\n",
        "    free(h_images);\n",
        "    free(d_images_temp);\n",
        "    free(h_outs);\n",
        "    free(h_char);\n",
        "\n",
        "  return 0;\n",
        "}"
      ]
    },
    {
      "cell_type": "code",
      "execution_count": 392,
      "metadata": {
        "id": "PY2F3ITlv1T7"
      },
      "outputs": [],
      "source": [
        "!chmod +x K3_2_31_2_33.cu\n",
        "!nvcc  K3_2_31_2_33.cu -o K3_2_31_2_33"
      ]
    },
    {
      "cell_type": "code",
      "execution_count": 393,
      "metadata": {
        "colab": {
          "base_uri": "https://localhost:8080/"
        },
        "id": "9u1kQEM2ztmG",
        "outputId": "50ec19d4-f338-496e-b491-cba6e4a020f5"
      },
      "outputs": [
        {
          "output_type": "stream",
          "name": "stdout",
          "text": [
            "==46406== NVPROF is profiling process 46406, command: ./K3_2_31_2_33 in_3_4 out3_255 4 mask_3.txt\n",
            "==46406== Profiling application: ./K3_2_31_2_33 in_3_4 out3_255 4 mask_3.txt\n",
            "==46406== Profiling result:\n",
            "            Type  Time(%)      Time     Calls       Avg       Min       Max  Name\n",
            " GPU activities:   49.43%  136.52ms         1  136.52ms  136.52ms  136.52ms  [CUDA memcpy DtoH]\n",
            "                   45.37%  125.32ms         2  62.658ms     704ns  125.31ms  [CUDA memcpy HtoD]\n",
            "                    5.20%  14.350ms         1  14.350ms  14.350ms  14.350ms  Imgcov3d(int, float*, float*, unsigned int, unsigned int, int, int, int, int)\n",
            "      API calls:   58.30%  277.25ms         2  138.62ms  125.55ms  151.70ms  cudaMemcpy\n",
            "                   40.89%  194.44ms         2  97.220ms  386.88us  194.05ms  cudaMalloc\n",
            "                    0.67%  3.1974ms         2  1.5987ms  953.99us  2.2434ms  cudaFree\n",
            "                    0.09%  427.50us         1  427.50us  427.50us  427.50us  cudaMemcpyToSymbol\n",
            "                    0.03%  147.49us       114  1.2930us     159ns  58.699us  cuDeviceGetAttribute\n",
            "                    0.01%  39.486us         1  39.486us  39.486us  39.486us  cudaLaunchKernel\n",
            "                    0.00%  13.305us         1  13.305us  13.305us  13.305us  cuDeviceGetName\n",
            "                    0.00%  5.8820us         1  5.8820us  5.8820us  5.8820us  cuDeviceGetPCIBusId\n",
            "                    0.00%  5.0860us         1  5.0860us  5.0860us  5.0860us  cuDeviceTotalMem\n",
            "                    0.00%  1.7140us         3     571ns     229ns  1.1570us  cuDeviceGetCount\n",
            "                    0.00%  1.1000us         2     550ns     206ns     894ns  cuDeviceGet\n",
            "                    0.00%     604ns         1     604ns     604ns     604ns  cuModuleGetLoadingMode\n",
            "                    0.00%     234ns         1     234ns     234ns     234ns  cuDeviceGetUuid\n"
          ]
        }
      ],
      "source": [
        "!nvprof ./K3_2_31_2_33 \"in_3_4\" \"out3_255\" 4 \"mask_3.txt\""
      ]
    },
    {
      "cell_type": "code",
      "execution_count": 394,
      "metadata": {
        "colab": {
          "base_uri": "https://localhost:8080/"
        },
        "id": "9JzqE-XHzw52",
        "outputId": "5e668d5e-4717-41c7-dfbb-4da516a5d751"
      },
      "outputs": [
        {
          "output_type": "stream",
          "name": "stdout",
          "text": [
            "==46455== NVPROF is profiling process 46455, command: ./K3_2_31_2_33 in_3_4 out3_255 4 mask_5.txt\n",
            "==46455== Profiling application: ./K3_2_31_2_33 in_3_4 out3_255 4 mask_5.txt\n",
            "==46455== Profiling result:\n",
            "            Type  Time(%)      Time     Calls       Avg       Min       Max  Name\n",
            " GPU activities:   48.28%  134.49ms         1  134.49ms  134.49ms  134.49ms  [CUDA memcpy DtoH]\n",
            "                   43.37%  120.82ms         2  60.408ms     704ns  120.82ms  [CUDA memcpy HtoD]\n",
            "                    8.35%  23.269ms         1  23.269ms  23.269ms  23.269ms  Imgcov3d(int, float*, float*, unsigned int, unsigned int, int, int, int, int)\n",
            "      API calls:   59.49%  279.59ms         2  139.80ms  121.03ms  158.56ms  cudaMemcpy\n",
            "                   39.93%  187.65ms         2  93.827ms  363.14us  187.29ms  cudaMalloc\n",
            "                    0.45%  2.1219ms         2  1.0610ms  916.41us  1.2055ms  cudaFree\n",
            "                    0.08%  378.88us         1  378.88us  378.88us  378.88us  cudaMemcpyToSymbol\n",
            "                    0.03%  142.07us       114  1.2460us     137ns  54.197us  cuDeviceGetAttribute\n",
            "                    0.01%  30.305us         1  30.305us  30.305us  30.305us  cudaLaunchKernel\n",
            "                    0.00%  11.948us         1  11.948us  11.948us  11.948us  cuDeviceGetName\n",
            "                    0.00%  4.9920us         1  4.9920us  4.9920us  4.9920us  cuDeviceGetPCIBusId\n",
            "                    0.00%  4.4490us         1  4.4490us  4.4490us  4.4490us  cuDeviceTotalMem\n",
            "                    0.00%  1.4930us         3     497ns     195ns     960ns  cuDeviceGetCount\n",
            "                    0.00%  1.0730us         2     536ns     401ns     672ns  cuDeviceGet\n",
            "                    0.00%     578ns         1     578ns     578ns     578ns  cuModuleGetLoadingMode\n",
            "                    0.00%     221ns         1     221ns     221ns     221ns  cuDeviceGetUuid\n"
          ]
        }
      ],
      "source": [
        "!nvprof ./K3_2_31_2_33 \"in_3_4\" \"out3_255\" 4 \"mask_5.txt\""
      ]
    },
    {
      "cell_type": "code",
      "execution_count": 395,
      "metadata": {
        "colab": {
          "base_uri": "https://localhost:8080/"
        },
        "id": "a6dcUSJQz_oh",
        "outputId": "2fe38c82-6b67-4429-a451-5c8b5588995a"
      },
      "outputs": [
        {
          "output_type": "stream",
          "name": "stdout",
          "text": [
            "==46504== NVPROF is profiling process 46504, command: ./K3_2_31_2_33 in_3_4 out3_255 4 mask_7.txt\n",
            "==46504== Profiling application: ./K3_2_31_2_33 in_3_4 out3_255 4 mask_7.txt\n",
            "==46504== Profiling result:\n",
            "            Type  Time(%)      Time     Calls       Avg       Min       Max  Name\n",
            " GPU activities:   44.93%  137.32ms         1  137.32ms  137.32ms  137.32ms  [CUDA memcpy DtoH]\n",
            "                   41.57%  127.07ms         2  63.537ms     704ns  127.07ms  [CUDA memcpy HtoD]\n",
            "                   13.50%  41.267ms         1  41.267ms  41.267ms  41.267ms  Imgcov3d(int, float*, float*, unsigned int, unsigned int, int, int, int, int)\n",
            "      API calls:   61.96%  306.76ms         2  153.38ms  127.32ms  179.44ms  cudaMemcpy\n",
            "                   37.47%  185.51ms         2  92.755ms  355.96us  185.15ms  cudaMalloc\n",
            "                    0.44%  2.1885ms         2  1.0942ms  955.27us  1.2332ms  cudaFree\n",
            "                    0.09%  431.26us         1  431.26us  431.26us  431.26us  cudaMemcpyToSymbol\n",
            "                    0.03%  137.25us       114  1.2030us     139ns  55.205us  cuDeviceGetAttribute\n",
            "                    0.01%  40.039us         1  40.039us  40.039us  40.039us  cudaLaunchKernel\n",
            "                    0.00%  11.712us         1  11.712us  11.712us  11.712us  cuDeviceGetName\n",
            "                    0.00%  5.4720us         1  5.4720us  5.4720us  5.4720us  cuDeviceGetPCIBusId\n",
            "                    0.00%  4.0680us         1  4.0680us  4.0680us  4.0680us  cuDeviceTotalMem\n",
            "                    0.00%  1.5910us         3     530ns     219ns  1.0820us  cuDeviceGetCount\n",
            "                    0.00%     913ns         2     456ns     179ns     734ns  cuDeviceGet\n",
            "                    0.00%     615ns         1     615ns     615ns     615ns  cuModuleGetLoadingMode\n",
            "                    0.00%     222ns         1     222ns     222ns     222ns  cuDeviceGetUuid\n"
          ]
        }
      ],
      "source": [
        "!nvprof ./K3_2_31_2_33 \"in_3_4\" \"out3_255\" 4 \"mask_7.txt\""
      ]
    },
    {
      "cell_type": "code",
      "execution_count": 396,
      "metadata": {
        "colab": {
          "base_uri": "https://localhost:8080/"
        },
        "id": "s44pTt93z_lE",
        "outputId": "eff7bf12-6ee3-40af-9576-3b283f88a905"
      },
      "outputs": [
        {
          "output_type": "stream",
          "name": "stdout",
          "text": [
            "==46549== NVPROF is profiling process 46549, command: ./K3_2_31_2_33 in_3_4 out3_255 4 mask_9.txt\n",
            "==46549== Profiling application: ./K3_2_31_2_33 in_3_4 out3_255 4 mask_9.txt\n",
            "==46549== Profiling result:\n",
            "            Type  Time(%)      Time     Calls       Avg       Min       Max  Name\n",
            " GPU activities:   41.93%  135.64ms         1  135.64ms  135.64ms  135.64ms  [CUDA memcpy DtoH]\n",
            "                   37.95%  122.75ms         2  61.376ms     736ns  122.75ms  [CUDA memcpy HtoD]\n",
            "                   20.12%  65.081ms         1  65.081ms  65.081ms  65.081ms  Imgcov3d(int, float*, float*, unsigned int, unsigned int, int, int, int, int)\n",
            "      API calls:   63.34%  324.49ms         2  162.25ms  122.96ms  201.54ms  cudaMemcpy\n",
            "                   36.10%  184.92ms         2  92.458ms  360.86us  184.55ms  cudaMalloc\n",
            "                    0.44%  2.2571ms         2  1.1285ms  908.27us  1.3488ms  cudaFree\n",
            "                    0.08%  399.24us         1  399.24us  399.24us  399.24us  cudaMemcpyToSymbol\n",
            "                    0.03%  166.02us       114  1.4560us     138ns  54.511us  cuDeviceGetAttribute\n",
            "                    0.01%  30.465us         1  30.465us  30.465us  30.465us  cudaLaunchKernel\n",
            "                    0.00%  12.150us         1  12.150us  12.150us  12.150us  cuDeviceGetName\n",
            "                    0.00%  5.3360us         1  5.3360us  5.3360us  5.3360us  cuDeviceGetPCIBusId\n",
            "                    0.00%  4.1830us         1  4.1830us  4.1830us  4.1830us  cuDeviceTotalMem\n",
            "                    0.00%  1.9150us         3     638ns     253ns  1.3580us  cuDeviceGetCount\n",
            "                    0.00%     862ns         2     431ns     177ns     685ns  cuDeviceGet\n",
            "                    0.00%     494ns         1     494ns     494ns     494ns  cuDeviceGetUuid\n",
            "                    0.00%     489ns         1     489ns     489ns     489ns  cuModuleGetLoadingMode\n"
          ]
        }
      ],
      "source": [
        "!nvprof ./K3_2_31_2_33 \"in_3_4\" \"out3_255\" 4 \"mask_9.txt\""
      ]
    },
    {
      "cell_type": "code",
      "execution_count": 397,
      "metadata": {
        "colab": {
          "base_uri": "https://localhost:8080/"
        },
        "id": "K3ulrx3Xz_it",
        "outputId": "7d646065-fcb2-4f00-e154-ee58a48a4bd4"
      },
      "outputs": [
        {
          "output_type": "stream",
          "name": "stdout",
          "text": [
            "==46598== NVPROF is profiling process 46598, command: ./K3_2_31_2_33 in_3_4 out3_255 4 mask_11.txt\n",
            "==46598== Profiling application: ./K3_2_31_2_33 in_3_4 out3_255 4 mask_11.txt\n",
            "==46598== Profiling result:\n",
            "            Type  Time(%)      Time     Calls       Avg       Min       Max  Name\n",
            " GPU activities:   37.84%  134.63ms         1  134.63ms  134.63ms  134.63ms  [CUDA memcpy DtoH]\n",
            "                   34.55%  122.93ms         2  61.463ms     704ns  122.92ms  [CUDA memcpy HtoD]\n",
            "                   27.61%  98.246ms         1  98.246ms  98.246ms  98.246ms  Imgcov3d(int, float*, float*, unsigned int, unsigned int, int, int, int, int)\n",
            "      API calls:   65.51%  356.88ms         2  178.44ms  123.16ms  233.72ms  cudaMemcpy\n",
            "                   33.79%  184.08ms         2  92.040ms  422.46us  183.66ms  cudaMalloc\n",
            "                    0.59%  3.1875ms         2  1.5938ms  947.36us  2.2402ms  cudaFree\n",
            "                    0.08%  448.84us         1  448.84us  448.84us  448.84us  cudaMemcpyToSymbol\n",
            "                    0.03%  146.36us       114  1.2830us     149ns  56.613us  cuDeviceGetAttribute\n",
            "                    0.01%  38.254us         1  38.254us  38.254us  38.254us  cudaLaunchKernel\n",
            "                    0.00%  11.710us         1  11.710us  11.710us  11.710us  cuDeviceGetName\n",
            "                    0.00%  5.3980us         1  5.3980us  5.3980us  5.3980us  cuDeviceGetPCIBusId\n",
            "                    0.00%  4.3990us         1  4.3990us  4.3990us  4.3990us  cuDeviceTotalMem\n",
            "                    0.00%  1.4080us         3     469ns     171ns     987ns  cuDeviceGetCount\n",
            "                    0.00%     935ns         2     467ns     171ns     764ns  cuDeviceGet\n",
            "                    0.00%     598ns         1     598ns     598ns     598ns  cuModuleGetLoadingMode\n",
            "                    0.00%     225ns         1     225ns     225ns     225ns  cuDeviceGetUuid\n"
          ]
        }
      ],
      "source": [
        "!nvprof ./K3_2_31_2_33 \"in_3_4\" \"out3_255\" 4 \"mask_11.txt\""
      ]
    },
    {
      "cell_type": "code",
      "execution_count": 398,
      "metadata": {
        "colab": {
          "base_uri": "https://localhost:8080/"
        },
        "id": "BjA5Ww87z_gM",
        "outputId": "32824546-7b0b-4eb6-e1e7-139d3eb1f719"
      },
      "outputs": [
        {
          "output_type": "stream",
          "name": "stdout",
          "text": [
            "==46643== NVPROF is profiling process 46643, command: ./K3_2_31_2_33 in_3_4 out3_255 4 mask_13.txt\n",
            "==46643== Profiling application: ./K3_2_31_2_33 in_3_4 out3_255 4 mask_13.txt\n",
            "==46643== Profiling result:\n",
            "            Type  Time(%)      Time     Calls       Avg       Min       Max  Name\n",
            " GPU activities:   38.80%  170.32ms         1  170.32ms  170.32ms  170.32ms  [CUDA memcpy DtoH]\n",
            "                   31.09%  136.46ms         1  136.46ms  136.46ms  136.46ms  Imgcov3d(int, float*, float*, unsigned int, unsigned int, int, int, int, int)\n",
            "                   30.11%  132.17ms         2  66.083ms     736ns  132.16ms  [CUDA memcpy HtoD]\n",
            "      API calls:   63.56%  440.50ms         2  220.25ms  132.39ms  308.11ms  cudaMemcpy\n",
            "                   36.01%  249.58ms         2  124.79ms  594.20us  248.99ms  cudaMalloc\n",
            "                    0.32%  2.2219ms         2  1.1109ms  925.19us  1.2967ms  cudaFree\n",
            "                    0.07%  500.89us         1  500.89us  500.89us  500.89us  cudaMemcpyToSymbol\n",
            "                    0.03%  201.06us       114  1.7630us     273ns  82.935us  cuDeviceGetAttribute\n",
            "                    0.01%  38.989us         1  38.989us  38.989us  38.989us  cudaLaunchKernel\n",
            "                    0.00%  12.282us         1  12.282us  12.282us  12.282us  cuDeviceGetName\n",
            "                    0.00%  7.5460us         1  7.5460us  7.5460us  7.5460us  cuDeviceGetPCIBusId\n",
            "                    0.00%  5.6710us         1  5.6710us  5.6710us  5.6710us  cuDeviceTotalMem\n",
            "                    0.00%  2.2860us         3     762ns     285ns  1.6600us  cuDeviceGetCount\n",
            "                    0.00%     918ns         2     459ns     320ns     598ns  cuDeviceGet\n",
            "                    0.00%     588ns         1     588ns     588ns     588ns  cuModuleGetLoadingMode\n",
            "                    0.00%     371ns         1     371ns     371ns     371ns  cuDeviceGetUuid\n"
          ]
        }
      ],
      "source": [
        "!nvprof ./K3_2_31_2_33 \"in_3_4\" \"out3_255\" 4 \"mask_13.txt\""
      ]
    },
    {
      "cell_type": "code",
      "execution_count": 399,
      "metadata": {
        "colab": {
          "base_uri": "https://localhost:8080/"
        },
        "id": "1bWeN5F9z_d6",
        "outputId": "0cc8e991-3d68-45ac-cdb7-0384e7880369"
      },
      "outputs": [
        {
          "output_type": "stream",
          "name": "stdout",
          "text": [
            "==46694== NVPROF is profiling process 46694, command: ./K3_2_31_2_33 in_3_4 out3_255 4 mask_15.txt\n",
            "==46694== Profiling application: ./K3_2_31_2_33 in_3_4 out3_255 4 mask_15.txt\n",
            "==46694== Profiling result:\n",
            "            Type  Time(%)      Time     Calls       Avg       Min       Max  Name\n",
            " GPU activities:   40.49%  174.89ms         1  174.89ms  174.89ms  174.89ms  Imgcov3d(int, float*, float*, unsigned int, unsigned int, int, int, int, int)\n",
            "                   31.24%  134.94ms         1  134.94ms  134.94ms  134.94ms  [CUDA memcpy DtoH]\n",
            "                   28.27%  122.11ms         2  61.054ms     767ns  122.11ms  [CUDA memcpy HtoD]\n",
            "      API calls:   70.18%  433.09ms         2  216.54ms  122.32ms  310.77ms  cudaMemcpy\n",
            "                   29.35%  181.10ms         2  90.550ms  340.46us  180.76ms  cudaMalloc\n",
            "                    0.37%  2.2644ms         2  1.1322ms  914.24us  1.3502ms  cudaFree\n",
            "                    0.07%  420.97us         1  420.97us  420.97us  420.97us  cudaMemcpyToSymbol\n",
            "                    0.02%  141.56us       114  1.2410us     134ns  53.953us  cuDeviceGetAttribute\n",
            "                    0.00%  29.574us         1  29.574us  29.574us  29.574us  cudaLaunchKernel\n",
            "                    0.00%  11.661us         1  11.661us  11.661us  11.661us  cuDeviceGetName\n",
            "                    0.00%  5.1720us         1  5.1720us  5.1720us  5.1720us  cuDeviceGetPCIBusId\n",
            "                    0.00%  4.2500us         1  4.2500us  4.2500us  4.2500us  cuDeviceTotalMem\n",
            "                    0.00%  1.4450us         3     481ns     185ns     967ns  cuDeviceGetCount\n",
            "                    0.00%     964ns         2     482ns     184ns     780ns  cuDeviceGet\n",
            "                    0.00%     546ns         1     546ns     546ns     546ns  cuModuleGetLoadingMode\n",
            "                    0.00%     199ns         1     199ns     199ns     199ns  cuDeviceGetUuid\n"
          ]
        }
      ],
      "source": [
        "!nvprof ./K3_2_31_2_33 \"in_3_4\" \"out3_255\" 4 \"mask_15.txt\""
      ]
    },
    {
      "cell_type": "code",
      "execution_count": 400,
      "metadata": {
        "colab": {
          "base_uri": "https://localhost:8080/"
        },
        "id": "skjA9JDWg1IG",
        "outputId": "f3707ba8-6920-40ef-f900-ca71d596ffb2"
      },
      "outputs": [
        {
          "output_type": "stream",
          "name": "stdout",
          "text": [
            "==46743== NVPROF is profiling process 46743, command: ./K3_2_31_2_33 in_3_4 out3_255 4 mask_edge_5.txt\n",
            "==46743== Profiling application: ./K3_2_31_2_33 in_3_4 out3_255 4 mask_edge_5.txt\n",
            "==46743== Profiling result:\n",
            "            Type  Time(%)      Time     Calls       Avg       Min       Max  Name\n",
            " GPU activities:   48.30%  137.35ms         1  137.35ms  137.35ms  137.35ms  [CUDA memcpy DtoH]\n",
            "                   43.52%  123.76ms         2  61.882ms     672ns  123.76ms  [CUDA memcpy HtoD]\n",
            "                    8.18%  23.271ms         1  23.271ms  23.271ms  23.271ms  Imgcov3d(int, float*, float*, unsigned int, unsigned int, int, int, int, int)\n",
            "      API calls:   60.14%  285.41ms         2  142.70ms  123.97ms  161.43ms  cudaMemcpy\n",
            "                   39.24%  186.24ms         2  93.119ms  413.87us  185.82ms  cudaMalloc\n",
            "                    0.48%  2.2620ms         2  1.1310ms  939.74us  1.3222ms  cudaFree\n",
            "                    0.10%  468.54us         1  468.54us  468.54us  468.54us  cudaMemcpyToSymbol\n",
            "                    0.04%  174.74us       114  1.5320us     136ns  72.347us  cuDeviceGetAttribute\n",
            "                    0.01%  32.148us         1  32.148us  32.148us  32.148us  cudaLaunchKernel\n",
            "                    0.00%  12.142us         1  12.142us  12.142us  12.142us  cuDeviceGetName\n",
            "                    0.00%  4.9720us         1  4.9720us  4.9720us  4.9720us  cuDeviceGetPCIBusId\n",
            "                    0.00%  4.5730us         1  4.5730us  4.5730us  4.5730us  cuDeviceTotalMem\n",
            "                    0.00%  1.3830us         3     461ns     190ns     958ns  cuDeviceGetCount\n",
            "                    0.00%     969ns         2     484ns     185ns     784ns  cuDeviceGet\n",
            "                    0.00%     554ns         1     554ns     554ns     554ns  cuModuleGetLoadingMode\n",
            "                    0.00%     386ns         1     386ns     386ns     386ns  cuDeviceGetUuid\n"
          ]
        }
      ],
      "source": [
        "!nvprof ./K3_2_31_2_33 \"in_3_4\" \"out3_255\" 4 \"mask_edge_5.txt\""
      ]
    },
    {
      "cell_type": "code",
      "source": [
        "!nvprof ./K3_2_31_2_33 \"in_3_4\" \"out3_255\" 4 \"mask_3.txt\""
      ],
      "metadata": {
        "colab": {
          "base_uri": "https://localhost:8080/"
        },
        "id": "DKjFFom3U5XC",
        "outputId": "76dbcc7e-9348-4256-c365-618852104134"
      },
      "execution_count": 401,
      "outputs": [
        {
          "output_type": "stream",
          "name": "stdout",
          "text": [
            "==46790== NVPROF is profiling process 46790, command: ./K3_2_31_2_33 in_3_4 out3_255 4 mask_3.txt\n",
            "==46790== Profiling application: ./K3_2_31_2_33 in_3_4 out3_255 4 mask_3.txt\n",
            "==46790== Profiling result:\n",
            "            Type  Time(%)      Time     Calls       Avg       Min       Max  Name\n",
            " GPU activities:   49.83%  135.58ms         1  135.58ms  135.58ms  135.58ms  [CUDA memcpy DtoH]\n",
            "                   44.89%  122.14ms         2  61.070ms     672ns  122.14ms  [CUDA memcpy HtoD]\n",
            "                    5.27%  14.349ms         1  14.349ms  14.349ms  14.349ms  Imgcov3d(int, float*, float*, unsigned int, unsigned int, int, int, int, int)\n",
            "      API calls:   58.78%  273.11ms         2  136.55ms  122.38ms  150.73ms  cudaMemcpy\n",
            "                   40.61%  188.69ms         2  94.343ms  347.30us  188.34ms  cudaMalloc\n",
            "                    0.48%  2.2172ms         2  1.1086ms  984.86us  1.2323ms  cudaFree\n",
            "                    0.08%  391.64us         1  391.64us  391.64us  391.64us  cudaMemcpyToSymbol\n",
            "                    0.03%  137.69us       114  1.2070us     145ns  54.790us  cuDeviceGetAttribute\n",
            "                    0.01%  31.449us         1  31.449us  31.449us  31.449us  cudaLaunchKernel\n",
            "                    0.00%  11.608us         1  11.608us  11.608us  11.608us  cuDeviceGetName\n",
            "                    0.00%  4.8810us         1  4.8810us  4.8810us  4.8810us  cuDeviceGetPCIBusId\n",
            "                    0.00%  4.3610us         1  4.3610us  4.3610us  4.3610us  cuDeviceTotalMem\n",
            "                    0.00%  1.6660us         3     555ns     218ns  1.1860us  cuDeviceGetCount\n",
            "                    0.00%  1.1050us         2     552ns     163ns     942ns  cuDeviceGet\n",
            "                    0.00%     706ns         1     706ns     706ns     706ns  cuModuleGetLoadingMode\n",
            "                    0.00%     196ns         1     196ns     196ns     196ns  cuDeviceGetUuid\n"
          ]
        }
      ]
    },
    {
      "cell_type": "code",
      "source": [
        "!nvprof ./K3_2_31_2_33 \"in_3_4\" \"out3_255\" 4 \"mask_15.txt\""
      ],
      "metadata": {
        "colab": {
          "base_uri": "https://localhost:8080/"
        },
        "id": "jLEr8DA9U5A5",
        "outputId": "952eefd3-a6ca-45f5-abd0-a93e67727bb5"
      },
      "execution_count": 402,
      "outputs": [
        {
          "output_type": "stream",
          "name": "stdout",
          "text": [
            "==46841== NVPROF is profiling process 46841, command: ./K3_2_31_2_33 in_3_4 out3_255 4 mask_15.txt\n",
            "==46841== Profiling application: ./K3_2_31_2_33 in_3_4 out3_255 4 mask_15.txt\n",
            "==46841== Profiling result:\n",
            "            Type  Time(%)      Time     Calls       Avg       Min       Max  Name\n",
            " GPU activities:   37.37%  179.62ms         1  179.62ms  179.62ms  179.62ms  Imgcov3d(int, float*, float*, unsigned int, unsigned int, int, int, int, int)\n",
            "                   35.45%  170.41ms         1  170.41ms  170.41ms  170.41ms  [CUDA memcpy DtoH]\n",
            "                   27.18%  130.63ms         2  65.316ms     768ns  130.63ms  [CUDA memcpy HtoD]\n",
            "      API calls:   67.68%  481.88ms         2  240.94ms  130.86ms  351.01ms  cudaMemcpy\n",
            "                   31.91%  227.19ms         2  113.60ms  500.80us  226.69ms  cudaMalloc\n",
            "                    0.30%  2.1289ms         2  1.0644ms  912.30us  1.2166ms  cudaFree\n",
            "                    0.07%  484.22us         1  484.22us  484.22us  484.22us  cudaMemcpyToSymbol\n",
            "                    0.03%  211.06us       114  1.8510us     191ns  76.034us  cuDeviceGetAttribute\n",
            "                    0.01%  40.853us         1  40.853us  40.853us  40.853us  cudaLaunchKernel\n",
            "                    0.00%  15.095us         1  15.095us  15.095us  15.095us  cuDeviceGetName\n",
            "                    0.00%  7.7280us         1  7.7280us  7.7280us  7.7280us  cuDeviceGetPCIBusId\n",
            "                    0.00%  6.2510us         1  6.2510us  6.2510us  6.2510us  cuDeviceTotalMem\n",
            "                    0.00%  1.9130us         3     637ns     293ns  1.2710us  cuDeviceGetCount\n",
            "                    0.00%  1.1720us         2     586ns     313ns     859ns  cuDeviceGet\n",
            "                    0.00%     515ns         1     515ns     515ns     515ns  cuModuleGetLoadingMode\n",
            "                    0.00%     423ns         1     423ns     423ns     423ns  cuDeviceGetUuid\n"
          ]
        }
      ]
    },
    {
      "cell_type": "code",
      "source": [
        "!nvprof ./K3_2_31_2_33 \"in_3_4\" \"out3_255\" 4 \"mask_15.txt\""
      ],
      "metadata": {
        "colab": {
          "base_uri": "https://localhost:8080/"
        },
        "id": "FIJnb2A3bFxz",
        "outputId": "c1809068-3a64-480b-9519-5a2d9101a19e"
      },
      "execution_count": 403,
      "outputs": [
        {
          "output_type": "stream",
          "name": "stdout",
          "text": [
            "==46890== NVPROF is profiling process 46890, command: ./K3_2_31_2_33 in_3_4 out3_255 4 mask_15.txt\n",
            "==46890== Profiling application: ./K3_2_31_2_33 in_3_4 out3_255 4 mask_15.txt\n",
            "==46890== Profiling result:\n",
            "            Type  Time(%)      Time     Calls       Avg       Min       Max  Name\n",
            " GPU activities:   35.86%  144.48ms         1  144.48ms  144.48ms  144.48ms  Imgcov3d(int, float*, float*, unsigned int, unsigned int, int, int, int, int)\n",
            "                   33.33%  134.29ms         1  134.29ms  134.29ms  134.29ms  [CUDA memcpy DtoH]\n",
            "                   30.81%  124.12ms         2  62.058ms     768ns  124.12ms  [CUDA memcpy HtoD]\n",
            "      API calls:   67.22%  403.91ms         2  201.95ms  124.33ms  279.58ms  cudaMemcpy\n",
            "                   32.31%  194.13ms         2  97.067ms  426.00us  193.71ms  cudaMalloc\n",
            "                    0.37%  2.2272ms         2  1.1136ms  908.95us  1.3182ms  cudaFree\n",
            "                    0.07%  428.63us         1  428.63us  428.63us  428.63us  cudaMemcpyToSymbol\n",
            "                    0.02%  144.32us       114  1.2650us     152ns  56.882us  cuDeviceGetAttribute\n",
            "                    0.01%  31.429us         1  31.429us  31.429us  31.429us  cudaLaunchKernel\n",
            "                    0.00%  14.005us         1  14.005us  14.005us  14.005us  cuDeviceGetName\n",
            "                    0.00%  5.2310us         1  5.2310us  5.2310us  5.2310us  cuDeviceGetPCIBusId\n",
            "                    0.00%  4.6170us         1  4.6170us  4.6170us  4.6170us  cuDeviceTotalMem\n",
            "                    0.00%  1.7710us         3     590ns     222ns  1.2500us  cuDeviceGetCount\n",
            "                    0.00%     948ns         2     474ns     197ns     751ns  cuDeviceGet\n",
            "                    0.00%     542ns         1     542ns     542ns     542ns  cuModuleGetLoadingMode\n",
            "                    0.00%     216ns         1     216ns     216ns     216ns  cuDeviceGetUuid\n"
          ]
        }
      ]
    },
    {
      "cell_type": "code",
      "source": [
        "# !nvprof ./K3_2_31_2_33 \"in_all\" \"out3_255\" 50 \"mask_15.txt\""
      ],
      "metadata": {
        "id": "5_r2IoVXU46H"
      },
      "execution_count": 404,
      "outputs": []
    },
    {
      "cell_type": "code",
      "source": [
        "!python pytorch_gpu.py \"in_3_4\" \"out_py\" \"4\" \"mask_15.txt\""
      ],
      "metadata": {
        "colab": {
          "base_uri": "https://localhost:8080/"
        },
        "id": "V5ma3cTobZw2",
        "outputId": "d4b6dc91-79c8-45a7-dc1e-81fec0438915"
      },
      "execution_count": 405,
      "outputs": [
        {
          "output_type": "stream",
          "name": "stdout",
          "text": [
            "True\n",
            "STAGE:2024-04-20 17:19:45 46936:46936 ActivityProfilerController.cpp:314] Completed Stage: Warm Up\n",
            "STAGE:2024-04-20 17:19:45 46936:46936 ActivityProfilerController.cpp:320] Completed Stage: Collection\n",
            "STAGE:2024-04-20 17:19:45 46936:46936 ActivityProfilerController.cpp:324] Completed Stage: Post Processing\n",
            "-------------------------------------------------------  ------------  ------------  ------------  ------------  ------------  ------------  ------------  ------------  ------------  ------------  \n",
            "                                                   Name    Self CPU %      Self CPU   CPU total %     CPU total  CPU time avg     Self CUDA   Self CUDA %    CUDA total  CUDA time avg    # of Calls  \n",
            "-------------------------------------------------------  ------------  ------------  ------------  ------------  ------------  ------------  ------------  ------------  ------------  ------------  \n",
            "                                           aten::conv3d         0.01%      25.000us        32.59%      87.869ms      87.869ms       0.000us         0.00%     181.916ms     181.916ms             1  \n",
            "                                      aten::convolution         0.01%      26.000us        32.58%      87.844ms      87.844ms       0.000us         0.00%     181.916ms     181.916ms             1  \n",
            "                                     aten::_convolution         0.01%      28.000us        32.57%      87.818ms      87.818ms       0.000us         0.00%     181.916ms     181.916ms             1  \n",
            "                                aten::cudnn_convolution         5.42%      14.612ms        32.56%      87.790ms      87.790ms     181.916ms       100.00%     181.916ms     181.916ms             1  \n",
            "void cudnn::cnn::conv2d_grouped_direct_kernel<true, ...         0.00%       0.000us         0.00%       0.000us       0.000us     181.913ms       100.00%     181.913ms     181.913ms             1  \n",
            "                                        Memset (Device)         0.00%       0.000us         0.00%       0.000us       0.000us       3.000us         0.00%       3.000us       3.000us             1  \n",
            "                                  cudaStreamIsCapturing         0.00%       5.000us         0.00%       5.000us       2.500us       0.000us         0.00%       0.000us       0.000us             2  \n",
            "                                             cudaMalloc         0.21%     559.000us         0.21%     559.000us     111.800us       0.000us         0.00%       0.000us       0.000us             5  \n",
            "                                     cudaGetDeviceCount         0.00%       0.000us         0.00%       0.000us       0.000us       0.000us         0.00%       0.000us       0.000us             1  \n",
            "                                   cudaDriverGetVersion         0.00%       0.000us         0.00%       0.000us       0.000us       0.000us         0.00%       0.000us       0.000us             1  \n",
            "-------------------------------------------------------  ------------  ------------  ------------  ------------  ------------  ------------  ------------  ------------  ------------  ------------  \n",
            "Self CPU time total: 269.604ms\n",
            "Self CUDA time total: 181.916ms\n",
            "\n",
            "Folder already exists at: out_py\n",
            "execution time 0.08812379837036133\n"
          ]
        }
      ]
    },
    {
      "cell_type": "code",
      "source": [
        "!python pytorch.py \"in_3_4\" \"out_py\" \"4\" \"mask_15.txt\""
      ],
      "metadata": {
        "colab": {
          "base_uri": "https://localhost:8080/"
        },
        "id": "sZt4Ui0NbiXX",
        "outputId": "8db39026-2f44-46e9-dc95-f10800869799"
      },
      "execution_count": 406,
      "outputs": [
        {
          "output_type": "stream",
          "name": "stdout",
          "text": [
            "Folder already exists at: out_py\n",
            "execution time 17.17416214942932\n"
          ]
        }
      ]
    },
    {
      "cell_type": "code",
      "source": [
        "!python pytorch_gpu.py \"in_3_4\" \"out_py\" \"4\" \"mask_13.txt\""
      ],
      "metadata": {
        "id": "4gVOQfQIevXK",
        "outputId": "67d2fa03-a72c-4e6a-bd3f-55b006f76014",
        "colab": {
          "base_uri": "https://localhost:8080/"
        }
      },
      "execution_count": 407,
      "outputs": [
        {
          "output_type": "stream",
          "name": "stdout",
          "text": [
            "True\n",
            "STAGE:2024-04-20 17:20:17 47080:47080 ActivityProfilerController.cpp:314] Completed Stage: Warm Up\n",
            "STAGE:2024-04-20 17:20:17 47080:47080 ActivityProfilerController.cpp:320] Completed Stage: Collection\n",
            "STAGE:2024-04-20 17:20:17 47080:47080 ActivityProfilerController.cpp:324] Completed Stage: Post Processing\n",
            "-------------------------------------------------------  ------------  ------------  ------------  ------------  ------------  ------------  ------------  ------------  ------------  ------------  \n",
            "                                                   Name    Self CPU %      Self CPU   CPU total %     CPU total  CPU time avg     Self CUDA   Self CUDA %    CUDA total  CUDA time avg    # of Calls  \n",
            "-------------------------------------------------------  ------------  ------------  ------------  ------------  ------------  ------------  ------------  ------------  ------------  ------------  \n",
            "                                           aten::conv3d         0.01%      25.000us        46.99%     135.508ms     135.508ms       0.000us         0.00%     153.115ms     153.115ms             1  \n",
            "                                      aten::convolution         0.01%      30.000us        46.98%     135.483ms     135.483ms       0.000us         0.00%     153.115ms     153.115ms             1  \n",
            "                                     aten::_convolution         0.01%      29.000us        46.97%     135.453ms     135.453ms       0.000us         0.00%     153.115ms     153.115ms             1  \n",
            "                                aten::cudnn_convolution        21.53%      62.102ms        46.96%     135.424ms     135.424ms     153.115ms       100.00%     153.115ms     153.115ms             1  \n",
            "void cudnn::cnn::conv2d_grouped_direct_kernel<true, ...         0.00%       0.000us         0.00%       0.000us       0.000us     153.112ms       100.00%     153.112ms     153.112ms             1  \n",
            "                                        Memset (Device)         0.00%       0.000us         0.00%       0.000us       0.000us       3.000us         0.00%       3.000us       3.000us             1  \n",
            "                                  cudaStreamIsCapturing         0.00%       6.000us         0.00%       6.000us       3.000us       0.000us         0.00%       0.000us       0.000us             2  \n",
            "                                             cudaMalloc         0.21%     597.000us         0.21%     597.000us     119.400us       0.000us         0.00%       0.000us       0.000us             5  \n",
            "                                     cudaGetDeviceCount         0.00%       0.000us         0.00%       0.000us       0.000us       0.000us         0.00%       0.000us       0.000us             1  \n",
            "                                   cudaDriverGetVersion         0.00%       0.000us         0.00%       0.000us       0.000us       0.000us         0.00%       0.000us       0.000us             1  \n",
            "-------------------------------------------------------  ------------  ------------  ------------  ------------  ------------  ------------  ------------  ------------  ------------  ------------  \n",
            "Self CPU time total: 288.388ms\n",
            "Self CUDA time total: 153.115ms\n",
            "\n",
            "Folder already exists at: out_py\n",
            "execution time 0.13574934005737305\n"
          ]
        }
      ]
    },
    {
      "cell_type": "code",
      "source": [
        "!python pytorch_gpu.py \"in_3_4\" \"out_py\" \"4\" \"mask_11.txt\""
      ],
      "metadata": {
        "id": "9Mbd-T3QevTq",
        "outputId": "429ae5d7-0b5f-49b6-de9e-31c768709180",
        "colab": {
          "base_uri": "https://localhost:8080/"
        }
      },
      "execution_count": 408,
      "outputs": [
        {
          "output_type": "stream",
          "name": "stdout",
          "text": [
            "True\n",
            "STAGE:2024-04-20 17:20:24 47122:47122 ActivityProfilerController.cpp:314] Completed Stage: Warm Up\n",
            "STAGE:2024-04-20 17:20:24 47122:47122 ActivityProfilerController.cpp:320] Completed Stage: Collection\n",
            "STAGE:2024-04-20 17:20:24 47122:47122 ActivityProfilerController.cpp:324] Completed Stage: Post Processing\n",
            "-------------------------------------------------------  ------------  ------------  ------------  ------------  ------------  ------------  ------------  ------------  ------------  ------------  \n",
            "                                                   Name    Self CPU %      Self CPU   CPU total %     CPU total  CPU time avg     Self CUDA   Self CUDA %    CUDA total  CUDA time avg    # of Calls  \n",
            "-------------------------------------------------------  ------------  ------------  ------------  ------------  ------------  ------------  ------------  ------------  ------------  ------------  \n",
            "                                           aten::conv3d         0.01%      23.000us        53.89%     134.306ms     134.306ms       0.000us         0.00%     115.144ms     115.144ms             1  \n",
            "                                      aten::convolution         0.01%      27.000us        53.88%     134.283ms     134.283ms       0.000us         0.00%     115.144ms     115.144ms             1  \n",
            "                                     aten::_convolution         0.01%      32.000us        53.87%     134.256ms     134.256ms       0.000us         0.00%     115.144ms     115.144ms             1  \n",
            "                                aten::cudnn_convolution        24.91%      62.082ms        53.86%     134.224ms     134.224ms     115.144ms       100.00%     115.144ms     115.144ms             1  \n",
            "void cudnn::cnn::conv2d_grouped_direct_kernel<true, ...         0.00%       0.000us         0.00%       0.000us       0.000us     115.140ms       100.00%     115.140ms     115.140ms             1  \n",
            "                                        Memset (Device)         0.00%       0.000us         0.00%       0.000us       0.000us       4.000us         0.00%       4.000us       4.000us             1  \n",
            "                                  cudaStreamIsCapturing         0.00%       5.000us         0.00%       5.000us       2.500us       0.000us         0.00%       0.000us       0.000us             2  \n",
            "                                             cudaMalloc         0.23%     579.000us         0.23%     579.000us     115.800us       0.000us         0.00%       0.000us       0.000us             5  \n",
            "                                     cudaGetDeviceCount         0.00%       0.000us         0.00%       0.000us       0.000us       0.000us         0.00%       0.000us       0.000us             1  \n",
            "                                   cudaDriverGetVersion         0.00%       0.000us         0.00%       0.000us       0.000us       0.000us         0.00%       0.000us       0.000us             1  \n",
            "-------------------------------------------------------  ------------  ------------  ------------  ------------  ------------  ------------  ------------  ------------  ------------  ------------  \n",
            "Self CPU time total: 249.220ms\n",
            "Self CUDA time total: 115.144ms\n",
            "\n",
            "Folder already exists at: out_py\n",
            "execution time 0.13454294204711914\n"
          ]
        }
      ]
    },
    {
      "cell_type": "code",
      "source": [
        "!python pytorch_gpu.py \"in_3_4\" \"out_py\" \"4\" \"mask_9.txt\""
      ],
      "metadata": {
        "id": "Srvm7fqKevRJ",
        "outputId": "2e60cd7c-b003-43b8-8c57-f7563b34c225",
        "colab": {
          "base_uri": "https://localhost:8080/"
        }
      },
      "execution_count": 409,
      "outputs": [
        {
          "output_type": "stream",
          "name": "stdout",
          "text": [
            "True\n",
            "STAGE:2024-04-20 17:20:32 47160:47160 ActivityProfilerController.cpp:314] Completed Stage: Warm Up\n",
            "STAGE:2024-04-20 17:20:32 47160:47160 ActivityProfilerController.cpp:320] Completed Stage: Collection\n",
            "STAGE:2024-04-20 17:20:32 47160:47160 ActivityProfilerController.cpp:324] Completed Stage: Post Processing\n",
            "-------------------------------------------------------  ------------  ------------  ------------  ------------  ------------  ------------  ------------  ------------  ------------  ------------  \n",
            "                                                   Name    Self CPU %      Self CPU   CPU total %     CPU total  CPU time avg     Self CUDA   Self CUDA %    CUDA total  CUDA time avg    # of Calls  \n",
            "-------------------------------------------------------  ------------  ------------  ------------  ------------  ------------  ------------  ------------  ------------  ------------  ------------  \n",
            "                                           aten::conv3d         0.01%      23.000us        64.33%     141.728ms     141.728ms       0.000us         0.00%      78.835ms      78.835ms             1  \n",
            "                                      aten::convolution         0.01%      28.000us        64.32%     141.705ms     141.705ms       0.000us         0.00%      78.835ms      78.835ms             1  \n",
            "                                     aten::_convolution         0.01%      28.000us        64.31%     141.677ms     141.677ms       0.000us         0.00%      78.835ms      78.835ms             1  \n",
            "                                aten::cudnn_convolution        28.13%      61.965ms        64.29%     141.649ms     141.649ms      78.835ms       100.00%      78.835ms      78.835ms             1  \n",
            "void cudnn::cnn::conv2d_grouped_direct_kernel<true, ...         0.00%       0.000us         0.00%       0.000us       0.000us      78.832ms       100.00%      78.832ms      78.832ms             1  \n",
            "                                        Memset (Device)         0.00%       0.000us         0.00%       0.000us       0.000us       3.000us         0.00%       3.000us       3.000us             1  \n",
            "                                  cudaStreamIsCapturing         0.00%       5.000us         0.00%       5.000us       2.500us       0.000us         0.00%       0.000us       0.000us             2  \n",
            "                                             cudaMalloc         0.25%     560.000us         0.25%     560.000us     112.000us       0.000us         0.00%       0.000us       0.000us             5  \n",
            "                                     cudaGetDeviceCount         0.00%       0.000us         0.00%       0.000us       0.000us       0.000us         0.00%       0.000us       0.000us             1  \n",
            "                                   cudaDriverGetVersion         0.00%       0.000us         0.00%       0.000us       0.000us       0.000us         0.00%       0.000us       0.000us             1  \n",
            "-------------------------------------------------------  ------------  ------------  ------------  ------------  ------------  ------------  ------------  ------------  ------------  ------------  \n",
            "Self CPU time total: 220.319ms\n",
            "Self CUDA time total: 78.835ms\n",
            "\n",
            "Folder already exists at: out_py\n",
            "execution time 0.14193987846374512\n"
          ]
        }
      ]
    },
    {
      "cell_type": "code",
      "source": [
        "!python pytorch_gpu.py \"in_3_4\" \"out_py\" \"4\" \"mask_7.txt\""
      ],
      "metadata": {
        "id": "0XRrZfanevO0",
        "outputId": "ea17004f-1465-476b-e9db-d1397d26e244",
        "colab": {
          "base_uri": "https://localhost:8080/"
        }
      },
      "execution_count": 410,
      "outputs": [
        {
          "output_type": "stream",
          "name": "stdout",
          "text": [
            "True\n",
            "STAGE:2024-04-20 17:20:39 47198:47198 ActivityProfilerController.cpp:314] Completed Stage: Warm Up\n",
            "STAGE:2024-04-20 17:20:39 47198:47198 ActivityProfilerController.cpp:320] Completed Stage: Collection\n",
            "STAGE:2024-04-20 17:20:39 47198:47198 ActivityProfilerController.cpp:324] Completed Stage: Post Processing\n",
            "-------------------------------------------------------  ------------  ------------  ------------  ------------  ------------  ------------  ------------  ------------  ------------  ------------  \n",
            "                                                   Name    Self CPU %      Self CPU   CPU total %     CPU total  CPU time avg     Self CUDA   Self CUDA %    CUDA total  CUDA time avg    # of Calls  \n",
            "-------------------------------------------------------  ------------  ------------  ------------  ------------  ------------  ------------  ------------  ------------  ------------  ------------  \n",
            "                                           aten::conv3d         0.01%      22.000us        77.21%     177.159ms     177.159ms       0.000us         0.00%      52.572ms      52.572ms             1  \n",
            "                                      aten::convolution         0.01%      26.000us        77.20%     177.137ms     177.137ms       0.000us         0.00%      52.572ms      52.572ms             1  \n",
            "                                     aten::_convolution         0.01%      27.000us        77.19%     177.111ms     177.111ms       0.000us         0.00%      52.572ms      52.572ms             1  \n",
            "                                aten::cudnn_convolution        36.19%      83.042ms        77.18%     177.084ms     177.084ms      52.572ms       100.00%      52.572ms      52.572ms             1  \n",
            "void cudnn::cnn::conv2d_grouped_direct_kernel<true, ...         0.00%       0.000us         0.00%       0.000us       0.000us      52.569ms        99.99%      52.569ms      52.569ms             1  \n",
            "                                        Memset (Device)         0.00%       0.000us         0.00%       0.000us       0.000us       3.000us         0.01%       3.000us       3.000us             1  \n",
            "                                  cudaStreamIsCapturing         0.00%       5.000us         0.00%       5.000us       2.500us       0.000us         0.00%       0.000us       0.000us             2  \n",
            "                                             cudaMalloc         0.27%     611.000us         0.27%     611.000us     122.200us       0.000us         0.00%       0.000us       0.000us             5  \n",
            "                                     cudaGetDeviceCount         0.00%       0.000us         0.00%       0.000us       0.000us       0.000us         0.00%       0.000us       0.000us             1  \n",
            "                                   cudaDriverGetVersion         0.00%       0.000us         0.00%       0.000us       0.000us       0.000us         0.00%       0.000us       0.000us             1  \n",
            "-------------------------------------------------------  ------------  ------------  ------------  ------------  ------------  ------------  ------------  ------------  ------------  ------------  \n",
            "Self CPU time total: 229.446ms\n",
            "Self CUDA time total: 52.572ms\n",
            "\n",
            "Folder already exists at: out_py\n",
            "execution time 0.17736363410949707\n"
          ]
        }
      ]
    },
    {
      "cell_type": "code",
      "source": [
        "!python pytorch_gpu.py \"in_3_4\" \"out_py\" \"4\" \"mask_5.txt\""
      ],
      "metadata": {
        "id": "AvWnAhyMevMZ",
        "outputId": "e0f52262-3496-4c1d-e838-daf2cfe1ff04",
        "colab": {
          "base_uri": "https://localhost:8080/"
        }
      },
      "execution_count": 411,
      "outputs": [
        {
          "output_type": "stream",
          "name": "stdout",
          "text": [
            "True\n",
            "STAGE:2024-04-20 17:20:46 47240:47240 ActivityProfilerController.cpp:314] Completed Stage: Warm Up\n",
            "STAGE:2024-04-20 17:20:46 47240:47240 ActivityProfilerController.cpp:320] Completed Stage: Collection\n",
            "STAGE:2024-04-20 17:20:46 47240:47240 ActivityProfilerController.cpp:324] Completed Stage: Post Processing\n",
            "-------------------------------------------------------  ------------  ------------  ------------  ------------  ------------  ------------  ------------  ------------  ------------  ------------  \n",
            "                                                   Name    Self CPU %      Self CPU   CPU total %     CPU total  CPU time avg     Self CUDA   Self CUDA %    CUDA total  CUDA time avg    # of Calls  \n",
            "-------------------------------------------------------  ------------  ------------  ------------  ------------  ------------  ------------  ------------  ------------  ------------  ------------  \n",
            "                                           aten::conv3d         0.01%      23.000us        81.46%     132.919ms     132.919ms       0.000us         0.00%      30.514ms      30.514ms             1  \n",
            "                                      aten::convolution         0.02%      27.000us        81.45%     132.896ms     132.896ms       0.000us         0.00%      30.514ms      30.514ms             1  \n",
            "                                     aten::_convolution         0.02%      25.000us        81.43%     132.869ms     132.869ms       0.000us         0.00%      30.514ms      30.514ms             1  \n",
            "                                aten::cudnn_convolution        37.71%      61.527ms        81.41%     132.844ms     132.844ms      30.514ms       100.00%      30.514ms      30.514ms             1  \n",
            "void cudnn::cnn::conv2d_grouped_direct_kernel<true, ...         0.00%       0.000us         0.00%       0.000us       0.000us      30.511ms        99.99%      30.511ms      30.511ms             1  \n",
            "                                        Memset (Device)         0.00%       0.000us         0.00%       0.000us       0.000us       3.000us         0.01%       3.000us       3.000us             1  \n",
            "                                  cudaStreamIsCapturing         0.00%       6.000us         0.00%       6.000us       3.000us       0.000us         0.00%       0.000us       0.000us             2  \n",
            "                                             cudaMalloc         0.47%     769.000us         0.47%     769.000us     153.800us       0.000us         0.00%       0.000us       0.000us             5  \n",
            "                                     cudaGetDeviceCount         0.00%       0.000us         0.00%       0.000us       0.000us       0.000us         0.00%       0.000us       0.000us             1  \n",
            "                                   cudaDriverGetVersion         0.00%       0.000us         0.00%       0.000us       0.000us       0.000us         0.00%       0.000us       0.000us             1  \n",
            "-------------------------------------------------------  ------------  ------------  ------------  ------------  ------------  ------------  ------------  ------------  ------------  ------------  \n",
            "Self CPU time total: 163.170ms\n",
            "Self CUDA time total: 30.514ms\n",
            "\n",
            "Folder already exists at: out_py\n",
            "execution time 0.13312172889709473\n"
          ]
        }
      ]
    },
    {
      "cell_type": "code",
      "source": [
        "!python pytorch_gpu.py \"in_3_4\" \"out_py\" \"4\" \"mask_3.txt\""
      ],
      "metadata": {
        "id": "QR2ADwF1eyX0",
        "outputId": "53109856-5c75-42b1-817e-9887ce1e38fc",
        "colab": {
          "base_uri": "https://localhost:8080/"
        }
      },
      "execution_count": 412,
      "outputs": [
        {
          "output_type": "stream",
          "name": "stdout",
          "text": [
            "True\n",
            "STAGE:2024-04-20 17:20:54 47276:47276 ActivityProfilerController.cpp:314] Completed Stage: Warm Up\n",
            "STAGE:2024-04-20 17:20:54 47276:47276 ActivityProfilerController.cpp:320] Completed Stage: Collection\n",
            "STAGE:2024-04-20 17:20:54 47276:47276 ActivityProfilerController.cpp:324] Completed Stage: Post Processing\n",
            "-------------------------------------------------------  ------------  ------------  ------------  ------------  ------------  ------------  ------------  ------------  ------------  ------------  \n",
            "                                                   Name    Self CPU %      Self CPU   CPU total %     CPU total  CPU time avg     Self CUDA   Self CUDA %    CUDA total  CUDA time avg    # of Calls  \n",
            "-------------------------------------------------------  ------------  ------------  ------------  ------------  ------------  ------------  ------------  ------------  ------------  ------------  \n",
            "                                           aten::conv3d         0.02%      24.000us        91.81%     137.737ms     137.737ms       0.000us         0.00%      12.535ms      12.535ms             1  \n",
            "                                      aten::convolution         0.02%      27.000us        91.79%     137.713ms     137.713ms       0.000us         0.00%      12.535ms      12.535ms             1  \n",
            "                                     aten::_convolution         0.02%      27.000us        91.78%     137.686ms     137.686ms       0.000us         0.00%      12.535ms      12.535ms             1  \n",
            "                                aten::cudnn_convolution        42.30%      63.461ms        91.76%     137.659ms     137.659ms      12.535ms       100.00%      12.535ms      12.535ms             1  \n",
            "void cudnn::cnn::conv2d_grouped_direct_kernel<true, ...         0.00%       0.000us         0.00%       0.000us       0.000us      12.531ms        99.97%      12.531ms      12.531ms             1  \n",
            "                                        Memset (Device)         0.00%       0.000us         0.00%       0.000us       0.000us       4.000us         0.03%       4.000us       4.000us             1  \n",
            "                                  cudaStreamIsCapturing         0.00%       6.000us         0.00%       6.000us       3.000us       0.000us         0.00%       0.000us       0.000us             2  \n",
            "                                             cudaMalloc         0.41%     608.000us         0.41%     608.000us     121.600us       0.000us         0.00%       0.000us       0.000us             5  \n",
            "                                     cudaGetDeviceCount         0.00%       0.000us         0.00%       0.000us       0.000us       0.000us         0.00%       0.000us       0.000us             1  \n",
            "                                   cudaDriverGetVersion         0.00%       0.000us         0.00%       0.000us       0.000us       0.000us         0.00%       0.000us       0.000us             1  \n",
            "-------------------------------------------------------  ------------  ------------  ------------  ------------  ------------  ------------  ------------  ------------  ------------  ------------  \n",
            "Self CPU time total: 150.023ms\n",
            "Self CUDA time total: 12.535ms\n",
            "\n",
            "Folder already exists at: out_py\n",
            "execution time 0.13794589042663574\n"
          ]
        }
      ]
    },
    {
      "cell_type": "code",
      "source": [
        "!python pytorch.py \"in_3_4\" \"out_py\" \"4\" \"mask_13.txt\""
      ],
      "metadata": {
        "id": "mxpLJJbleyUV",
        "outputId": "59093e1d-7b7c-4d2f-c5a3-b9215318f534",
        "colab": {
          "base_uri": "https://localhost:8080/"
        }
      },
      "execution_count": 413,
      "outputs": [
        {
          "output_type": "stream",
          "name": "stdout",
          "text": [
            "Folder already exists at: out_py\n",
            "execution time 13.183547258377075\n"
          ]
        }
      ]
    },
    {
      "cell_type": "code",
      "source": [
        "!python pytorch.py \"in_3_4\" \"out_py\" \"4\" \"mask_11.txt\""
      ],
      "metadata": {
        "id": "_LFbApO8eyNU",
        "outputId": "01e15f7e-7485-41a2-9baf-eddabc236708",
        "colab": {
          "base_uri": "https://localhost:8080/"
        }
      },
      "execution_count": 414,
      "outputs": [
        {
          "output_type": "stream",
          "name": "stdout",
          "text": [
            "Folder already exists at: out_py\n",
            "execution time 9.925102710723877\n"
          ]
        }
      ]
    },
    {
      "cell_type": "code",
      "source": [
        "!python pytorch.py \"in_3_4\" \"out_py\" \"4\" \"mask_9.txt\""
      ],
      "metadata": {
        "id": "JnVDc5fcfCD2",
        "outputId": "bfa871f4-4530-48b8-c3b8-3775b0bb38f9",
        "colab": {
          "base_uri": "https://localhost:8080/"
        }
      },
      "execution_count": 415,
      "outputs": [
        {
          "output_type": "stream",
          "name": "stdout",
          "text": [
            "Folder already exists at: out_py\n",
            "execution time 7.100457668304443\n"
          ]
        }
      ]
    },
    {
      "cell_type": "code",
      "source": [
        "!python pytorch.py \"in_3_4\" \"out_py\" \"4\" \"mask_7.txt\""
      ],
      "metadata": {
        "id": "GOz47LN2fCAn",
        "outputId": "7ffd7ffb-0ef7-4e65-957c-7f433ae640ec",
        "colab": {
          "base_uri": "https://localhost:8080/"
        }
      },
      "execution_count": 416,
      "outputs": [
        {
          "output_type": "stream",
          "name": "stdout",
          "text": [
            "Folder already exists at: out_py\n",
            "execution time 5.0790863037109375\n"
          ]
        }
      ]
    },
    {
      "cell_type": "code",
      "source": [
        "!python pytorch.py \"in_3_4\" \"out_py\" \"4\" \"mask_5.txt\""
      ],
      "metadata": {
        "id": "ux5XDiRKfB9s",
        "outputId": "e93eeeac-a392-4971-e811-c325dabdcd97",
        "colab": {
          "base_uri": "https://localhost:8080/"
        }
      },
      "execution_count": 417,
      "outputs": [
        {
          "output_type": "stream",
          "name": "stdout",
          "text": [
            "Folder already exists at: out_py\n",
            "execution time 2.9205591678619385\n"
          ]
        }
      ]
    },
    {
      "cell_type": "code",
      "source": [
        "!python pytorch.py \"in_3_4\" \"out_py\" \"4\" \"mask_3.txt\""
      ],
      "metadata": {
        "id": "yLeb9hEhfKDz",
        "outputId": "b6cbdf98-dacb-4f1e-9dcf-12a2c079aad9",
        "colab": {
          "base_uri": "https://localhost:8080/"
        }
      },
      "execution_count": 418,
      "outputs": [
        {
          "output_type": "stream",
          "name": "stdout",
          "text": [
            "Folder already exists at: out_py\n",
            "execution time 1.5423247814178467\n"
          ]
        }
      ]
    }
  ],
  "metadata": {
    "accelerator": "GPU",
    "colab": {
      "gpuType": "T4",
      "provenance": []
    },
    "kernelspec": {
      "display_name": "Python 3",
      "name": "python3"
    },
    "language_info": {
      "name": "python"
    }
  },
  "nbformat": 4,
  "nbformat_minor": 0
}