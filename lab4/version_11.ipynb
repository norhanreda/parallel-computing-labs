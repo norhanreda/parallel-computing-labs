{
  "cells": [
    {
      "cell_type": "code",
      "execution_count": 47,
      "metadata": {
        "colab": {
          "base_uri": "https://localhost:8080/"
        },
        "id": "mP5c-8VY9JUr",
        "outputId": "bcf90da2-6e6b-455d-c7cc-f3de187ba4d1"
      },
      "outputs": [
        {
          "output_type": "stream",
          "name": "stdout",
          "text": [
            "nvcc: NVIDIA (R) Cuda compiler driver\n",
            "Copyright (c) 2005-2023 NVIDIA Corporation\n",
            "Built on Tue_Aug_15_22:02:13_PDT_2023\n",
            "Cuda compilation tools, release 12.2, V12.2.140\n",
            "Build cuda_12.2.r12.2/compiler.33191640_0\n"
          ]
        }
      ],
      "source": [
        "!nvcc --version"
      ]
    },
    {
      "cell_type": "code",
      "execution_count": 48,
      "metadata": {
        "colab": {
          "base_uri": "https://localhost:8080/"
        },
        "id": "GXV5nYXQ9Y6-",
        "outputId": "abc92648-a443-4ba9-9212-530053c654bf"
      },
      "outputs": [
        {
          "output_type": "stream",
          "name": "stdout",
          "text": [
            "Collecting git+https://github.com/andreinechaev/nvcc4jupyter.git\n",
            "  Cloning https://github.com/andreinechaev/nvcc4jupyter.git to /tmp/pip-req-build-73hw4z9q\n",
            "  Running command git clone --filter=blob:none --quiet https://github.com/andreinechaev/nvcc4jupyter.git /tmp/pip-req-build-73hw4z9q\n",
            "  Resolved https://github.com/andreinechaev/nvcc4jupyter.git to commit 5741c522547756ac4bb7a16df32106a15efb8a57\n",
            "  Installing build dependencies ... \u001b[?25l\u001b[?25hdone\n",
            "  Getting requirements to build wheel ... \u001b[?25l\u001b[?25hdone\n",
            "  Preparing metadata (pyproject.toml) ... \u001b[?25l\u001b[?25hdone\n"
          ]
        }
      ],
      "source": [
        "!pip install git+https://github.com/andreinechaev/nvcc4jupyter.git"
      ]
    },
    {
      "cell_type": "code",
      "execution_count": 49,
      "metadata": {
        "colab": {
          "base_uri": "https://localhost:8080/"
        },
        "id": "R6cpPyam9Y3m",
        "outputId": "47061339-a34d-4720-92cc-84dfbc3f59dd"
      },
      "outputs": [
        {
          "output_type": "stream",
          "name": "stdout",
          "text": [
            "The nvcc4jupyter extension is already loaded. To reload it, use:\n",
            "  %reload_ext nvcc4jupyter\n"
          ]
        }
      ],
      "source": [
        "%load_ext nvcc4jupyter"
      ]
    },
    {
      "cell_type": "code",
      "execution_count": 50,
      "metadata": {
        "colab": {
          "base_uri": "https://localhost:8080/"
        },
        "id": "uWcubSkzHwlM",
        "outputId": "1fc20283-97cf-425e-f621-d094a7f7fded"
      },
      "outputs": [
        {
          "output_type": "stream",
          "name": "stdout",
          "text": [
            "fatal: destination path 'stb' already exists and is not an empty directory.\n"
          ]
        }
      ],
      "source": [
        "!git clone https://github.com/nothings/stb.git\n",
        "!cp stb/stb_image.h /usr/local/include/"
      ]
    },
    {
      "cell_type": "code",
      "execution_count": 51,
      "metadata": {
        "colab": {
          "base_uri": "https://localhost:8080/"
        },
        "id": "b9rqYPEurkE-",
        "outputId": "5bbf36f6-df4d-427c-b20b-122958db77dd"
      },
      "outputs": [
        {
          "output_type": "stream",
          "name": "stdout",
          "text": [
            "Requirement already satisfied: wget in /usr/local/lib/python3.10/dist-packages (3.2)\n",
            "--2024-04-17 16:18:08--  https://raw.githubusercontent.com/nothings/stb/master/stb_image_write.h\n",
            "Resolving raw.githubusercontent.com (raw.githubusercontent.com)... 185.199.108.133, 185.199.109.133, 185.199.110.133, ...\n",
            "Connecting to raw.githubusercontent.com (raw.githubusercontent.com)|185.199.108.133|:443... connected.\n",
            "HTTP request sent, awaiting response... 200 OK\n",
            "Length: 71221 (70K) [text/plain]\n",
            "Saving to: ‘stb_image_write.h.2’\n",
            "\n",
            "stb_image_write.h.2 100%[===================>]  69.55K  --.-KB/s    in 0.003s  \n",
            "\n",
            "2024-04-17 16:18:08 (23.9 MB/s) - ‘stb_image_write.h.2’ saved [71221/71221]\n",
            "\n"
          ]
        }
      ],
      "source": [
        "!pip install wget\n",
        "!wget https://raw.githubusercontent.com/nothings/stb/master/stb_image_write.h"
      ]
    },
    {
      "cell_type": "markdown",
      "metadata": {
        "id": "tkLPMLRYpd6V"
      },
      "source": []
    },
    {
      "cell_type": "markdown",
      "metadata": {
        "id": "ZtDTNaiMuQH4"
      },
      "source": [
        "# Final =========================>\n"
      ]
    },
    {
      "cell_type": "code",
      "execution_count": 56,
      "metadata": {
        "colab": {
          "base_uri": "https://localhost:8080/"
        },
        "id": "cV7jPjXtxCD9",
        "outputId": "86cd8ba7-1123-427b-f09d-ed2327c92798"
      },
      "outputs": [
        {
          "output_type": "stream",
          "name": "stdout",
          "text": [
            "Overwriting K1_2_31_2_33.cu\n"
          ]
        }
      ],
      "source": [
        "%%writefile K1_2_31_2_33.cu\n",
        "//Norhan_Reda_Abdelwahed_2_31\n",
        "//Hoda_Gamal_Hamouda_2_33\n",
        "\n",
        "#include <stdio.h>\n",
        "#include <stdlib.h>\n",
        "#include <math.h>\n",
        "#include <assert.h>\n",
        "#include <iostream>\n",
        "#include <iomanip>\n",
        "#include <fstream>\n",
        "#include <vector>\n",
        "#define STB_IMAGE_IMPLEMENTATION\n",
        "#include <stdio.h>\n",
        "#include \"stb_image.h\"\n",
        "#define STB_IMAGE_WRITE_IMPLEMENTATION\n",
        "#include \"stb_image_write.h\"\n",
        "#include <string>\n",
        "#include <filesystem>\n",
        "#include <cuda_runtime.h>\n",
        "using namespace std;\n",
        "\n",
        "// Kernel definition\n",
        "__global__ void Imgcov3d(int batchSize, float *input, float* output ,unsigned int width, unsigned int height , const float* __restrict__ mask, int maskdim){\n",
        "\n",
        "    int outRow = blockIdx.y * blockDim.y + threadIdx.y;\n",
        "    int outCol = blockIdx.x * blockDim.x + threadIdx.x;\n",
        "    int imageIndex = blockIdx.z * blockDim.z + threadIdx.z;\n",
        "\n",
        "    if(outRow < height && outCol < width && imageIndex < batchSize) {\n",
        "\n",
        "      float sum = 0;\n",
        "\n",
        "        for(int maskRow = 0; maskRow < maskdim; ++maskRow){\n",
        "           for(int maskCol = 0; maskCol < maskdim; ++maskCol){\n",
        "              for(int maskdep = 0; maskdep < 3; ++maskdep){\n",
        "\n",
        "                  int inRow = outRow -(maskdim/2) + maskRow;\n",
        "                  int inCol = outCol -(maskdim/2) + maskCol;\n",
        "\n",
        "                  if(inRow < height && inRow >= 0 && inCol < width && inCol >= 0){\n",
        "                      sum += mask[maskdep * maskdim * maskdim + maskRow * maskdim + maskCol]\n",
        "                      *input[imageIndex * width * height * 3 + maskdep * width * height + inRow * width + inCol];\n",
        "                  }\n",
        "             }\n",
        "          }\n",
        "        }\n",
        "        if(sum < 0){\n",
        "          sum = 0;\n",
        "        } else if (sum > 255){\n",
        "          sum = 255;\n",
        "        }\n",
        "        output[imageIndex * width * height + outRow * width + outCol] = sum;\n",
        "    }\n",
        "\n",
        "}\n",
        "\n",
        "int main(int argc, char *argv[]) {\n",
        "\n",
        "    string folderPath = argv[1];\n",
        "    string out_path = argv[2];\n",
        "    int batch_size = stoi(argv[3]);\n",
        "    string mask_path = argv[4];\n",
        "\n",
        "    int maskdim;\n",
        "\n",
        "    // Open the file for reading\n",
        "    std::ifstream inputFile(mask_path);\n",
        "\n",
        "    // Check if the file is opened successfully\n",
        "    if (!inputFile.is_open()) {\n",
        "        std::cerr << \"Error opening file: \" <<mask_path  << std::endl;\n",
        "        return 1; // Exit with an error code\n",
        "    }\n",
        "\n",
        "     inputFile >> maskdim ;\n",
        "     // cout<<\"maskdim \"<<maskdim<<endl;\n",
        "\n",
        "    float *h_A, *h_B,*R,*G,*B;\n",
        "    int rows1,cols1, comp;\n",
        "\n",
        "    float *h_images;\n",
        "    int img_index = 0;\n",
        "\n",
        "    for (const auto& entry : std::filesystem::directory_iterator(folderPath)) {\n",
        "\n",
        "        if (entry.is_regular_file()) {\n",
        "            std::string filePath = entry.path().string();\n",
        "\n",
        "            unsigned char *data = stbi_load(filePath.c_str(), &cols1, &rows1, &comp, 0);\n",
        "\n",
        "            if(img_index == 0){\n",
        "              h_images = (float*)malloc(sizeof(float) * batch_size * cols1 * rows1 * comp);\n",
        "            }\n",
        "\n",
        "            if (data) {\n",
        "\n",
        "                printf(\"cols %d\\n\", cols1);\n",
        "                printf(\"rows %d\\n\", rows1);\n",
        "                printf(\"image %s\\n\", filePath.c_str());\n",
        "\n",
        "                h_A = (float*)malloc(sizeof(float) *  rows1 * cols1* comp);\n",
        "                R = (float*)malloc(sizeof(float) *  rows1 * cols1);\n",
        "                G = (float*)malloc(sizeof(float) *  rows1 * cols1);\n",
        "                B = (float*)malloc(sizeof(float) *  rows1 * cols1);\n",
        "\n",
        "                int k = 0;\n",
        "                for(int i=0;i<rows1 * cols1* comp;i=i+3)\n",
        "                {\n",
        "                  R[k] =  static_cast<float>(data[i]);\n",
        "                  k=k+1;\n",
        "                }\n",
        "                k=0;\n",
        "                for(int i=1;i<rows1 * cols1* comp;i=i+3)\n",
        "                {\n",
        "                  G[k] =  static_cast<float>(data[i]);\n",
        "                  k=k+1;\n",
        "                }\n",
        "                k=0;\n",
        "                for(int i=2;i<rows1 * cols1* comp;i=i+3)\n",
        "                {\n",
        "                  B[k] =  static_cast<float>(data[i]);\n",
        "                  k=k+1;\n",
        "                }\n",
        "\n",
        "\n",
        "                memcpy(h_A, R, rows1*cols1 * sizeof(float));\n",
        "                memcpy(h_A +rows1*cols1 , G, rows1*cols1 * sizeof(float));\n",
        "                memcpy(h_A+rows1*cols1+rows1*cols1, B, rows1*cols1 * sizeof(float));\n",
        "\n",
        "                memcpy(h_images + img_index * rows1 * cols1 * 3,                     R, rows1 * cols1 * sizeof(float));\n",
        "                memcpy(h_images + img_index * rows1 * cols1 * 3 + rows1 * cols1,     G, rows1 * cols1 * sizeof(float));\n",
        "                memcpy(h_images + img_index * rows1 * cols1 * 3 + rows1 * cols1 * 2, B, rows1 * cols1 * sizeof(float));\n",
        "\n",
        "                img_index++;\n",
        "\n",
        "             }\n",
        "             else {\n",
        "                // Failed to load the image\n",
        "                std::cerr << \"Failed to load image: \" << filePath << std::endl;\n",
        "            }\n",
        "\n",
        "           }\n",
        "      }\n",
        "\n",
        "\n",
        "      float *d_images_temp = (float*)malloc(sizeof(float) * batch_size * rows1 * cols1 * comp);\n",
        "      for(int i=0; i<batch_size; i++){\n",
        "        memcpy(d_images_temp + i * rows1 * cols1 *comp , h_images + i * rows1 * cols1 *comp, rows1 * cols1 *comp * sizeof(float));\n",
        "      }\n",
        "\n",
        "\n",
        "    float *d_images;\n",
        "    cudaMalloc((void**)&d_images, batch_size * rows1 * cols1 * comp * sizeof(float));\n",
        "    cudaMemcpy(d_images, d_images_temp, batch_size * rows1 * cols1 * comp * sizeof(float), cudaMemcpyHostToDevice);\n",
        "\n",
        "\n",
        "    h_B =(float*)malloc(sizeof(float) * maskdim* maskdim*comp);\n",
        "\n",
        "    float *d_outs;\n",
        "    cudaMalloc((void**)&d_outs, batch_size * rows1 * cols1 * sizeof(float));\n",
        "\n",
        "    float *h_outs = (float*)malloc(sizeof(float) * batch_size * rows1 * cols1);\n",
        "\n",
        "\n",
        "    float *h_R, *h_G,*h_BB;\n",
        "    h_R =(float*)malloc(sizeof(float) * maskdim* maskdim);\n",
        "    h_G =(float*)malloc(sizeof(float) * maskdim* maskdim);\n",
        "    h_BB =(float*)malloc(sizeof(float) * maskdim* maskdim);\n",
        "    // Read mask elements\n",
        "    for (int i = 0; i < maskdim; ++i) {\n",
        "        for (int j = 0; j < maskdim; ++j) {\n",
        "\n",
        "            int index =  i * maskdim + j;\n",
        "            inputFile >>  h_R[index];\n",
        "            h_R[index]=h_R[index];\n",
        "            h_G[index]=h_R[index];\n",
        "            h_BB[index]=h_R[index];\n",
        "\n",
        "        }\n",
        "    }\n",
        "\n",
        "    memcpy(h_B, h_R,  maskdim* maskdim * sizeof(float));\n",
        "    memcpy(h_B + maskdim* maskdim , h_G, maskdim* maskdim * sizeof(float));\n",
        "    memcpy(h_B+maskdim* maskdim+maskdim* maskdim,  h_BB, maskdim* maskdim * sizeof(float));\n",
        "\n",
        "\n",
        "    // Copy data from host to device\n",
        "    //cudaMemcpyToSymbol(mask, h_B, maskdim * maskdim *comp * sizeof(float), 0, cudaMemcpyHostToDevice);\n",
        "\n",
        "    float * d_B ;\n",
        "    cudaMalloc((void**)&d_B, maskdim *  maskdim *comp * sizeof(float));\n",
        "    cudaMemcpy(d_B, h_B,   maskdim *  maskdim *comp * sizeof(float), cudaMemcpyHostToDevice);\n",
        "\n",
        "    // Kernel invocation\n",
        "    dim3 threadsPerBlock(32,32,1);\n",
        "    dim3 numBlocks((cols1-1) / threadsPerBlock.x + 1, (rows1-1) / threadsPerBlock.y + 1, batch_size);\n",
        "    Imgcov3d<<<numBlocks, threadsPerBlock>>>(batch_size,d_images, d_outs,cols1,rows1,d_B, maskdim);\n",
        "\n",
        "    cudaMemcpy(h_outs, d_outs, batch_size * rows1 * cols1 * sizeof(float), cudaMemcpyDeviceToHost);\n",
        "\n",
        "    unsigned char* h_char = (unsigned char*)malloc(sizeof(unsigned char) * rows1 * cols1);\n",
        "\n",
        "    for(int k=0;k<batch_size;k++){\n",
        "\n",
        "      for(int i=0;i<rows1*cols1;i++){\n",
        "         h_char[i]=static_cast<unsigned char>(h_outs[k*rows1*cols1+i]);\n",
        "      }\n",
        "      string filename = \"./\"+out_path+\"/\"+\"image\" + std::to_string(k) + \".jpg\";\n",
        "      stbi_write_jpg(filename.c_str(), cols1, rows1, 1, h_char, 100);\n",
        "    }\n",
        "\n",
        "    // Free device memory\n",
        "    cudaFree(d_images);\n",
        "    cudaFree(d_B);\n",
        "    cudaFree(d_outs);\n",
        "\n",
        "    // Free host memory\n",
        "    free(h_A);\n",
        "    free(h_B);\n",
        "    free(R);\n",
        "    free(G);\n",
        "    free(B);\n",
        "    free(h_images);\n",
        "    free(d_images_temp);\n",
        "    free(h_outs);\n",
        "    free(h_BB);\n",
        "    free(h_G);\n",
        "    free(h_R);\n",
        "    free(h_char);\n",
        "\n",
        "  return 0;\n",
        "}"
      ]
    },
    {
      "cell_type": "code",
      "execution_count": 57,
      "metadata": {
        "id": "wachg5FIL_3x"
      },
      "outputs": [],
      "source": [
        "!chmod +x K1_2_31_2_33.cu\n",
        "!nvcc  K1_2_31_2_33.cu -o K1_2_31_2_33"
      ]
    },
    {
      "cell_type": "code",
      "source": [
        "!nvprof ./K1_2_31_2_33 \"in_255\" \"out1\" 4 \"mask_3.txt\""
      ],
      "metadata": {
        "colab": {
          "base_uri": "https://localhost:8080/"
        },
        "id": "sc1iaXCHy2lh",
        "outputId": "4ce3857a-ecae-4a6a-80a6-3c4bde7930c6"
      },
      "execution_count": 58,
      "outputs": [
        {
          "output_type": "stream",
          "name": "stdout",
          "text": [
            "cols 255\n",
            "rows 255\n",
            "image in_255/you.jpg\n",
            "cols 255\n",
            "rows 255\n",
            "image in_255/warda.jpg\n",
            "cols 255\n",
            "rows 255\n",
            "image in_255/cat.jpg\n",
            "cols 255\n",
            "rows 255\n",
            "image in_255/camel.jpg\n",
            "==9502== NVPROF is profiling process 9502, command: ./K1_2_31_2_33 in_255 out1 4 mask_3.txt\n",
            "==9502== Profiling application: ./K1_2_31_2_33 in_255 out1 4 mask_3.txt\n",
            "==9502== Profiling result:\n",
            "            Type  Time(%)      Time     Calls       Avg       Min       Max  Name\n",
            " GPU activities:   78.57%  540.82us         2  270.41us     992ns  539.83us  [CUDA memcpy HtoD]\n",
            "                   12.01%  82.653us         1  82.653us  82.653us  82.653us  [CUDA memcpy DtoH]\n",
            "                    9.43%  64.895us         1  64.895us  64.895us  64.895us  Imgcov3d(int, float*, float*, unsigned int, unsigned int, float const *, int)\n",
            "      API calls:   97.75%  121.61ms         3  40.537ms  9.5740us  121.43ms  cudaMalloc\n",
            "                    1.53%  1.9007ms         3  633.57us  16.614us  1.1222ms  cudaMemcpy\n",
            "                    0.29%  361.04us         3  120.35us  9.1320us  202.49us  cudaFree\n",
            "                    0.24%  295.97us         1  295.97us  295.97us  295.97us  cudaLaunchKernel\n",
            "                    0.17%  213.05us       114  1.8680us     297ns  75.230us  cuDeviceGetAttribute\n",
            "                    0.01%  13.480us         1  13.480us  13.480us  13.480us  cuDeviceGetName\n",
            "                    0.01%  7.1670us         1  7.1670us  7.1670us  7.1670us  cuDeviceGetPCIBusId\n",
            "                    0.01%  6.8790us         1  6.8790us  6.8790us  6.8790us  cuDeviceTotalMem\n",
            "                    0.00%  2.3770us         3     792ns     319ns  1.6120us  cuDeviceGetCount\n",
            "                    0.00%  1.3850us         2     692ns     327ns  1.0580us  cuDeviceGet\n",
            "                    0.00%     568ns         1     568ns     568ns     568ns  cuModuleGetLoadingMode\n",
            "                    0.00%     406ns         1     406ns     406ns     406ns  cuDeviceGetUuid\n"
          ]
        }
      ]
    },
    {
      "cell_type": "code",
      "execution_count": 68,
      "metadata": {
        "colab": {
          "base_uri": "https://localhost:8080/"
        },
        "id": "2YbA6xyBQK3y",
        "outputId": "a8d13b58-b621-45cc-d226-c3cae8006add"
      },
      "outputs": [
        {
          "output_type": "stream",
          "name": "stdout",
          "text": [
            "cols 255\n",
            "rows 255\n",
            "image in_255/you.jpg\n",
            "cols 255\n",
            "rows 255\n",
            "image in_255/warda.jpg\n",
            "cols 255\n",
            "rows 255\n",
            "image in_255/cat.jpg\n",
            "cols 255\n",
            "rows 255\n",
            "image in_255/camel.jpg\n",
            "==12887== NVPROF is profiling process 12887, command: ./K1_2_31_2_33 in_255 out1 4 mask_5.txt\n",
            "==12887== Profiling application: ./K1_2_31_2_33 in_255 out1 4 mask_5.txt\n",
            "==12887== Profiling result:\n",
            "            Type  Time(%)      Time     Calls       Avg       Min       Max  Name\n",
            " GPU activities:   69.42%  532.82us         2  266.41us     992ns  531.83us  [CUDA memcpy HtoD]\n",
            "                   19.30%  148.12us         1  148.12us  148.12us  148.12us  Imgcov3d(int, float*, float*, unsigned int, unsigned int, float const *, int)\n",
            "                   11.29%  86.622us         1  86.622us  86.622us  86.622us  [CUDA memcpy DtoH]\n",
            "      API calls:   97.56%  97.830ms         3  32.610ms  7.1460us  97.704ms  cudaMalloc\n",
            "                    1.73%  1.7330ms         3  577.68us  12.612us  1.0262ms  cudaMemcpy\n",
            "                    0.34%  336.72us         3  112.24us  8.7220us  190.41us  cudaFree\n",
            "                    0.21%  214.32us         1  214.32us  214.32us  214.32us  cudaLaunchKernel\n",
            "                    0.13%  131.19us       114  1.1500us     139ns  51.543us  cuDeviceGetAttribute\n",
            "                    0.01%  11.326us         1  11.326us  11.326us  11.326us  cuDeviceGetName\n",
            "                    0.01%  5.7130us         1  5.7130us  5.7130us  5.7130us  cuDeviceGetPCIBusId\n",
            "                    0.00%  4.0760us         1  4.0760us  4.0760us  4.0760us  cuDeviceTotalMem\n",
            "                    0.00%  2.8970us         2  1.4480us     195ns  2.7020us  cuDeviceGet\n",
            "                    0.00%  2.2400us         3     746ns     222ns  1.7390us  cuDeviceGetCount\n",
            "                    0.00%     580ns         1     580ns     580ns     580ns  cuModuleGetLoadingMode\n",
            "                    0.00%     233ns         1     233ns     233ns     233ns  cuDeviceGetUuid\n"
          ]
        }
      ],
      "source": [
        "!nvprof ./K1_2_31_2_33 \"in_255\" \"out1\" 4 \"mask_5.txt\""
      ]
    },
    {
      "cell_type": "code",
      "source": [
        "!nvprof ./K1_2_31_2_33 \"in_255\" \"out1\" 4 \"mask_7.txt\""
      ],
      "metadata": {
        "colab": {
          "base_uri": "https://localhost:8080/"
        },
        "id": "zNJly01GxJV_",
        "outputId": "e2a08d19-0506-402e-83fd-6348ea4cbd40"
      },
      "execution_count": 69,
      "outputs": [
        {
          "output_type": "stream",
          "name": "stdout",
          "text": [
            "cols 255\n",
            "rows 255\n",
            "image in_255/you.jpg\n",
            "cols 255\n",
            "rows 255\n",
            "image in_255/warda.jpg\n",
            "cols 255\n",
            "rows 255\n",
            "image in_255/cat.jpg\n",
            "cols 255\n",
            "rows 255\n",
            "image in_255/camel.jpg\n",
            "==13010== NVPROF is profiling process 13010, command: ./K1_2_31_2_33 in_255 out1 4 mask_7.txt\n",
            "==13010== Profiling application: ./K1_2_31_2_33 in_255 out1 4 mask_7.txt\n",
            "==13010== Profiling result:\n",
            "            Type  Time(%)      Time     Calls       Avg       Min       Max  Name\n",
            " GPU activities:   58.16%  542.26us         2  271.13us  1.0240us  541.23us  [CUDA memcpy HtoD]\n",
            "                   29.28%  272.95us         1  272.95us  272.95us  272.95us  Imgcov3d(int, float*, float*, unsigned int, unsigned int, float const *, int)\n",
            "                   12.56%  117.12us         1  117.12us  117.12us  117.12us  [CUDA memcpy DtoH]\n",
            "      API calls:   97.03%  92.530ms         3  30.843ms  8.0690us  92.387ms  cudaMalloc\n",
            "                    2.17%  2.0647ms         3  688.24us  14.605us  1.3420ms  cudaMemcpy\n",
            "                    0.38%  357.62us         3  119.21us  9.9680us  192.90us  cudaFree\n",
            "                    0.22%  209.29us         1  209.29us  209.29us  209.29us  cudaLaunchKernel\n",
            "                    0.18%  171.17us       114  1.5010us     150ns  63.108us  cuDeviceGetAttribute\n",
            "                    0.01%  11.877us         1  11.877us  11.877us  11.877us  cuDeviceGetName\n",
            "                    0.01%  6.3680us         1  6.3680us  6.3680us  6.3680us  cuDeviceGetPCIBusId\n",
            "                    0.01%  4.7710us         1  4.7710us  4.7710us  4.7710us  cuDeviceTotalMem\n",
            "                    0.00%  1.7210us         3     573ns     237ns  1.2180us  cuDeviceGetCount\n",
            "                    0.00%  1.0260us         2     513ns     208ns     818ns  cuDeviceGet\n",
            "                    0.00%     563ns         1     563ns     563ns     563ns  cuModuleGetLoadingMode\n",
            "                    0.00%     255ns         1     255ns     255ns     255ns  cuDeviceGetUuid\n"
          ]
        }
      ]
    },
    {
      "cell_type": "code",
      "source": [
        "!nvprof ./K1_2_31_2_33 \"in_255\" \"out1\" 4 \"mask_9.txt\""
      ],
      "metadata": {
        "colab": {
          "base_uri": "https://localhost:8080/"
        },
        "id": "LRERXo_rogzv",
        "outputId": "239efd72-f0ad-4674-865f-6fbf0f2fc060"
      },
      "execution_count": 70,
      "outputs": [
        {
          "output_type": "stream",
          "name": "stdout",
          "text": [
            "cols 255\n",
            "rows 255\n",
            "image in_255/you.jpg\n",
            "cols 255\n",
            "rows 255\n",
            "image in_255/warda.jpg\n",
            "cols 255\n",
            "rows 255\n",
            "image in_255/cat.jpg\n",
            "cols 255\n",
            "rows 255\n",
            "image in_255/camel.jpg\n",
            "==13117== NVPROF is profiling process 13117, command: ./K1_2_31_2_33 in_255 out1 4 mask_9.txt\n",
            "==13117== Profiling application: ./K1_2_31_2_33 in_255 out1 4 mask_9.txt\n",
            "==13117== Profiling result:\n",
            "            Type  Time(%)      Time     Calls       Avg       Min       Max  Name\n",
            " GPU activities:   49.61%  525.33us         2  262.67us  1.0240us  524.31us  [CUDA memcpy HtoD]\n",
            "                   41.49%  439.25us         1  439.25us  439.25us  439.25us  Imgcov3d(int, float*, float*, unsigned int, unsigned int, float const *, int)\n",
            "                    8.90%  94.237us         1  94.237us  94.237us  94.237us  [CUDA memcpy DtoH]\n",
            "      API calls:   97.19%  96.887ms         3  32.296ms  7.9610us  96.759ms  cudaMalloc\n",
            "                    2.03%  2.0227ms         3  674.25us  13.387us  1.3100ms  cudaMemcpy\n",
            "                    0.36%  357.22us         3  119.07us  10.363us  200.86us  cudaFree\n",
            "                    0.20%  200.51us         1  200.51us  200.51us  200.51us  cudaLaunchKernel\n",
            "                    0.19%  193.72us       114  1.6990us     187ns  75.433us  cuDeviceGetAttribute\n",
            "                    0.02%  14.963us         1  14.963us  14.963us  14.963us  cuDeviceGetName\n",
            "                    0.01%  6.2100us         1  6.2100us  6.2100us  6.2100us  cuDeviceTotalMem\n",
            "                    0.01%  5.5760us         1  5.5760us  5.5760us  5.5760us  cuDeviceGetPCIBusId\n",
            "                    0.00%  2.1580us         3     719ns     203ns  1.3590us  cuDeviceGetCount\n",
            "                    0.00%  1.3050us         2     652ns     365ns     940ns  cuDeviceGet\n",
            "                    0.00%     581ns         1     581ns     581ns     581ns  cuModuleGetLoadingMode\n",
            "                    0.00%     370ns         1     370ns     370ns     370ns  cuDeviceGetUuid\n"
          ]
        }
      ]
    },
    {
      "cell_type": "code",
      "source": [
        "!nvprof ./K1_2_31_2_33 \"in_255\" \"out1\" 4 \"mask_11.txt\""
      ],
      "metadata": {
        "colab": {
          "base_uri": "https://localhost:8080/"
        },
        "id": "HfdqsEkmy8xQ",
        "outputId": "a40ce10a-ae1a-4cf2-bffa-6bcf6cf8e95a"
      },
      "execution_count": 71,
      "outputs": [
        {
          "output_type": "stream",
          "name": "stdout",
          "text": [
            "cols 255\n",
            "rows 255\n",
            "image in_255/you.jpg\n",
            "cols 255\n",
            "rows 255\n",
            "image in_255/warda.jpg\n",
            "cols 255\n",
            "rows 255\n",
            "image in_255/cat.jpg\n",
            "cols 255\n",
            "rows 255\n",
            "image in_255/camel.jpg\n",
            "==13202== NVPROF is profiling process 13202, command: ./K1_2_31_2_33 in_255 out1 4 mask_11.txt\n",
            "==13202== Profiling application: ./K1_2_31_2_33 in_255 out1 4 mask_11.txt\n",
            "==13202== Profiling result:\n",
            "            Type  Time(%)      Time     Calls       Avg       Min       Max  Name\n",
            " GPU activities:   50.15%  647.15us         1  647.15us  647.15us  647.15us  Imgcov3d(int, float*, float*, unsigned int, unsigned int, float const *, int)\n",
            "                   40.87%  527.41us         2  263.70us  1.0560us  526.35us  [CUDA memcpy HtoD]\n",
            "                    8.98%  115.84us         1  115.84us  115.84us  115.84us  [CUDA memcpy DtoH]\n",
            "      API calls:   97.01%  97.763ms         3  32.588ms  5.5310us  97.634ms  cudaMalloc\n",
            "                    2.25%  2.2682ms         3  756.06us  13.584us  1.5370ms  cudaMemcpy\n",
            "                    0.34%  347.15us         3  115.72us  9.6350us  190.47us  cudaFree\n",
            "                    0.20%  198.44us         1  198.44us  198.44us  198.44us  cudaLaunchKernel\n",
            "                    0.18%  178.52us       114  1.5660us     135ns  96.200us  cuDeviceGetAttribute\n",
            "                    0.01%  10.937us         1  10.937us  10.937us  10.937us  cuDeviceGetName\n",
            "                    0.01%  5.4820us         1  5.4820us  5.4820us  5.4820us  cuDeviceGetPCIBusId\n",
            "                    0.00%  4.3740us         1  4.3740us  4.3740us  4.3740us  cuDeviceTotalMem\n",
            "                    0.00%  2.0270us         3     675ns     208ns  1.5210us  cuDeviceGetCount\n",
            "                    0.00%  1.5560us         2     778ns     210ns  1.3460us  cuDeviceGet\n",
            "                    0.00%     672ns         1     672ns     672ns     672ns  cuModuleGetLoadingMode\n",
            "                    0.00%     228ns         1     228ns     228ns     228ns  cuDeviceGetUuid\n"
          ]
        }
      ]
    },
    {
      "cell_type": "code",
      "source": [
        "!nvprof ./K1_2_31_2_33 \"in_255\" \"out1\" 4 \"mask_13.txt\""
      ],
      "metadata": {
        "colab": {
          "base_uri": "https://localhost:8080/"
        },
        "id": "TRGbxQD8y8t0",
        "outputId": "0d9cf2f5-a068-44ea-b50c-5e8f2bbbd5f2"
      },
      "execution_count": 72,
      "outputs": [
        {
          "output_type": "stream",
          "name": "stdout",
          "text": [
            "cols 255\n",
            "rows 255\n",
            "image in_255/you.jpg\n",
            "cols 255\n",
            "rows 255\n",
            "image in_255/warda.jpg\n",
            "cols 255\n",
            "rows 255\n",
            "image in_255/cat.jpg\n",
            "cols 255\n",
            "rows 255\n",
            "image in_255/camel.jpg\n",
            "==13279== NVPROF is profiling process 13279, command: ./K1_2_31_2_33 in_255 out1 4 mask_13.txt\n",
            "==13279== Profiling application: ./K1_2_31_2_33 in_255 out1 4 mask_13.txt\n",
            "==13279== Profiling result:\n",
            "            Type  Time(%)      Time     Calls       Avg       Min       Max  Name\n",
            " GPU activities:   59.65%  900.10us         1  900.10us  900.10us  900.10us  Imgcov3d(int, float*, float*, unsigned int, unsigned int, float const *, int)\n",
            "                   34.58%  521.81us         2  260.91us  1.0560us  520.75us  [CUDA memcpy HtoD]\n",
            "                    5.77%  87.102us         1  87.102us  87.102us  87.102us  [CUDA memcpy DtoH]\n",
            "      API calls:   96.75%  95.104ms         3  31.701ms  4.8130us  94.988ms  cudaMalloc\n",
            "                    2.51%  2.4691ms         3  823.04us  13.387us  1.7747ms  cudaMemcpy\n",
            "                    0.36%  356.73us         3  118.91us  9.6120us  188.84us  cudaFree\n",
            "                    0.21%  204.85us         1  204.85us  204.85us  204.85us  cudaLaunchKernel\n",
            "                    0.14%  134.70us       114  1.1810us     147ns  53.062us  cuDeviceGetAttribute\n",
            "                    0.01%  11.388us         1  11.388us  11.388us  11.388us  cuDeviceGetName\n",
            "                    0.01%  5.5610us         1  5.5610us  5.5610us  5.5610us  cuDeviceGetPCIBusId\n",
            "                    0.00%  4.5730us         1  4.5730us  4.5730us  4.5730us  cuDeviceTotalMem\n",
            "                    0.00%  2.8800us         2  1.4400us     204ns  2.6760us  cuDeviceGet\n",
            "                    0.00%  1.9560us         3     652ns     249ns  1.4150us  cuDeviceGetCount\n",
            "                    0.00%     536ns         1     536ns     536ns     536ns  cuModuleGetLoadingMode\n",
            "                    0.00%     229ns         1     229ns     229ns     229ns  cuDeviceGetUuid\n"
          ]
        }
      ]
    },
    {
      "cell_type": "code",
      "source": [
        "!nvprof ./K1_2_31_2_33 \"in_255\" \"out1\" 4 \"mask_15.txt\""
      ],
      "metadata": {
        "colab": {
          "base_uri": "https://localhost:8080/"
        },
        "id": "fTIpURqyy8rO",
        "outputId": "6b57e9aa-c87a-4775-8cd1-10f927cd8913"
      },
      "execution_count": 73,
      "outputs": [
        {
          "output_type": "stream",
          "name": "stdout",
          "text": [
            "cols 255\n",
            "rows 255\n",
            "image in_255/you.jpg\n",
            "cols 255\n",
            "rows 255\n",
            "image in_255/warda.jpg\n",
            "cols 255\n",
            "rows 255\n",
            "image in_255/cat.jpg\n",
            "cols 255\n",
            "rows 255\n",
            "image in_255/camel.jpg\n",
            "==13350== NVPROF is profiling process 13350, command: ./K1_2_31_2_33 in_255 out1 4 mask_15.txt\n",
            "==13350== Profiling application: ./K1_2_31_2_33 in_255 out1 4 mask_15.txt\n",
            "==13350== Profiling result:\n",
            "            Type  Time(%)      Time     Calls       Avg       Min       Max  Name\n",
            " GPU activities:   65.69%  1.1885ms         1  1.1885ms  1.1885ms  1.1885ms  Imgcov3d(int, float*, float*, unsigned int, unsigned int, float const *, int)\n",
            "                   29.72%  537.71us         2  268.86us  1.1200us  536.59us  [CUDA memcpy HtoD]\n",
            "                    4.59%  83.133us         1  83.133us  83.133us  83.133us  [CUDA memcpy DtoH]\n",
            "      API calls:   96.45%  96.969ms         3  32.323ms  5.4380us  96.842ms  cudaMalloc\n",
            "                    2.86%  2.8705ms         3  956.83us  13.738us  2.1107ms  cudaMemcpy\n",
            "                    0.33%  335.19us         3  111.73us  9.2980us  190.78us  cudaFree\n",
            "                    0.19%  190.72us         1  190.72us  190.72us  190.72us  cudaLaunchKernel\n",
            "                    0.14%  138.79us       114  1.2170us     150ns  54.700us  cuDeviceGetAttribute\n",
            "                    0.01%  12.501us         1  12.501us  12.501us  12.501us  cuDeviceGetName\n",
            "                    0.01%  8.3660us         1  8.3660us  8.3660us  8.3660us  cuDeviceGetPCIBusId\n",
            "                    0.01%  5.0430us         1  5.0430us  5.0430us  5.0430us  cuDeviceTotalMem\n",
            "                    0.00%  1.7110us         3     570ns     251ns  1.2000us  cuDeviceGetCount\n",
            "                    0.00%  1.0470us         2     523ns     199ns     848ns  cuDeviceGet\n",
            "                    0.00%     574ns         1     574ns     574ns     574ns  cuModuleGetLoadingMode\n",
            "                    0.00%     214ns         1     214ns     214ns     214ns  cuDeviceGetUuid\n"
          ]
        }
      ]
    },
    {
      "cell_type": "code",
      "source": [
        "!nvprof ./K1_2_31_2_33 \"in_255\" \"out1\" 4 \"mask_edge_5.txt\""
      ],
      "metadata": {
        "colab": {
          "base_uri": "https://localhost:8080/"
        },
        "id": "Gjz0FoMyy8jc",
        "outputId": "727daf07-8ff3-463f-da7f-38065c94d6bb"
      },
      "execution_count": 74,
      "outputs": [
        {
          "output_type": "stream",
          "name": "stdout",
          "text": [
            "cols 255\n",
            "rows 255\n",
            "image in_255/you.jpg\n",
            "cols 255\n",
            "rows 255\n",
            "image in_255/warda.jpg\n",
            "cols 255\n",
            "rows 255\n",
            "image in_255/cat.jpg\n",
            "cols 255\n",
            "rows 255\n",
            "image in_255/camel.jpg\n",
            "==13571== NVPROF is profiling process 13571, command: ./K1_2_31_2_33 in_255 out1 4 mask_edge_5.txt\n",
            "==13571== Profiling application: ./K1_2_31_2_33 in_255 out1 4 mask_edge_5.txt\n",
            "==13571== Profiling result:\n",
            "            Type  Time(%)      Time     Calls       Avg       Min       Max  Name\n",
            " GPU activities:   66.62%  527.92us         2  263.96us     992ns  526.93us  [CUDA memcpy HtoD]\n",
            "                   18.69%  148.12us         1  148.12us  148.12us  148.12us  Imgcov3d(int, float*, float*, unsigned int, unsigned int, float const *, int)\n",
            "                   14.69%  116.38us         1  116.38us  116.38us  116.38us  [CUDA memcpy DtoH]\n",
            "      API calls:   97.53%  96.424ms         3  32.141ms  7.4830us  96.304ms  cudaMalloc\n",
            "                    1.77%  1.7457ms         3  581.90us  11.881us  1.0396ms  cudaMemcpy\n",
            "                    0.35%  342.27us         3  114.09us  8.5750us  198.65us  cudaFree\n",
            "                    0.18%  178.22us         1  178.22us  178.22us  178.22us  cudaLaunchKernel\n",
            "                    0.15%  152.77us       114  1.3400us     140ns  69.640us  cuDeviceGetAttribute\n",
            "                    0.01%  10.871us         1  10.871us  10.871us  10.871us  cuDeviceGetName\n",
            "                    0.01%  5.0160us         1  5.0160us  5.0160us  5.0160us  cuDeviceGetPCIBusId\n",
            "                    0.00%  4.2020us         1  4.2020us  4.2020us  4.2020us  cuDeviceTotalMem\n",
            "                    0.00%  1.5760us         3     525ns     238ns  1.0550us  cuDeviceGetCount\n",
            "                    0.00%     914ns         2     457ns     182ns     732ns  cuDeviceGet\n",
            "                    0.00%     471ns         1     471ns     471ns     471ns  cuModuleGetLoadingMode\n",
            "                    0.00%     221ns         1     221ns     221ns     221ns  cuDeviceGetUuid\n"
          ]
        }
      ]
    },
    {
      "cell_type": "code",
      "execution_count": 88,
      "metadata": {
        "colab": {
          "base_uri": "https://localhost:8080/"
        },
        "id": "AmyNiiKDv1oi",
        "outputId": "4ce3717d-e633-4099-f815-31122c06ac8b"
      },
      "outputs": [
        {
          "output_type": "stream",
          "name": "stdout",
          "text": [
            "Overwriting K2_2_31_2_33.cu\n"
          ]
        }
      ],
      "source": [
        "%%writefile K2_2_31_2_33.cu\n",
        "//Norhan_Reda_Abdelwahed_2_31\n",
        "//Hoda_Gamal_Hamouda_2_33\n",
        "\n",
        "#include <stdio.h>\n",
        "#include <stdlib.h>\n",
        "#include <math.h>\n",
        "#include <assert.h>\n",
        "#include <iostream>\n",
        "#include <iomanip>\n",
        "#include <fstream>\n",
        "#include <vector>\n",
        "#define STB_IMAGE_IMPLEMENTATION\n",
        "#include <stdio.h>\n",
        "#include \"stb_image.h\"\n",
        "#define STB_IMAGE_WRITE_IMPLEMENTATION\n",
        "#include \"stb_image_write.h\"\n",
        "#include <string>\n",
        "#include <filesystem>\n",
        "#include <cuda_runtime.h>\n",
        "\n",
        "using namespace std;\n",
        "\n",
        "// Kernel definition\n",
        "__global__ void Imgcov3d(int batchSize, float *input, float* output, unsigned int width,unsigned int height, const float* __restrict__ mask,int maskdim, int shared_width,int shared_height, int shared_depth){\n",
        "\n",
        "  extern __shared__ float sharedTile [];\n",
        "\n",
        "    int tx = threadIdx.x;\n",
        "    int ty = threadIdx.y;\n",
        "\n",
        "    int tile_x = shared_width - (maskdim - 1);\n",
        "    int tile_y = shared_height - (maskdim - 1);\n",
        "\n",
        "    int x_o = blockIdx.x * tile_x + threadIdx.x;\n",
        "    int y_o = blockIdx.y * tile_y + threadIdx.y;\n",
        "\n",
        "    int x_i = x_o - maskdim/2;\n",
        "    int y_i = y_o - maskdim/2;\n",
        "\n",
        "    int idx = blockIdx.z * blockDim.z + threadIdx.z;\n",
        "\n",
        "    if (idx >= batchSize){\n",
        "      return;\n",
        "    }\n",
        "\n",
        "  for (int d = 0; d < 3; d++) {\n",
        "\n",
        "    if (x_i >= 0 && y_i >= 0 && x_i < width && y_i < height){\n",
        "\n",
        "       sharedTile[idx * shared_width * shared_height * 3 + d * shared_height * shared_width + ty * shared_width + tx] =\n",
        "        input[idx * width * height * 3 + d * height * width + y_i * width + x_i];\n",
        "    }\n",
        "    else{\n",
        "       sharedTile[idx * shared_width * shared_height * 3 + d * shared_height * shared_width + ty * shared_width + tx] = 0;\n",
        "    }\n",
        "  }\n",
        "    __syncthreads();\n",
        "\n",
        "    float sum = 0.0;\n",
        "    if(ty < tile_y && tx < tile_x) {\n",
        "\n",
        "      for(int y_mask = 0; y_mask < maskdim; y_mask++) {\n",
        "            for(int x_mask = 0; x_mask < maskdim; x_mask++) {\n",
        "                  for(int z_mask = 0; z_mask < 3; z_mask++) {\n",
        "                    sum += mask[z_mask * maskdim * maskdim + y_mask * maskdim + x_mask] *\n",
        "                    sharedTile[idx * shared_height * shared_width * 3 + z_mask * shared_height * shared_width + (ty + y_mask) * shared_width +(tx + x_mask)];\n",
        "\n",
        "                }\n",
        "             }\n",
        "         }\n",
        "\n",
        "    if(sum < 0){\n",
        "      sum = 0;\n",
        "    } else if (sum > 255){\n",
        "      sum = 255;\n",
        "    }\n",
        "\n",
        "    if(y_o < height && x_o < width)\n",
        "        output[idx * width * height + y_o * width + x_o] = sum;\n",
        "    }\n",
        "}\n",
        "\n",
        "int main(int argc, char *argv[]) {\n",
        "\n",
        "    string folderPath = argv[1];\n",
        "    string out_path = argv[2];\n",
        "    int batch_size = stoi(argv[3]);\n",
        "    string mask_path = argv[4];\n",
        "\n",
        "    int maskdim;\n",
        "\n",
        "    // Open the file for reading\n",
        "    std::ifstream inputFile(mask_path);\n",
        "\n",
        "    // Check if the file is opened successfully\n",
        "    if (!inputFile.is_open()) {\n",
        "        std::cerr << \"Error opening file: \" <<mask_path  << std::endl;\n",
        "        return 1; // Exit with an error code\n",
        "    }\n",
        "\n",
        "     inputFile >> maskdim ;\n",
        "     cout<<\"maskdim \"<<maskdim<<endl;\n",
        "\n",
        "    float *h_A, *h_B,*R,*G,*B;\n",
        "    int rows1,cols1, comp;\n",
        "\n",
        "    float *h_images;\n",
        "    int img_index = 0;\n",
        "\n",
        "    for (const auto& entry : std::filesystem::directory_iterator(folderPath)) {\n",
        "\n",
        "        if (entry.is_regular_file()) {\n",
        "            std::string filePath = entry.path().string();\n",
        "\n",
        "            unsigned char *data = stbi_load(filePath.c_str(), &cols1, &rows1, &comp, 0);\n",
        "\n",
        "            if(img_index == 0){\n",
        "              h_images = (float*)malloc(sizeof(float) * batch_size * cols1 * rows1 * comp);\n",
        "            }\n",
        "\n",
        "            if (data) {\n",
        "\n",
        "                printf(\"cols %d\\n\", cols1);\n",
        "                printf(\"rows %d\\n\", rows1);\n",
        "                printf(\"image %s\\n\", filePath.c_str());\n",
        "\n",
        "                h_A = (float*)malloc(sizeof(float) *  rows1 * cols1* comp);\n",
        "                R = (float*)malloc(sizeof(float) *  rows1 * cols1);\n",
        "                G = (float*)malloc(sizeof(float) *  rows1 * cols1);\n",
        "                B = (float*)malloc(sizeof(float) *  rows1 * cols1);\n",
        "\n",
        "                int k = 0;\n",
        "                for(int i=0;i<rows1 * cols1* comp;i=i+3)\n",
        "                {\n",
        "                  R[k] =  static_cast<float>(data[i]);\n",
        "                  k=k+1;\n",
        "                }\n",
        "                k=0;\n",
        "                for(int i=1;i<rows1 * cols1* comp;i=i+3)\n",
        "                {\n",
        "                  G[k] =  static_cast<float>(data[i]);\n",
        "                  k=k+1;\n",
        "                }\n",
        "                k=0;\n",
        "                for(int i=2;i<rows1 * cols1* comp;i=i+3)\n",
        "                {\n",
        "                  B[k] =  static_cast<float>(data[i]);\n",
        "                  k=k+1;\n",
        "                }\n",
        "\n",
        "\n",
        "                memcpy(h_A, R, rows1*cols1 * sizeof(float));\n",
        "                memcpy(h_A +rows1*cols1 , G, rows1*cols1 * sizeof(float));\n",
        "                memcpy(h_A+rows1*cols1+rows1*cols1, B, rows1*cols1 * sizeof(float));\n",
        "\n",
        "                memcpy(h_images + img_index * rows1 * cols1 * 3,                     R, rows1 * cols1 * sizeof(float));\n",
        "                memcpy(h_images + img_index * rows1 * cols1 * 3 + rows1 * cols1,     G, rows1 * cols1 * sizeof(float));\n",
        "                memcpy(h_images + img_index * rows1 * cols1 * 3 + rows1 * cols1 * 2, B, rows1 * cols1 * sizeof(float));\n",
        "\n",
        "                img_index++;\n",
        "\n",
        "             }\n",
        "             else {\n",
        "                // Failed to load the image\n",
        "                std::cerr << \"Failed to load image: \" << filePath << std::endl;\n",
        "            }\n",
        "\n",
        "           }\n",
        "      }\n",
        "\n",
        "\n",
        "      float *d_images_temp = (float*)malloc(sizeof(float) * batch_size * rows1 * cols1 * comp);\n",
        "      for(int i=0; i<batch_size; i++){\n",
        "        memcpy(d_images_temp + i * rows1 * cols1 *comp , h_images + i * rows1 * cols1 *comp, rows1 * cols1 *comp * sizeof(float));\n",
        "      }\n",
        "\n",
        "\n",
        "    float *d_images;\n",
        "    cudaMalloc((void**)&d_images, batch_size * rows1 * cols1 * comp * sizeof(float));\n",
        "    cudaMemcpy(d_images, d_images_temp, batch_size * rows1 * cols1 * comp * sizeof(float), cudaMemcpyHostToDevice);\n",
        "\n",
        "    h_B =(float*)malloc(sizeof(float) * maskdim* maskdim*comp);\n",
        "\n",
        "    float *d_outs;\n",
        "    cudaMalloc((void**)&d_outs, batch_size * rows1 * cols1 * sizeof(float));\n",
        "\n",
        "    float *h_outs = (float*)malloc(sizeof(float) * batch_size * rows1 * cols1);\n",
        "\n",
        "    float *h_R, *h_G,*h_BB;\n",
        "    h_R =(float*)malloc(sizeof(float) * maskdim* maskdim);\n",
        "    h_G =(float*)malloc(sizeof(float) * maskdim* maskdim);\n",
        "    h_BB =(float*)malloc(sizeof(float) * maskdim* maskdim);\n",
        "    // Read mask elements\n",
        "    for (int i = 0; i < maskdim; ++i) {\n",
        "        for (int j = 0; j < maskdim; ++j) {\n",
        "\n",
        "            int index =  i * maskdim + j;\n",
        "            inputFile >>  h_R[index];\n",
        "            h_R[index]=h_R[index];\n",
        "            h_G[index]=h_R[index];\n",
        "            h_BB[index]=h_R[index];\n",
        "\n",
        "        }\n",
        "    }\n",
        "\n",
        "    memcpy(h_B, h_R,  maskdim* maskdim * sizeof(float));\n",
        "    memcpy(h_B + maskdim* maskdim , h_G, maskdim* maskdim * sizeof(float));\n",
        "    memcpy(h_B+maskdim* maskdim+maskdim* maskdim,  h_BB, maskdim* maskdim * sizeof(float));\n",
        "\n",
        "\n",
        "    // Copy data from host to device\n",
        "    //cudaMemcpyToSymbol(mask, h_B, maskdim * maskdim *comp * sizeof(float), 0, cudaMemcpyHostToDevice);\n",
        "\n",
        "    float * d_B ;\n",
        "    cudaMalloc((void**)&d_B, maskdim *  maskdim *comp * sizeof(float));\n",
        "    cudaMemcpy(d_B, h_B,   maskdim *  maskdim *comp * sizeof(float), cudaMemcpyHostToDevice);\n",
        "\n",
        "    // Kernel invocation\n",
        "\n",
        "    dim3 threadsPerBlock(32,32,1);\n",
        "\n",
        "    int tile_x = threadsPerBlock.x - (maskdim - 1);\n",
        "    int tile_y = threadsPerBlock.y - (maskdim - 1);\n",
        "    //int tile_z = threadsPerBlock.z - (batch_size - 1);\n",
        "    //int tile_z = threadsPerBlock.z;\n",
        "\n",
        "    int x_blocks = (cols1 + tile_x - 1) / tile_x;\n",
        "    int y_blocks = (rows1 + tile_y - 1) / tile_y;\n",
        "    // int z_blocks = (batch_size + tile_z - 1) / tile_z;\n",
        "    int z_blocks = batch_size;\n",
        "\n",
        "    int shared_width = tile_x + maskdim - 1;\n",
        "    int shared_height = tile_y + maskdim - 1;\n",
        "    //int shared_depth = tile_z + batch_size - 1;\n",
        "    int shared_depth = batch_size;\n",
        "\n",
        "    dim3 numBlocks(x_blocks, y_blocks, z_blocks);\n",
        "\n",
        "    Imgcov3d<<<numBlocks, threadsPerBlock,(sizeof(float)*shared_width*shared_height*3*shared_depth)>>>(batch_size,d_images,d_outs,cols1,rows1,d_B, maskdim,shared_width,shared_height,shared_depth);\n",
        "\n",
        "    cudaMemcpy(h_outs, d_outs, batch_size * rows1 * cols1 * sizeof(float), cudaMemcpyDeviceToHost);\n",
        "\n",
        "    unsigned char* h_char = (unsigned char*)malloc(sizeof(unsigned char) * rows1 * cols1);\n",
        "\n",
        "    for(int k=0;k<batch_size;k++){\n",
        "\n",
        "      for(int i=0;i<rows1*cols1;i++){\n",
        "         h_char[i]=static_cast<unsigned char>(h_outs[k*rows1*cols1+i]);\n",
        "      }\n",
        "      string filename = \"./\"+out_path+\"/\"+\"image\" + std::to_string(k) + \".jpg\";\n",
        "      stbi_write_jpg(filename.c_str(), cols1, rows1, 1, h_char, 100);\n",
        "    }\n",
        "\n",
        "    // Free device memory\n",
        "    cudaFree(d_images);\n",
        "    cudaFree(d_B);\n",
        "    cudaFree(d_outs);\n",
        "\n",
        "    // Free host memory\n",
        "    free(h_A);\n",
        "    free(h_B);\n",
        "    free(R);\n",
        "    free(G);\n",
        "    free(B);\n",
        "    free(h_images);\n",
        "    free(d_images_temp);\n",
        "    free(h_outs);\n",
        "    free(h_BB);\n",
        "    free(h_G);\n",
        "    free(h_R);\n",
        "    free(h_char);\n",
        "\n",
        "  return 0;\n",
        "}"
      ]
    },
    {
      "cell_type": "code",
      "execution_count": 89,
      "metadata": {
        "id": "YwqgGMOTv1k9"
      },
      "outputs": [],
      "source": [
        "!chmod +x K2_2_31_2_33.cu\n",
        "!nvcc  K2_2_31_2_33.cu -o K2_2_31_2_33"
      ]
    },
    {
      "cell_type": "code",
      "source": [
        "!nvprof ./K2_2_31_2_33 \"in_255\" \"out2\" 4 \"mask_3.txt\""
      ],
      "metadata": {
        "colab": {
          "base_uri": "https://localhost:8080/"
        },
        "id": "2WmKFr28o-RP",
        "outputId": "d1cd5b83-0846-4e9b-f3b3-601530364edf"
      },
      "execution_count": 90,
      "outputs": [
        {
          "output_type": "stream",
          "name": "stdout",
          "text": [
            "maskdim 3\n",
            "cols 255\n",
            "rows 255\n",
            "image in_255/you.jpg\n",
            "cols 255\n",
            "rows 255\n",
            "image in_255/warda.jpg\n",
            "cols 255\n",
            "rows 255\n",
            "image in_255/cat.jpg\n",
            "cols 255\n",
            "rows 255\n",
            "image in_255/camel.jpg\n",
            "==18493== NVPROF is profiling process 18493, command: ./K2_2_31_2_33 in_255 out2 4 mask_3.txt\n",
            "==18493== Profiling application: ./K2_2_31_2_33 in_255 out2 4 mask_3.txt\n",
            "==18493== Profiling result:\n",
            "            Type  Time(%)      Time     Calls       Avg       Min       Max  Name\n",
            " GPU activities:   71.94%  514.29us         2  257.15us     992ns  513.30us  [CUDA memcpy HtoD]\n",
            "                   16.37%  117.02us         1  117.02us  117.02us  117.02us  [CUDA memcpy DtoH]\n",
            "                   11.69%  83.581us         1  83.581us  83.581us  83.581us  Imgcov3d(int, float*, float*, unsigned int, unsigned int, float const *, int, int, int, int)\n",
            "      API calls:   97.67%  101.00ms         3  33.666ms  23.948us  100.86ms  cudaMalloc\n",
            "                    1.63%  1.6903ms         3  563.42us  12.298us  976.95us  cudaMemcpy\n",
            "                    0.32%  327.20us         3  109.07us  9.1140us  189.29us  cudaFree\n",
            "                    0.22%  231.55us         1  231.55us  231.55us  231.55us  cudaLaunchKernel\n",
            "                    0.13%  131.18us       114  1.1500us     137ns  51.529us  cuDeviceGetAttribute\n",
            "                    0.01%  11.328us         1  11.328us  11.328us  11.328us  cuDeviceGetName\n",
            "                    0.01%  5.6290us         1  5.6290us  5.6290us  5.6290us  cuDeviceGetPCIBusId\n",
            "                    0.00%  4.6500us         1  4.6500us  4.6500us  4.6500us  cuDeviceTotalMem\n",
            "                    0.00%  2.4430us         2  1.2210us     192ns  2.2510us  cuDeviceGet\n",
            "                    0.00%  2.0020us         3     667ns     202ns  1.4580us  cuDeviceGetCount\n",
            "                    0.00%     455ns         1     455ns     455ns     455ns  cuModuleGetLoadingMode\n",
            "                    0.00%     206ns         1     206ns     206ns     206ns  cuDeviceGetUuid\n"
          ]
        }
      ]
    },
    {
      "cell_type": "code",
      "source": [
        "!nvprof ./K2_2_31_2_33 \"in_255\" \"out2\" 4 \"mask_5.txt\""
      ],
      "metadata": {
        "colab": {
          "base_uri": "https://localhost:8080/"
        },
        "id": "Afm80bJWzgq5",
        "outputId": "dad2aec8-31dd-40da-a283-1fbd56699f2a"
      },
      "execution_count": 91,
      "outputs": [
        {
          "output_type": "stream",
          "name": "stdout",
          "text": [
            "maskdim 5\n",
            "cols 255\n",
            "rows 255\n",
            "image in_255/you.jpg\n",
            "cols 255\n",
            "rows 255\n",
            "image in_255/warda.jpg\n",
            "cols 255\n",
            "rows 255\n",
            "image in_255/cat.jpg\n",
            "cols 255\n",
            "rows 255\n",
            "image in_255/camel.jpg\n",
            "==18616== NVPROF is profiling process 18616, command: ./K2_2_31_2_33 in_255 out2 4 mask_5.txt\n",
            "==18616== Profiling application: ./K2_2_31_2_33 in_255 out2 4 mask_5.txt\n",
            "==18616== Profiling result:\n",
            "            Type  Time(%)      Time     Calls       Avg       Min       Max  Name\n",
            " GPU activities:   63.10%  520.37us         2  260.19us     992ns  519.38us  [CUDA memcpy HtoD]\n",
            "                   23.46%  193.50us         1  193.50us  193.50us  193.50us  Imgcov3d(int, float*, float*, unsigned int, unsigned int, float const *, int, int, int, int)\n",
            "                   13.44%  110.81us         1  110.81us  110.81us  110.81us  [CUDA memcpy DtoH]\n",
            "      API calls:   96.60%  97.806ms         3  32.602ms  4.9560us  97.673ms  cudaMalloc\n",
            "                    1.76%  1.7789ms         3  592.97us  12.601us  1.0951ms  cudaMemcpy\n",
            "                    1.25%  1.2661ms         3  422.05us  10.042us  1.1026ms  cudaFree\n",
            "                    0.23%  229.01us         1  229.01us  229.01us  229.01us  cudaLaunchKernel\n",
            "                    0.14%  141.06us       114  1.2370us     144ns  54.483us  cuDeviceGetAttribute\n",
            "                    0.01%  12.154us         1  12.154us  12.154us  12.154us  cuDeviceGetName\n",
            "                    0.01%  6.1000us         1  6.1000us  6.1000us  6.1000us  cuDeviceGetPCIBusId\n",
            "                    0.00%  4.6510us         1  4.6510us  4.6510us  4.6510us  cuDeviceTotalMem\n",
            "                    0.00%  2.4540us         3     818ns     234ns  1.9260us  cuDeviceGetCount\n",
            "                    0.00%  1.2970us         2     648ns     199ns  1.0980us  cuDeviceGet\n",
            "                    0.00%     515ns         1     515ns     515ns     515ns  cuModuleGetLoadingMode\n",
            "                    0.00%     232ns         1     232ns     232ns     232ns  cuDeviceGetUuid\n"
          ]
        }
      ]
    },
    {
      "cell_type": "code",
      "source": [
        "!nvprof ./K2_2_31_2_33 \"in_255\" \"out2\" 4 \"mask_7.txt\""
      ],
      "metadata": {
        "colab": {
          "base_uri": "https://localhost:8080/"
        },
        "id": "m6XMXdffzgaZ",
        "outputId": "9fb96088-d1a5-4d5b-f99c-fe85bb29e534"
      },
      "execution_count": 92,
      "outputs": [
        {
          "output_type": "stream",
          "name": "stdout",
          "text": [
            "maskdim 7\n",
            "cols 255\n",
            "rows 255\n",
            "image in_255/you.jpg\n",
            "cols 255\n",
            "rows 255\n",
            "image in_255/warda.jpg\n",
            "cols 255\n",
            "rows 255\n",
            "image in_255/cat.jpg\n",
            "cols 255\n",
            "rows 255\n",
            "image in_255/camel.jpg\n",
            "==18747== NVPROF is profiling process 18747, command: ./K2_2_31_2_33 in_255 out2 4 mask_7.txt\n",
            "==18747== Profiling application: ./K2_2_31_2_33 in_255 out2 4 mask_7.txt\n",
            "==18747== Profiling result:\n",
            "            Type  Time(%)      Time     Calls       Avg       Min       Max  Name\n",
            " GPU activities:   54.06%  519.25us         2  259.63us  1.0240us  518.23us  [CUDA memcpy HtoD]\n",
            "                   33.55%  322.23us         1  322.23us  322.23us  322.23us  Imgcov3d(int, float*, float*, unsigned int, unsigned int, float const *, int, int, int, int)\n",
            "                   12.38%  118.94us         1  118.94us  118.94us  118.94us  [CUDA memcpy DtoH]\n",
            "      API calls:   97.16%  98.055ms         3  32.685ms  7.5900us  97.921ms  cudaMalloc\n",
            "                    2.03%  2.0442ms         3  681.41us  13.179us  1.2962ms  cudaMemcpy\n",
            "                    0.33%  337.69us         1  337.69us  337.69us  337.69us  cudaLaunchKernel\n",
            "                    0.33%  334.02us         3  111.34us  9.4200us  199.97us  cudaFree\n",
            "                    0.13%  129.33us       114  1.1340us     135ns  51.711us  cuDeviceGetAttribute\n",
            "                    0.01%  12.483us         1  12.483us  12.483us  12.483us  cuDeviceGetName\n",
            "                    0.00%  4.8720us         1  4.8720us  4.8720us  4.8720us  cuDeviceGetPCIBusId\n",
            "                    0.00%  4.4340us         1  4.4340us  4.4340us  4.4340us  cuDeviceTotalMem\n",
            "                    0.00%  1.5650us         3     521ns     170ns  1.1540us  cuDeviceGetCount\n",
            "                    0.00%     965ns         2     482ns     197ns     768ns  cuDeviceGet\n",
            "                    0.00%     455ns         1     455ns     455ns     455ns  cuModuleGetLoadingMode\n",
            "                    0.00%     227ns         1     227ns     227ns     227ns  cuDeviceGetUuid\n"
          ]
        }
      ]
    },
    {
      "cell_type": "code",
      "source": [
        "!nvprof ./K2_2_31_2_33 \"in_255\" \"out2\" 4 \"mask_9.txt\""
      ],
      "metadata": {
        "colab": {
          "base_uri": "https://localhost:8080/"
        },
        "id": "VWtxAEqSzgW9",
        "outputId": "7112a6ce-57a0-463a-d3ce-b5b75adc40d7"
      },
      "execution_count": 93,
      "outputs": [
        {
          "output_type": "stream",
          "name": "stdout",
          "text": [
            "maskdim 9\n",
            "cols 255\n",
            "rows 255\n",
            "image in_255/you.jpg\n",
            "cols 255\n",
            "rows 255\n",
            "image in_255/warda.jpg\n",
            "cols 255\n",
            "rows 255\n",
            "image in_255/cat.jpg\n",
            "cols 255\n",
            "rows 255\n",
            "image in_255/camel.jpg\n",
            "==18830== NVPROF is profiling process 18830, command: ./K2_2_31_2_33 in_255 out2 4 mask_9.txt\n",
            "==18830== Profiling application: ./K2_2_31_2_33 in_255 out2 4 mask_9.txt\n",
            "==18830== Profiling result:\n",
            "            Type  Time(%)      Time     Calls       Avg       Min       Max  Name\n",
            " GPU activities:   49.52%  606.16us         1  606.16us  606.16us  606.16us  Imgcov3d(int, float*, float*, unsigned int, unsigned int, float const *, int, int, int, int)\n",
            "                   43.77%  535.73us         2  267.86us  1.0230us  534.71us  [CUDA memcpy HtoD]\n",
            "                    6.71%  82.078us         1  82.078us  82.078us  82.078us  [CUDA memcpy DtoH]\n",
            "      API calls:   97.14%  97.382ms         3  32.461ms  5.6180us  97.266ms  cudaMalloc\n",
            "                    2.13%  2.1368ms         3  712.28us  12.573us  1.4229ms  cudaMemcpy\n",
            "                    0.33%  329.28us         3  109.76us  8.8910us  190.21us  cudaFree\n",
            "                    0.21%  214.58us         1  214.58us  214.58us  214.58us  cudaLaunchKernel\n",
            "                    0.16%  161.63us       114  1.4170us     136ns  73.488us  cuDeviceGetAttribute\n",
            "                    0.01%  10.753us         1  10.753us  10.753us  10.753us  cuDeviceGetName\n",
            "                    0.01%  5.6440us         1  5.6440us  5.6440us  5.6440us  cuDeviceGetPCIBusId\n",
            "                    0.00%  4.5380us         1  4.5380us  4.5380us  4.5380us  cuDeviceTotalMem\n",
            "                    0.00%  1.7290us         3     576ns     183ns  1.2510us  cuDeviceGetCount\n",
            "                    0.00%  1.0710us         2     535ns     205ns     866ns  cuDeviceGet\n",
            "                    0.00%     523ns         1     523ns     523ns     523ns  cuModuleGetLoadingMode\n",
            "                    0.00%     262ns         1     262ns     262ns     262ns  cuDeviceGetUuid\n"
          ]
        }
      ]
    },
    {
      "cell_type": "code",
      "source": [
        "!nvprof ./K2_2_31_2_33 \"in_255\" \"out2\" 4 \"mask_11.txt\""
      ],
      "metadata": {
        "colab": {
          "base_uri": "https://localhost:8080/"
        },
        "id": "MDhHlVzZzgUJ",
        "outputId": "44b04067-a984-4d5e-906a-a36d4ef91973"
      },
      "execution_count": 94,
      "outputs": [
        {
          "output_type": "stream",
          "name": "stdout",
          "text": [
            "maskdim 11\n",
            "cols 255\n",
            "rows 255\n",
            "image in_255/you.jpg\n",
            "cols 255\n",
            "rows 255\n",
            "image in_255/warda.jpg\n",
            "cols 255\n",
            "rows 255\n",
            "image in_255/cat.jpg\n",
            "cols 255\n",
            "rows 255\n",
            "image in_255/camel.jpg\n",
            "==18905== NVPROF is profiling process 18905, command: ./K2_2_31_2_33 in_255 out2 4 mask_11.txt\n",
            "==18905== Profiling application: ./K2_2_31_2_33 in_255 out2 4 mask_11.txt\n",
            "==18905== Profiling result:\n",
            "            Type  Time(%)      Time     Calls       Avg       Min       Max  Name\n",
            " GPU activities:   59.56%  942.69us         1  942.69us  942.69us  942.69us  Imgcov3d(int, float*, float*, unsigned int, unsigned int, float const *, int, int, int, int)\n",
            "                   35.28%  558.35us         2  279.18us  1.0240us  557.33us  [CUDA memcpy HtoD]\n",
            "                    5.16%  81.662us         1  81.662us  81.662us  81.662us  [CUDA memcpy DtoH]\n",
            "      API calls:   96.46%  88.550ms         3  29.517ms  5.0580us  88.418ms  cudaMalloc\n",
            "                    2.71%  2.4834ms         3  827.81us  12.458us  1.7363ms  cudaMemcpy\n",
            "                    0.43%  391.94us         3  130.65us  10.996us  242.08us  cudaFree\n",
            "                    0.23%  212.09us         1  212.09us  212.09us  212.09us  cudaLaunchKernel\n",
            "                    0.15%  135.86us       114  1.1910us     148ns  52.874us  cuDeviceGetAttribute\n",
            "                    0.01%  13.526us         1  13.526us  13.526us  13.526us  cuDeviceGetName\n",
            "                    0.01%  5.1310us         1  5.1310us  5.1310us  5.1310us  cuDeviceGetPCIBusId\n",
            "                    0.00%  4.3720us         1  4.3720us  4.3720us  4.3720us  cuDeviceTotalMem\n",
            "                    0.00%  2.0250us         3     675ns     219ns  1.4320us  cuDeviceGetCount\n",
            "                    0.00%  1.1100us         2     555ns     327ns     783ns  cuDeviceGet\n",
            "                    0.00%     707ns         1     707ns     707ns     707ns  cuModuleGetLoadingMode\n",
            "                    0.00%     258ns         1     258ns     258ns     258ns  cuDeviceGetUuid\n"
          ]
        }
      ]
    },
    {
      "cell_type": "code",
      "source": [
        "!nvprof ./K2_2_31_2_33 \"in_255\" \"out2\" 4 \"mask_13.txt\""
      ],
      "metadata": {
        "colab": {
          "base_uri": "https://localhost:8080/"
        },
        "id": "QFuHZncUzgSB",
        "outputId": "6bc4b9ab-e5a4-4c66-d5d7-fa0688bda742"
      },
      "execution_count": 95,
      "outputs": [
        {
          "output_type": "stream",
          "name": "stdout",
          "text": [
            "maskdim 13\n",
            "cols 255\n",
            "rows 255\n",
            "image in_255/you.jpg\n",
            "cols 255\n",
            "rows 255\n",
            "image in_255/warda.jpg\n",
            "cols 255\n",
            "rows 255\n",
            "image in_255/cat.jpg\n",
            "cols 255\n",
            "rows 255\n",
            "image in_255/camel.jpg\n",
            "==18978== NVPROF is profiling process 18978, command: ./K2_2_31_2_33 in_255 out2 4 mask_13.txt\n",
            "==18978== Profiling application: ./K2_2_31_2_33 in_255 out2 4 mask_13.txt\n",
            "==18978== Profiling result:\n",
            "            Type  Time(%)      Time     Calls       Avg       Min       Max  Name\n",
            " GPU activities:   67.96%  1.3419ms         1  1.3419ms  1.3419ms  1.3419ms  Imgcov3d(int, float*, float*, unsigned int, unsigned int, float const *, int, int, int, int)\n",
            "                   26.96%  532.27us         2  266.14us  1.0880us  531.19us  [CUDA memcpy HtoD]\n",
            "                    5.09%  100.48us         1  100.48us  100.48us  100.48us  [CUDA memcpy DtoH]\n",
            "      API calls:   95.95%  87.991ms         3  29.330ms  7.3590us  87.856ms  cudaMalloc\n",
            "                    3.25%  2.9773ms         3  992.43us  12.713us  2.2717ms  cudaMemcpy\n",
            "                    0.37%  341.75us         3  113.92us  9.2990us  191.75us  cudaFree\n",
            "                    0.25%  231.42us         1  231.42us  231.42us  231.42us  cudaLaunchKernel\n",
            "                    0.15%  139.76us       114  1.2260us     135ns  61.749us  cuDeviceGetAttribute\n",
            "                    0.01%  11.012us         1  11.012us  11.012us  11.012us  cuDeviceGetName\n",
            "                    0.01%  4.9680us         1  4.9680us  4.9680us  4.9680us  cuDeviceGetPCIBusId\n",
            "                    0.00%  4.0660us         1  4.0660us  4.0660us  4.0660us  cuDeviceTotalMem\n",
            "                    0.00%  2.5810us         2  1.2900us     167ns  2.4140us  cuDeviceGet\n",
            "                    0.00%  1.6450us         3     548ns     192ns  1.2190us  cuDeviceGetCount\n",
            "                    0.00%     517ns         1     517ns     517ns     517ns  cuModuleGetLoadingMode\n",
            "                    0.00%     224ns         1     224ns     224ns     224ns  cuDeviceGetUuid\n"
          ]
        }
      ]
    },
    {
      "cell_type": "code",
      "source": [
        "!nvprof ./K2_2_31_2_33 \"in_255\" \"out2\" 4 \"mask_15.txt\""
      ],
      "metadata": {
        "colab": {
          "base_uri": "https://localhost:8080/"
        },
        "id": "ZIFQL7IFzgPm",
        "outputId": "9de4785f-8ea4-42e0-d29d-25262599508f"
      },
      "execution_count": 96,
      "outputs": [
        {
          "output_type": "stream",
          "name": "stdout",
          "text": [
            "maskdim 15\n",
            "cols 255\n",
            "rows 255\n",
            "image in_255/you.jpg\n",
            "cols 255\n",
            "rows 255\n",
            "image in_255/warda.jpg\n",
            "cols 255\n",
            "rows 255\n",
            "image in_255/cat.jpg\n",
            "cols 255\n",
            "rows 255\n",
            "image in_255/camel.jpg\n",
            "==19061== NVPROF is profiling process 19061, command: ./K2_2_31_2_33 in_255 out2 4 mask_15.txt\n",
            "==19061== Profiling application: ./K2_2_31_2_33 in_255 out2 4 mask_15.txt\n",
            "==19061== Profiling result:\n",
            "            Type  Time(%)      Time     Calls       Avg       Min       Max  Name\n",
            " GPU activities:   77.74%  2.1607ms         1  2.1607ms  2.1607ms  2.1607ms  Imgcov3d(int, float*, float*, unsigned int, unsigned int, float const *, int, int, int, int)\n",
            "                   18.71%  519.95us         2  259.98us  1.1520us  518.80us  [CUDA memcpy HtoD]\n",
            "                    3.55%  98.589us         1  98.589us  98.589us  98.589us  [CUDA memcpy DtoH]\n",
            "      API calls:   95.71%  101.02ms         3  33.674ms  5.0740us  100.90ms  cudaMalloc\n",
            "                    3.59%  3.7912ms         3  1.2637ms  13.240us  3.0695ms  cudaMemcpy\n",
            "                    0.31%  325.79us         3  108.60us  9.2060us  190.17us  cudaFree\n",
            "                    0.23%  239.09us         1  239.09us  239.09us  239.09us  cudaLaunchKernel\n",
            "                    0.14%  150.03us       114  1.3160us     137ns  58.071us  cuDeviceGetAttribute\n",
            "                    0.01%  11.793us         1  11.793us  11.793us  11.793us  cuDeviceGetName\n",
            "                    0.01%  5.8380us         1  5.8380us  5.8380us  5.8380us  cuDeviceGetPCIBusId\n",
            "                    0.00%  4.4240us         1  4.4240us  4.4240us  4.4240us  cuDeviceTotalMem\n",
            "                    0.00%  1.5080us         3     502ns     130ns  1.0210us  cuDeviceGetCount\n",
            "                    0.00%  1.0500us         2     525ns     346ns     704ns  cuDeviceGet\n",
            "                    0.00%     507ns         1     507ns     507ns     507ns  cuModuleGetLoadingMode\n",
            "                    0.00%     231ns         1     231ns     231ns     231ns  cuDeviceGetUuid\n"
          ]
        }
      ]
    },
    {
      "cell_type": "code",
      "source": [
        "!nvprof ./K2_2_31_2_33 \"in_255\" \"out2\" 4 \"mask_edge_5.txt\""
      ],
      "metadata": {
        "colab": {
          "base_uri": "https://localhost:8080/"
        },
        "id": "XZfyxd5hzgIT",
        "outputId": "8fe6e7f9-1f0e-41fd-b9c3-315b559f3307"
      },
      "execution_count": 99,
      "outputs": [
        {
          "output_type": "stream",
          "name": "stdout",
          "text": [
            "maskdim 5\n",
            "cols 255\n",
            "rows 255\n",
            "image in_255/you.jpg\n",
            "cols 255\n",
            "rows 255\n",
            "image in_255/warda.jpg\n",
            "cols 255\n",
            "rows 255\n",
            "image in_255/cat.jpg\n",
            "cols 255\n",
            "rows 255\n",
            "image in_255/camel.jpg\n",
            "==19494== NVPROF is profiling process 19494, command: ./K2_2_31_2_33 in_255 out2 4 mask_edge_5.txt\n",
            "==19494== Profiling application: ./K2_2_31_2_33 in_255 out2 4 mask_edge_5.txt\n",
            "==19494== Profiling result:\n",
            "            Type  Time(%)      Time     Calls       Avg       Min       Max  Name\n",
            " GPU activities:   68.70%  656.88us         2  328.44us  1.0240us  655.85us  [CUDA memcpy HtoD]\n",
            "                   20.23%  193.44us         1  193.44us  193.44us  193.44us  Imgcov3d(int, float*, float*, unsigned int, unsigned int, float const *, int, int, int, int)\n",
            "                   11.07%  105.82us         1  105.82us  105.82us  105.82us  [CUDA memcpy DtoH]\n",
            "      API calls:   97.71%  138.14ms         3  46.045ms  8.2520us  137.97ms  cudaMalloc\n",
            "                    1.59%  2.2548ms         3  751.59us  17.010us  1.3649ms  cudaMemcpy\n",
            "                    0.30%  430.17us         3  143.39us  16.712us  215.55us  cudaFree\n",
            "                    0.22%  307.03us         1  307.03us  307.03us  307.03us  cudaLaunchKernel\n",
            "                    0.15%  213.25us       114  1.8700us     259ns  78.952us  cuDeviceGetAttribute\n",
            "                    0.01%  12.939us         1  12.939us  12.939us  12.939us  cuDeviceGetName\n",
            "                    0.01%  8.2680us         1  8.2680us  8.2680us  8.2680us  cuDeviceGetPCIBusId\n",
            "                    0.00%  6.4570us         1  6.4570us  6.4570us  6.4570us  cuDeviceTotalMem\n",
            "                    0.00%  2.2820us         3     760ns     349ns  1.5350us  cuDeviceGetCount\n",
            "                    0.00%  1.1630us         2     581ns     350ns     813ns  cuDeviceGet\n",
            "                    0.00%     747ns         1     747ns     747ns     747ns  cuModuleGetLoadingMode\n",
            "                    0.00%     485ns         1     485ns     485ns     485ns  cuDeviceGetUuid\n"
          ]
        }
      ]
    },
    {
      "cell_type": "code",
      "execution_count": 103,
      "metadata": {
        "colab": {
          "base_uri": "https://localhost:8080/"
        },
        "id": "-bsmhvsQv1em",
        "outputId": "cdcd726d-a851-4998-c855-4642e4f5ca16"
      },
      "outputs": [
        {
          "output_type": "stream",
          "name": "stdout",
          "text": [
            "Overwriting K3_2_31_2_33.cu\n"
          ]
        }
      ],
      "source": [
        "%%writefile K3_2_31_2_33.cu\n",
        "//Norhan_Reda_Abdelwahed_2_31\n",
        "//Hoda_Gamal_Hamouda_2_33\n",
        "\n",
        "#include <stdio.h>\n",
        "#include <stdlib.h>\n",
        "#include <math.h>\n",
        "#include <assert.h>\n",
        "#include <iostream>\n",
        "#include <iomanip>\n",
        "#include <fstream>\n",
        "#include <vector>\n",
        "#define STB_IMAGE_IMPLEMENTATION\n",
        "#include <stdio.h>\n",
        "#include \"stb_image.h\"\n",
        "#define STB_IMAGE_WRITE_IMPLEMENTATION\n",
        "#include \"stb_image_write.h\"\n",
        "#include <string>\n",
        "#include <filesystem>\n",
        "#include <cuda_runtime.h>\n",
        "\n",
        "using namespace std;\n",
        "\n",
        "\n",
        "__global__ void Imgcov3d(int batchSize, float *input, float* output, unsigned int width,unsigned int height, const float* __restrict__ mask,int maskdim, int shared_width,int shared_height, int shared_depth){\n",
        "\n",
        "  extern __shared__ float sharedTile [];\n",
        "\n",
        "    int tx = threadIdx.x;\n",
        "    int ty = threadIdx.y;\n",
        "\n",
        "    int bx = blockIdx.x;\n",
        "    int by = blockIdx.y;\n",
        "\n",
        "    int tile_x = shared_width - (maskdim - 1);\n",
        "    int tile_y = shared_height - (maskdim - 1);\n",
        "\n",
        "    int x_o = blockIdx.x * tile_x + threadIdx.x;\n",
        "    int y_o = blockIdx.y * tile_y + threadIdx.y;\n",
        "\n",
        "    int idx = blockIdx.z * blockDim.z + threadIdx.z;\n",
        "\n",
        "    if (idx >= batchSize){\n",
        "      return;\n",
        "    }\n",
        "\n",
        "    int num = ((width*height) - 1) /(shared_width*shared_height) + 1;\n",
        "\n",
        "    for (int d=0; d< 3; d++){\n",
        "      for(int f=0; f < num ; f++){\n",
        "\n",
        "          int destTmp = tile_x * tile_y * f + ty * tile_x + tx;\n",
        "\n",
        "          int dX = destTmp % shared_width;\n",
        "          destTmp = destTmp / shared_width;\n",
        "          int dY = destTmp % shared_height;\n",
        "\n",
        "          int inputX = dX + (bx * tile_x) - (maskdim/2);\n",
        "          int inputY = dY + (by * tile_y) - (maskdim/2);\n",
        "\n",
        "          if(inputY >= 0 && inputY < height && inputX >= 0 && inputX < width){\n",
        "                sharedTile[idx * shared_width * shared_height * 3 + d * shared_height * shared_width + dY * shared_width + dX]\n",
        "                = input[idx * width * height * 3 + d * height * width + inputY * width + inputX];\n",
        "          }\n",
        "          else{\n",
        "              sharedTile[idx * shared_width * shared_height * 3 + d * shared_height * shared_width + dY * shared_width + dX] = 0.0;\n",
        "          }\n",
        "      }\n",
        "    }\n",
        "\n",
        "    __syncthreads();\n",
        "\n",
        "  float sum = 0;\n",
        "\n",
        "    for(int y_mask = 0; y_mask < maskdim; y_mask++) {\n",
        "            for(int x_mask = 0; x_mask < maskdim; x_mask++) {\n",
        "                  for(int z_mask = 0; z_mask < 3; z_mask++) {\n",
        "                    sum += mask[z_mask * maskdim * maskdim + y_mask * maskdim + x_mask] *\n",
        "                    sharedTile[idx * shared_height * shared_width * 3 + z_mask * shared_height * shared_width + (ty + y_mask) * shared_width +(tx + x_mask)];\n",
        "\n",
        "                }\n",
        "             }\n",
        "         }\n",
        "\n",
        "    if(sum < 0){\n",
        "      sum = 0;\n",
        "    } else if (sum > 255){\n",
        "      sum = 255;\n",
        "    }\n",
        "\n",
        "    if(y_o < height && x_o < width){\n",
        "        output[idx * width * height + y_o * width + x_o] = sum;\n",
        "    }\n",
        "}\n",
        "\n",
        "int main(int argc, char *argv[]) {\n",
        "\n",
        "    string folderPath = argv[1];\n",
        "    string out_path = argv[2];\n",
        "    int batch_size = stoi(argv[3]);\n",
        "    string mask_path = argv[4];\n",
        "\n",
        "    int maskdim;\n",
        "\n",
        "    // Open the file for reading\n",
        "    std::ifstream inputFile(mask_path);\n",
        "\n",
        "    // Check if the file is opened successfully\n",
        "    if (!inputFile.is_open()) {\n",
        "        std::cerr << \"Error opening file: \" <<mask_path  << std::endl;\n",
        "        return 1; // Exit with an error code\n",
        "    }\n",
        "\n",
        "     inputFile >> maskdim ;\n",
        "     cout<<\"maskdim \"<<maskdim<<endl;\n",
        "\n",
        "    float *h_A, *h_B,*R,*G,*B;\n",
        "    int rows1,cols1, comp;\n",
        "\n",
        "    float *h_images;\n",
        "    int img_index = 0;\n",
        "\n",
        "    for (const auto& entry : std::filesystem::directory_iterator(folderPath)) {\n",
        "\n",
        "        if (entry.is_regular_file()) {\n",
        "            std::string filePath = entry.path().string();\n",
        "\n",
        "            unsigned char *data = stbi_load(filePath.c_str(), &cols1, &rows1, &comp, 0);\n",
        "\n",
        "            if(img_index == 0){\n",
        "              h_images = (float*)malloc(sizeof(float) * batch_size * cols1 * rows1 * comp);\n",
        "            }\n",
        "\n",
        "            if (data) {\n",
        "\n",
        "                printf(\"cols %d\\n\", cols1);\n",
        "                printf(\"rows %d\\n\", rows1);\n",
        "                printf(\"image %s\\n\", filePath.c_str());\n",
        "\n",
        "                h_A = (float*)malloc(sizeof(float) *  rows1 * cols1* comp);\n",
        "                R = (float*)malloc(sizeof(float) *  rows1 * cols1);\n",
        "                G = (float*)malloc(sizeof(float) *  rows1 * cols1);\n",
        "                B = (float*)malloc(sizeof(float) *  rows1 * cols1);\n",
        "\n",
        "                int k = 0;\n",
        "                for(int i=0;i<rows1 * cols1* comp;i=i+3)\n",
        "                {\n",
        "                  R[k] =  static_cast<float>(data[i]);\n",
        "                  k=k+1;\n",
        "                }\n",
        "                k=0;\n",
        "                for(int i=1;i<rows1 * cols1* comp;i=i+3)\n",
        "                {\n",
        "                  G[k] =  static_cast<float>(data[i]);\n",
        "                  k=k+1;\n",
        "                }\n",
        "                k=0;\n",
        "                for(int i=2;i<rows1 * cols1* comp;i=i+3)\n",
        "                {\n",
        "                  B[k] =  static_cast<float>(data[i]);\n",
        "                  k=k+1;\n",
        "                }\n",
        "\n",
        "\n",
        "                memcpy(h_A, R, rows1*cols1 * sizeof(float));\n",
        "                memcpy(h_A +rows1*cols1 , G, rows1*cols1 * sizeof(float));\n",
        "                memcpy(h_A+rows1*cols1+rows1*cols1, B, rows1*cols1 * sizeof(float));\n",
        "\n",
        "                memcpy(h_images + img_index * rows1 * cols1 * 3,                     R, rows1 * cols1 * sizeof(float));\n",
        "                memcpy(h_images + img_index * rows1 * cols1 * 3 + rows1 * cols1,     G, rows1 * cols1 * sizeof(float));\n",
        "                memcpy(h_images + img_index * rows1 * cols1 * 3 + rows1 * cols1 * 2, B, rows1 * cols1 * sizeof(float));\n",
        "\n",
        "                img_index++;\n",
        "\n",
        "             }\n",
        "             else {\n",
        "                // Failed to load the image\n",
        "                std::cerr << \"Failed to load image: \" << filePath << std::endl;\n",
        "            }\n",
        "\n",
        "           }\n",
        "      }\n",
        "\n",
        "\n",
        "      float *d_images_temp = (float*)malloc(sizeof(float) * batch_size * rows1 * cols1 * comp);\n",
        "      for(int i=0; i<batch_size; i++){\n",
        "        memcpy(d_images_temp + i * rows1 * cols1 *comp , h_images + i * rows1 * cols1 *comp, rows1 * cols1 *comp * sizeof(float));\n",
        "      }\n",
        "\n",
        "\n",
        "    float *d_images;\n",
        "    cudaMalloc((void**)&d_images, batch_size * rows1 * cols1 * comp * sizeof(float));\n",
        "    cudaMemcpy(d_images, d_images_temp, batch_size * rows1 * cols1 * comp * sizeof(float), cudaMemcpyHostToDevice);\n",
        "\n",
        "    h_B =(float*)malloc(sizeof(float) * maskdim* maskdim*comp);\n",
        "\n",
        "    float *d_outs;\n",
        "    cudaMalloc((void**)&d_outs, batch_size * rows1 * cols1 * sizeof(float));\n",
        "\n",
        "    float *h_outs = (float*)malloc(sizeof(float) * batch_size * rows1 * cols1);\n",
        "\n",
        "    float *h_R, *h_G,*h_BB;\n",
        "    h_R =(float*)malloc(sizeof(float) * maskdim* maskdim);\n",
        "    h_G =(float*)malloc(sizeof(float) * maskdim* maskdim);\n",
        "    h_BB =(float*)malloc(sizeof(float) * maskdim* maskdim);\n",
        "    // Read mask elements\n",
        "    for (int i = 0; i < maskdim; ++i) {\n",
        "        for (int j = 0; j < maskdim; ++j) {\n",
        "\n",
        "            int index =  i * maskdim + j;\n",
        "            inputFile >>  h_R[index];\n",
        "            h_R[index]=h_R[index];\n",
        "            h_G[index]=h_R[index];\n",
        "            h_BB[index]=h_R[index];\n",
        "\n",
        "        }\n",
        "    }\n",
        "\n",
        "    memcpy(h_B, h_R,  maskdim* maskdim * sizeof(float));\n",
        "    memcpy(h_B + maskdim* maskdim , h_G, maskdim* maskdim * sizeof(float));\n",
        "    memcpy(h_B+maskdim* maskdim+maskdim* maskdim,  h_BB, maskdim* maskdim * sizeof(float));\n",
        "\n",
        "\n",
        "    // Copy data from host to device\n",
        "    //cudaMemcpyToSymbol(mask, h_B, maskdim * maskdim *comp * sizeof(float), 0, cudaMemcpyHostToDevice);\n",
        "\n",
        "    float * d_B ;\n",
        "    cudaMalloc((void**)&d_B, maskdim *  maskdim *comp * sizeof(float));\n",
        "    cudaMemcpy(d_B, h_B,   maskdim *  maskdim *comp * sizeof(float), cudaMemcpyHostToDevice);\n",
        "\n",
        "    // Kernel invocation\n",
        "\n",
        "    dim3 threadsPerBlock(16,16,3);\n",
        "\n",
        "    int tile_x = threadsPerBlock.x;\n",
        "    int tile_y = threadsPerBlock.y;\n",
        "    int tile_z = threadsPerBlock.z;\n",
        "\n",
        "    int x_blocks = (cols1 + tile_x - 1) / tile_x;\n",
        "    int y_blocks = (rows1 + tile_y - 1) / tile_y;\n",
        "   int z_blocks = (batch_size + tile_z - 1) / tile_z;\n",
        "  // int z_blocks = batch_size;\n",
        "\n",
        "    int shared_width = tile_x + maskdim - 1;\n",
        "    int shared_height = tile_y + maskdim - 1;\n",
        "    //int shared_depth = tile_z + batch_size - 1;\n",
        "    int shared_depth = batch_size;\n",
        "\n",
        "    dim3 numBlocks(x_blocks, y_blocks, z_blocks);\n",
        "\n",
        "    Imgcov3d<<<numBlocks, threadsPerBlock,(sizeof(float)*shared_width*shared_height*3*shared_depth)>>>(batch_size,d_images,d_outs,cols1,rows1,d_B, maskdim,shared_width,shared_height,shared_depth);\n",
        "\n",
        "    cudaMemcpy(h_outs, d_outs, batch_size * rows1 * cols1 * sizeof(float), cudaMemcpyDeviceToHost);\n",
        "\n",
        "    unsigned char* h_char = (unsigned char*)malloc(sizeof(unsigned char) * rows1 * cols1);\n",
        "\n",
        "    for(int k=0;k<batch_size;k++){\n",
        "\n",
        "      for(int i=0;i<rows1*cols1;i++){\n",
        "         h_char[i]=static_cast<unsigned char>(h_outs[k*rows1*cols1+i]);\n",
        "      }\n",
        "      string filename = \"./\"+out_path+\"/\"+\"image\" + std::to_string(k) + \".jpg\";\n",
        "      stbi_write_jpg(filename.c_str(), cols1, rows1, 1, h_char, 100);\n",
        "    }\n",
        "\n",
        "    // Free device memory\n",
        "    cudaFree(d_images);\n",
        "    cudaFree(d_B);\n",
        "    cudaFree(d_outs);\n",
        "\n",
        "    // Free host memory\n",
        "    free(h_A);\n",
        "    free(h_B);\n",
        "    free(R);\n",
        "    free(G);\n",
        "    free(B);\n",
        "    free(h_images);\n",
        "    free(d_images_temp);\n",
        "    free(h_outs);\n",
        "    free(h_BB);\n",
        "    free(h_G);\n",
        "    free(h_R);\n",
        "    free(h_char);\n",
        "\n",
        "  return 0;\n",
        "}"
      ]
    },
    {
      "cell_type": "code",
      "source": [
        "!chmod +x K3_2_31_2_33.cu\n",
        "!nvcc  K3_2_31_2_33.cu -o K3_2_31_2_33"
      ],
      "metadata": {
        "id": "G08F0MneBCRL"
      },
      "execution_count": 104,
      "outputs": []
    },
    {
      "cell_type": "code",
      "source": [
        "!nvprof ./K3_2_31_2_33 \"in_255\" \"out3\" 4 \"mask_3.txt\""
      ],
      "metadata": {
        "colab": {
          "base_uri": "https://localhost:8080/"
        },
        "id": "9u1kQEM2ztmG",
        "outputId": "1d911f28-47a5-430e-dbaf-ccdeaf34d72c"
      },
      "execution_count": 105,
      "outputs": [
        {
          "output_type": "stream",
          "name": "stdout",
          "text": [
            "maskdim 3\n",
            "cols 255\n",
            "rows 255\n",
            "image in_255/you.jpg\n",
            "cols 255\n",
            "rows 255\n",
            "image in_255/warda.jpg\n",
            "cols 255\n",
            "rows 255\n",
            "image in_255/cat.jpg\n",
            "cols 255\n",
            "rows 255\n",
            "image in_255/camel.jpg\n",
            "==20253== NVPROF is profiling process 20253, command: ./K3_2_31_2_33 in_255 out3 4 mask_3.txt\n",
            "==20253== Profiling application: ./K3_2_31_2_33 in_255 out3 4 mask_3.txt\n",
            "==20253== Profiling result:\n",
            "            Type  Time(%)      Time     Calls       Avg       Min       Max  Name\n",
            " GPU activities:   86.39%  4.0209ms         1  4.0209ms  4.0209ms  4.0209ms  Imgcov3d(int, float*, float*, unsigned int, unsigned int, float const *, int, int, int, int)\n",
            "                   11.83%  550.48us         2  275.24us     992ns  549.49us  [CUDA memcpy HtoD]\n",
            "                    1.78%  82.750us         1  82.750us  82.750us  82.750us  [CUDA memcpy DtoH]\n",
            "      API calls:   93.66%  94.295ms         3  31.432ms  5.3880us  94.168ms  cudaMalloc\n",
            "                    5.56%  5.5933ms         3  1.8644ms  12.643us  4.8355ms  cudaMemcpy\n",
            "                    0.34%  337.38us         3  112.46us  9.1310us  191.80us  cudaFree\n",
            "                    0.29%  291.91us         1  291.91us  291.91us  291.91us  cudaLaunchKernel\n",
            "                    0.14%  137.30us       114  1.2040us     158ns  53.560us  cuDeviceGetAttribute\n",
            "                    0.01%  11.102us         1  11.102us  11.102us  11.102us  cuDeviceGetName\n",
            "                    0.01%  6.5590us         1  6.5590us  6.5590us  6.5590us  cuDeviceGetPCIBusId\n",
            "                    0.00%  4.8010us         1  4.8010us  4.8010us  4.8010us  cuDeviceTotalMem\n",
            "                    0.00%  1.9350us         3     645ns     223ns  1.4390us  cuDeviceGetCount\n",
            "                    0.00%  1.2140us         2     607ns     198ns  1.0160us  cuDeviceGet\n",
            "                    0.00%     497ns         1     497ns     497ns     497ns  cuModuleGetLoadingMode\n",
            "                    0.00%     227ns         1     227ns     227ns     227ns  cuDeviceGetUuid\n"
          ]
        }
      ]
    },
    {
      "cell_type": "code",
      "source": [
        "!nvprof ./K3_2_31_2_33 \"in_255\" \"out3\" 4 \"mask_5.txt\""
      ],
      "metadata": {
        "colab": {
          "base_uri": "https://localhost:8080/"
        },
        "id": "9JzqE-XHzw52",
        "outputId": "6a171ad6-36ed-44ef-9d1a-1f00c2df80ce"
      },
      "execution_count": 106,
      "outputs": [
        {
          "output_type": "stream",
          "name": "stdout",
          "text": [
            "maskdim 5\n",
            "cols 255\n",
            "rows 255\n",
            "image in_255/you.jpg\n",
            "cols 255\n",
            "rows 255\n",
            "image in_255/warda.jpg\n",
            "cols 255\n",
            "rows 255\n",
            "image in_255/cat.jpg\n",
            "cols 255\n",
            "rows 255\n",
            "image in_255/camel.jpg\n",
            "==20360== NVPROF is profiling process 20360, command: ./K3_2_31_2_33 in_255 out3 4 mask_5.txt\n",
            "==20360== Profiling application: ./K3_2_31_2_33 in_255 out3 4 mask_5.txt\n",
            "==20360== Profiling result:\n",
            "            Type  Time(%)      Time     Calls       Avg       Min       Max  Name\n",
            " GPU activities:   84.63%  3.4627ms         1  3.4627ms  3.4627ms  3.4627ms  Imgcov3d(int, float*, float*, unsigned int, unsigned int, float const *, int, int, int, int)\n",
            "                   13.04%  533.55us         2  266.78us     992ns  532.56us  [CUDA memcpy HtoD]\n",
            "                    2.33%  95.165us         1  95.165us  95.165us  95.165us  [CUDA memcpy DtoH]\n",
            "      API calls:   94.48%  102.37ms         3  34.122ms  6.4880us  102.23ms  cudaMalloc\n",
            "                    4.75%  5.1420ms         3  1.7140ms  14.198us  4.4102ms  cudaMemcpy\n",
            "                    0.33%  355.81us         3  118.60us  10.061us  194.91us  cudaFree\n",
            "                    0.30%  322.81us         1  322.81us  322.81us  322.81us  cudaLaunchKernel\n",
            "                    0.12%  131.89us       114  1.1560us     145ns  52.356us  cuDeviceGetAttribute\n",
            "                    0.01%  11.902us         1  11.902us  11.902us  11.902us  cuDeviceGetName\n",
            "                    0.01%  5.7390us         1  5.7390us  5.7390us  5.7390us  cuDeviceGetPCIBusId\n",
            "                    0.00%  4.3870us         1  4.3870us  4.3870us  4.3870us  cuDeviceTotalMem\n",
            "                    0.00%  1.5540us         3     518ns     165ns  1.1310us  cuDeviceGetCount\n",
            "                    0.00%     943ns         2     471ns     200ns     743ns  cuDeviceGet\n",
            "                    0.00%     573ns         1     573ns     573ns     573ns  cuModuleGetLoadingMode\n",
            "                    0.00%     239ns         1     239ns     239ns     239ns  cuDeviceGetUuid\n"
          ]
        }
      ]
    },
    {
      "cell_type": "code",
      "source": [
        "!nvprof ./K3_2_31_2_33 \"in_255\" \"out3\" 4 \"mask_7.txt\""
      ],
      "metadata": {
        "colab": {
          "base_uri": "https://localhost:8080/"
        },
        "id": "a6dcUSJQz_oh",
        "outputId": "881295b3-d35f-45f8-f641-c278903e800d"
      },
      "execution_count": 107,
      "outputs": [
        {
          "output_type": "stream",
          "name": "stdout",
          "text": [
            "maskdim 7\n",
            "cols 255\n",
            "rows 255\n",
            "image in_255/you.jpg\n",
            "cols 255\n",
            "rows 255\n",
            "image in_255/warda.jpg\n",
            "cols 255\n",
            "rows 255\n",
            "image in_255/cat.jpg\n",
            "cols 255\n",
            "rows 255\n",
            "image in_255/camel.jpg\n",
            "==20429== NVPROF is profiling process 20429, command: ./K3_2_31_2_33 in_255 out3 4 mask_7.txt\n",
            "==20429== Profiling application: ./K3_2_31_2_33 in_255 out3 4 mask_7.txt\n",
            "==20429== Profiling result:\n",
            "            Type  Time(%)      Time     Calls       Avg       Min       Max  Name\n",
            " GPU activities:   82.91%  3.0417ms         1  3.0417ms  3.0417ms  3.0417ms  Imgcov3d(int, float*, float*, unsigned int, unsigned int, float const *, int, int, int, int)\n",
            "                   14.22%  521.78us         2  260.89us  1.0240us  520.75us  [CUDA memcpy HtoD]\n",
            "                    2.87%  105.34us         1  105.34us  105.34us  105.34us  [CUDA memcpy DtoH]\n",
            "      API calls:   94.73%  97.451ms         3  32.484ms  11.558us  97.318ms  cudaMalloc\n",
            "                    4.53%  4.6569ms         3  1.5523ms  12.859us  3.9380ms  cudaMemcpy\n",
            "                    0.32%  331.67us         3  110.56us  8.9400us  190.88us  cudaFree\n",
            "                    0.27%  282.19us         1  282.19us  282.19us  282.19us  cudaLaunchKernel\n",
            "                    0.13%  128.60us       114  1.1280us     136ns  51.109us  cuDeviceGetAttribute\n",
            "                    0.01%  11.490us         1  11.490us  11.490us  11.490us  cuDeviceGetName\n",
            "                    0.00%  5.0760us         1  5.0760us  5.0760us  5.0760us  cuDeviceGetPCIBusId\n",
            "                    0.00%  4.6520us         1  4.6520us  4.6520us  4.6520us  cuDeviceTotalMem\n",
            "                    0.00%  1.5490us         3     516ns     224ns  1.0980us  cuDeviceGetCount\n",
            "                    0.00%  1.1060us         2     553ns     185ns     921ns  cuDeviceGet\n",
            "                    0.00%     505ns         1     505ns     505ns     505ns  cuModuleGetLoadingMode\n",
            "                    0.00%     186ns         1     186ns     186ns     186ns  cuDeviceGetUuid\n"
          ]
        }
      ]
    },
    {
      "cell_type": "code",
      "source": [
        "!nvprof ./K3_2_31_2_33 \"in_255\" \"out3\" 4 \"mask_9.txt\""
      ],
      "metadata": {
        "colab": {
          "base_uri": "https://localhost:8080/"
        },
        "id": "s44pTt93z_lE",
        "outputId": "cd63ac0b-de62-4b7a-be3c-69f9a5014176"
      },
      "execution_count": 108,
      "outputs": [
        {
          "output_type": "stream",
          "name": "stdout",
          "text": [
            "maskdim 9\n",
            "cols 255\n",
            "rows 255\n",
            "image in_255/you.jpg\n",
            "cols 255\n",
            "rows 255\n",
            "image in_255/warda.jpg\n",
            "cols 255\n",
            "rows 255\n",
            "image in_255/cat.jpg\n",
            "cols 255\n",
            "rows 255\n",
            "image in_255/camel.jpg\n",
            "==20504== NVPROF is profiling process 20504, command: ./K3_2_31_2_33 in_255 out3 4 mask_9.txt\n",
            "==20504== Profiling application: ./K3_2_31_2_33 in_255 out3 4 mask_9.txt\n",
            "==20504== Profiling result:\n",
            "            Type  Time(%)      Time     Calls       Avg       Min       Max  Name\n",
            " GPU activities:   80.76%  2.7943ms         1  2.7943ms  2.7943ms  2.7943ms  Imgcov3d(int, float*, float*, unsigned int, unsigned int, float const *, int, int, int, int)\n",
            "                   15.83%  547.73us         2  273.86us  1.0560us  546.67us  [CUDA memcpy HtoD]\n",
            "                    3.41%  118.05us         1  118.05us  118.05us  118.05us  [CUDA memcpy DtoH]\n",
            "      API calls:   94.56%  91.980ms         3  30.660ms  5.5810us  91.855ms  cudaMalloc\n",
            "                    4.57%  4.4496ms         3  1.4832ms  12.658us  3.6932ms  cudaMemcpy\n",
            "                    0.37%  355.13us         3  118.38us  9.7880us  197.88us  cudaFree\n",
            "                    0.29%  282.37us         1  282.37us  282.37us  282.37us  cudaLaunchKernel\n",
            "                    0.19%  181.80us       114  1.5940us     144ns  89.220us  cuDeviceGetAttribute\n",
            "                    0.01%  11.331us         1  11.331us  11.331us  11.331us  cuDeviceGetName\n",
            "                    0.01%  5.3880us         1  5.3880us  5.3880us  5.3880us  cuDeviceGetPCIBusId\n",
            "                    0.00%  4.3200us         1  4.3200us  4.3200us  4.3200us  cuDeviceTotalMem\n",
            "                    0.00%  2.0660us         3     688ns     242ns  1.5670us  cuDeviceGetCount\n",
            "                    0.00%  1.0500us         2     525ns     190ns     860ns  cuDeviceGet\n",
            "                    0.00%     537ns         1     537ns     537ns     537ns  cuModuleGetLoadingMode\n",
            "                    0.00%     234ns         1     234ns     234ns     234ns  cuDeviceGetUuid\n"
          ]
        }
      ]
    },
    {
      "cell_type": "code",
      "source": [
        "!nvprof ./K3_2_31_2_33 \"in_255\" \"out3\" 4 \"mask_11.txt\""
      ],
      "metadata": {
        "colab": {
          "base_uri": "https://localhost:8080/"
        },
        "id": "K3ulrx3Xz_it",
        "outputId": "a4cd956a-7af8-440a-eec9-f91430e2cebc"
      },
      "execution_count": 109,
      "outputs": [
        {
          "output_type": "stream",
          "name": "stdout",
          "text": [
            "maskdim 11\n",
            "cols 255\n",
            "rows 255\n",
            "image in_255/you.jpg\n",
            "cols 255\n",
            "rows 255\n",
            "image in_255/warda.jpg\n",
            "cols 255\n",
            "rows 255\n",
            "image in_255/cat.jpg\n",
            "cols 255\n",
            "rows 255\n",
            "image in_255/camel.jpg\n",
            "==20595== NVPROF is profiling process 20595, command: ./K3_2_31_2_33 in_255 out3 4 mask_11.txt\n",
            "==20595== Profiling application: ./K3_2_31_2_33 in_255 out3 4 mask_11.txt\n",
            "==20595== Profiling result:\n",
            "            Type  Time(%)      Time     Calls       Avg       Min       Max  Name\n",
            " GPU activities:   79.98%  2.7074ms         1  2.7074ms  2.7074ms  2.7074ms  Imgcov3d(int, float*, float*, unsigned int, unsigned int, float const *, int, int, int, int)\n",
            "                   16.49%  558.23us         2  279.11us  1.0560us  557.17us  [CUDA memcpy HtoD]\n",
            "                    3.53%  119.61us         1  119.61us  119.61us  119.61us  [CUDA memcpy DtoH]\n",
            "      API calls:   94.69%  90.348ms         3  30.116ms  5.2850us  90.227ms  cudaMalloc\n",
            "                    4.50%  4.2970ms         3  1.4323ms  12.161us  3.5695ms  cudaMemcpy\n",
            "                    0.35%  335.99us         3  112.00us  8.4830us  203.00us  cudaFree\n",
            "                    0.28%  266.63us         1  266.63us  266.63us  266.63us  cudaLaunchKernel\n",
            "                    0.14%  136.84us       114  1.2000us     150ns  53.650us  cuDeviceGetAttribute\n",
            "                    0.01%  11.512us         1  11.512us  11.512us  11.512us  cuDeviceGetName\n",
            "                    0.01%  5.4920us         1  5.4920us  5.4920us  5.4920us  cuDeviceGetPCIBusId\n",
            "                    0.01%  4.9790us         1  4.9790us  4.9790us  4.9790us  cuDeviceTotalMem\n",
            "                    0.00%  1.6920us         3     564ns     191ns  1.2140us  cuDeviceGetCount\n",
            "                    0.00%  1.0780us         2     539ns     190ns     888ns  cuDeviceGet\n",
            "                    0.00%     764ns         1     764ns     764ns     764ns  cuModuleGetLoadingMode\n",
            "                    0.00%     208ns         1     208ns     208ns     208ns  cuDeviceGetUuid\n"
          ]
        }
      ]
    },
    {
      "cell_type": "code",
      "source": [
        "!nvprof ./K3_2_31_2_33 \"in_255\" \"out3\" 4 \"mask_13.txt\""
      ],
      "metadata": {
        "colab": {
          "base_uri": "https://localhost:8080/"
        },
        "id": "BjA5Ww87z_gM",
        "outputId": "8dadcd21-7aae-4b2b-f2a9-ce9e6ff8a2f9"
      },
      "execution_count": 110,
      "outputs": [
        {
          "output_type": "stream",
          "name": "stdout",
          "text": [
            "maskdim 13\n",
            "cols 255\n",
            "rows 255\n",
            "image in_255/you.jpg\n",
            "cols 255\n",
            "rows 255\n",
            "image in_255/warda.jpg\n",
            "cols 255\n",
            "rows 255\n",
            "image in_255/cat.jpg\n",
            "cols 255\n",
            "rows 255\n",
            "image in_255/camel.jpg\n",
            "==20660== NVPROF is profiling process 20660, command: ./K3_2_31_2_33 in_255 out3 4 mask_13.txt\n",
            "==20660== Profiling application: ./K3_2_31_2_33 in_255 out3 4 mask_13.txt\n",
            "==20660== Profiling result:\n",
            "            Type  Time(%)      Time     Calls       Avg       Min       Max  Name\n",
            " GPU activities:   81.57%  2.7328ms         1  2.7328ms  2.7328ms  2.7328ms  Imgcov3d(int, float*, float*, unsigned int, unsigned int, float const *, int, int, int, int)\n",
            "                   15.66%  524.69us         2  262.35us  1.0880us  523.60us  [CUDA memcpy HtoD]\n",
            "                    2.77%  92.861us         1  92.861us  92.861us  92.861us  [CUDA memcpy DtoH]\n",
            "      API calls:   94.59%  90.134ms         3  30.045ms  8.2030us  89.996ms  cudaMalloc\n",
            "                    4.58%  4.3676ms         3  1.4559ms  14.528us  3.5955ms  cudaMemcpy\n",
            "                    0.34%  327.64us         3  109.21us  8.8020us  190.02us  cudaFree\n",
            "                    0.31%  299.09us         1  299.09us  299.09us  299.09us  cudaLaunchKernel\n",
            "                    0.14%  137.33us       114  1.2040us     147ns  54.343us  cuDeviceGetAttribute\n",
            "                    0.01%  13.290us         1  13.290us  13.290us  13.290us  cuDeviceGetName\n",
            "                    0.01%  5.1330us         1  5.1330us  5.1330us  5.1330us  cuDeviceGetPCIBusId\n",
            "                    0.00%  4.3870us         1  4.3870us  4.3870us  4.3870us  cuDeviceTotalMem\n",
            "                    0.00%  1.7080us         3     569ns     229ns  1.1560us  cuDeviceGetCount\n",
            "                    0.00%  1.0620us         2     531ns     174ns     888ns  cuDeviceGet\n",
            "                    0.00%     565ns         1     565ns     565ns     565ns  cuModuleGetLoadingMode\n",
            "                    0.00%     247ns         1     247ns     247ns     247ns  cuDeviceGetUuid\n"
          ]
        }
      ]
    },
    {
      "cell_type": "code",
      "source": [
        "!nvprof ./K3_2_31_2_33 \"in_255\" \"out3\" 4 \"mask_15.txt\""
      ],
      "metadata": {
        "colab": {
          "base_uri": "https://localhost:8080/"
        },
        "id": "1bWeN5F9z_d6",
        "outputId": "288eef0e-60e5-4409-a970-868c5b7b76c1"
      },
      "execution_count": 111,
      "outputs": [
        {
          "output_type": "stream",
          "name": "stdout",
          "text": [
            "maskdim 15\n",
            "cols 255\n",
            "rows 255\n",
            "image in_255/you.jpg\n",
            "cols 255\n",
            "rows 255\n",
            "image in_255/warda.jpg\n",
            "cols 255\n",
            "rows 255\n",
            "image in_255/cat.jpg\n",
            "cols 255\n",
            "rows 255\n",
            "image in_255/camel.jpg\n",
            "==20741== NVPROF is profiling process 20741, command: ./K3_2_31_2_33 in_255 out3 4 mask_15.txt\n",
            "==20741== Profiling application: ./K3_2_31_2_33 in_255 out3 4 mask_15.txt\n",
            "==20741== Profiling result:\n",
            "            Type  Time(%)      Time     Calls       Avg       Min       Max  Name\n",
            " GPU activities:   82.64%  2.9154ms         1  2.9154ms  2.9154ms  2.9154ms  Imgcov3d(int, float*, float*, unsigned int, unsigned int, float const *, int, int, int, int)\n",
            "                   14.81%  522.61us         2  261.30us  1.1520us  521.46us  [CUDA memcpy HtoD]\n",
            "                    2.55%  89.789us         1  89.789us  89.789us  89.789us  [CUDA memcpy DtoH]\n",
            "      API calls:   94.38%  87.849ms         3  29.283ms  4.8390us  87.723ms  cudaMalloc\n",
            "                    4.77%  4.4428ms         3  1.4809ms  12.903us  3.7314ms  cudaMemcpy\n",
            "                    0.35%  328.75us         3  109.58us  13.288us  177.36us  cudaFree\n",
            "                    0.28%  264.76us         1  264.76us  264.76us  264.76us  cudaLaunchKernel\n",
            "                    0.18%  166.01us       114  1.4560us     143ns  77.948us  cuDeviceGetAttribute\n",
            "                    0.01%  11.343us         1  11.343us  11.343us  11.343us  cuDeviceGetName\n",
            "                    0.01%  5.2870us         1  5.2870us  5.2870us  5.2870us  cuDeviceGetPCIBusId\n",
            "                    0.01%  4.7670us         1  4.7670us  4.7670us  4.7670us  cuDeviceTotalMem\n",
            "                    0.00%  2.4680us         2  1.2340us     186ns  2.2820us  cuDeviceGet\n",
            "                    0.00%  1.5220us         3     507ns     184ns  1.0780us  cuDeviceGetCount\n",
            "                    0.00%     567ns         1     567ns     567ns     567ns  cuModuleGetLoadingMode\n",
            "                    0.00%     234ns         1     234ns     234ns     234ns  cuDeviceGetUuid\n"
          ]
        }
      ]
    },
    {
      "cell_type": "code",
      "source": [
        "!nvprof ./K3_2_31_2_33 \"in_255\" \"out3\" 4 \"mask_edge_5.txt\""
      ],
      "metadata": {
        "colab": {
          "base_uri": "https://localhost:8080/"
        },
        "id": "c6Qfz7ve0FKa",
        "outputId": "e9d0b9a9-4732-471a-f8cc-cf0e2a10b38f"
      },
      "execution_count": 112,
      "outputs": [
        {
          "output_type": "stream",
          "name": "stdout",
          "text": [
            "maskdim 5\n",
            "cols 255\n",
            "rows 255\n",
            "image in_255/you.jpg\n",
            "cols 255\n",
            "rows 255\n",
            "image in_255/warda.jpg\n",
            "cols 255\n",
            "rows 255\n",
            "image in_255/cat.jpg\n",
            "cols 255\n",
            "rows 255\n",
            "image in_255/camel.jpg\n",
            "==20818== NVPROF is profiling process 20818, command: ./K3_2_31_2_33 in_255 out3 4 mask_edge_5.txt\n",
            "==20818== Profiling application: ./K3_2_31_2_33 in_255 out3 4 mask_edge_5.txt\n",
            "==20818== Profiling result:\n",
            "            Type  Time(%)      Time     Calls       Avg       Min       Max  Name\n",
            " GPU activities:   84.07%  3.4645ms         1  3.4645ms  3.4645ms  3.4645ms  Imgcov3d(int, float*, float*, unsigned int, unsigned int, float const *, int, int, int, int)\n",
            "                   13.05%  537.68us         2  268.84us  1.0240us  536.66us  [CUDA memcpy HtoD]\n",
            "                    2.88%  118.72us         1  118.72us  118.72us  118.72us  [CUDA memcpy DtoH]\n",
            "      API calls:   94.02%  91.219ms         3  30.406ms  7.0110us  91.093ms  cudaMalloc\n",
            "                    5.21%  5.0585ms         3  1.6862ms  12.815us  4.3432ms  cudaMemcpy\n",
            "                    0.34%  333.52us         3  111.17us  8.8630us  191.62us  cudaFree\n",
            "                    0.26%  256.08us         1  256.08us  256.08us  256.08us  cudaLaunchKernel\n",
            "                    0.13%  128.90us       114  1.1300us     136ns  50.751us  cuDeviceGetAttribute\n",
            "                    0.01%  11.015us         1  11.015us  11.015us  11.015us  cuDeviceGetName\n",
            "                    0.01%  4.9920us         1  4.9920us  4.9920us  4.9920us  cuDeviceGetPCIBusId\n",
            "                    0.00%  4.0440us         1  4.0440us  4.0440us  4.0440us  cuDeviceTotalMem\n",
            "                    0.00%  1.6160us         3     538ns     178ns  1.1770us  cuDeviceGetCount\n",
            "                    0.00%  1.0840us         2     542ns     181ns     903ns  cuDeviceGet\n",
            "                    0.00%     443ns         1     443ns     443ns     443ns  cuModuleGetLoadingMode\n",
            "                    0.00%     197ns         1     197ns     197ns     197ns  cuDeviceGetUuid\n"
          ]
        }
      ]
    },
    {
      "cell_type": "markdown",
      "source": [
        "# batches"
      ],
      "metadata": {
        "id": "Ibdhs2bBsoU5"
      }
    },
    {
      "cell_type": "code",
      "source": [
        "!pip install torch torchvision"
      ],
      "metadata": {
        "colab": {
          "base_uri": "https://localhost:8080/"
        },
        "id": "02DdClKnz2cP",
        "outputId": "0a727e40-b007-4486-8743-2c7ec6636b6b"
      },
      "execution_count": 45,
      "outputs": [
        {
          "output_type": "stream",
          "name": "stdout",
          "text": [
            "Requirement already satisfied: torch in /usr/local/lib/python3.10/dist-packages (2.2.1+cu121)\n",
            "Requirement already satisfied: torchvision in /usr/local/lib/python3.10/dist-packages (0.17.1+cu121)\n",
            "Requirement already satisfied: filelock in /usr/local/lib/python3.10/dist-packages (from torch) (3.13.4)\n",
            "Requirement already satisfied: typing-extensions>=4.8.0 in /usr/local/lib/python3.10/dist-packages (from torch) (4.11.0)\n",
            "Requirement already satisfied: sympy in /usr/local/lib/python3.10/dist-packages (from torch) (1.12)\n",
            "Requirement already satisfied: networkx in /usr/local/lib/python3.10/dist-packages (from torch) (3.3)\n",
            "Requirement already satisfied: jinja2 in /usr/local/lib/python3.10/dist-packages (from torch) (3.1.3)\n",
            "Requirement already satisfied: fsspec in /usr/local/lib/python3.10/dist-packages (from torch) (2023.6.0)\n",
            "Collecting nvidia-cuda-nvrtc-cu12==12.1.105 (from torch)\n",
            "  Using cached nvidia_cuda_nvrtc_cu12-12.1.105-py3-none-manylinux1_x86_64.whl (23.7 MB)\n",
            "Collecting nvidia-cuda-runtime-cu12==12.1.105 (from torch)\n",
            "  Using cached nvidia_cuda_runtime_cu12-12.1.105-py3-none-manylinux1_x86_64.whl (823 kB)\n",
            "Collecting nvidia-cuda-cupti-cu12==12.1.105 (from torch)\n",
            "  Using cached nvidia_cuda_cupti_cu12-12.1.105-py3-none-manylinux1_x86_64.whl (14.1 MB)\n",
            "Collecting nvidia-cudnn-cu12==8.9.2.26 (from torch)\n",
            "  Using cached nvidia_cudnn_cu12-8.9.2.26-py3-none-manylinux1_x86_64.whl (731.7 MB)\n",
            "Collecting nvidia-cublas-cu12==12.1.3.1 (from torch)\n",
            "  Using cached nvidia_cublas_cu12-12.1.3.1-py3-none-manylinux1_x86_64.whl (410.6 MB)\n",
            "Collecting nvidia-cufft-cu12==11.0.2.54 (from torch)\n",
            "  Using cached nvidia_cufft_cu12-11.0.2.54-py3-none-manylinux1_x86_64.whl (121.6 MB)\n",
            "Collecting nvidia-curand-cu12==10.3.2.106 (from torch)\n",
            "  Using cached nvidia_curand_cu12-10.3.2.106-py3-none-manylinux1_x86_64.whl (56.5 MB)\n",
            "Collecting nvidia-cusolver-cu12==11.4.5.107 (from torch)\n",
            "  Using cached nvidia_cusolver_cu12-11.4.5.107-py3-none-manylinux1_x86_64.whl (124.2 MB)\n",
            "Collecting nvidia-cusparse-cu12==12.1.0.106 (from torch)\n",
            "  Using cached nvidia_cusparse_cu12-12.1.0.106-py3-none-manylinux1_x86_64.whl (196.0 MB)\n",
            "Collecting nvidia-nccl-cu12==2.19.3 (from torch)\n",
            "  Using cached nvidia_nccl_cu12-2.19.3-py3-none-manylinux1_x86_64.whl (166.0 MB)\n",
            "Collecting nvidia-nvtx-cu12==12.1.105 (from torch)\n",
            "  Using cached nvidia_nvtx_cu12-12.1.105-py3-none-manylinux1_x86_64.whl (99 kB)\n",
            "Requirement already satisfied: triton==2.2.0 in /usr/local/lib/python3.10/dist-packages (from torch) (2.2.0)\n",
            "Collecting nvidia-nvjitlink-cu12 (from nvidia-cusolver-cu12==11.4.5.107->torch)\n",
            "  Using cached nvidia_nvjitlink_cu12-12.4.127-py3-none-manylinux2014_x86_64.whl (21.1 MB)\n",
            "Requirement already satisfied: numpy in /usr/local/lib/python3.10/dist-packages (from torchvision) (1.25.2)\n",
            "Requirement already satisfied: pillow!=8.3.*,>=5.3.0 in /usr/local/lib/python3.10/dist-packages (from torchvision) (9.4.0)\n",
            "Requirement already satisfied: MarkupSafe>=2.0 in /usr/local/lib/python3.10/dist-packages (from jinja2->torch) (2.1.5)\n",
            "Requirement already satisfied: mpmath>=0.19 in /usr/local/lib/python3.10/dist-packages (from sympy->torch) (1.3.0)\n",
            "Installing collected packages: nvidia-nvtx-cu12, nvidia-nvjitlink-cu12, nvidia-nccl-cu12, nvidia-curand-cu12, nvidia-cufft-cu12, nvidia-cuda-runtime-cu12, nvidia-cuda-nvrtc-cu12, nvidia-cuda-cupti-cu12, nvidia-cublas-cu12, nvidia-cusparse-cu12, nvidia-cudnn-cu12, nvidia-cusolver-cu12\n",
            "Successfully installed nvidia-cublas-cu12-12.1.3.1 nvidia-cuda-cupti-cu12-12.1.105 nvidia-cuda-nvrtc-cu12-12.1.105 nvidia-cuda-runtime-cu12-12.1.105 nvidia-cudnn-cu12-8.9.2.26 nvidia-cufft-cu12-11.0.2.54 nvidia-curand-cu12-10.3.2.106 nvidia-cusolver-cu12-11.4.5.107 nvidia-cusparse-cu12-12.1.0.106 nvidia-nccl-cu12-2.19.3 nvidia-nvjitlink-cu12-12.4.127 nvidia-nvtx-cu12-12.1.105\n"
          ]
        }
      ]
    },
    {
      "cell_type": "code",
      "source": [
        "import torch\n",
        "import torch.nn.functional as F\n",
        "import torchvision.transforms as transforms\n",
        "import cv2\n",
        "import time\n",
        "import numpy as np\n",
        "import os\n",
        "device = torch.device(\"cuda\" if torch.cuda.is_available() else \"cpu\")\n",
        "print(torch.cuda.is_available())\n",
        "\n",
        "# Define the mask tensor\n",
        "file_path = \"mask.txt\"\n",
        "\n",
        "# Open the file in read mode\n",
        "with open(file_path, \"r\") as file:\n",
        "    # Read the lines of the file\n",
        "    lines = file.readlines()\n",
        "\n",
        "# Remove any leading or trailing whitespace characters from each line\n",
        "lines = [line.strip() for line in lines]\n",
        "\n",
        "# Extract the first line and assign it to a variable\n",
        "MASKDIM = int(lines[0])\n",
        "print(\"maskdim\", MASKDIM)\n",
        "# Extract the remaining lines and create a matrix\n",
        "mask = [(line.split()) for line in lines[1:]]\n",
        "# Convert the list to a numpy array\n",
        "array_2d = np.array(mask, dtype=float)\n",
        "\n",
        "mask = np.repeat(array_2d[np.newaxis, ...], 3, axis=0)\n",
        "\n",
        "print(mask)\n",
        "\n",
        "# Process the variables\n",
        "print(\"MASKDIM:\", MASKDIM)\n",
        "print(\"Matrix:\")\n",
        "# for row in mask:\n",
        "#     print(row)\n",
        "print(\"mask shape\",mask.shape)\n",
        "\n",
        "# Convert the mask to a PyTorch tensor\n",
        "mask = torch.from_numpy(mask)\n",
        "\n",
        "print(mask)\n",
        "\n",
        "mask = mask.unsqueeze(0).unsqueeze(0)[:,:3,:,:,:]\n",
        "mask = mask.float()\n",
        "\n",
        "# Folder path containing the images\n",
        "input_path = \"in\"\n",
        "output_path = \"output\"\n",
        "# List all image file names in the folder\n",
        "image_files = os.listdir(input_path)\n",
        "\n",
        "imageShape0 = None\n",
        "imageShape1 = None\n",
        "# Define the allowed image formats\n",
        "allowed_formats = (\".jpg\", \".jpeg\", \".png\")\n",
        "# Create an empty list to store the preprocessed images\n",
        "image_list = []\n",
        "# Iterate over the image files\n",
        "for image_file in image_files:\n",
        "   # Check if the file has one of the allowed formats\n",
        "  if image_file.lower().endswith(allowed_formats):\n",
        "    print(image_file)\n",
        "    # Read the RGB image using OpenCV\n",
        "    image = cv2.imread(os.path.join(input_path, image_file))\n",
        "    imageShape0 =  image.shape[0]\n",
        "    imageShape1 =  image.shape[1]\n",
        "    image = cv2.cvtColor(image, cv2.COLOR_BGR2RGB)\n",
        "    print(\"image file\",image_file)\n",
        "\n",
        "    # print(image[0])\n",
        "    image_array = np.array(image)\n",
        "    max_value = np.max(image_array)\n",
        "    max_value_arg = np.argmax(image_array)\n",
        "    # print('===>', max_value, max_value_arg)\n",
        "\n",
        "    # Define the padding size\n",
        "    padding = (MASKDIM - 1) // 2\n",
        "    print(padding)\n",
        "\n",
        "    pad_height = (padding, padding)  # Pad 2 pixels on each side along height\n",
        "    pad_width = (padding, padding)  # Pad 2 pixels on each side along width\n",
        "    pad_channels = (0, 0)  # No padding along channels (RGB)\n",
        "\n",
        "    # Pad the image\n",
        "    padded_image = np.pad(image, (pad_height, pad_width, pad_channels), mode='constant', constant_values=0)  # Pad with zeros\n",
        "    print(padded_image.shape)\n",
        "    print(\"Data type of input_image:\", padded_image.dtype)\n",
        "    # Convert the image to a PyTorch tensor\n",
        "    transform = transforms.ToTensor()\n",
        "    input_image = transform(padded_image)\n",
        "    print(input_image.shape)\n",
        "    print(\"Data type of input_image:\", input_image.dtype)\n",
        "\n",
        "    input_image = input_image * 255\n",
        "\n",
        "    # Append the tensor to the image list\n",
        "    image_list.append(input_image)\n",
        "\n",
        "# Stack the image tensors into a single tensor along the batch dimension\n",
        "batch_images = torch.stack(image_list, dim=0)\n",
        "\n",
        "# # Reshape the tensor to match the expected shape (batch_size, channels, depth, height, width)\n",
        "# batch_images = batch_images.unsqueeze(2).expand(-1, -1, desired_dims[0], -1, -1)\n",
        "batch_images = batch_images.unsqueeze(1)\n",
        "print(\"batch_images shape\",batch_images.shape)\n",
        "print(\"mask size\",mask.shape)\n",
        "# Perform the 3D convolution using PyTorch\n",
        "# Start the timer\n",
        "start_time = time.time()\n",
        "output_tensor = F.conv3d(batch_images, mask)\n",
        "print(\"output tensor\",output_tensor.shape)\n",
        "# Stop the timer\n",
        "end_time = time.time()\n",
        "output_tensor = output_tensor.to(torch.int)\n",
        "output_tensor = output_tensor.squeeze(2).numpy()\n",
        "print(\"output tensor\",output_tensor.shape)\n",
        "print(\"shape\",output_tensor.shape[0])\n",
        "if not os.path.exists(output_path):\n",
        "    # Create the folder using os.mkdir()\n",
        "    os.mkdir(output_path)\n",
        "    print(f\"Folder created at: {output_path}\")\n",
        "else:\n",
        "    print(f\"Folder already exists at: {output_path}\")\n",
        "for i in range(output_tensor.shape[0]):\n",
        "  output_array = output_tensor[i]\n",
        "  print(output_array.shape)\n",
        "  output_array = np.clip(output_array, 0, 255)  # Clip values to the range [0, 255]\n",
        "  print(output_array)\n",
        "  cv2.imwrite(output_path+'/'+'image'+str(i)+'.jpg', output_array.reshape(imageShape0 , imageShape1, 1))"
      ],
      "metadata": {
        "id": "sH_gR6tM62Rs",
        "colab": {
          "base_uri": "https://localhost:8080/",
          "height": 228
        },
        "outputId": "affbf2af-15df-46ca-a14e-0a86c43b64a5"
      },
      "execution_count": 46,
      "outputs": [
        {
          "output_type": "stream",
          "name": "stdout",
          "text": [
            "True\n"
          ]
        },
        {
          "output_type": "error",
          "ename": "FileNotFoundError",
          "evalue": "[Errno 2] No such file or directory: 'mask.txt'",
          "traceback": [
            "\u001b[0;31m---------------------------------------------------------------------------\u001b[0m",
            "\u001b[0;31mFileNotFoundError\u001b[0m                         Traceback (most recent call last)",
            "\u001b[0;32m<ipython-input-46-5e03243cf3bd>\u001b[0m in \u001b[0;36m<cell line: 15>\u001b[0;34m()\u001b[0m\n\u001b[1;32m     13\u001b[0m \u001b[0;34m\u001b[0m\u001b[0m\n\u001b[1;32m     14\u001b[0m \u001b[0;31m# Open the file in read mode\u001b[0m\u001b[0;34m\u001b[0m\u001b[0;34m\u001b[0m\u001b[0m\n\u001b[0;32m---> 15\u001b[0;31m \u001b[0;32mwith\u001b[0m \u001b[0mopen\u001b[0m\u001b[0;34m(\u001b[0m\u001b[0mfile_path\u001b[0m\u001b[0;34m,\u001b[0m \u001b[0;34m\"r\"\u001b[0m\u001b[0;34m)\u001b[0m \u001b[0;32mas\u001b[0m \u001b[0mfile\u001b[0m\u001b[0;34m:\u001b[0m\u001b[0;34m\u001b[0m\u001b[0;34m\u001b[0m\u001b[0m\n\u001b[0m\u001b[1;32m     16\u001b[0m     \u001b[0;31m# Read the lines of the file\u001b[0m\u001b[0;34m\u001b[0m\u001b[0;34m\u001b[0m\u001b[0m\n\u001b[1;32m     17\u001b[0m     \u001b[0mlines\u001b[0m \u001b[0;34m=\u001b[0m \u001b[0mfile\u001b[0m\u001b[0;34m.\u001b[0m\u001b[0mreadlines\u001b[0m\u001b[0;34m(\u001b[0m\u001b[0;34m)\u001b[0m\u001b[0;34m\u001b[0m\u001b[0;34m\u001b[0m\u001b[0m\n",
            "\u001b[0;31mFileNotFoundError\u001b[0m: [Errno 2] No such file or directory: 'mask.txt'"
          ]
        }
      ]
    },
    {
      "cell_type": "code",
      "source": [
        "!python pytorch.py \"in_255\" \"out_py\" \"4\" \"mask_3.txt\""
      ],
      "metadata": {
        "colab": {
          "base_uri": "https://localhost:8080/"
        },
        "id": "hPKORCvSeWi6",
        "outputId": "6c6fa28d-76c5-4c1b-9c86-a63da6a05404"
      },
      "execution_count": 78,
      "outputs": [
        {
          "output_type": "stream",
          "name": "stdout",
          "text": [
            "Folder already exists at: out_py\n",
            "execution time 0.01511836051940918\n"
          ]
        }
      ]
    },
    {
      "cell_type": "code",
      "source": [
        "!python pytorch.py \"in_255\" \"out_py\" \"4\" \"mask_5.txt\""
      ],
      "metadata": {
        "colab": {
          "base_uri": "https://localhost:8080/"
        },
        "id": "goVBQAE17sPv",
        "outputId": "d4a7a019-1ac5-4aa0-eb78-c704048697ad"
      },
      "execution_count": 79,
      "outputs": [
        {
          "output_type": "stream",
          "name": "stdout",
          "text": [
            "Folder already exists at: out_py\n",
            "execution time 0.019618988037109375\n"
          ]
        }
      ]
    },
    {
      "cell_type": "code",
      "source": [
        "!python pytorch.py \"in_255\" \"out_py\" \"4\" \"mask_7.txt\""
      ],
      "metadata": {
        "colab": {
          "base_uri": "https://localhost:8080/"
        },
        "id": "rZ347YrO7t4K",
        "outputId": "a8715df7-edb4-49f1-cac4-4aae42e2ac01"
      },
      "execution_count": 80,
      "outputs": [
        {
          "output_type": "stream",
          "name": "stdout",
          "text": [
            "Folder already exists at: out_py\n",
            "execution time 0.024872303009033203\n"
          ]
        }
      ]
    },
    {
      "cell_type": "code",
      "source": [
        "!python pytorch.py \"in_255\" \"out_py\" \"4\" \"mask_9.txt\""
      ],
      "metadata": {
        "colab": {
          "base_uri": "https://localhost:8080/"
        },
        "id": "fHUeNw967uNE",
        "outputId": "5d5c4ae8-fb71-4077-9795-58fff792551e"
      },
      "execution_count": 81,
      "outputs": [
        {
          "output_type": "stream",
          "name": "stdout",
          "text": [
            "Folder already exists at: out_py\n",
            "execution time 0.042836666107177734\n"
          ]
        }
      ]
    },
    {
      "cell_type": "code",
      "source": [
        "!python pytorch.py \"in_255\" \"out_py\" \"4\" \"mask_11.txt\""
      ],
      "metadata": {
        "colab": {
          "base_uri": "https://localhost:8080/"
        },
        "id": "WEJ7lILc7uj5",
        "outputId": "2cb3f684-ff67-49ea-952f-decf95cc9da0"
      },
      "execution_count": 82,
      "outputs": [
        {
          "output_type": "stream",
          "name": "stdout",
          "text": [
            "Folder already exists at: out_py\n",
            "execution time 0.03837013244628906\n"
          ]
        }
      ]
    },
    {
      "cell_type": "code",
      "source": [
        "!python pytorch.py \"in_255\" \"out_py\" \"4\" \"mask_13.txt\""
      ],
      "metadata": {
        "colab": {
          "base_uri": "https://localhost:8080/"
        },
        "id": "-pTETqZd72cl",
        "outputId": "9d95faba-28a7-47ff-b9d6-fb88fc3a33c0"
      },
      "execution_count": 83,
      "outputs": [
        {
          "output_type": "stream",
          "name": "stdout",
          "text": [
            "Folder already exists at: out_py\n",
            "execution time 0.04645037651062012\n"
          ]
        }
      ]
    },
    {
      "cell_type": "code",
      "source": [
        "!python pytorch.py \"in_255\" \"out_py\" \"4\" \"mask_15.txt\""
      ],
      "metadata": {
        "colab": {
          "base_uri": "https://localhost:8080/"
        },
        "id": "i9ifMF3f728W",
        "outputId": "d4c13ff2-f58a-43bf-f38b-c2be1a3c4d18"
      },
      "execution_count": 84,
      "outputs": [
        {
          "output_type": "stream",
          "name": "stdout",
          "text": [
            "Folder already exists at: out_py\n",
            "execution time 0.062044382095336914\n"
          ]
        }
      ]
    },
    {
      "cell_type": "code",
      "source": [
        "!python pytorch.py \"in_255\" \"out_py\" \"4\" \"mask_edge_5.txt\""
      ],
      "metadata": {
        "colab": {
          "base_uri": "https://localhost:8080/"
        },
        "id": "DAeTd1pN77tX",
        "outputId": "295cc487-4378-44fa-fcf8-883bde240532"
      },
      "execution_count": 85,
      "outputs": [
        {
          "output_type": "stream",
          "name": "stdout",
          "text": [
            "Folder already exists at: out_py\n",
            "execution time 0.019329547882080078\n"
          ]
        }
      ]
    }
  ],
  "metadata": {
    "colab": {
      "provenance": [],
      "gpuType": "T4"
    },
    "kernelspec": {
      "display_name": "Python 3",
      "name": "python3"
    },
    "language_info": {
      "name": "python"
    },
    "accelerator": "GPU"
  },
  "nbformat": 4,
  "nbformat_minor": 0
}