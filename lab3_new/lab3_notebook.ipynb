{
  "cells": [
    {
      "cell_type": "code",
      "execution_count": 1,
      "metadata": {
        "colab": {
          "base_uri": "https://localhost:8080/"
        },
        "id": "Er81N23oNVqK",
        "outputId": "df763552-235b-407e-9de6-68f8123d60d5"
      },
      "outputs": [
        {
          "output_type": "stream",
          "name": "stdout",
          "text": [
            "nvcc: NVIDIA (R) Cuda compiler driver\n",
            "Copyright (c) 2005-2023 NVIDIA Corporation\n",
            "Built on Tue_Aug_15_22:02:13_PDT_2023\n",
            "Cuda compilation tools, release 12.2, V12.2.140\n",
            "Build cuda_12.2.r12.2/compiler.33191640_0\n"
          ]
        }
      ],
      "source": [
        "!nvcc --version"
      ]
    },
    {
      "cell_type": "code",
      "execution_count": 2,
      "metadata": {
        "colab": {
          "base_uri": "https://localhost:8080/"
        },
        "id": "QqX54YzBNd5f",
        "outputId": "ae261260-a12f-48ef-bd97-0da8514c37db"
      },
      "outputs": [
        {
          "output_type": "stream",
          "name": "stdout",
          "text": [
            "Collecting git+https://github.com/andreinechaev/nvcc4jupyter.git\n",
            "  Cloning https://github.com/andreinechaev/nvcc4jupyter.git to /tmp/pip-req-build-qeji663d\n",
            "  Running command git clone --filter=blob:none --quiet https://github.com/andreinechaev/nvcc4jupyter.git /tmp/pip-req-build-qeji663d\n",
            "  Resolved https://github.com/andreinechaev/nvcc4jupyter.git to commit 781ff5b76ba6c4c2d80dcbbec9983e147613cc71\n",
            "  Installing build dependencies ... \u001b[?25l\u001b[?25hdone\n",
            "  Getting requirements to build wheel ... \u001b[?25l\u001b[?25hdone\n",
            "  Preparing metadata (pyproject.toml) ... \u001b[?25l\u001b[?25hdone\n",
            "Building wheels for collected packages: nvcc4jupyter\n",
            "  Building wheel for nvcc4jupyter (pyproject.toml) ... \u001b[?25l\u001b[?25hdone\n",
            "  Created wheel for nvcc4jupyter: filename=nvcc4jupyter-1.1.0-py3-none-any.whl size=8011 sha256=e2b2acbb79d726227ace2ffdeb18b901e4debb9cf9419b13a35a389a655ee4ac\n",
            "  Stored in directory: /tmp/pip-ephem-wheel-cache-k6ofdsgm/wheels/a8/b9/18/23f8ef71ceb0f63297dd1903aedd067e6243a68ea756d6feea\n",
            "Successfully built nvcc4jupyter\n",
            "Installing collected packages: nvcc4jupyter\n",
            "Successfully installed nvcc4jupyter-1.1.0\n"
          ]
        }
      ],
      "source": [
        "!pip install git+https://github.com/andreinechaev/nvcc4jupyter.git"
      ]
    },
    {
      "cell_type": "code",
      "execution_count": 3,
      "metadata": {
        "colab": {
          "base_uri": "https://localhost:8080/"
        },
        "id": "m0a_SttTNd9Z",
        "outputId": "a4bfc13b-8a29-4088-dd85-489e5b54cf7b"
      },
      "outputs": [
        {
          "output_type": "stream",
          "name": "stdout",
          "text": [
            "Source files will be saved in \"/tmp/tmpz5va2mjw\".\n"
          ]
        }
      ],
      "source": [
        "%load_ext nvcc4jupyter"
      ]
    },
    {
      "cell_type": "code",
      "source": [
        "def generate_test_file(file_path, rows, columns):\n",
        "    content = f\"\"\n",
        "\n",
        "    # Matrix 1 with 1s\n",
        "    for index in range(rows):\n",
        "        content += \" \".join([str(float(index))] * columns) + \"\\n\"\n",
        "\n",
        "\n",
        "    file.write(content)\n",
        "\n",
        "file_path = 'input_10m.txt'\n",
        "n_cases = 1\n",
        "sizes =[(10000000,1)]\n",
        "\n",
        "with open(file_path, 'a') as file:\n",
        "\n",
        "    for size in sizes:\n",
        "        m,n = size\n",
        "        generate_test_file(file_path, m, n)\n",
        "\n",
        "print(f\"Test file '{file_path}' generated successfully.\")"
      ],
      "metadata": {
        "colab": {
          "base_uri": "https://localhost:8080/"
        },
        "id": "6PdIZNL-c05g",
        "outputId": "aa27f2da-20f6-4817-ec7a-026796f2372f"
      },
      "execution_count": 4,
      "outputs": [
        {
          "output_type": "stream",
          "name": "stdout",
          "text": [
            "Test file 'input_10m.txt' generated successfully.\n"
          ]
        }
      ]
    },
    {
      "cell_type": "markdown",
      "metadata": {
        "id": "PyuCMKED0dgg"
      },
      "source": [
        "**Question1 (Q1)**"
      ]
    },
    {
      "cell_type": "code",
      "execution_count": 5,
      "metadata": {
        "colab": {
          "base_uri": "https://localhost:8080/"
        },
        "id": "NWsZBpXSQ5Ps",
        "outputId": "c2842cb3-c971-4905-d397-0b02a6a5b888"
      },
      "outputs": [
        {
          "output_type": "stream",
          "name": "stdout",
          "text": [
            "Writing Q1_2_31_2_33.cu\n"
          ]
        }
      ],
      "source": [
        "%%writefile Q1_2_31_2_33.cu\n",
        "//Norhan_Reda_Abdelwahed_2_31\n",
        "//Hoda_Gamal_Hamouda_2_33\n",
        "\n",
        "#include <stdio.h>\n",
        "#include <stdlib.h>\n",
        "#include <math.h>\n",
        "#include <assert.h>\n",
        "#include <iostream>\n",
        "#include <iomanip>\n",
        "#include <fstream>\n",
        "#include <vector>\n",
        "\n",
        "using namespace std;\n",
        "\n",
        "// Kernel definition\n",
        "__global__ void ArrAdd(double *arr, long size,double *result)\n",
        "{\n",
        "    extern __shared__ double partialSum[];\n",
        "    unsigned int t = threadIdx.x;\n",
        "\n",
        "    unsigned int new_size = (size-1) / blockDim.x +1 ;\n",
        "    partialSum[t] = 0;\n",
        "\n",
        "    for(int i=0;i<new_size ;i++)\n",
        "    {\n",
        "      partialSum[t]+= arr[t*new_size+i];\n",
        "    }\n",
        "\n",
        "    if(t >=size)\n",
        "      return ;\n",
        "    for(unsigned int stride = 1; stride < blockDim.x; stride *= 2){\n",
        "\n",
        "        if(t % (2*stride) == 0)\n",
        "              partialSum[t] += partialSum[t+stride];\n",
        "        __syncthreads();\n",
        "    }\n",
        "\n",
        "    if(t==0)\n",
        "        *result = partialSum[0];\n",
        "    }\n",
        "\n",
        "int main(int argc, char *argv[])\n",
        "{\n",
        "\n",
        "    // Specify the file path\n",
        "    std::string filePath = argv[1];\n",
        "\n",
        "    // Open the file for reading\n",
        "    std::ifstream file(filePath);\n",
        "\n",
        "   if (!file.is_open()) {\n",
        "        std::cerr << \"Error opening file\" << std::endl;\n",
        "        return 1;\n",
        "    }\n",
        "\n",
        "    double* array = nullptr;  // Pointer to the array\n",
        "    double * result = nullptr;\n",
        "    double value;\n",
        "    long count = 0;  // Variable to keep track of the number of elements\n",
        "\n",
        "    // Read elements from the file\n",
        "    while (file >> value) {\n",
        "        // Dynamically resize the array\n",
        "        double* temp = static_cast<double*>(realloc(array, (count + 1) * sizeof(double)));\n",
        "\n",
        "        if (temp == nullptr) {\n",
        "            std::cerr << \"Error allocating memory\" << std::endl;\n",
        "            free(array);  // Free the previously allocated memory\n",
        "            return 1;\n",
        "        }\n",
        "\n",
        "        array = temp;\n",
        "\n",
        "        // Add the read value to the array\n",
        "        array[count] = value;\n",
        "\n",
        "        count++;\n",
        "    }\n",
        "\n",
        "    // Close the file\n",
        "    file.close();\n",
        "\n",
        "    // host to device allocation\n",
        "     double *array_device;\n",
        "     double *result_device;\n",
        "\n",
        "     result = (double*)malloc(sizeof(double));\n",
        "     cudaMalloc((void**)&array_device, count * sizeof(long));\n",
        "     cudaMalloc((void**)&result_device,sizeof(double));\n",
        "\n",
        "    cudaMemcpy(array_device, array, count * sizeof(long), cudaMemcpyHostToDevice);\n",
        "    dim3 threadsPerBlock(1024, 1);\n",
        "    dim3 numBlocks(1, 1);\n",
        "    ArrAdd<<< numBlocks, threadsPerBlock , threadsPerBlock.x * sizeof(double) >>>(array_device,count,result_device);\n",
        "\n",
        "    cudaMemcpy( result, result_device, sizeof(double), cudaMemcpyDeviceToHost);\n",
        "\n",
        "    //cout<<*result<<endl;\n",
        "    cout << fixed <<setprecision(2) << *result <<endl;\n",
        "\n",
        "    // Free the dynamically allocated memory in host\n",
        "    free(array);\n",
        "    free(result);\n",
        "\n",
        "    // Free device memory\n",
        "    cudaFree(array_device);\n",
        "    cudaFree(result_device);\n",
        "\n",
        "   return 0;\n",
        "}\n"
      ]
    },
    {
      "cell_type": "code",
      "execution_count": 6,
      "metadata": {
        "id": "o1MPjpioNeBk"
      },
      "outputs": [],
      "source": [
        "!chmod +x Q1_2_31_2_33.cu\n",
        "!nvcc Q1_2_31_2_33.cu -o Q1"
      ]
    },
    {
      "cell_type": "code",
      "execution_count": 7,
      "metadata": {
        "colab": {
          "base_uri": "https://localhost:8080/"
        },
        "id": "wvvbeR9HRTCl",
        "outputId": "ea81c694-5359-4268-c0ab-6ed88188f731"
      },
      "outputs": [
        {
          "output_type": "stream",
          "name": "stdout",
          "text": [
            "45.00\n"
          ]
        }
      ],
      "source": [
        "!./Q1 \"input_10.txt\""
      ]
    },
    {
      "cell_type": "code",
      "execution_count": 8,
      "metadata": {
        "colab": {
          "base_uri": "https://localhost:8080/"
        },
        "id": "kIRfKU-lRTFR",
        "outputId": "95b0e533-7ad2-4388-ae9a-26c79f604ad4"
      },
      "outputs": [
        {
          "output_type": "stream",
          "name": "stdout",
          "text": [
            "4950.00\n"
          ]
        }
      ],
      "source": [
        "!./Q1 \"input_100.txt\""
      ]
    },
    {
      "cell_type": "code",
      "execution_count": 9,
      "metadata": {
        "colab": {
          "base_uri": "https://localhost:8080/"
        },
        "id": "SsZVm-9nRTIz",
        "outputId": "de6e720d-afb2-4ba8-cb9c-fdb209bb4d23"
      },
      "outputs": [
        {
          "output_type": "stream",
          "name": "stdout",
          "text": [
            "499500.00\n"
          ]
        }
      ],
      "source": [
        "!./Q1 \"input_1000.txt\""
      ]
    },
    {
      "cell_type": "code",
      "execution_count": 10,
      "metadata": {
        "colab": {
          "base_uri": "https://localhost:8080/"
        },
        "id": "xvW4elWARqWI",
        "outputId": "c7cbba06-bca7-44ec-8268-cd8c82d33764"
      },
      "outputs": [
        {
          "output_type": "stream",
          "name": "stdout",
          "text": [
            "49995000.00\n"
          ]
        }
      ],
      "source": [
        "!./Q1 \"input_10th.txt\""
      ]
    },
    {
      "cell_type": "code",
      "execution_count": 11,
      "metadata": {
        "colab": {
          "base_uri": "https://localhost:8080/"
        },
        "id": "4-FfNPNSRqYh",
        "outputId": "8ae361d1-6516-46b9-b6ab-dda01a6e6cbd"
      },
      "outputs": [
        {
          "output_type": "stream",
          "name": "stdout",
          "text": [
            "4999950000.00\n"
          ]
        }
      ],
      "source": [
        "!./Q1 \"input_100th.txt\""
      ]
    },
    {
      "cell_type": "code",
      "execution_count": 12,
      "metadata": {
        "colab": {
          "base_uri": "https://localhost:8080/"
        },
        "id": "Rrr_C-KERqcJ",
        "outputId": "9ff74a20-bf3a-49c6-bfe5-d5ba3cd3db01"
      },
      "outputs": [
        {
          "output_type": "stream",
          "name": "stdout",
          "text": [
            "499999500000.00\n"
          ]
        }
      ],
      "source": [
        "!./Q1 \"input_1m.txt\""
      ]
    },
    {
      "cell_type": "code",
      "source": [
        "!./Q1 \"input_10m.txt\""
      ],
      "metadata": {
        "colab": {
          "base_uri": "https://localhost:8080/"
        },
        "id": "GIVgQM4RNyb_",
        "outputId": "dc44b865-393f-4efa-8563-018bd0d3fdc5"
      },
      "execution_count": 13,
      "outputs": [
        {
          "output_type": "stream",
          "name": "stdout",
          "text": [
            "49999995000000.00\n"
          ]
        }
      ]
    },
    {
      "cell_type": "code",
      "execution_count": 14,
      "metadata": {
        "colab": {
          "base_uri": "https://localhost:8080/"
        },
        "id": "o1jZlKYmSAeE",
        "outputId": "7c728b8f-19e9-42df-e59a-568c70766756"
      },
      "outputs": [
        {
          "output_type": "stream",
          "name": "stdout",
          "text": [
            "==1729== NVPROF is profiling process 1729, command: ./Q1 input_1m.txt\n",
            "499999500000.00\n",
            "==1729== Profiling application: ./Q1 input_1m.txt\n",
            "==1729== Profiling result:\n",
            "            Type  Time(%)      Time     Calls       Avg       Min       Max  Name\n",
            " GPU activities:   50.78%  1.6026ms         1  1.6026ms  1.6026ms  1.6026ms  ArrAdd(double*, long, double*)\n",
            "                   49.15%  1.5513ms         1  1.5513ms  1.5513ms  1.5513ms  [CUDA memcpy HtoD]\n",
            "                    0.07%  2.0810us         1  2.0810us  2.0810us  2.0810us  [CUDA memcpy DtoH]\n",
            "      API calls:   97.47%  162.72ms         2  81.360ms  72.620us  162.65ms  cudaMalloc\n",
            "                    2.02%  3.3713ms         2  1.6856ms  1.6170ms  1.7543ms  cudaMemcpy\n",
            "                    0.29%  485.57us         2  242.78us  105.01us  380.56us  cudaFree\n",
            "                    0.12%  198.94us         1  198.94us  198.94us  198.94us  cudaLaunchKernel\n",
            "                    0.09%  145.62us       114  1.2770us     146ns  52.122us  cuDeviceGetAttribute\n",
            "                    0.01%  11.537us         1  11.537us  11.537us  11.537us  cuDeviceGetName\n",
            "                    0.00%  7.0410us         1  7.0410us  7.0410us  7.0410us  cuDeviceGetPCIBusId\n",
            "                    0.00%  4.3280us         1  4.3280us  4.3280us  4.3280us  cuDeviceTotalMem\n",
            "                    0.00%  1.8490us         3     616ns     231ns  1.3180us  cuDeviceGetCount\n",
            "                    0.00%     920ns         2     460ns     162ns     758ns  cuDeviceGet\n",
            "                    0.00%     642ns         1     642ns     642ns     642ns  cuModuleGetLoadingMode\n",
            "                    0.00%     370ns         1     370ns     370ns     370ns  cuDeviceGetUuid\n"
          ]
        }
      ],
      "source": [
        "!nvprof ./Q1 \"input_1m.txt\""
      ]
    },
    {
      "cell_type": "code",
      "source": [
        "!nvprof ./Q1 \"input_10m.txt\""
      ],
      "metadata": {
        "colab": {
          "base_uri": "https://localhost:8080/"
        },
        "id": "GimTd8yoN2cb",
        "outputId": "dcf17939-12d5-4e8b-af1d-e2df806551f4"
      },
      "execution_count": 15,
      "outputs": [
        {
          "output_type": "stream",
          "name": "stdout",
          "text": [
            "==1744== NVPROF is profiling process 1744, command: ./Q1 input_10m.txt\n",
            "49999995000000.00\n",
            "==1744== Profiling application: ./Q1 input_10m.txt\n",
            "==1744== Profiling result:\n",
            "            Type  Time(%)      Time     Calls       Avg       Min       Max  Name\n",
            " GPU activities:   51.75%  18.552ms         1  18.552ms  18.552ms  18.552ms  [CUDA memcpy HtoD]\n",
            "                   48.24%  17.293ms         1  17.293ms  17.293ms  17.293ms  ArrAdd(double*, long, double*)\n",
            "                    0.01%  2.1440us         1  2.1440us  2.1440us  2.1440us  [CUDA memcpy DtoH]\n",
            "      API calls:   83.01%  184.41ms         2  92.205ms  127.88us  184.28ms  cudaMalloc\n",
            "                   16.25%  36.094ms         2  18.047ms  17.311ms  18.782ms  cudaMemcpy\n",
            "                    0.58%  1.2776ms         2  638.82us  172.62us  1.1050ms  cudaFree\n",
            "                    0.09%  208.49us         1  208.49us  208.49us  208.49us  cudaLaunchKernel\n",
            "                    0.06%  134.24us       114  1.1770us     138ns  55.239us  cuDeviceGetAttribute\n",
            "                    0.00%  11.045us         1  11.045us  11.045us  11.045us  cuDeviceGetName\n",
            "                    0.00%  5.4430us         1  5.4430us  5.4430us  5.4430us  cuDeviceGetPCIBusId\n",
            "                    0.00%  4.4660us         1  4.4660us  4.4660us  4.4660us  cuDeviceTotalMem\n",
            "                    0.00%  1.5800us         3     526ns     194ns  1.0730us  cuDeviceGetCount\n",
            "                    0.00%  1.1140us         2     557ns     173ns     941ns  cuDeviceGet\n",
            "                    0.00%     568ns         1     568ns     568ns     568ns  cuModuleGetLoadingMode\n",
            "                    0.00%     230ns         1     230ns     230ns     230ns  cuDeviceGetUuid\n"
          ]
        }
      ]
    },
    {
      "cell_type": "markdown",
      "metadata": {
        "id": "Ulsm9FHU0Rfp"
      },
      "source": []
    },
    {
      "cell_type": "markdown",
      "metadata": {
        "id": "pPvtdQBB0Ul2"
      },
      "source": [
        "**Question2 (Q2)**"
      ]
    },
    {
      "cell_type": "code",
      "source": [
        "%%writefile Q2_2_31_2_33.cu\n",
        "//Norhan_Reda_Abdelwahed_2_31\n",
        "//Hoda_Gamal_Hamouda_2_33\n",
        "\n",
        "#include <stdio.h>\n",
        "#include <stdlib.h>\n",
        "#include <math.h>\n",
        "#include <assert.h>\n",
        "#include <iostream>\n",
        "#include <fstream>\n",
        "#include <vector>\n",
        "\n",
        "using namespace std;\n",
        "\n",
        "// Kernel definition\n",
        "__global__ void BinarySearch(double *array, long size, double target, long *index)\n",
        "{\n",
        "\n",
        "    __shared__ long shared_start;\n",
        "    __shared__ long shared_end;\n",
        "    __shared__ bool shared_found;\n",
        "    __shared__ bool target_found;\n",
        "\n",
        "    int tid = threadIdx.x;\n",
        "\n",
        "    *index = -1;\n",
        "\n",
        "    if (tid == 0) {\n",
        "        shared_start = 0;\n",
        "        shared_end = size - 1;\n",
        "        shared_found = false;\n",
        "        target_found = false;\n",
        "    }\n",
        "    __syncthreads();\n",
        "\n",
        "    while (shared_start <= shared_end && shared_found == false && target_found == false) {\n",
        "\n",
        "        long elements_per_thread = (shared_end - shared_start + 1 + blockDim.x - 1) / blockDim.x;\n",
        "        long start = min(shared_start + tid * elements_per_thread, shared_end);\n",
        "        long end = min(start + elements_per_thread - 1, shared_end);\n",
        "\n",
        "        /*\n",
        "        if (end > shared_end) {\n",
        "            end = shared_end;\n",
        "        }\n",
        "        if(start > end){\n",
        "          start = end;\n",
        "        }*/\n",
        "\n",
        "\n",
        "        if (array[start] <= target && target <= array[end]) {\n",
        "            shared_start = start;\n",
        "            shared_end = end;\n",
        "            shared_found = true;\n",
        "        }\n",
        "\n",
        "        __syncthreads();\n",
        "\n",
        "        if (shared_found == false && shared_start == shared_end){\n",
        "          target_found = true;\n",
        "          *index = -1;\n",
        "        }\n",
        "        else if (shared_found == true && shared_start == shared_end){\n",
        "          target_found = true;\n",
        "          *index = shared_start;\n",
        "        }\n",
        "        else if(shared_found == false){\n",
        "           target_found = true;\n",
        "           *index = -1;\n",
        "        }\n",
        "        shared_found = false;\n",
        "\n",
        "    }\n",
        "}\n",
        "\n",
        "\n",
        "int main(int argc, char *argv[])\n",
        "{\n",
        "\n",
        "\n",
        "    // Specify the file path\n",
        "    std::string filePath = argv[1];\n",
        "    double target = atof(argv[2]);\n",
        "\n",
        "    // Open the file for reading\n",
        "    std::ifstream file(filePath);\n",
        "\n",
        "   if (!file.is_open()) {\n",
        "        std::cerr << \"Error opening file\" << std::endl;\n",
        "        return 1;\n",
        "    }\n",
        "\n",
        "    double* array = nullptr;  // Pointer to the array\n",
        "    long * result = nullptr;\n",
        "    double value;\n",
        "    long count = 0;  // Variable to keep track of the number of elements\n",
        "\n",
        "    // Read elements from the file\n",
        "    while (file >> value) {\n",
        "        // Dynamically resize the array\n",
        "        double* temp = static_cast<double*>(realloc(array, (count + 1) * sizeof(double)));\n",
        "\n",
        "        if (temp == nullptr) {\n",
        "            std::cerr << \"Error allocating memory\" << std::endl;\n",
        "            free(array);  // Free the previously allocated memory\n",
        "            return 1;\n",
        "        }\n",
        "\n",
        "        array = temp;\n",
        "\n",
        "        // Add the read value to the array\n",
        "        array[count] = value;\n",
        "\n",
        "        count++;\n",
        "    }\n",
        "\n",
        "    // Close the file\n",
        "    file.close();\n",
        "\n",
        "\n",
        "     // host to device allocation\n",
        "     double *array_device;\n",
        "     long *result_device;\n",
        "\n",
        "     result = (long*)malloc(sizeof(long));\n",
        "\n",
        "     cudaMalloc((void**)&array_device, count * sizeof(long));\n",
        "     cudaMalloc((void**)&result_device,sizeof(long));\n",
        "\n",
        "    cudaMemcpy(array_device, array, count * sizeof(double), cudaMemcpyHostToDevice);\n",
        "\n",
        "\n",
        "    dim3 threadsPerBlock(1024, 1);\n",
        "    dim3 numBlocks(1,1);\n",
        "\n",
        "    BinarySearch<<< numBlocks, threadsPerBlock>>>(array_device,count, target,result_device);\n",
        "\n",
        "    cudaMemcpy( result, result_device, sizeof(long), cudaMemcpyDeviceToHost);\n",
        "\n",
        "    cout<<*result<<endl;\n",
        "\n",
        "\n",
        "    // Free the dynamically allocated memory in host\n",
        "    free(array);\n",
        "    free(result);\n",
        "\n",
        "    // Free device memory\n",
        "    cudaFree(array_device);\n",
        "    cudaFree(result_device);\n",
        "\n",
        "   return 0;\n",
        "}\n"
      ],
      "metadata": {
        "colab": {
          "base_uri": "https://localhost:8080/"
        },
        "id": "BNwbMVkBnSXy",
        "outputId": "d531da1a-e445-4b20-93f9-85b9340db0c9"
      },
      "execution_count": 16,
      "outputs": [
        {
          "output_type": "stream",
          "name": "stdout",
          "text": [
            "Writing Q2_2_31_2_33.cu\n"
          ]
        }
      ]
    },
    {
      "cell_type": "code",
      "execution_count": 17,
      "metadata": {
        "id": "NIKLz3oCNeFn"
      },
      "outputs": [],
      "source": [
        "!chmod +x Q2_2_31_2_33.cu\n",
        "!nvcc Q2_2_31_2_33.cu -o Q2"
      ]
    },
    {
      "cell_type": "code",
      "execution_count": 18,
      "metadata": {
        "colab": {
          "base_uri": "https://localhost:8080/"
        },
        "id": "HJRNBMydOHXp",
        "outputId": "f751a602-4c64-426c-ad39-d7566a296cfb"
      },
      "outputs": [
        {
          "output_type": "stream",
          "name": "stdout",
          "text": [
            "2\n"
          ]
        }
      ],
      "source": [
        "!./Q2 \"input_10.txt\" 2.0"
      ]
    },
    {
      "cell_type": "code",
      "source": [
        "!./Q2 \"input_10.txt\" 8.0"
      ],
      "metadata": {
        "colab": {
          "base_uri": "https://localhost:8080/"
        },
        "id": "1YZlIY3zZhDv",
        "outputId": "eaf533eb-1793-4a84-df57-d51350e225b0"
      },
      "execution_count": 19,
      "outputs": [
        {
          "output_type": "stream",
          "name": "stdout",
          "text": [
            "8\n"
          ]
        }
      ]
    },
    {
      "cell_type": "code",
      "execution_count": 20,
      "metadata": {
        "colab": {
          "base_uri": "https://localhost:8080/"
        },
        "id": "ATL5bcQ2OIKP",
        "outputId": "4ee93ec3-2505-4ffb-c95a-84436d19c4e3"
      },
      "outputs": [
        {
          "output_type": "stream",
          "name": "stdout",
          "text": [
            "-1\n"
          ]
        }
      ],
      "source": [
        "!./Q2 \"input_10.txt\" 8.5"
      ]
    },
    {
      "cell_type": "code",
      "execution_count": 21,
      "metadata": {
        "id": "Xfq77-llOIVt",
        "colab": {
          "base_uri": "https://localhost:8080/"
        },
        "outputId": "fd3e69a5-622a-4942-cf91-1ea20d470b5d"
      },
      "outputs": [
        {
          "output_type": "stream",
          "name": "stdout",
          "text": [
            "-1\n"
          ]
        }
      ],
      "source": [
        "!./Q2 \"input_10.txt\" -5"
      ]
    },
    {
      "cell_type": "code",
      "source": [
        "!./Q2 \"input_10.txt\" 10.0"
      ],
      "metadata": {
        "colab": {
          "base_uri": "https://localhost:8080/"
        },
        "id": "jyseI43kZkJk",
        "outputId": "e73c0a04-ad22-4488-c370-f8589dc3da7f"
      },
      "execution_count": 22,
      "outputs": [
        {
          "output_type": "stream",
          "name": "stdout",
          "text": [
            "-1\n"
          ]
        }
      ]
    },
    {
      "cell_type": "code",
      "execution_count": 23,
      "metadata": {
        "colab": {
          "base_uri": "https://localhost:8080/"
        },
        "id": "dVQ7ZdPOOIYN",
        "outputId": "cb9311f6-0c75-4a4f-9367-315456eaca86"
      },
      "outputs": [
        {
          "output_type": "stream",
          "name": "stdout",
          "text": [
            "98\n"
          ]
        }
      ],
      "source": [
        "!./Q2 \"input_100.txt\" 98.0"
      ]
    },
    {
      "cell_type": "code",
      "execution_count": 24,
      "metadata": {
        "colab": {
          "base_uri": "https://localhost:8080/"
        },
        "id": "dglYFNB2OIab",
        "outputId": "e25afdc6-c478-4b5b-f603-8ad49bfe4731"
      },
      "outputs": [
        {
          "output_type": "stream",
          "name": "stdout",
          "text": [
            "55\n"
          ]
        }
      ],
      "source": [
        "!./Q2 \"input_100.txt\" 55.0"
      ]
    },
    {
      "cell_type": "code",
      "execution_count": 25,
      "metadata": {
        "colab": {
          "base_uri": "https://localhost:8080/"
        },
        "id": "QviH4wnfOIdy",
        "outputId": "da1be22e-8fe7-44ef-af13-ceebba2823ef"
      },
      "outputs": [
        {
          "output_type": "stream",
          "name": "stdout",
          "text": [
            "-1\n"
          ]
        }
      ],
      "source": [
        "!./Q2 \"input_100.txt\" 100.0"
      ]
    },
    {
      "cell_type": "code",
      "source": [
        "!./Q2 \"input_100.txt\" -10"
      ],
      "metadata": {
        "colab": {
          "base_uri": "https://localhost:8080/"
        },
        "id": "WVO56wEkCX_T",
        "outputId": "786c5878-2f7f-4b88-b7e1-5377dcf2386b"
      },
      "execution_count": 26,
      "outputs": [
        {
          "output_type": "stream",
          "name": "stdout",
          "text": [
            "-1\n"
          ]
        }
      ]
    },
    {
      "cell_type": "code",
      "execution_count": 27,
      "metadata": {
        "colab": {
          "base_uri": "https://localhost:8080/"
        },
        "id": "D_LWnjYhOTuN",
        "outputId": "eb9ca240-3438-4d9f-93db-bd41ff4fd02a"
      },
      "outputs": [
        {
          "output_type": "stream",
          "name": "stdout",
          "text": [
            "300\n"
          ]
        }
      ],
      "source": [
        "!./Q2 \"input_1000.txt\" 300.0"
      ]
    },
    {
      "cell_type": "code",
      "execution_count": 28,
      "metadata": {
        "colab": {
          "base_uri": "https://localhost:8080/"
        },
        "id": "A9XeaaBROdbc",
        "outputId": "6a547f84-9a85-4d21-9ac5-e8b8fb39147c"
      },
      "outputs": [
        {
          "output_type": "stream",
          "name": "stdout",
          "text": [
            "999\n"
          ]
        }
      ],
      "source": [
        "!./Q2 \"input_1000.txt\" 999.0"
      ]
    },
    {
      "cell_type": "code",
      "source": [
        "!./Q2 \"input_1000.txt\" 1000.0"
      ],
      "metadata": {
        "colab": {
          "base_uri": "https://localhost:8080/"
        },
        "id": "sboEEu5WZspm",
        "outputId": "d2360010-e7cd-4a3f-a0ab-3bfefcc8b431"
      },
      "execution_count": 29,
      "outputs": [
        {
          "output_type": "stream",
          "name": "stdout",
          "text": [
            "-1\n"
          ]
        }
      ]
    },
    {
      "cell_type": "code",
      "execution_count": 30,
      "metadata": {
        "colab": {
          "base_uri": "https://localhost:8080/"
        },
        "id": "pmSQetlyOfSe",
        "outputId": "742d1762-7992-4ab4-959c-22f9e0adc028"
      },
      "outputs": [
        {
          "output_type": "stream",
          "name": "stdout",
          "text": [
            "5500\n"
          ]
        }
      ],
      "source": [
        "!./Q2 \"input_10th.txt\" 5500.0"
      ]
    },
    {
      "cell_type": "code",
      "execution_count": 31,
      "metadata": {
        "colab": {
          "base_uri": "https://localhost:8080/"
        },
        "id": "pdgiFtFAOljE",
        "outputId": "5745b082-8531-4b2d-ca86-94965aa703d4"
      },
      "outputs": [
        {
          "output_type": "stream",
          "name": "stdout",
          "text": [
            "9999\n"
          ]
        }
      ],
      "source": [
        "!./Q2 \"input_10th.txt\" 9999.0"
      ]
    },
    {
      "cell_type": "code",
      "execution_count": 32,
      "metadata": {
        "colab": {
          "base_uri": "https://localhost:8080/"
        },
        "id": "tvNRC-6XOllY",
        "outputId": "2c641db1-223f-490f-9beb-d39577dc4aa7"
      },
      "outputs": [
        {
          "output_type": "stream",
          "name": "stdout",
          "text": [
            "-1\n"
          ]
        }
      ],
      "source": [
        "!./Q2 \"input_10th.txt\" 10000.0"
      ]
    },
    {
      "cell_type": "code",
      "source": [
        "!./Q2 \"input_10th.txt\" -66"
      ],
      "metadata": {
        "colab": {
          "base_uri": "https://localhost:8080/"
        },
        "id": "mSLBM8Tr84mm",
        "outputId": "6ef31045-2027-4507-c10a-c058f38a4da9"
      },
      "execution_count": 33,
      "outputs": [
        {
          "output_type": "stream",
          "name": "stdout",
          "text": [
            "-1\n"
          ]
        }
      ]
    },
    {
      "cell_type": "code",
      "execution_count": 34,
      "metadata": {
        "colab": {
          "base_uri": "https://localhost:8080/"
        },
        "id": "TFANWvOzOlnp",
        "outputId": "59018408-9893-49ad-9644-9c455aca707d"
      },
      "outputs": [
        {
          "output_type": "stream",
          "name": "stdout",
          "text": [
            "98765\n"
          ]
        }
      ],
      "source": [
        "!./Q2 \"input_100th.txt\" 98765.0"
      ]
    },
    {
      "cell_type": "code",
      "source": [
        "!./Q2 \"input_100th.txt\" 98765.6333"
      ],
      "metadata": {
        "colab": {
          "base_uri": "https://localhost:8080/"
        },
        "id": "TsMuT5SyLvoJ",
        "outputId": "5f713d43-029b-4231-c2f4-de511c7c66d4"
      },
      "execution_count": 35,
      "outputs": [
        {
          "output_type": "stream",
          "name": "stdout",
          "text": [
            "-1\n"
          ]
        }
      ]
    },
    {
      "cell_type": "code",
      "execution_count": 36,
      "metadata": {
        "colab": {
          "base_uri": "https://localhost:8080/"
        },
        "id": "GpOEAFRsOlp2",
        "outputId": "0f95caf3-83b5-45a0-9f4d-ecf3b6b81df1"
      },
      "outputs": [
        {
          "output_type": "stream",
          "name": "stdout",
          "text": [
            "-1\n"
          ]
        }
      ],
      "source": [
        "!./Q2 \"input_100th.txt\" 100000.0"
      ]
    },
    {
      "cell_type": "code",
      "execution_count": 37,
      "metadata": {
        "colab": {
          "base_uri": "https://localhost:8080/"
        },
        "id": "PGuj_gHLOltT",
        "outputId": "43bfd3d8-5cc1-4fea-e8e6-24f37e799128"
      },
      "outputs": [
        {
          "output_type": "stream",
          "name": "stdout",
          "text": [
            "-1\n"
          ]
        }
      ],
      "source": [
        "!./Q2 \"input_100th.txt\" -10"
      ]
    },
    {
      "cell_type": "code",
      "execution_count": 38,
      "metadata": {
        "colab": {
          "base_uri": "https://localhost:8080/"
        },
        "id": "JfgAVogoO99c",
        "outputId": "d3bbfd52-5b5e-4668-fc78-ee1e11c0f7ce"
      },
      "outputs": [
        {
          "output_type": "stream",
          "name": "stdout",
          "text": [
            "900000\n"
          ]
        }
      ],
      "source": [
        "!./Q2 \"input_1m.txt\" 900000.0"
      ]
    },
    {
      "cell_type": "code",
      "execution_count": 39,
      "metadata": {
        "colab": {
          "base_uri": "https://localhost:8080/"
        },
        "id": "fWPmpBPtPDGm",
        "outputId": "9b5b1438-8c2c-4b49-ac6a-9c666e1ce686"
      },
      "outputs": [
        {
          "output_type": "stream",
          "name": "stdout",
          "text": [
            "987654\n"
          ]
        }
      ],
      "source": [
        "!./Q2 \"input_1m.txt\" 987654.0"
      ]
    },
    {
      "cell_type": "code",
      "execution_count": 40,
      "metadata": {
        "colab": {
          "base_uri": "https://localhost:8080/"
        },
        "id": "c4gl0wlkPDIo",
        "outputId": "c6580c05-c82c-4d6c-916b-0a69418b70f5"
      },
      "outputs": [
        {
          "output_type": "stream",
          "name": "stdout",
          "text": [
            "999999\n"
          ]
        }
      ],
      "source": [
        "!./Q2 \"input_1m.txt\" 999999.0"
      ]
    },
    {
      "cell_type": "code",
      "source": [
        "!./Q2 \"input_1m.txt\" 999999.563"
      ],
      "metadata": {
        "colab": {
          "base_uri": "https://localhost:8080/"
        },
        "id": "FBVCvUfMFn2L",
        "outputId": "88bf52e0-fc2d-42a3-9649-2c9373d1a57f"
      },
      "execution_count": 41,
      "outputs": [
        {
          "output_type": "stream",
          "name": "stdout",
          "text": [
            "-1\n"
          ]
        }
      ]
    },
    {
      "cell_type": "code",
      "execution_count": 42,
      "metadata": {
        "colab": {
          "base_uri": "https://localhost:8080/"
        },
        "id": "b0OP5yVwH_OX",
        "outputId": "2f689faf-6c17-4de8-fe28-c0cc9f51a690"
      },
      "outputs": [
        {
          "output_type": "stream",
          "name": "stdout",
          "text": [
            "-1\n"
          ]
        }
      ],
      "source": [
        "!./Q2 \"input_1m.txt\" 1000002.0"
      ]
    },
    {
      "cell_type": "code",
      "source": [
        "!./Q2 \"input_10m.txt\" -10"
      ],
      "metadata": {
        "id": "Tqgq5_AfBYgD",
        "colab": {
          "base_uri": "https://localhost:8080/"
        },
        "outputId": "63f25e06-caf2-487e-d637-984ddf404f8c"
      },
      "execution_count": 43,
      "outputs": [
        {
          "output_type": "stream",
          "name": "stdout",
          "text": [
            "-1\n"
          ]
        }
      ]
    },
    {
      "cell_type": "code",
      "source": [
        "!./Q2 \"input_10m.txt\" 10000000.1"
      ],
      "metadata": {
        "colab": {
          "base_uri": "https://localhost:8080/"
        },
        "id": "utnQlOUxZ-PT",
        "outputId": "f9a60ffd-6650-4932-b584-57c2e3f2e6b2"
      },
      "execution_count": 44,
      "outputs": [
        {
          "output_type": "stream",
          "name": "stdout",
          "text": [
            "-1\n"
          ]
        }
      ]
    },
    {
      "cell_type": "code",
      "source": [
        "!./Q2 \"input_10m.txt\" 8400000.56"
      ],
      "metadata": {
        "colab": {
          "base_uri": "https://localhost:8080/"
        },
        "id": "H41bfx_TJ0p7",
        "outputId": "2549ca66-ab22-4df5-eb3d-06ea8ce3f524"
      },
      "execution_count": 45,
      "outputs": [
        {
          "output_type": "stream",
          "name": "stdout",
          "text": [
            "-1\n"
          ]
        }
      ]
    },
    {
      "cell_type": "code",
      "source": [
        "!./Q2 \"input_10m.txt\" 8400000.0"
      ],
      "metadata": {
        "colab": {
          "base_uri": "https://localhost:8080/"
        },
        "id": "d_-DieT1aCOq",
        "outputId": "d33af3f5-3404-4814-fe5e-11f8a26c0acd"
      },
      "execution_count": 46,
      "outputs": [
        {
          "output_type": "stream",
          "name": "stdout",
          "text": [
            "8400000\n"
          ]
        }
      ]
    },
    {
      "cell_type": "code",
      "execution_count": 47,
      "metadata": {
        "colab": {
          "base_uri": "https://localhost:8080/"
        },
        "id": "8-TOWf1LtD3A",
        "outputId": "8b89008a-468c-4c60-8e50-802adf130085"
      },
      "outputs": [
        {
          "output_type": "stream",
          "name": "stdout",
          "text": [
            "==1978== NVPROF is profiling process 1978, command: ./Q2 input_1m.txt 999999.0\n",
            "999999\n",
            "==1978== Profiling application: ./Q2 input_1m.txt 999999.0\n",
            "==1978== Profiling result:\n",
            "            Type  Time(%)      Time     Calls       Avg       Min       Max  Name\n",
            " GPU activities:   99.04%  1.5497ms         1  1.5497ms  1.5497ms  1.5497ms  [CUDA memcpy HtoD]\n",
            "                    0.82%  12.896us         1  12.896us  12.896us  12.896us  BinarySearch(double*, long, double, long*)\n",
            "                    0.13%  2.0800us         1  2.0800us  2.0800us  2.0800us  [CUDA memcpy DtoH]\n",
            "      API calls:   98.46%  166.13ms         2  83.065ms  72.939us  166.06ms  cudaMalloc\n",
            "                    1.05%  1.7707ms         2  885.33us  24.123us  1.7465ms  cudaMemcpy\n",
            "                    0.29%  494.47us         2  247.24us  111.62us  382.86us  cudaFree\n",
            "                    0.12%  194.13us         1  194.13us  194.13us  194.13us  cudaLaunchKernel\n",
            "                    0.07%  124.19us       114  1.0890us     134ns  48.734us  cuDeviceGetAttribute\n",
            "                    0.01%  10.465us         1  10.465us  10.465us  10.465us  cuDeviceGetName\n",
            "                    0.00%  4.8890us         1  4.8890us  4.8890us  4.8890us  cuDeviceGetPCIBusId\n",
            "                    0.00%  4.2070us         1  4.2070us  4.2070us  4.2070us  cuDeviceTotalMem\n",
            "                    0.00%  1.3200us         3     440ns     157ns     882ns  cuDeviceGetCount\n",
            "                    0.00%     896ns         2     448ns     175ns     721ns  cuDeviceGet\n",
            "                    0.00%     576ns         1     576ns     576ns     576ns  cuModuleGetLoadingMode\n",
            "                    0.00%     215ns         1     215ns     215ns     215ns  cuDeviceGetUuid\n"
          ]
        }
      ],
      "source": [
        "!nvprof ./Q2 \"input_1m.txt\" 999999.0"
      ]
    },
    {
      "cell_type": "code",
      "source": [
        "!nvprof ./Q2 \"input_1m.txt\" 999999.5"
      ],
      "metadata": {
        "colab": {
          "base_uri": "https://localhost:8080/"
        },
        "id": "BN8-_MzXaMJa",
        "outputId": "f60372ba-743d-4924-dc80-4bb277de8aaf"
      },
      "execution_count": 48,
      "outputs": [
        {
          "output_type": "stream",
          "name": "stdout",
          "text": [
            "==1993== NVPROF is profiling process 1993, command: ./Q2 input_1m.txt 999999.5\n",
            "-1\n",
            "==1993== Profiling application: ./Q2 input_1m.txt 999999.5\n",
            "==1993== Profiling result:\n",
            "            Type  Time(%)      Time     Calls       Avg       Min       Max  Name\n",
            " GPU activities:   99.29%  1.6388ms         1  1.6388ms  1.6388ms  1.6388ms  [CUDA memcpy HtoD]\n",
            "                    0.59%  9.6960us         1  9.6960us  9.6960us  9.6960us  BinarySearch(double*, long, double, long*)\n",
            "                    0.13%  2.0800us         1  2.0800us  2.0800us  2.0800us  [CUDA memcpy DtoH]\n",
            "      API calls:   98.40%  165.88ms         2  82.940ms  77.271us  165.80ms  cudaMalloc\n",
            "                    1.10%  1.8614ms         2  930.72us  23.037us  1.8384ms  cudaMemcpy\n",
            "                    0.29%  493.03us         2  246.52us  107.94us  385.10us  cudaFree\n",
            "                    0.12%  194.51us         1  194.51us  194.51us  194.51us  cudaLaunchKernel\n",
            "                    0.07%  125.85us       114  1.1030us     134ns  49.911us  cuDeviceGetAttribute\n",
            "                    0.01%  11.052us         1  11.052us  11.052us  11.052us  cuDeviceGetName\n",
            "                    0.00%  5.1300us         1  5.1300us  5.1300us  5.1300us  cuDeviceGetPCIBusId\n",
            "                    0.00%  4.3510us         1  4.3510us  4.3510us  4.3510us  cuDeviceTotalMem\n",
            "                    0.00%  1.5660us         3     522ns     226ns  1.0220us  cuDeviceGetCount\n",
            "                    0.00%     899ns         2     449ns     212ns     687ns  cuDeviceGet\n",
            "                    0.00%     605ns         1     605ns     605ns     605ns  cuModuleGetLoadingMode\n",
            "                    0.00%     190ns         1     190ns     190ns     190ns  cuDeviceGetUuid\n"
          ]
        }
      ]
    },
    {
      "cell_type": "code",
      "source": [
        "!nvprof ./Q2 \"input_10m.txt\" 9999999.0"
      ],
      "metadata": {
        "id": "zT8LsjztBYih",
        "colab": {
          "base_uri": "https://localhost:8080/"
        },
        "outputId": "c2d41876-0f83-45a3-cf39-ffaf1365ae5c"
      },
      "execution_count": 49,
      "outputs": [
        {
          "output_type": "stream",
          "name": "stdout",
          "text": [
            "==2008== NVPROF is profiling process 2008, command: ./Q2 input_10m.txt 9999999.0\n",
            "9999999\n",
            "==2008== Profiling application: ./Q2 input_10m.txt 9999999.0\n",
            "==2008== Profiling result:\n",
            "            Type  Time(%)      Time     Calls       Avg       Min       Max  Name\n",
            " GPU activities:   99.90%  16.796ms         1  16.796ms  16.796ms  16.796ms  [CUDA memcpy HtoD]\n",
            "                    0.09%  14.912us         1  14.912us  14.912us  14.912us  BinarySearch(double*, long, double, long*)\n",
            "                    0.01%  2.0800us         1  2.0800us  2.0800us  2.0800us  [CUDA memcpy DtoH]\n",
            "      API calls:   91.05%  190.57ms         2  95.286ms  81.959us  190.49ms  cudaMalloc\n",
            "                    8.14%  17.035ms         2  8.5174ms  24.961us  17.010ms  cudaMemcpy\n",
            "                    0.61%  1.2718ms         2  635.91us  170.05us  1.1018ms  cudaFree\n",
            "                    0.10%  207.61us         1  207.61us  207.61us  207.61us  cudaLaunchKernel\n",
            "                    0.09%  189.93us       114  1.6660us     183ns  73.296us  cuDeviceGetAttribute\n",
            "                    0.01%  14.795us         1  14.795us  14.795us  14.795us  cuDeviceGetName\n",
            "                    0.00%  4.9460us         1  4.9460us  4.9460us  4.9460us  cuDeviceTotalMem\n",
            "                    0.00%  4.6960us         1  4.6960us  4.6960us  4.6960us  cuDeviceGetPCIBusId\n",
            "                    0.00%  2.0370us         3     679ns     292ns  1.4080us  cuDeviceGetCount\n",
            "                    0.00%  1.3980us         2     699ns     186ns  1.2120us  cuDeviceGet\n",
            "                    0.00%     539ns         1     539ns     539ns     539ns  cuModuleGetLoadingMode\n",
            "                    0.00%     434ns         1     434ns     434ns     434ns  cuDeviceGetUuid\n"
          ]
        }
      ]
    },
    {
      "cell_type": "code",
      "source": [
        "!nvprof ./Q2 \"input_10m.txt\" 9999999.5"
      ],
      "metadata": {
        "colab": {
          "base_uri": "https://localhost:8080/"
        },
        "id": "kTVBHQE5aG_Q",
        "outputId": "95bdd454-e58c-4811-da84-4df777e80622"
      },
      "execution_count": 50,
      "outputs": [
        {
          "output_type": "stream",
          "name": "stdout",
          "text": [
            "==2027== NVPROF is profiling process 2027, command: ./Q2 input_10m.txt 9999999.5\n",
            "-1\n",
            "==2027== Profiling application: ./Q2 input_10m.txt 9999999.5\n",
            "==2027== Profiling result:\n",
            "            Type  Time(%)      Time     Calls       Avg       Min       Max  Name\n",
            " GPU activities:   99.93%  16.860ms         1  16.860ms  16.860ms  16.860ms  [CUDA memcpy HtoD]\n",
            "                    0.06%  10.271us         1  10.271us  10.271us  10.271us  BinarySearch(double*, long, double, long*)\n",
            "                    0.01%  2.0790us         1  2.0790us  2.0790us  2.0790us  [CUDA memcpy DtoH]\n",
            "      API calls:   90.88%  186.87ms         2  93.437ms  101.45us  186.77ms  cudaMalloc\n",
            "                    8.32%  17.102ms         2  8.5511ms  25.138us  17.077ms  cudaMemcpy\n",
            "                    0.62%  1.2713ms         2  635.65us  176.92us  1.0944ms  cudaFree\n",
            "                    0.11%  231.48us         1  231.48us  231.48us  231.48us  cudaLaunchKernel\n",
            "                    0.06%  130.78us       114  1.1470us     141ns  52.065us  cuDeviceGetAttribute\n",
            "                    0.01%  10.829us         1  10.829us  10.829us  10.829us  cuDeviceGetName\n",
            "                    0.00%  4.7460us         1  4.7460us  4.7460us  4.7460us  cuDeviceGetPCIBusId\n",
            "                    0.00%  4.3200us         1  4.3200us  4.3200us  4.3200us  cuDeviceTotalMem\n",
            "                    0.00%  1.7490us         3     583ns     179ns     987ns  cuDeviceGetCount\n",
            "                    0.00%     864ns         2     432ns     190ns     674ns  cuDeviceGet\n",
            "                    0.00%     627ns         1     627ns     627ns     627ns  cuModuleGetLoadingMode\n",
            "                    0.00%     220ns         1     220ns     220ns     220ns  cuDeviceGetUuid\n"
          ]
        }
      ]
    }
  ],
  "metadata": {
    "accelerator": "GPU",
    "colab": {
      "gpuType": "T4",
      "provenance": []
    },
    "kernelspec": {
      "display_name": "Python 3",
      "name": "python3"
    },
    "language_info": {
      "name": "python"
    }
  },
  "nbformat": 4,
  "nbformat_minor": 0
}