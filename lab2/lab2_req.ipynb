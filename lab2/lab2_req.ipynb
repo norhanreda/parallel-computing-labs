{
  "nbformat": 4,
  "nbformat_minor": 0,
  "metadata": {
    "colab": {
      "provenance": [],
      "gpuType": "T4"
    },
    "kernelspec": {
      "name": "python3",
      "display_name": "Python 3"
    },
    "language_info": {
      "name": "python"
    },
    "accelerator": "GPU"
  },
  "cells": [
    {
      "cell_type": "code",
      "execution_count": 17,
      "metadata": {
        "colab": {
          "base_uri": "https://localhost:8080/"
        },
        "id": "eDYH1i0nh3KB",
        "outputId": "6e33e92e-7ba0-4cf7-fde4-98f5082ac83e"
      },
      "outputs": [
        {
          "output_type": "stream",
          "name": "stdout",
          "text": [
            "nvcc: NVIDIA (R) Cuda compiler driver\n",
            "Copyright (c) 2005-2023 NVIDIA Corporation\n",
            "Built on Tue_Aug_15_22:02:13_PDT_2023\n",
            "Cuda compilation tools, release 12.2, V12.2.140\n",
            "Build cuda_12.2.r12.2/compiler.33191640_0\n"
          ]
        }
      ],
      "source": [
        "!nvcc --version"
      ]
    },
    {
      "cell_type": "code",
      "source": [
        "!pip install git+https://github.com/andreinechaev/nvcc4jupyter.git"
      ],
      "metadata": {
        "colab": {
          "base_uri": "https://localhost:8080/"
        },
        "id": "ZtxtG-pqiQdk",
        "outputId": "e5556550-5142-4562-c881-90227b727fd1"
      },
      "execution_count": 18,
      "outputs": [
        {
          "output_type": "stream",
          "name": "stdout",
          "text": [
            "Collecting git+https://github.com/andreinechaev/nvcc4jupyter.git\n",
            "  Cloning https://github.com/andreinechaev/nvcc4jupyter.git to /tmp/pip-req-build-4refnu1w\n",
            "  Running command git clone --filter=blob:none --quiet https://github.com/andreinechaev/nvcc4jupyter.git /tmp/pip-req-build-4refnu1w\n",
            "  Resolved https://github.com/andreinechaev/nvcc4jupyter.git to commit 781ff5b76ba6c4c2d80dcbbec9983e147613cc71\n",
            "  Installing build dependencies ... \u001b[?25l\u001b[?25hdone\n",
            "  Getting requirements to build wheel ... \u001b[?25l\u001b[?25hdone\n",
            "  Preparing metadata (pyproject.toml) ... \u001b[?25l\u001b[?25hdone\n"
          ]
        }
      ]
    },
    {
      "cell_type": "code",
      "source": [
        "%load_ext nvcc4jupyter"
      ],
      "metadata": {
        "colab": {
          "base_uri": "https://localhost:8080/"
        },
        "id": "JGeZVziziQjj",
        "outputId": "d459df72-6208-4a81-ec4e-7f43542b32c5"
      },
      "execution_count": 19,
      "outputs": [
        {
          "output_type": "stream",
          "name": "stdout",
          "text": [
            "The nvcc4jupyter extension is already loaded. To reload it, use:\n",
            "  %reload_ext nvcc4jupyter\n"
          ]
        }
      ]
    },
    {
      "cell_type": "markdown",
      "source": [
        "**Kernal1  (Each thread produces one output matrix element)**"
      ],
      "metadata": {
        "id": "jK8pBHa2Ieks"
      }
    },
    {
      "cell_type": "code",
      "source": [
        "\n",
        "%%writefile Norhan_Reda_Abdelwahed_2_31_kernal1.cu\n",
        "//Norhan_Reda_Abdelwahed_2_31\n",
        "#include <stdio.h>\n",
        "#include <stdlib.h>\n",
        "#include <math.h>\n",
        "#include <assert.h>\n",
        "#include <iostream>\n",
        "using namespace std;\n",
        "#define N 800\n",
        "// Kernel definition\n",
        "__global__ void MatAdd(float A[N][N], float B[N][N],\n",
        "                       float C[N][N])\n",
        "{\n",
        "    int i = blockIdx.x * blockDim.x + threadIdx.x;\n",
        "    int j = blockIdx.y * blockDim.y + threadIdx.y;\n",
        "    if (i < N && j < N)\n",
        "        C[i][j] = A[i][j] + B[i][j];\n",
        "\n",
        "\n",
        "}\n",
        "\n",
        "int main()\n",
        "{\n",
        "      float A[N][N];\n",
        "    float B[N][N];\n",
        "    float C[N][N];\n",
        "\n",
        "    // Initialize matrices A and B\n",
        "    for (int i = 0; i < N; i++)\n",
        "    {\n",
        "        for (int j = 0; j < N; j++)\n",
        "        {\n",
        "            A[i][j] = 1.0f; // Example initialization\n",
        "            B[i][j] = 2.0f; // Example initialization\n",
        "        }\n",
        "    }\n",
        "\n",
        "\n",
        "    // Declare device matrices\n",
        "    float (*d_A)[N];\n",
        "    float (*d_B)[N];\n",
        "    float (*d_C)[N];\n",
        "\n",
        "    // Allocate device memory for matrices A, B, and C\n",
        "    cudaMalloc((void**)&d_A, N * N * sizeof(float));\n",
        "    cudaMalloc((void**)&d_B, N * N * sizeof(float));\n",
        "    cudaMalloc((void**)&d_C, N * N * sizeof(float));\n",
        "\n",
        "    // Copy input matrices A and B from host to device\n",
        "    cudaMemcpy(d_A, A, N * N * sizeof(float), cudaMemcpyHostToDevice);\n",
        "    cudaMemcpy(d_B, B, N * N * sizeof(float), cudaMemcpyHostToDevice);\n",
        "\n",
        "\n",
        "\n",
        "    //...\n",
        "    // Kernel invocation with one block of N * N * 1 threads\n",
        "    dim3 threadsPerBlock(16, 16);\n",
        "    dim3 numBlocks(N / threadsPerBlock.x, N / threadsPerBlock.y);\n",
        "    MatAdd<<<numBlocks, threadsPerBlock>>>(d_A, d_B, d_C);\n",
        "    //...\n",
        "    // Copy the result matrix C from device to host\n",
        "    cudaMemcpy(C, d_C, N * N * sizeof(float), cudaMemcpyDeviceToHost);\n",
        "   for(int i=0;i<5;i++)\n",
        "   {\n",
        "    for(int j = 0;j<5;j++)\n",
        "    {\n",
        "      cout<<C[i][j]<<endl;\n",
        "    }\n",
        "   }\n",
        "    printf(\"C[0][0] = %f\\n\", C[0][0]);\n",
        "    printf(\"PASSED\\n\");\n",
        "\n",
        "    // Free device memory\n",
        "    cudaFree(d_A);\n",
        "    cudaFree(d_B);\n",
        "    cudaFree(d_C);\n",
        "\n",
        "   return 0;\n",
        "}\n"
      ],
      "metadata": {
        "colab": {
          "base_uri": "https://localhost:8080/"
        },
        "id": "0kl-5_7yiQqT",
        "outputId": "d52c5b5a-f343-42a4-d1b6-35ea9234e847"
      },
      "execution_count": 20,
      "outputs": [
        {
          "output_type": "stream",
          "name": "stdout",
          "text": [
            "Overwriting Norhan_Reda_Abdelwahed_2_31_kernal1.cu\n"
          ]
        }
      ]
    },
    {
      "cell_type": "code",
      "source": [],
      "metadata": {
        "id": "6knGl9x_CAQ7"
      },
      "execution_count": 20,
      "outputs": []
    },
    {
      "cell_type": "code",
      "source": [
        "!chmod +x Norhan_Reda_Abdelwahed_2_31_kernal1.cu\n",
        "!nvcc Norhan_Reda_Abdelwahed_2_31_kernal1.cu -o kernal1\n",
        "!./kernal1"
      ],
      "metadata": {
        "colab": {
          "base_uri": "https://localhost:8080/"
        },
        "id": "QqyK61XVikFQ",
        "outputId": "345d1ce9-424e-40ca-fbef-53ec44388f85"
      },
      "execution_count": 21,
      "outputs": [
        {
          "output_type": "stream",
          "name": "stdout",
          "text": [
            "3\n",
            "3\n",
            "3\n",
            "3\n",
            "3\n",
            "3\n",
            "3\n",
            "3\n",
            "3\n",
            "3\n",
            "3\n",
            "3\n",
            "3\n",
            "3\n",
            "3\n",
            "3\n",
            "3\n",
            "3\n",
            "3\n",
            "3\n",
            "3\n",
            "3\n",
            "3\n",
            "3\n",
            "3\n",
            "C[0][0] = 3.000000\n",
            "PASSED\n"
          ]
        }
      ]
    },
    {
      "cell_type": "code",
      "source": [
        "!nvprof ./kernal1"
      ],
      "metadata": {
        "colab": {
          "base_uri": "https://localhost:8080/"
        },
        "id": "I_K8wgPbELYc",
        "outputId": "9b3e5120-9768-4f88-9514-38f74f85b261"
      },
      "execution_count": 22,
      "outputs": [
        {
          "output_type": "stream",
          "name": "stdout",
          "text": [
            "==4768== NVPROF is profiling process 4768, command: ./kernal1\n",
            "3\n",
            "3\n",
            "3\n",
            "3\n",
            "3\n",
            "3\n",
            "3\n",
            "3\n",
            "3\n",
            "3\n",
            "3\n",
            "3\n",
            "3\n",
            "3\n",
            "3\n",
            "3\n",
            "3\n",
            "3\n",
            "3\n",
            "3\n",
            "3\n",
            "3\n",
            "3\n",
            "3\n",
            "3\n",
            "C[0][0] = 3.000000\n",
            "PASSED\n",
            "==4768== Profiling application: ./kernal1\n",
            "==4768== Profiling result:\n",
            "            Type  Time(%)      Time     Calls       Avg       Min       Max  Name\n",
            " GPU activities:   62.36%  809.42us         2  404.71us  397.78us  411.64us  [CUDA memcpy HtoD]\n",
            "                   30.38%  394.39us         1  394.39us  394.39us  394.39us  [CUDA memcpy DtoH]\n",
            "                    7.26%  94.174us         1  94.174us  94.174us  94.174us  MatAdd(float[800]*, float[800]*, float[800]*)\n",
            "      API calls:   91.65%  101.94ms         3  33.981ms  118.95us  101.70ms  cudaMalloc\n",
            "                    7.07%  7.8679ms         3  2.6226ms  641.98us  6.5589ms  cudaMemcpy\n",
            "                    0.88%  981.02us         3  327.01us  170.22us  408.04us  cudaFree\n",
            "                    0.24%  263.35us         1  263.35us  263.35us  263.35us  cudaLaunchKernel\n",
            "                    0.13%  145.46us       114  1.2750us     136ns  62.033us  cuDeviceGetAttribute\n",
            "                    0.01%  13.506us         1  13.506us  13.506us  13.506us  cuDeviceGetName\n",
            "                    0.01%  6.6680us         1  6.6680us  6.6680us  6.6680us  cuDeviceGetPCIBusId\n",
            "                    0.00%  4.3650us         1  4.3650us  4.3650us  4.3650us  cuDeviceTotalMem\n",
            "                    0.00%  2.5050us         3     835ns     232ns  1.9860us  cuDeviceGetCount\n",
            "                    0.00%     923ns         2     461ns     180ns     743ns  cuDeviceGet\n",
            "                    0.00%     548ns         1     548ns     548ns     548ns  cuModuleGetLoadingMode\n",
            "                    0.00%     232ns         1     232ns     232ns     232ns  cuDeviceGetUuid\n"
          ]
        }
      ]
    },
    {
      "cell_type": "markdown",
      "source": [
        "\n",
        "**Kernal 2 ( Each thread produces one output matrix row)**"
      ],
      "metadata": {
        "id": "N7NRdU_vHvq7"
      }
    },
    {
      "cell_type": "code",
      "source": [
        "\n",
        "%%writefile Norhan_Reda_Abdelwahed_2_31_kernal2.cu\n",
        "//Norhan_Reda_Abdelwahed_2_31\n",
        "#include <stdio.h>\n",
        "#include <stdlib.h>\n",
        "#include <math.h>\n",
        "#include <assert.h>\n",
        "#include <iostream>\n",
        "using namespace std;\n",
        "#define N 800\n",
        "// Kernel definition\n",
        "__global__ void MatAdd(float A[N][N], float B[N][N],\n",
        "                       float C[N][N])\n",
        "{\n",
        "    int i = blockIdx.x * blockDim.x + threadIdx.x;\n",
        "     for (int j = 0; j < N; j++) {\n",
        "        if (i < N)\n",
        "            C[i][j] = A[i][j] + B[i][j];\n",
        "    }\n",
        "\n",
        "\n",
        "}\n",
        "\n",
        "int main()\n",
        "{\n",
        "      float A[N][N];\n",
        "    float B[N][N];\n",
        "    float C[N][N];\n",
        "\n",
        "    // Initialize matrices A and B\n",
        "    for (int i = 0; i < N; i++)\n",
        "    {\n",
        "        for (int j = 0; j < N; j++)\n",
        "        {\n",
        "            A[i][j] = 1.0f; // Example initialization\n",
        "            B[i][j] = 2.0f; // Example initialization\n",
        "        }\n",
        "    }\n",
        "\n",
        "\n",
        "    // Declare device matrices\n",
        "    float (*d_A)[N];\n",
        "    float (*d_B)[N];\n",
        "    float (*d_C)[N];\n",
        "\n",
        "    // Allocate device memory for matrices A, B, and C\n",
        "    cudaMalloc((void**)&d_A, N * N * sizeof(float));\n",
        "    cudaMalloc((void**)&d_B, N * N * sizeof(float));\n",
        "    cudaMalloc((void**)&d_C, N * N * sizeof(float));\n",
        "\n",
        "    // Copy input matrices A and B from host to device\n",
        "    cudaMemcpy(d_A, A, N * N * sizeof(float), cudaMemcpyHostToDevice);\n",
        "    cudaMemcpy(d_B, B, N * N * sizeof(float), cudaMemcpyHostToDevice);\n",
        "\n",
        "\n",
        "\n",
        "    //...\n",
        "    // Kernel invocation with one block of N * N * 1 threads\n",
        "    dim3 threadsPerBlock(16, 16);\n",
        "    dim3 numBlocks(N / threadsPerBlock.x, N / threadsPerBlock.y);\n",
        "    MatAdd<<<numBlocks, threadsPerBlock>>>(d_A, d_B, d_C);\n",
        "    //...\n",
        "    // Copy the result matrix C from device to host\n",
        "    cudaMemcpy(C, d_C, N * N * sizeof(float), cudaMemcpyDeviceToHost);\n",
        "   for(int i=0;i<5;i++)\n",
        "   {\n",
        "    for(int j = 0;j<5;j++)\n",
        "    {\n",
        "      cout<<C[i][j]<<endl;\n",
        "    }\n",
        "   }\n",
        "    printf(\"C[0][0] = %f\\n\", C[0][0]);\n",
        "    printf(\"PASSED\\n\");\n",
        "\n",
        "    // Free device memory\n",
        "    cudaFree(d_A);\n",
        "    cudaFree(d_B);\n",
        "    cudaFree(d_C);\n",
        "\n",
        "   return 0;\n",
        "}\n"
      ],
      "metadata": {
        "colab": {
          "base_uri": "https://localhost:8080/"
        },
        "id": "DBg5Dx2FHr7w",
        "outputId": "4d3f7e75-72df-4459-95c3-a577f7caaf25"
      },
      "execution_count": 23,
      "outputs": [
        {
          "output_type": "stream",
          "name": "stdout",
          "text": [
            "Writing Norhan_Reda_Abdelwahed_2_31_kernal2.cu\n"
          ]
        }
      ]
    },
    {
      "cell_type": "code",
      "source": [
        "!chmod +x Norhan_Reda_Abdelwahed_2_31_kernal2.cu\n",
        "!nvcc Norhan_Reda_Abdelwahed_2_31_kernal2.cu -o kernal2\n",
        "!./kernal2"
      ],
      "metadata": {
        "colab": {
          "base_uri": "https://localhost:8080/"
        },
        "id": "HP8zNMh1HtBc",
        "outputId": "66954f5e-cf92-4cb0-b627-2da305607ca3"
      },
      "execution_count": 24,
      "outputs": [
        {
          "output_type": "stream",
          "name": "stdout",
          "text": [
            "3\n",
            "3\n",
            "3\n",
            "3\n",
            "3\n",
            "3\n",
            "3\n",
            "3\n",
            "3\n",
            "3\n",
            "3\n",
            "3\n",
            "3\n",
            "3\n",
            "3\n",
            "3\n",
            "3\n",
            "3\n",
            "3\n",
            "3\n",
            "3\n",
            "3\n",
            "3\n",
            "3\n",
            "3\n",
            "C[0][0] = 3.000000\n",
            "PASSED\n"
          ]
        }
      ]
    },
    {
      "cell_type": "code",
      "source": [
        "!nvprof ./kernal2"
      ],
      "metadata": {
        "colab": {
          "base_uri": "https://localhost:8080/"
        },
        "id": "P32z5MUyHtMz",
        "outputId": "dce670db-ac22-486c-da4a-69d7bf62fc84"
      },
      "execution_count": 25,
      "outputs": [
        {
          "output_type": "stream",
          "name": "stdout",
          "text": [
            "==4841== NVPROF is profiling process 4841, command: ./kernal2\n",
            "3\n",
            "3\n",
            "3\n",
            "3\n",
            "3\n",
            "3\n",
            "3\n",
            "3\n",
            "3\n",
            "3\n",
            "3\n",
            "3\n",
            "3\n",
            "3\n",
            "3\n",
            "3\n",
            "3\n",
            "3\n",
            "3\n",
            "3\n",
            "3\n",
            "3\n",
            "3\n",
            "3\n",
            "3\n",
            "C[0][0] = 3.000000\n",
            "PASSED\n",
            "==4841== Profiling application: ./kernal2\n",
            "==4841== Profiling result:\n",
            "            Type  Time(%)      Time     Calls       Avg       Min       Max  Name\n",
            " GPU activities:   98.18%  66.491ms         1  66.491ms  66.491ms  66.491ms  MatAdd(float[800]*, float[800]*, float[800]*)\n",
            "                    1.16%  785.10us         2  392.55us  377.62us  407.48us  [CUDA memcpy HtoD]\n",
            "                    0.66%  446.68us         1  446.68us  446.68us  446.68us  [CUDA memcpy DtoH]\n",
            "      API calls:   59.46%  102.47ms         3  34.156ms  125.68us  102.21ms  cudaMalloc\n",
            "                   39.84%  68.656ms         3  22.885ms  607.12us  67.383ms  cudaMemcpy\n",
            "                    0.42%  717.06us         3  239.02us  224.64us  257.83us  cudaFree\n",
            "                    0.15%  255.14us         1  255.14us  255.14us  255.14us  cudaLaunchKernel\n",
            "                    0.12%  201.03us       114  1.7630us     188ns  76.962us  cuDeviceGetAttribute\n",
            "                    0.01%  22.009us         1  22.009us  22.009us  22.009us  cuDeviceGetName\n",
            "                    0.00%  6.7140us         1  6.7140us  6.7140us  6.7140us  cuDeviceGetPCIBusId\n",
            "                    0.00%  6.6940us         1  6.6940us  6.6940us  6.6940us  cuDeviceTotalMem\n",
            "                    0.00%  2.1380us         3     712ns     284ns  1.4830us  cuDeviceGetCount\n",
            "                    0.00%  1.3530us         2     676ns     287ns  1.0660us  cuDeviceGet\n",
            "                    0.00%     803ns         1     803ns     803ns     803ns  cuModuleGetLoadingMode\n",
            "                    0.00%     413ns         1     413ns     413ns     413ns  cuDeviceGetUuid\n"
          ]
        }
      ]
    },
    {
      "cell_type": "markdown",
      "source": [
        "**Kernal 3 (Each thread produces one output matrix column)**"
      ],
      "metadata": {
        "id": "Y_GFqPHRJjsl"
      }
    },
    {
      "cell_type": "code",
      "source": [
        "\n",
        "%%writefile Norhan_Reda_Abdelwahed_2_31_kernal3.cu\n",
        "//Norhan_Reda_Abdelwahed_2_31\n",
        "#include <stdio.h>\n",
        "#include <stdlib.h>\n",
        "#include <math.h>\n",
        "#include <assert.h>\n",
        "#include <iostream>\n",
        "using namespace std;\n",
        "#define N 800\n",
        "// Kernel definition\n",
        "__global__ void MatAdd(float A[N][N], float B[N][N],\n",
        "                       float C[N][N])\n",
        "{\n",
        "\n",
        "    int j = blockIdx.y * blockDim.y + threadIdx.y;\n",
        "    for (int i = 0; i < N; i++) {\n",
        "        if (j < N)\n",
        "            C[i][j] = A[i][j] + B[i][j];\n",
        "    }\n",
        "\n",
        "\n",
        "}\n",
        "\n",
        "int main()\n",
        "{\n",
        "      float A[N][N];\n",
        "    float B[N][N];\n",
        "    float C[N][N];\n",
        "\n",
        "    // Initialize matrices A and B\n",
        "    for (int i = 0; i < N; i++)\n",
        "    {\n",
        "        for (int j = 0; j < N; j++)\n",
        "        {\n",
        "            A[i][j] = 1.0f; // Example initialization\n",
        "            B[i][j] = 2.0f; // Example initialization\n",
        "        }\n",
        "    }\n",
        "\n",
        "\n",
        "    // Declare device matrices\n",
        "    float (*d_A)[N];\n",
        "    float (*d_B)[N];\n",
        "    float (*d_C)[N];\n",
        "\n",
        "    // Allocate device memory for matrices A, B, and C\n",
        "    cudaMalloc((void**)&d_A, N * N * sizeof(float));\n",
        "    cudaMalloc((void**)&d_B, N * N * sizeof(float));\n",
        "    cudaMalloc((void**)&d_C, N * N * sizeof(float));\n",
        "\n",
        "    // Copy input matrices A and B from host to device\n",
        "    cudaMemcpy(d_A, A, N * N * sizeof(float), cudaMemcpyHostToDevice);\n",
        "    cudaMemcpy(d_B, B, N * N * sizeof(float), cudaMemcpyHostToDevice);\n",
        "\n",
        "\n",
        "\n",
        "    //...\n",
        "    // Kernel invocation with one block of N * N * 1 threads\n",
        "    dim3 threadsPerBlock(16, 16);\n",
        "    dim3 numBlocks(N / threadsPerBlock.x, N / threadsPerBlock.y);\n",
        "    MatAdd<<<numBlocks, threadsPerBlock>>>(d_A, d_B, d_C);\n",
        "    //...\n",
        "    // Copy the result matrix C from device to host\n",
        "    cudaMemcpy(C, d_C, N * N * sizeof(float), cudaMemcpyDeviceToHost);\n",
        "   for(int i=0;i<5;i++)\n",
        "   {\n",
        "    for(int j = 0;j<5;j++)\n",
        "    {\n",
        "      cout<<C[i][j]<<endl;\n",
        "    }\n",
        "   }\n",
        "    printf(\"C[0][0] = %f\\n\", C[0][0]);\n",
        "    printf(\"PASSED\\n\");\n",
        "\n",
        "    // Free device memory\n",
        "    cudaFree(d_A);\n",
        "    cudaFree(d_B);\n",
        "    cudaFree(d_C);\n",
        "\n",
        "   return 0;\n",
        "}\n"
      ],
      "metadata": {
        "colab": {
          "base_uri": "https://localhost:8080/"
        },
        "id": "egPtqlqHHtTk",
        "outputId": "3acb2603-a1f5-474c-ecef-44bcc7e5cccd"
      },
      "execution_count": 26,
      "outputs": [
        {
          "output_type": "stream",
          "name": "stdout",
          "text": [
            "Writing Norhan_Reda_Abdelwahed_2_31_kernal3.cu\n"
          ]
        }
      ]
    },
    {
      "cell_type": "code",
      "source": [
        "!chmod +x Norhan_Reda_Abdelwahed_2_31_kernal3.cu\n",
        "!nvcc Norhan_Reda_Abdelwahed_2_31_kernal3.cu -o kernal3\n",
        "!./kernal3"
      ],
      "metadata": {
        "colab": {
          "base_uri": "https://localhost:8080/"
        },
        "id": "eijNc70NHtaS",
        "outputId": "54881f7d-9036-4b89-98f4-9014c22f2eae"
      },
      "execution_count": 27,
      "outputs": [
        {
          "output_type": "stream",
          "name": "stdout",
          "text": [
            "3\n",
            "3\n",
            "3\n",
            "3\n",
            "3\n",
            "3\n",
            "3\n",
            "3\n",
            "3\n",
            "3\n",
            "3\n",
            "3\n",
            "3\n",
            "3\n",
            "3\n",
            "3\n",
            "3\n",
            "3\n",
            "3\n",
            "3\n",
            "3\n",
            "3\n",
            "3\n",
            "3\n",
            "3\n",
            "C[0][0] = 3.000000\n",
            "PASSED\n"
          ]
        }
      ]
    },
    {
      "cell_type": "code",
      "source": [
        "!nvprof ./kernal3"
      ],
      "metadata": {
        "colab": {
          "base_uri": "https://localhost:8080/"
        },
        "id": "CAgh-uNTHtkA",
        "outputId": "944f94b4-8138-43d6-fff1-fdc0a3d763e3"
      },
      "execution_count": 28,
      "outputs": [
        {
          "output_type": "stream",
          "name": "stdout",
          "text": [
            "==4901== NVPROF is profiling process 4901, command: ./kernal3\n",
            "3\n",
            "3\n",
            "3\n",
            "3\n",
            "3\n",
            "3\n",
            "3\n",
            "3\n",
            "3\n",
            "3\n",
            "3\n",
            "3\n",
            "3\n",
            "3\n",
            "3\n",
            "3\n",
            "3\n",
            "3\n",
            "3\n",
            "3\n",
            "3\n",
            "3\n",
            "3\n",
            "3\n",
            "3\n",
            "C[0][0] = 3.000000\n",
            "PASSED\n",
            "==4901== Profiling application: ./kernal3\n",
            "==4901== Profiling result:\n",
            "            Type  Time(%)      Time     Calls       Avg       Min       Max  Name\n",
            " GPU activities:   84.17%  6.1696ms         1  6.1696ms  6.1696ms  6.1696ms  MatAdd(float[800]*, float[800]*, float[800]*)\n",
            "                   10.57%  774.45us         2  387.22us  360.89us  413.56us  [CUDA memcpy HtoD]\n",
            "                    5.26%  385.66us         1  385.66us  385.66us  385.66us  [CUDA memcpy DtoH]\n",
            "      API calls:   89.19%  74.456ms         3  24.819ms  77.818us  74.298ms  cudaMalloc\n",
            "                    9.68%  8.0778ms         3  2.6926ms  579.25us  6.8745ms  cudaMemcpy\n",
            "                    0.65%  545.92us         3  181.97us  129.77us  208.34us  cudaFree\n",
            "                    0.28%  232.79us         1  232.79us  232.79us  232.79us  cudaLaunchKernel\n",
            "                    0.16%  136.24us       114  1.1950us     140ns  54.833us  cuDeviceGetAttribute\n",
            "                    0.01%  11.971us         1  11.971us  11.971us  11.971us  cuDeviceGetName\n",
            "                    0.01%  6.0130us         1  6.0130us  6.0130us  6.0130us  cuDeviceGetPCIBusId\n",
            "                    0.01%  4.4990us         1  4.4990us  4.4990us  4.4990us  cuDeviceTotalMem\n",
            "                    0.00%  2.4000us         2  1.2000us     212ns  2.1880us  cuDeviceGet\n",
            "                    0.00%  1.6710us         3     557ns     198ns  1.1610us  cuDeviceGetCount\n",
            "                    0.00%     616ns         1     616ns     616ns     616ns  cuModuleGetLoadingMode\n",
            "                    0.00%     231ns         1     231ns     231ns     231ns  cuDeviceGetUuid\n"
          ]
        }
      ]
    }
  ]
}